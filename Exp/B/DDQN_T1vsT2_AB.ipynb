{
  "nbformat": 4,
  "nbformat_minor": 0,
  "metadata": {
    "colab": {
      "provenance": []
    },
    "kernelspec": {
      "name": "python3",
      "display_name": "Python 3"
    },
    "language_info": {
      "name": "python"
    }
  },
  "cells": [
    {
      "cell_type": "code",
      "source": [
        "'''\n",
        "Installing packages for rendering the game on Colab\n",
        "'''\n",
        "\n",
        "!pip install gym pyvirtualdisplay > /dev/null 2>&1\n",
        "!apt-get install -y xvfb python-opengl ffmpeg > /dev/null 2>&1\n",
        "!apt-get update > /dev/null 2>&1\n",
        "!apt-get install cmake > /dev/null 2>&1\n",
        "!pip install --upgrade setuptools 2>&1\n",
        "!pip install ez_setup > /dev/null 2>&1\n",
        "!pip install gym[atari] > /dev/null 2>&1\n",
        "!pip install git+https://github.com/tensorflow/docs > /dev/null 2>&1\n",
        "!pip install gym[classic_control]"
      ],
      "metadata": {
        "id": "zve95x_CZIk-",
        "colab": {
          "base_uri": "https://localhost:8080/"
        },
        "outputId": "a788665b-afbb-44ee-f698-9c462380297e"
      },
      "execution_count": 1,
      "outputs": [
        {
          "output_type": "stream",
          "name": "stdout",
          "text": [
            "Requirement already satisfied: setuptools in /usr/local/lib/python3.10/dist-packages (69.2.0)\n",
            "Requirement already satisfied: gym[classic_control] in /usr/local/lib/python3.10/dist-packages (0.25.2)\n",
            "Requirement already satisfied: numpy>=1.18.0 in /usr/local/lib/python3.10/dist-packages (from gym[classic_control]) (1.25.2)\n",
            "Requirement already satisfied: cloudpickle>=1.2.0 in /usr/local/lib/python3.10/dist-packages (from gym[classic_control]) (2.2.1)\n",
            "Requirement already satisfied: gym-notices>=0.0.4 in /usr/local/lib/python3.10/dist-packages (from gym[classic_control]) (0.0.8)\n",
            "Requirement already satisfied: pygame==2.1.0 in /usr/local/lib/python3.10/dist-packages (from gym[classic_control]) (2.1.0)\n"
          ]
        }
      ]
    },
    {
      "cell_type": "code",
      "source": [
        "!pip install wandb\n",
        "import wandb\n",
        "# Replace with your actual API key\n",
        "api_key = \"17dab9d1bbdc37c41831799a4b0b50d3e97400c5\"\n",
        "\n",
        "# Login to Weights & Biases\n",
        "wandb.login(key=api_key)\n",
        "project_name = 'DDQN_T1vsT2_AB'"
      ],
      "metadata": {
        "id": "LjcjlGuQZVfV",
        "colab": {
          "base_uri": "https://localhost:8080/"
        },
        "outputId": "b622e4ed-37ab-4d86-a525-25befa110e73"
      },
      "execution_count": 2,
      "outputs": [
        {
          "output_type": "stream",
          "name": "stdout",
          "text": [
            "Requirement already satisfied: wandb in /usr/local/lib/python3.10/dist-packages (0.16.6)\n",
            "Requirement already satisfied: Click!=8.0.0,>=7.1 in /usr/local/lib/python3.10/dist-packages (from wandb) (8.1.7)\n",
            "Requirement already satisfied: GitPython!=3.1.29,>=1.0.0 in /usr/local/lib/python3.10/dist-packages (from wandb) (3.1.43)\n",
            "Requirement already satisfied: requests<3,>=2.0.0 in /usr/local/lib/python3.10/dist-packages (from wandb) (2.31.0)\n",
            "Requirement already satisfied: psutil>=5.0.0 in /usr/local/lib/python3.10/dist-packages (from wandb) (5.9.5)\n",
            "Requirement already satisfied: sentry-sdk>=1.0.0 in /usr/local/lib/python3.10/dist-packages (from wandb) (1.44.1)\n",
            "Requirement already satisfied: docker-pycreds>=0.4.0 in /usr/local/lib/python3.10/dist-packages (from wandb) (0.4.0)\n",
            "Requirement already satisfied: PyYAML in /usr/local/lib/python3.10/dist-packages (from wandb) (6.0.1)\n",
            "Requirement already satisfied: setproctitle in /usr/local/lib/python3.10/dist-packages (from wandb) (1.3.3)\n",
            "Requirement already satisfied: setuptools in /usr/local/lib/python3.10/dist-packages (from wandb) (69.2.0)\n",
            "Requirement already satisfied: appdirs>=1.4.3 in /usr/local/lib/python3.10/dist-packages (from wandb) (1.4.4)\n",
            "Requirement already satisfied: protobuf!=4.21.0,<5,>=3.19.0 in /usr/local/lib/python3.10/dist-packages (from wandb) (3.20.3)\n",
            "Requirement already satisfied: six>=1.4.0 in /usr/local/lib/python3.10/dist-packages (from docker-pycreds>=0.4.0->wandb) (1.16.0)\n",
            "Requirement already satisfied: gitdb<5,>=4.0.1 in /usr/local/lib/python3.10/dist-packages (from GitPython!=3.1.29,>=1.0.0->wandb) (4.0.11)\n",
            "Requirement already satisfied: charset-normalizer<4,>=2 in /usr/local/lib/python3.10/dist-packages (from requests<3,>=2.0.0->wandb) (3.3.2)\n",
            "Requirement already satisfied: idna<4,>=2.5 in /usr/local/lib/python3.10/dist-packages (from requests<3,>=2.0.0->wandb) (3.6)\n",
            "Requirement already satisfied: urllib3<3,>=1.21.1 in /usr/local/lib/python3.10/dist-packages (from requests<3,>=2.0.0->wandb) (2.0.7)\n",
            "Requirement already satisfied: certifi>=2017.4.17 in /usr/local/lib/python3.10/dist-packages (from requests<3,>=2.0.0->wandb) (2024.2.2)\n",
            "Requirement already satisfied: smmap<6,>=3.0.1 in /usr/local/lib/python3.10/dist-packages (from gitdb<5,>=4.0.1->GitPython!=3.1.29,>=1.0.0->wandb) (5.0.1)\n"
          ]
        },
        {
          "output_type": "stream",
          "name": "stderr",
          "text": [
            "\u001b[34m\u001b[1mwandb\u001b[0m: Currently logged in as: \u001b[33mrishi1906\u001b[0m (\u001b[33miitm_aero\u001b[0m). Use \u001b[1m`wandb login --relogin`\u001b[0m to force relogin\n",
            "\u001b[34m\u001b[1mwandb\u001b[0m: \u001b[33mWARNING\u001b[0m If you're specifying your api key in code, ensure this code is not shared publicly.\n",
            "\u001b[34m\u001b[1mwandb\u001b[0m: \u001b[33mWARNING\u001b[0m Consider setting the WANDB_API_KEY environment variable, or running `wandb login` from the command line.\n",
            "\u001b[34m\u001b[1mwandb\u001b[0m: Appending key for api.wandb.ai to your netrc file: /root/.netrc\n"
          ]
        }
      ]
    },
    {
      "cell_type": "code",
      "source": [
        "!pip install torch"
      ],
      "metadata": {
        "id": "KtCihhmB8AnZ",
        "colab": {
          "base_uri": "https://localhost:8080/"
        },
        "outputId": "847d9bfa-e370-4420-fcec-1aae0d1d63fe"
      },
      "execution_count": 3,
      "outputs": [
        {
          "output_type": "stream",
          "name": "stdout",
          "text": [
            "Requirement already satisfied: torch in /usr/local/lib/python3.10/dist-packages (2.2.1+cu121)\n",
            "Requirement already satisfied: filelock in /usr/local/lib/python3.10/dist-packages (from torch) (3.13.3)\n",
            "Requirement already satisfied: typing-extensions>=4.8.0 in /usr/local/lib/python3.10/dist-packages (from torch) (4.10.0)\n",
            "Requirement already satisfied: sympy in /usr/local/lib/python3.10/dist-packages (from torch) (1.12)\n",
            "Requirement already satisfied: networkx in /usr/local/lib/python3.10/dist-packages (from torch) (3.2.1)\n",
            "Requirement already satisfied: jinja2 in /usr/local/lib/python3.10/dist-packages (from torch) (3.1.3)\n",
            "Requirement already satisfied: fsspec in /usr/local/lib/python3.10/dist-packages (from torch) (2023.6.0)\n",
            "Collecting nvidia-cuda-nvrtc-cu12==12.1.105 (from torch)\n",
            "  Using cached nvidia_cuda_nvrtc_cu12-12.1.105-py3-none-manylinux1_x86_64.whl (23.7 MB)\n",
            "Collecting nvidia-cuda-runtime-cu12==12.1.105 (from torch)\n",
            "  Using cached nvidia_cuda_runtime_cu12-12.1.105-py3-none-manylinux1_x86_64.whl (823 kB)\n",
            "Collecting nvidia-cuda-cupti-cu12==12.1.105 (from torch)\n",
            "  Using cached nvidia_cuda_cupti_cu12-12.1.105-py3-none-manylinux1_x86_64.whl (14.1 MB)\n",
            "Collecting nvidia-cudnn-cu12==8.9.2.26 (from torch)\n",
            "  Downloading nvidia_cudnn_cu12-8.9.2.26-py3-none-manylinux1_x86_64.whl (731.7 MB)\n",
            "\u001b[2K     \u001b[90m━━━━━━━━━━━━━━━━━━━━━━━━━━━━━━━━━━━━━━━━\u001b[0m \u001b[32m731.7/731.7 MB\u001b[0m \u001b[31m1.0 MB/s\u001b[0m eta \u001b[36m0:00:00\u001b[0m\n",
            "\u001b[?25hCollecting nvidia-cublas-cu12==12.1.3.1 (from torch)\n",
            "  Downloading nvidia_cublas_cu12-12.1.3.1-py3-none-manylinux1_x86_64.whl (410.6 MB)\n",
            "\u001b[2K     \u001b[90m━━━━━━━━━━━━━━━━━━━━━━━━━━━━━━━━━━━━━━━━\u001b[0m \u001b[32m410.6/410.6 MB\u001b[0m \u001b[31m2.1 MB/s\u001b[0m eta \u001b[36m0:00:00\u001b[0m\n",
            "\u001b[?25hCollecting nvidia-cufft-cu12==11.0.2.54 (from torch)\n",
            "  Downloading nvidia_cufft_cu12-11.0.2.54-py3-none-manylinux1_x86_64.whl (121.6 MB)\n",
            "\u001b[2K     \u001b[90m━━━━━━━━━━━━━━━━━━━━━━━━━━━━━━━━━━━━━━━━\u001b[0m \u001b[32m121.6/121.6 MB\u001b[0m \u001b[31m3.2 MB/s\u001b[0m eta \u001b[36m0:00:00\u001b[0m\n",
            "\u001b[?25hCollecting nvidia-curand-cu12==10.3.2.106 (from torch)\n",
            "  Downloading nvidia_curand_cu12-10.3.2.106-py3-none-manylinux1_x86_64.whl (56.5 MB)\n",
            "\u001b[2K     \u001b[90m━━━━━━━━━━━━━━━━━━━━━━━━━━━━━━━━━━━━━━━━\u001b[0m \u001b[32m56.5/56.5 MB\u001b[0m \u001b[31m3.4 MB/s\u001b[0m eta \u001b[36m0:00:00\u001b[0m\n",
            "\u001b[?25hCollecting nvidia-cusolver-cu12==11.4.5.107 (from torch)\n",
            "  Downloading nvidia_cusolver_cu12-11.4.5.107-py3-none-manylinux1_x86_64.whl (124.2 MB)\n",
            "\u001b[2K     \u001b[90m━━━━━━━━━━━━━━━━━━━━━━━━━━━━━━━━━━━━━━━━\u001b[0m \u001b[32m124.2/124.2 MB\u001b[0m \u001b[31m3.5 MB/s\u001b[0m eta \u001b[36m0:00:00\u001b[0m\n",
            "\u001b[?25hCollecting nvidia-cusparse-cu12==12.1.0.106 (from torch)\n",
            "  Downloading nvidia_cusparse_cu12-12.1.0.106-py3-none-manylinux1_x86_64.whl (196.0 MB)\n",
            "\u001b[2K     \u001b[90m━━━━━━━━━━━━━━━━━━━━━━━━━━━━━━━━━━━━━━━━\u001b[0m \u001b[32m196.0/196.0 MB\u001b[0m \u001b[31m1.9 MB/s\u001b[0m eta \u001b[36m0:00:00\u001b[0m\n",
            "\u001b[?25hCollecting nvidia-nccl-cu12==2.19.3 (from torch)\n",
            "  Downloading nvidia_nccl_cu12-2.19.3-py3-none-manylinux1_x86_64.whl (166.0 MB)\n",
            "\u001b[2K     \u001b[90m━━━━━━━━━━━━━━━━━━━━━━━━━━━━━━━━━━━━━━━━\u001b[0m \u001b[32m166.0/166.0 MB\u001b[0m \u001b[31m2.1 MB/s\u001b[0m eta \u001b[36m0:00:00\u001b[0m\n",
            "\u001b[?25hCollecting nvidia-nvtx-cu12==12.1.105 (from torch)\n",
            "  Downloading nvidia_nvtx_cu12-12.1.105-py3-none-manylinux1_x86_64.whl (99 kB)\n",
            "\u001b[2K     \u001b[90m━━━━━━━━━━━━━━━━━━━━━━━━━━━━━━━━━━━━━━━━\u001b[0m \u001b[32m99.1/99.1 kB\u001b[0m \u001b[31m3.1 MB/s\u001b[0m eta \u001b[36m0:00:00\u001b[0m\n",
            "\u001b[?25hRequirement already satisfied: triton==2.2.0 in /usr/local/lib/python3.10/dist-packages (from torch) (2.2.0)\n",
            "Collecting nvidia-nvjitlink-cu12 (from nvidia-cusolver-cu12==11.4.5.107->torch)\n",
            "  Downloading nvidia_nvjitlink_cu12-12.4.127-py3-none-manylinux2014_x86_64.whl (21.1 MB)\n",
            "\u001b[2K     \u001b[90m━━━━━━━━━━━━━━━━━━━━━━━━━━━━━━━━━━━━━━━━\u001b[0m \u001b[32m21.1/21.1 MB\u001b[0m \u001b[31m3.9 MB/s\u001b[0m eta \u001b[36m0:00:00\u001b[0m\n",
            "\u001b[?25hRequirement already satisfied: MarkupSafe>=2.0 in /usr/local/lib/python3.10/dist-packages (from jinja2->torch) (2.1.5)\n",
            "Requirement already satisfied: mpmath>=0.19 in /usr/local/lib/python3.10/dist-packages (from sympy->torch) (1.3.0)\n",
            "Installing collected packages: nvidia-nvtx-cu12, nvidia-nvjitlink-cu12, nvidia-nccl-cu12, nvidia-curand-cu12, nvidia-cufft-cu12, nvidia-cuda-runtime-cu12, nvidia-cuda-nvrtc-cu12, nvidia-cuda-cupti-cu12, nvidia-cublas-cu12, nvidia-cusparse-cu12, nvidia-cudnn-cu12, nvidia-cusolver-cu12\n",
            "Successfully installed nvidia-cublas-cu12-12.1.3.1 nvidia-cuda-cupti-cu12-12.1.105 nvidia-cuda-nvrtc-cu12-12.1.105 nvidia-cuda-runtime-cu12-12.1.105 nvidia-cudnn-cu12-8.9.2.26 nvidia-cufft-cu12-11.0.2.54 nvidia-curand-cu12-10.3.2.106 nvidia-cusolver-cu12-11.4.5.107 nvidia-cusparse-cu12-12.1.0.106 nvidia-nccl-cu12-2.19.3 nvidia-nvjitlink-cu12-12.4.127 nvidia-nvtx-cu12-12.1.105\n"
          ]
        }
      ]
    },
    {
      "cell_type": "code",
      "source": [
        "import numpy as np\n",
        "import random\n",
        "import torch\n",
        "import torch.nn as nn\n",
        "import torch.nn.functional as F\n",
        "from collections import namedtuple, deque\n",
        "import torch.optim as optim\n",
        "import datetime\n",
        "import gym\n",
        "from gym.wrappers.record_video import RecordVideo\n",
        "import glob\n",
        "import io\n",
        "import base64\n",
        "import matplotlib.pyplot as plt\n",
        "from IPython.display import HTML\n",
        "from pyvirtualdisplay import Display\n",
        "import tensorflow as tf\n",
        "from IPython import display as ipythondisplay\n",
        "from PIL import Image\n",
        "import tensorflow_probability as tfp\n",
        "import wandb"
      ],
      "metadata": {
        "id": "2anBcjTiil7R",
        "colab": {
          "base_uri": "https://localhost:8080/"
        },
        "outputId": "2e893274-c442-47c2-ae82-4986c0352ca7"
      },
      "execution_count": 4,
      "outputs": [
        {
          "output_type": "stream",
          "name": "stderr",
          "text": [
            "/usr/local/lib/python3.10/dist-packages/tensorflow_probability/python/__init__.py:57: DeprecationWarning: distutils Version classes are deprecated. Use packaging.version instead.\n",
            "  if (distutils.version.LooseVersion(tf.__version__) <\n"
          ]
        }
      ]
    },
    {
      "cell_type": "code",
      "source": [
        "\n",
        "device = torch.device(\"cuda:0\" if torch.cuda.is_available() else \"cpu\")\n"
      ],
      "metadata": {
        "id": "R5KV6KnciwII",
        "colab": {
          "base_uri": "https://localhost:8080/"
        },
        "outputId": "5547826e-d068-40a2-d1df-de82c5bcaa3a"
      },
      "execution_count": 5,
      "outputs": [
        {
          "output_type": "stream",
          "name": "stderr",
          "text": [
            "/usr/local/lib/python3.10/dist-packages/ipykernel/ipkernel.py:283: DeprecationWarning: `should_run_async` will not call `transform_cell` automatically in the future. Please pass the result to `transformed_cell` argument and any exception that happen during thetransform in `preprocessing_exc_tuple` in IPython 7.17 and above.\n",
            "  and should_run_async(code)\n"
          ]
        }
      ]
    },
    {
      "cell_type": "code",
      "source": [
        "\n",
        "# Define the Dueling DQN model\n",
        "class DuelingDQN_T1(nn.Module):\n",
        "    def __init__(self, input_size, output_size, fc1_units, fc2_units, seed):\n",
        "        super(DuelingDQN_T1, self).__init__()\n",
        "        self.seed = torch.manual_seed(seed)\n",
        "        self.fc1 = nn.Linear(input_size, fc1_units)\n",
        "        self.fc2 = nn.Linear(fc1_units, fc2_units)\n",
        "        self.advantage = nn.Linear(fc2_units, output_size)\n",
        "        self.value = nn.Linear(fc2_units, 1)\n",
        "\n",
        "    def forward(self, state):\n",
        "        x = F.relu(self.fc1(state))\n",
        "        x = F.relu(self.fc2(x))\n",
        "        advantage = self.advantage(x)\n",
        "        value = self.value(x)\n",
        "        q_values = value + (advantage - advantage.mean(dim=-1, keepdim=True))\n",
        "        return q_values\n"
      ],
      "metadata": {
        "id": "5SXQlNoci9Ag"
      },
      "execution_count": 6,
      "outputs": []
    },
    {
      "cell_type": "code",
      "source": [
        "\n",
        "# Define the Dueling DQN model\n",
        "class DuelingDQN_T2(nn.Module):\n",
        "    def __init__(self, input_size, output_size, fc1_units, fc2_units, seed):\n",
        "        super(DuelingDQN_T2, self).__init__()\n",
        "        self.seed = torch.manual_seed(seed)\n",
        "        self.fc1 = nn.Linear(input_size, fc1_units)\n",
        "        self.fc2 = nn.Linear(fc1_units, fc2_units)\n",
        "        self.advantage = nn.Linear(fc2_units, output_size)\n",
        "        self.value = nn.Linear(fc2_units, 1)\n",
        "\n",
        "    def forward(self, state):\n",
        "        x = F.relu(self.fc1(state))\n",
        "        x = F.relu(self.fc2(x))\n",
        "        advantage = self.advantage(x)\n",
        "        value = self.value(x)\n",
        "        q_values = value + (advantage - advantage.max(dim=-1, keepdim=True)[0])\n",
        "        return q_values\n"
      ],
      "metadata": {
        "id": "hOJ9E0bSXQa_"
      },
      "execution_count": 7,
      "outputs": []
    },
    {
      "cell_type": "code",
      "source": [
        "# Define the ReplayBuffer class\n",
        "class ReplayBuffer:\n",
        "    def __init__(self, action_size, buffer_size, batch_size, seed):\n",
        "        self.action_size = action_size\n",
        "        self.memory = deque(maxlen=buffer_size)\n",
        "        self.batch_size = batch_size\n",
        "        self.experience = namedtuple(\"Experience\", field_names=[\"state\", \"action\", \"reward\", \"next_state\", \"done\"])\n",
        "        self.seed = random.seed(seed)\n",
        "\n",
        "    def add(self, state, action, reward, next_state, done):\n",
        "        e = self.experience(state, action, reward, next_state, done)\n",
        "        self.memory.append(e)\n",
        "\n",
        "    def sample(self):\n",
        "        experiences = random.sample(self.memory, k=self.batch_size)\n",
        "        states = torch.from_numpy(np.vstack([e.state for e in experiences if e is not None])).float().to(device)\n",
        "        actions = torch.from_numpy(np.vstack([e.action for e in experiences if e is not None])).long().to(device)\n",
        "        rewards = torch.from_numpy(np.vstack([e.reward for e in experiences if e is not None])).float().to(device)\n",
        "        next_states = torch.from_numpy(np.vstack([e.next_state for e in experiences if e is not None])).float().to(device)\n",
        "        dones = torch.from_numpy(np.vstack([e.done for e in experiences if e is not None]).astype(np.uint8)).float().to(device)\n",
        "        return (states, actions, rewards, next_states, dones)\n",
        "\n",
        "    def __len__(self):\n",
        "        return len(self.memory)\n"
      ],
      "metadata": {
        "id": "BfzM7c3TjDxV"
      },
      "execution_count": 8,
      "outputs": []
    },
    {
      "cell_type": "code",
      "source": [
        "# Define the agent\n",
        "class Agent_T1():\n",
        "    def __init__(self, state_size, action_size, fc1_units, fc2_units, buffer_size, batch_size, lr, update_every, gamma, eps_end, eps_decay, seed):\n",
        "        self.state_size = state_size\n",
        "        self.action_size = action_size\n",
        "        self.batch_size = batch_size\n",
        "        self.lr = lr\n",
        "        self.update_every = update_every\n",
        "        self.gamma = gamma\n",
        "        self.seed = random.seed(seed)\n",
        "        self.q_network = DuelingDQN_T1(state_size, action_size, fc1_units, fc2_units, seed).to(device)\n",
        "        self.target_network = DuelingDQN_T1(state_size, action_size, fc1_units, fc2_units, seed).to(device)\n",
        "        self.optimizer = optim.Adam(self.q_network.parameters(), lr=lr)\n",
        "        ''' Replay memory '''\n",
        "        self.memory = ReplayBuffer(action_size, buffer_size, batch_size, seed)\n",
        "        self.t_step = 0\n",
        "        self.eps_end = eps_end\n",
        "        self.eps_decay = eps_decay\n",
        "\n",
        "    def step(self, state, action, reward, next_state, done):\n",
        "        self.memory.add(state, action, reward, next_state, done)\n",
        "\n",
        "        if len(self.memory) >= self.batch_size:\n",
        "            experiences = self.memory.sample()\n",
        "            self.learn(experiences)\n",
        "\n",
        "        self.t_step = (self.t_step + 1) % self.update_every\n",
        "        if self.t_step == 0:\n",
        "            self.target_network.load_state_dict(self.q_network.state_dict())\n",
        "\n",
        "    def act(self, state, eps=0.0):\n",
        "        state = torch.from_numpy(state).float().unsqueeze(0).to(device)\n",
        "        self.q_network.eval()\n",
        "        with torch.no_grad():\n",
        "            action_values = self.q_network(state)\n",
        "        self.q_network.train()\n",
        "        if random.random() > eps:\n",
        "            return np.argmax(action_values.cpu().data.numpy())\n",
        "        else:\n",
        "            return random.choice(np.arange(self.action_size))\n",
        "\n",
        "    def learn(self, experiences):\n",
        "        states, actions, rewards, next_states, dones = experiences\n",
        "        Q_targets_next = self.target_network(next_states).detach().max(1)[0].unsqueeze(1)\n",
        "        Q_targets = rewards + (self.gamma * Q_targets_next * (1 - dones))\n",
        "        Q_expected = self.q_network(states).gather(1, actions)\n",
        "        loss = F.mse_loss(Q_expected, Q_targets)\n",
        "        # wandb.log({'train loss': loss})\n",
        "        self.optimizer.zero_grad()\n",
        "        loss.backward()\n",
        "        for param in self.q_network.parameters():\n",
        "            param.grad.data.clamp_(-1, 1)  # Gradient clipping\n",
        "        self.optimizer.step()\n"
      ],
      "metadata": {
        "id": "9TzHGE1Ei_j1"
      },
      "execution_count": 9,
      "outputs": []
    },
    {
      "cell_type": "code",
      "source": [
        "# Define the agent\n",
        "class Agent_T2():\n",
        "    def __init__(self, state_size, action_size, fc1_units, fc2_units, buffer_size, batch_size, lr, update_every, gamma, eps_end, eps_decay, seed):\n",
        "        self.state_size = state_size\n",
        "        self.action_size = action_size\n",
        "        self.batch_size = batch_size\n",
        "        self.lr = lr\n",
        "        self.update_every = update_every\n",
        "        self.gamma = gamma\n",
        "        self.seed = random.seed(seed)\n",
        "        self.q_network = DuelingDQN_T2(state_size, action_size, fc1_units, fc2_units, seed).to(device)\n",
        "        self.target_network = DuelingDQN_T2(state_size, action_size, fc1_units, fc2_units, seed).to(device)\n",
        "        self.optimizer = optim.Adam(self.q_network.parameters(), lr=lr)\n",
        "        ''' Replay memory '''\n",
        "        self.memory = ReplayBuffer(action_size, buffer_size, batch_size, seed)\n",
        "        self.t_step = 0\n",
        "        self.eps_end = eps_end\n",
        "        self.eps_decay = eps_decay\n",
        "\n",
        "    def step(self, state, action, reward, next_state, done):\n",
        "        self.memory.add(state, action, reward, next_state, done)\n",
        "\n",
        "        if len(self.memory) >= self.batch_size:\n",
        "            experiences = self.memory.sample()\n",
        "            self.learn(experiences)\n",
        "\n",
        "        self.t_step = (self.t_step + 1) % self.update_every\n",
        "        if self.t_step == 0:\n",
        "            self.target_network.load_state_dict(self.q_network.state_dict())\n",
        "\n",
        "    def act(self, state, eps=0.0):\n",
        "        state = torch.from_numpy(state).float().unsqueeze(0).to(device)\n",
        "        self.q_network.eval()\n",
        "        with torch.no_grad():\n",
        "            action_values = self.q_network(state)\n",
        "        self.q_network.train()\n",
        "        if random.random() > eps:\n",
        "            return np.argmax(action_values.cpu().data.numpy())\n",
        "        else:\n",
        "            return random.choice(np.arange(self.action_size))\n",
        "\n",
        "    def learn(self, experiences):\n",
        "        states, actions, rewards, next_states, dones = experiences\n",
        "        Q_targets_next = self.target_network(next_states).detach().max(1)[0].unsqueeze(1)\n",
        "        Q_targets = rewards + (self.gamma * Q_targets_next * (1 - dones))\n",
        "        Q_expected = self.q_network(states).gather(1, actions)\n",
        "        loss = F.mse_loss(Q_expected, Q_targets)\n",
        "        # wandb.log({'train loss': loss})\n",
        "        self.optimizer.zero_grad()\n",
        "        loss.backward()\n",
        "        for param in self.q_network.parameters():\n",
        "            param.grad.data.clamp_(-1, 1)  # Gradient clipping\n",
        "        self.optimizer.step()\n"
      ],
      "metadata": {
        "id": "So9_8oGKYxU8"
      },
      "execution_count": 10,
      "outputs": []
    },
    {
      "cell_type": "code",
      "source": [
        "def dqn(agent, env, n_episodes=10000, max_t=1000, eps_start=1.0, eps_end=0.01, eps_decay=0.995):\n",
        "    scores_window = deque(maxlen=100)\n",
        "    episode_list_epsgrdy = []\n",
        "    average_scores_epsgrdy = []\n",
        "    average_regret_epsgrdy = []\n",
        "    cumulative_regret_epsgrdy = []\n",
        "    cummulative_regret_window=[]\n",
        "    regret_window = []\n",
        "    cumulative_regret = 0  # Initialize cumulative regret\n",
        "    eps = eps_start\n",
        "\n",
        "    for i_episode in range(1, n_episodes+1):\n",
        "        state = env.reset()\n",
        "        score = 0\n",
        "        regret = 0  # Initialize regret for this episode\n",
        "        # cumulative_regret = 0\n",
        "        for t in range(max_t):\n",
        "            action = agent.act(state, eps)\n",
        "            next_state, reward, done, _ = env.step(action)\n",
        "            optimal_action = np.argmax(agent.q_network(torch.from_numpy(state).float().unsqueeze(0)).cpu().data.numpy())\n",
        "            optimal_reward = env.step(optimal_action)[1]  # Get the reward for the optimal action\n",
        "            regret += optimal_reward - reward  # Calculate regret for this time step\n",
        "            agent.step(state, action, reward, next_state, done)\n",
        "            state = next_state\n",
        "            score += reward\n",
        "\n",
        "            if done:\n",
        "                break\n",
        "\n",
        "\n",
        "        scores_window.append(score)\n",
        "        average_score = np.mean(scores_window)\n",
        "        average_scores_epsgrdy.append(average_score)\n",
        "\n",
        "\n",
        "        regret_window.append(regret)\n",
        "        average_regret = np.mean(regret_window)\n",
        "        average_regret_epsgrdy.append(average_regret)\n",
        "\n",
        "        cumulative_regret += average_regret  # Update cumulative regret\n",
        "\n",
        "        # cummulative_regret_window.append(cumulative_regret)\n",
        "        # cummulative_average_regret = np.mean(cummulative_regret_window)\n",
        "        cummulative_average_regret = average_regret\n",
        "        cumulative_regret_epsgrdy.append(cumulative_regret)\n",
        "\n",
        "        episode_list_epsgrdy.append(i_episode)\n",
        "        wandb.log({'average_score': average_score})\n",
        "        wandb.log({'average_regret': average_regret})\n",
        "        wandb.log({\"cummulative_regret\": cumulative_regret})\n",
        "\n",
        "        print('\\rEpisode {}\\tAverage Score: {:.2f}'.format(i_episode, average_score), end=\"\")\n",
        "\n",
        "        if i_episode % 100 == 0:\n",
        "            print('\\rEpisode {}\\tAverage Score: {:.2f}\\tRegret: {:.2f}'.format(i_episode, average_score, regret))\n",
        "\n",
        "        if i_episode % 100 == 0  and np.mean(scores_window) >= -100:\n",
        "            wandb.log({\"episode_no\": i_episode})\n",
        "            print('\\nEnvironment solved in {:d} episodes!\\tAverage Score: {:.2f}'.format(i_episode, np.mean(scores_window)))\n",
        "            break\n",
        "        eps = max(eps_end, eps_decay*eps)\n",
        "\n",
        "    return episode_list_epsgrdy, average_scores_epsgrdy, average_regret_epsgrdy"
      ],
      "metadata": {
        "id": "A903WG4m8Xop"
      },
      "execution_count": 11,
      "outputs": []
    },
    {
      "cell_type": "code",
      "source": [
        "\n",
        "# Initialize wandb with your project name\n",
        "wandb.init(project=project_name)"
      ],
      "metadata": {
        "id": "EPQxglT2j1Kz",
        "colab": {
          "base_uri": "https://localhost:8080/",
          "height": 125
        },
        "outputId": "97856dfb-5d2b-4f6c-86ce-069ede9a7e49"
      },
      "execution_count": 12,
      "outputs": [
        {
          "output_type": "display_data",
          "data": {
            "text/plain": [
              "<IPython.core.display.HTML object>"
            ],
            "text/html": [
              "Tracking run with wandb version 0.16.6"
            ]
          },
          "metadata": {}
        },
        {
          "output_type": "display_data",
          "data": {
            "text/plain": [
              "<IPython.core.display.HTML object>"
            ],
            "text/html": [
              "Run data is saved locally in <code>/content/wandb/run-20240409_122709-rbzhf86h</code>"
            ]
          },
          "metadata": {}
        },
        {
          "output_type": "display_data",
          "data": {
            "text/plain": [
              "<IPython.core.display.HTML object>"
            ],
            "text/html": [
              "Syncing run <strong><a href='https://wandb.ai/iitm_aero/DDQN_T1vsT2_AB/runs/rbzhf86h' target=\"_blank\">fanciful-planet-2</a></strong> to <a href='https://wandb.ai/iitm_aero/DDQN_T1vsT2_AB' target=\"_blank\">Weights & Biases</a> (<a href='https://wandb.me/run' target=\"_blank\">docs</a>)<br/>"
            ]
          },
          "metadata": {}
        },
        {
          "output_type": "display_data",
          "data": {
            "text/plain": [
              "<IPython.core.display.HTML object>"
            ],
            "text/html": [
              " View project at <a href='https://wandb.ai/iitm_aero/DDQN_T1vsT2_AB' target=\"_blank\">https://wandb.ai/iitm_aero/DDQN_T1vsT2_AB</a>"
            ]
          },
          "metadata": {}
        },
        {
          "output_type": "display_data",
          "data": {
            "text/plain": [
              "<IPython.core.display.HTML object>"
            ],
            "text/html": [
              " View run at <a href='https://wandb.ai/iitm_aero/DDQN_T1vsT2_AB/runs/rbzhf86h' target=\"_blank\">https://wandb.ai/iitm_aero/DDQN_T1vsT2_AB/runs/rbzhf86h</a>"
            ]
          },
          "metadata": {}
        },
        {
          "output_type": "execute_result",
          "data": {
            "text/html": [
              "<button onClick=\"this.nextSibling.style.display='block';this.style.display='none';\">Display W&B run</button><iframe src='https://wandb.ai/iitm_aero/DDQN_T1vsT2_AB/runs/rbzhf86h?jupyter=true' style='border:none;width:100%;height:420px;display:none;'></iframe>"
            ],
            "text/plain": [
              "<wandb.sdk.wandb_run.Run at 0x7912013551b0>"
            ]
          },
          "metadata": {},
          "execution_count": 12
        }
      ]
    },
    {
      "cell_type": "code",
      "source": [
        "env = gym.make('Acrobot-v1')\n",
        "env.seed(0)\n",
        "state_shape = env.observation_space.shape[0]\n",
        "action_shape = env.action_space.n"
      ],
      "metadata": {
        "colab": {
          "base_uri": "https://localhost:8080/"
        },
        "id": "nOKV8a9CnAec",
        "outputId": "dd23db90-6880-49cb-8046-a216d63ac24a"
      },
      "execution_count": 13,
      "outputs": [
        {
          "output_type": "stream",
          "name": "stderr",
          "text": [
            "/usr/local/lib/python3.10/dist-packages/gym/core.py:317: DeprecationWarning: \u001b[33mWARN: Initializing wrapper in old step API which returns one bool instead of two. It is recommended to set `new_step_api=True` to use new step API. This will be the default behaviour in future.\u001b[0m\n",
            "  deprecation(\n",
            "/usr/local/lib/python3.10/dist-packages/gym/wrappers/step_api_compatibility.py:39: DeprecationWarning: \u001b[33mWARN: Initializing environment in old step API which returns one bool instead of two. It is recommended to set `new_step_api=True` to use new step API. This will be the default behaviour in future.\u001b[0m\n",
            "  deprecation(\n",
            "/usr/local/lib/python3.10/dist-packages/gym/core.py:256: DeprecationWarning: \u001b[33mWARN: Function `env.seed(seed)` is marked as deprecated and will be removed in the future. Please use `env.reset(seed=seed)` instead.\u001b[0m\n",
            "  deprecation(\n"
          ]
        }
      ]
    },
    {
      "cell_type": "code",
      "execution_count": 14,
      "metadata": {
        "id": "SluwY98d5OOy"
      },
      "outputs": [],
      "source": [
        "config_T1 = {\n",
        "    'state_size': state_shape,\n",
        "    'action_size': action_shape,\n",
        "    'BUFFER_SIZE': int(1e5),\n",
        "    'BATCH_SIZE': 64,\n",
        "    'LR': 0.0001,\n",
        "    'UPDATE_EVERY': 20,\n",
        "    'fc1_units': 128,\n",
        "    'fc2_units': 64,\n",
        "    'eps_start': 1,\n",
        "    'eps_end': 0.01,\n",
        "    'eps_decay': 0.995,\n",
        "    'gamma': 0.99,\n",
        "    'n_episodes': 1000,\n",
        "    'max_t': 1000\n",
        "}\n",
        "\n",
        "# sweep_id_T1 = wandb.sweep(sweep=sweep_config_T1, project=project_name)"
      ]
    },
    {
      "cell_type": "code",
      "execution_count": 15,
      "metadata": {
        "id": "iN5duOGNX22D"
      },
      "outputs": [],
      "source": [
        "config_T2 = {\n",
        "    'state_size': state_shape,\n",
        "    'action_size': action_shape,\n",
        "    'BUFFER_SIZE': int(1e5),\n",
        "    'BATCH_SIZE': 64,\n",
        "    'LR': 0.0001,\n",
        "    'UPDATE_EVERY': 20,\n",
        "    'fc1_units': 128,\n",
        "    'fc2_units': 64,\n",
        "    'eps_start': 1,\n",
        "    'eps_end': 0.01,\n",
        "    'eps_decay': 0.995,\n",
        "    'gamma': 0.99,\n",
        "    'n_episodes': 1000,\n",
        "    'max_t': 1000\n",
        "}\n",
        "\n",
        "# sweep_id_T2 = wandb.sweep(sweep=sweep_config_T2, project=project_name)\n"
      ]
    },
    {
      "cell_type": "code",
      "source": [
        "average_scores_T1 = []\n",
        "cumm_regret_T1 = []"
      ],
      "metadata": {
        "id": "VLLndXNFYDqw"
      },
      "execution_count": 16,
      "outputs": []
    },
    {
      "cell_type": "code",
      "source": [
        "average_scores_T2 = []\n",
        "cumm_regret_T2 = []"
      ],
      "metadata": {
        "id": "QlyuB-V3tScT"
      },
      "execution_count": 17,
      "outputs": []
    },
    {
      "cell_type": "code",
      "source": [
        "\n",
        "\n",
        "# Define the main function for hyperparameter tuning\n",
        "def AvgOverExperiments_T1():\n",
        "\n",
        "    # env = gym.make('Acrobot-v1')\n",
        "    # env.seed(0)\n",
        "    # state_shape = env.observation_space.shape[0]\n",
        "    # no_of_actions = env.action_space.n\n",
        "\n",
        "    # with wandb.init() as run:\n",
        "    # Get the hyperparameters for this run\n",
        "    # config = wandb.config\n",
        "\n",
        "    begin_time = datetime.datetime.now()\n",
        "    # env = gym.make('Acrobot-v1')\n",
        "    # env.seed(0)\n",
        "\n",
        "    # Create the agent with the hyperparameters\n",
        "    agent = Agent_T1(state_size=config_T1['state_size'], action_size=config_T1['action_size'], fc1_units=config_T1['fc1_units'], fc2_units=config_T1['fc2_units'], buffer_size=config_T1['BUFFER_SIZE'], batch_size=config_T1['BATCH_SIZE'], lr=config_T1['LR'], update_every=config_T1['UPDATE_EVERY'], gamma=config_T1['gamma'], eps_end=config_T1['eps_end'], eps_decay=config_T1['eps_decay'],seed = 0)\n",
        "\n",
        "    # Train the agent and get the scores\n",
        "    # episode_list_epsgrdy, average_scores_epsgrdy = dqn(agent, env, n_episodes=config.n_episodes, max_t=config.max_t, eps_start=config.eps_start, eps_end=config.eps_end, eps_decay=config.eps_decay)\n",
        "\n",
        "    episode_list_epsgrdy, average_scores_epsgrdy, cumulative_regret_epsgrdy = dqn(agent, env, n_episodes=config_T1['n_episodes'], max_t=config_T1['max_t'], eps_start=config_T1['eps_start'], eps_end=config_T1['eps_end'], eps_decay=config_T1['eps_decay'])\n",
        "\n",
        "    time_taken = datetime.datetime.now() - begin_time\n",
        "\n",
        "    print(time_taken)\n",
        "    # Log the final average score to wandb\n",
        "    # wandb.log({\"Average Score\": average_scores_epsgrdy})\n",
        "    # wandb.log({\"Average Score\": cumulative_regret})\n",
        "    print(average_scores_epsgrdy)\n",
        "    print('\\n')\n",
        "    print(cumulative_regret_epsgrdy)\n",
        "    average_scores_T1.append(average_scores_epsgrdy)\n",
        "    cumm_regret_T1.append(cumulative_regret_epsgrdy)\n",
        "        # return [average_scores_epsgrdy, cumulative_regret]\n"
      ],
      "metadata": {
        "id": "M4cke-mK2Pr0"
      },
      "execution_count": 18,
      "outputs": []
    },
    {
      "cell_type": "code",
      "source": [
        "\n",
        "\n",
        "# Define the main function for hyperparameter tuning\n",
        "def AvgOverExperiments_T2():\n",
        "\n",
        "    # env = gym.make('Acrobot-v1')\n",
        "    # env.seed(0)\n",
        "    # state_shape = env.observation_space.shape[0]\n",
        "    # no_of_actions = env.action_space.n\n",
        "\n",
        "    # with wandb.init() as run:\n",
        "    # Get the hyperparameters for this run\n",
        "    # config = wandb.config\n",
        "\n",
        "    begin_time = datetime.datetime.now()\n",
        "    # env = gym.make('Acrobot-v1')\n",
        "    # env.seed(0)\n",
        "\n",
        "    # Create the agent with the hyperparameters\n",
        "    agent = Agent_T2(state_size=config_T2['state_size'], action_size=config_T2['action_size'], fc1_units=config_T2['fc1_units'], fc2_units=config_T2['fc2_units'], buffer_size=config_T2['BUFFER_SIZE'], batch_size=config_T2['BATCH_SIZE'], lr=config_T2['LR'], update_every=config_T2['UPDATE_EVERY'], gamma=config_T2['gamma'], eps_end=config_T2['eps_end'], eps_decay=config_T2['eps_decay'],seed = 0)\n",
        "\n",
        "    # Train the agent and get the scores\n",
        "    # episode_list_epsgrdy, average_scores_epsgrdy = dqn(agent, env, n_episodes=config.n_episodes, max_t=config.max_t, eps_start=config.eps_start, eps_end=config.eps_end, eps_decay=config.eps_decay)\n",
        "\n",
        "    episode_list_epsgrdy, average_scores_epsgrdy, cumulative_regret_epsgrdy = dqn(agent, env, n_episodes=config_T2['n_episodes'], max_t=config_T2['max_t'], eps_start=config_T2['eps_start'], eps_end=config_T2['eps_end'], eps_decay=config_T2['eps_decay'])\n",
        "\n",
        "    time_taken = datetime.datetime.now() - begin_time\n",
        "\n",
        "    print(time_taken)\n",
        "    # Log the final average score to wandb\n",
        "    # wandb.log({\"Average Score\": average_scores_epsgrdy})\n",
        "    # wandb.log({\"Average Score\": cumulative_regret})\n",
        "    print(average_scores_epsgrdy)\n",
        "    print('\\n')\n",
        "    print(cumulative_regret_epsgrdy)\n",
        "    average_scores_T2.append(average_scores_epsgrdy)\n",
        "    cumm_regret_T2.append(cumulative_regret_epsgrdy)\n",
        "        # return [average_scores_epsgrdy, cumulative_regret]\n"
      ],
      "metadata": {
        "id": "H96AA1RJZBOY"
      },
      "execution_count": 19,
      "outputs": []
    },
    {
      "cell_type": "code",
      "source": [
        "# # Average over 5 exeriments\n",
        "\n",
        "# average_scores, cumm_regret = [], []\n",
        "num_expts = 5\n",
        "for i in range(num_expts):\n",
        "    print(\"Experiment: %d\" % (i + 1))\n",
        "    AvgOverExperiments_T1()\n",
        "    AvgOverExperiments_T2()\n",
        "    # episode_average_scores, episode_cumm_regret =  wandb.agent(sweep_id, function=AvgOverExperiments, count=1)\n",
        "    # wandb.agent(sweep_id, function=AvgOverExperiments, count=1)\n",
        "    # average_scores.append(episode_average_scores)\n",
        "    # cumm_regret.append(episode_cumm_regret)\n",
        "# wandb.finish()\n"
      ],
      "metadata": {
        "colab": {
          "base_uri": "https://localhost:8080/"
        },
        "id": "7XVhKNa22FaH",
        "outputId": "fd3bc566-df07-4681-fb10-a7e5fcc879dd"
      },
      "execution_count": 20,
      "outputs": [
        {
          "output_type": "stream",
          "name": "stdout",
          "text": [
            "Experiment: 1\n"
          ]
        },
        {
          "output_type": "stream",
          "name": "stderr",
          "text": [
            "/usr/local/lib/python3.10/dist-packages/gym/utils/passive_env_checker.py:241: DeprecationWarning: `np.bool8` is a deprecated alias for `np.bool_`.  (Deprecated NumPy 1.24)\n",
            "  if not isinstance(terminated, (bool, np.bool8)):\n"
          ]
        },
        {
          "output_type": "stream",
          "name": "stdout",
          "text": [
            "Episode 100\tAverage Score: -87.71\tRegret: 0.00\n",
            "\n",
            "Environment solved in 100 episodes!\tAverage Score: -87.71\n",
            "0:01:02.884847\n",
            "[-251.0, -251.0, -251.0, -251.0, -251.0, -251.0, -251.0, -243.875, -233.88888888888889, -225.8, -213.36363636363637, -203.16666666666666, -195.3846153846154, -188.92857142857142, -183.8, -178.375, -173.64705882352942, -167.5, -162.3684210526316, -157.15, -153.61904761904762, -150.45454545454547, -146.34782608695653, -148.0, -144.56, -141.92307692307693, -139.7037037037037, -136.67857142857142, -135.48275862068965, -133.4, -130.80645161290323, -128.5, -126.33333333333333, -125.02941176470588, -123.71428571428571, -121.58333333333333, -119.67567567567568, -118.52631578947368, -117.12820512820512, -116.025, -114.6829268292683, -113.42857142857143, -112.6046511627907, -111.54545454545455, -110.82222222222222, -110.1304347826087, -110.04255319148936, -108.83333333333333, -107.6938775510204, -107.18, -106.25490196078431, -106.09615384615384, -105.09433962264151, -104.85185185185185, -104.36363636363636, -103.51785714285714, -103.10526315789474, -102.70689655172414, -102.23728813559322, -101.58333333333333, -101.11475409836065, -100.64516129032258, -100.0952380952381, -99.484375, -99.41538461538461, -98.6969696969697, -98.38805970149254, -98.0, -97.57971014492753, -97.05714285714286, -96.54929577464789, -96.01388888888889, -95.34246575342466, -94.78378378378379, -94.84, -94.46052631578948, -93.96103896103897, -93.8076923076923, -93.29113924050633, -92.9375, -92.72839506172839, -92.41463414634147, -92.08433734939759, -91.73809523809524, -91.4, -91.02325581395348, -90.85057471264368, -91.13636363636364, -90.66292134831461, -90.41111111111111, -90.15384615384616, -89.8695652173913, -89.45161290322581, -89.27659574468085, -88.98947368421052, -88.60416666666667, -88.54639175257732, -88.37755102040816, -88.14141414141415, -87.71]\n",
            "\n",
            "\n",
            "[0.0, 0.0, 0.0, 0.0, 0.0, 0.0, 0.0, 0.0, 0.0, 0.0, 0.0, 0.08333333333333333, 0.15384615384615385, 0.14285714285714285, 0.2, 0.1875, 0.23529411764705882, 0.2222222222222222, 0.2631578947368421, 0.25, 0.2857142857142857, 0.3181818181818182, 0.30434782608695654, 0.2916666666666667, 0.24, 0.23076923076923078, 0.18518518518518517, 0.17857142857142858, 0.20689655172413793, 0.2, 0.22580645161290322, 0.1875, 0.21212121212121213, 0.23529411764705882, 0.2571428571428571, 0.25, 0.24324324324324326, 0.23684210526315788, 0.23076923076923078, 0.2, 0.1951219512195122, 0.23809523809523808, 0.23255813953488372, 0.22727272727272727, 0.24444444444444444, 0.2391304347826087, 0.23404255319148937, 0.20833333333333334, 0.20408163265306123, 0.22, 0.21568627450980393, 0.25, 0.24528301886792453, 0.25925925925925924, 0.2545454545454545, 0.26785714285714285, 0.2631578947368421, 0.25862068965517243, 0.2542372881355932, 0.26666666666666666, 0.2786885245901639, 0.27419354838709675, 0.2857142857142857, 0.28125, 0.27692307692307694, 0.2727272727272727, 0.2835820895522388, 0.27941176470588236, 0.2753623188405797, 0.2714285714285714, 0.2676056338028169, 0.2638888888888889, 0.2602739726027397, 0.25675675675675674, 0.26666666666666666, 0.2631578947368421, 0.2597402597402597, 0.2564102564102564, 0.25316455696202533, 0.2625, 0.2716049382716049, 0.25609756097560976, 0.24096385542168675, 0.23809523809523808, 0.23529411764705882, 0.22093023255813954, 0.21839080459770116, 0.2159090909090909, 0.21348314606741572, 0.2111111111111111, 0.23076923076923078, 0.2391304347826087, 0.24731182795698925, 0.2553191489361702, 0.2631578947368421, 0.2604166666666667, 0.27835051546391754, 0.2857142857142857, 0.2828282828282828, 0.28]\n",
            "Episode 100\tAverage Score: -100.92\tRegret: 0.00\n",
            "Episode 200\tAverage Score: -69.78\tRegret: 0.00\n",
            "\n",
            "Environment solved in 200 episodes!\tAverage Score: -69.78\n",
            "0:01:29.953937\n",
            "[-251.0, -251.0, -251.0, -251.0, -251.0, -251.0, -251.0, -249.625, -233.33333333333334, -221.6, -211.0909090909091, -202.5, -196.84615384615384, -190.0, -185.4, -179.3125, -174.0, -170.61111111111111, -167.8421052631579, -165.25, -162.0, -159.4090909090909, -155.8695652173913, -152.66666666666666, -150.64, -147.92307692307693, -147.25925925925927, -145.89285714285714, -144.17241379310346, -143.33333333333334, -141.74193548387098, -141.34375, -140.75757575757575, -139.88235294117646, -139.31428571428572, -138.11111111111111, -137.78378378378378, -137.18421052631578, -135.92307692307693, -135.3, -134.3658536585366, -132.92857142857142, -132.3953488372093, -131.25, -130.0888888888889, -128.93478260869566, -128.25531914893617, -126.83333333333333, -126.36734693877551, -126.18, -125.11764705882354, -124.11538461538461, -123.33962264150944, -123.05555555555556, -122.34545454545454, -121.41071428571429, -120.82456140350877, -120.10344827586206, -119.08474576271186, -118.01666666666667, -117.31147540983606, -117.62903225806451, -116.65079365079364, -115.984375, -115.35384615384615, -114.81818181818181, -114.43283582089552, -113.8970588235294, -113.07246376811594, -112.25714285714285, -111.5774647887324, -110.79166666666667, -110.10958904109589, -109.55405405405405, -109.4, -108.90789473684211, -108.14285714285714, -107.78205128205128, -107.24050632911393, -106.6, -106.37037037037037, -105.7439024390244, -105.48192771084338, -105.01190476190476, -104.52941176470588, -104.06976744186046, -103.57471264367815, -103.29545454545455, -102.98876404494382, -102.44444444444444, -102.28571428571429, -101.98913043478261, -101.46236559139786, -101.51063829787235, -102.0, -102.0, -101.74226804123711, -101.27551020408163, -100.86868686868686, -100.92, -99.16, -97.45, -95.55, -93.88, -92.33, -90.45, -88.87, -87.04, -86.58, -86.6, -86.21, -85.66, -85.18, -84.75, -84.06, -83.85, -83.64, -83.29, -82.75, -82.43, -82.37, -81.98, -82.01, -82.09, -81.99, -82.0, -81.52, -81.53, -81.28, -80.75, -80.34, -79.69, -79.24, -78.79, -78.52, -78.08, -77.75, -77.72, -77.37, -77.05, -76.83, -76.64, -76.2, -76.18, -75.93, -75.99, -75.68, -75.72, -75.29, -74.81, -75.01, -75.07, -75.0, -74.52, -74.31, -74.37, -74.3, -74.03, -74.18, -74.25, -74.35, -73.63, -73.68, -73.53, -73.48, -73.23, -72.96, -72.89, -72.88, -73.01, -72.98, -73.16, -73.29, -73.51, -72.96, -73.02, -73.23, -73.1, -73.1, -73.01, -72.92, -72.97, -72.67, -72.63, -72.55, -72.87, -73.08, -72.73, -72.47, -72.43, -72.12, -72.18, -72.49, -72.05, -71.23, -70.79, -70.67, -70.64, -70.46, -69.78]\n",
            "\n",
            "\n",
            "[0.0, 0.0, 0.0, 0.0, 0.0, 0.0, 0.0, 0.0, 0.0, 0.0, -0.09090909090909091, -0.16666666666666666, -0.23076923076923078, -0.21428571428571427, -0.13333333333333333, -0.125, -0.11764705882352941, -0.05555555555555555, -0.05263157894736842, -0.05, -0.047619047619047616, 0.0, 0.0, 0.041666666666666664, 0.0, 0.0, 0.07407407407407407, 0.07142857142857142, 0.06896551724137931, 0.06666666666666667, 0.03225806451612903, 0.0625, 0.06060606060606061, 0.058823529411764705, 0.08571428571428572, 0.1111111111111111, 0.08108108108108109, 0.10526315789473684, 0.10256410256410256, 0.125, 0.14634146341463414, 0.11904761904761904, 0.11627906976744186, 0.11363636363636363, 0.1111111111111111, 0.10869565217391304, 0.0851063829787234, 0.10416666666666667, 0.10204081632653061, 0.12, 0.11764705882352941, 0.11538461538461539, 0.11320754716981132, 0.1111111111111111, 0.12727272727272726, 0.10714285714285714, 0.12280701754385964, 0.13793103448275862, 0.11864406779661017, 0.11666666666666667, 0.11475409836065574, 0.12903225806451613, 0.1111111111111111, 0.09375, 0.1076923076923077, 0.10606060606060606, 0.1044776119402985, 0.10294117647058823, 0.10144927536231885, 0.08571428571428572, 0.09859154929577464, 0.1111111111111111, 0.1095890410958904, 0.10810810810810811, 0.12, 0.13157894736842105, 0.12987012987012986, 0.14102564102564102, 0.1518987341772152, 0.1625, 0.16049382716049382, 0.17073170731707318, 0.18072289156626506, 0.19047619047619047, 0.18823529411764706, 0.18604651162790697, 0.1839080459770115, 0.17045454545454544, 0.19101123595505617, 0.2, 0.18681318681318682, 0.18478260869565216, 0.1827956989247312, 0.18085106382978725, 0.17894736842105263, 0.1875, 0.20618556701030927, 0.21428571428571427, 0.2222222222222222, 0.22, 0.21782178217821782, 0.20588235294117646, 0.20388349514563106, 0.19230769230769232, 0.2, 0.19811320754716982, 0.19626168224299065, 0.19444444444444445, 0.1834862385321101, 0.2, 0.1981981981981982, 0.20535714285714285, 0.21238938053097345, 0.21052631578947367, 0.21739130434782608, 0.21551724137931033, 0.21367521367521367, 0.2033898305084746, 0.21008403361344538, 0.20833333333333334, 0.21487603305785125, 0.21311475409836064, 0.21138211382113822, 0.22580645161290322, 0.224, 0.2222222222222222, 0.2204724409448819, 0.2265625, 0.2248062015503876, 0.23076923076923078, 0.22900763358778625, 0.22727272727272727, 0.22556390977443608, 0.23134328358208955, 0.23703703703703705, 0.2426470588235294, 0.24087591240875914, 0.2753623188405797, 0.2733812949640288, 0.2714285714285714, 0.2765957446808511, 0.28169014084507044, 0.27972027972027974, 0.2777777777777778, 0.27586206896551724, 0.2808219178082192, 0.2857142857142857, 0.2905405405405405, 0.28859060402684567, 0.29333333333333333, 0.304635761589404, 0.3092105263157895, 0.30718954248366015, 0.3051948051948052, 0.3032258064516129, 0.3076923076923077, 0.3057324840764331, 0.3037974683544304, 0.3081761006289308, 0.30625, 0.3105590062111801, 0.30864197530864196, 0.3067484662576687, 0.29878048780487804, 0.2909090909090909, 0.2891566265060241, 0.281437125748503, 0.27976190476190477, 0.2781065088757396, 0.27058823529411763, 0.26900584795321636, 0.27325581395348836, 0.27167630057803466, 0.27586206896551724, 0.26857142857142857, 0.26136363636363635, 0.2655367231638418, 0.2640449438202247, 0.26256983240223464, 0.2611111111111111, 0.26519337016574585, 0.26373626373626374, 0.2568306010928962, 0.2554347826086957, 0.25405405405405407, 0.25268817204301075, 0.25133689839572193, 0.2553191489361702, 0.25396825396825395, 0.25263157894736843, 0.2513089005235602, 0.25, 0.24870466321243523, 0.24742268041237114, 0.24102564102564103, 0.23979591836734693, 0.2436548223350254, 0.2474747474747475, 0.24623115577889448, 0.245]\n",
            "Experiment: 2\n",
            "Episode 100\tAverage Score: -94.23\tRegret: 1.00\n",
            "\n",
            "Environment solved in 100 episodes!\tAverage Score: -94.23\n",
            "0:00:49.463305\n",
            "[-251.0, -251.0, -251.0, -251.0, -251.0, -231.66666666666666, -222.57142857142858, -226.125, -216.55555555555554, -214.6, -203.72727272727272, -193.91666666666666, -186.0, -179.64285714285714, -174.26666666666668, -169.9375, -166.1764705882353, -162.61111111111111, -160.05263157894737, -156.9, -155.42857142857142, -151.5, -148.0, -144.625, -141.24, -139.84615384615384, -137.62962962962962, -136.03571428571428, -133.9655172413793, -132.33333333333334, -130.5483870967742, -128.90625, -127.0, -124.94117647058823, -124.0, -122.97222222222223, -121.48648648648648, -119.76315789473684, -118.1025641025641, -117.4, -116.48780487804878, -115.61904761904762, -114.55813953488372, -114.02272727272727, -113.53333333333333, -112.78260869565217, -112.17021276595744, -111.64583333333333, -110.95918367346938, -110.34, -109.88235294117646, -109.4423076923077, -109.05660377358491, -108.18518518518519, -107.52727272727273, -107.16071428571429, -107.0, -106.10344827586206, -105.2542372881356, -104.78333333333333, -104.06557377049181, -103.69354838709677, -103.26984126984127, -105.578125, -104.98461538461538, -104.87878787878788, -104.58208955223881, -105.42647058823529, -105.23188405797102, -104.57142857142857, -103.91549295774648, -103.54166666666667, -103.5068493150685, -102.83783783783784, -102.50666666666666, -101.94736842105263, -101.36363636363636, -100.91025641025641, -100.46835443037975, -100.0875, -99.41975308641975, -98.96341463414635, -98.39759036144578, -97.97619047619048, -97.83529411764705, -97.45348837209302, -96.94252873563218, -96.5909090909091, -96.48314606741573, -96.6, -96.21978021978022, -96.06521739130434, -95.59139784946237, -95.47872340425532, -95.17894736842105, -95.20833333333333, -94.78350515463917, -94.35714285714286, -94.25252525252525, -94.23]\n",
            "\n",
            "\n",
            "[0.0, 0.0, 0.0, 0.0, 0.0, 0.0, 0.2857142857142857, 0.25, 0.2222222222222222, 0.2, 0.2727272727272727, 0.25, 0.23076923076923078, 0.2857142857142857, 0.2, 0.1875, 0.17647058823529413, 0.3333333333333333, 0.3157894736842105, 0.35, 0.38095238095238093, 0.36363636363636365, 0.34782608695652173, 0.3333333333333333, 0.28, 0.34615384615384615, 0.3333333333333333, 0.35714285714285715, 0.3448275862068966, 0.3333333333333333, 0.3225806451612903, 0.375, 0.36363636363636365, 0.38235294117647056, 0.37142857142857144, 0.3611111111111111, 0.3783783783783784, 0.3684210526315789, 0.358974358974359, 0.375, 0.3902439024390244, 0.38095238095238093, 0.3953488372093023, 0.36363636363636365, 0.35555555555555557, 0.3695652173913043, 0.3404255319148936, 0.3541666666666667, 0.32653061224489793, 0.32, 0.3137254901960784, 0.3076923076923077, 0.3018867924528302, 0.2962962962962963, 0.2909090909090909, 0.26785714285714285, 0.2631578947368421, 0.25862068965517243, 0.2542372881355932, 0.26666666666666666, 0.2786885245901639, 0.27419354838709675, 0.2698412698412698, 0.265625, 0.27692307692307694, 0.2727272727272727, 0.26865671641791045, 0.29411764705882354, 0.2898550724637681, 0.2857142857142857, 0.28169014084507044, 0.2916666666666667, 0.2876712328767123, 0.2702702702702703, 0.26666666666666666, 0.25, 0.24675324675324675, 0.24358974358974358, 0.22784810126582278, 0.225, 0.20987654320987653, 0.2073170731707317, 0.21686746987951808, 0.2261904761904762, 0.23529411764705882, 0.23255813953488372, 0.2413793103448276, 0.25, 0.24719101123595505, 0.24444444444444444, 0.24175824175824176, 0.2391304347826087, 0.23655913978494625, 0.24468085106382978, 0.24210526315789474, 0.23958333333333334, 0.24742268041237114, 0.23469387755102042, 0.24242424242424243, 0.25]\n",
            "Episode 100\tAverage Score: -124.87\tRegret: 5.00\n",
            "Episode 200\tAverage Score: -67.49\tRegret: 0.00\n",
            "\n",
            "Environment solved in 200 episodes!\tAverage Score: -67.49\n",
            "0:01:42.152731\n",
            "[-251.0, -251.0, -251.0, -251.0, -251.0, -251.0, -251.0, -249.25, -241.22222222222223, -240.8, -241.72727272727272, -240.08333333333334, -237.46153846153845, -237.57142857142858, -238.46666666666667, -236.6875, -232.23529411764707, -232.55555555555554, -232.94736842105263, -233.85, -234.42857142857142, -235.04545454545453, -235.7391304347826, -231.91666666666666, -232.68, -228.26923076923077, -223.62962962962962, -220.39285714285714, -217.72413793103448, -213.46666666666667, -210.19354838709677, -207.0, -203.63636363636363, -200.41176470588235, -197.0, -193.58333333333334, -191.02702702702703, -189.39473684210526, -187.12820512820514, -184.425, -183.34146341463415, -181.6904761904762, -179.46511627906978, -176.95454545454547, -174.2888888888889, -175.95652173913044, -174.5744680851064, -173.1875, -172.10204081632654, -170.6, -169.58823529411765, -168.42307692307693, -166.9811320754717, -165.46296296296296, -163.83636363636364, -162.51785714285714, -161.03508771929825, -159.67241379310346, -158.25423728813558, -156.78333333333333, -155.44262295081967, -154.41935483870967, -152.95238095238096, -151.8125, -150.7076923076923, -149.75757575757575, -148.92537313432837, -147.97058823529412, -147.08695652173913, -146.34285714285716, -145.8732394366197, -144.98611111111111, -143.8904109589041, -142.90540540540542, -142.45333333333335, -141.52631578947367, -140.75324675324674, -139.97435897435898, -138.9367088607595, -137.95, -137.1604938271605, -136.52439024390245, -135.84337349397592, -135.26190476190476, -134.52941176470588, -133.5581395348837, -132.5632183908046, -131.6818181818182, -131.02247191011236, -130.25555555555556, -129.46153846153845, -128.79347826086956, -127.87096774193549, -127.29787234042553, -126.57894736842105, -125.76041666666667, -125.44329896907216, -124.95918367346938, -124.75757575757575, -124.87, -122.89, -121.55, -119.73, -118.02, -116.18, -114.16, -112.22, -110.75, -109.8, -108.28, -106.43, -106.56, -105.0, -103.17, -101.51, -100.16, -99.0, -97.23, -95.98, -94.29, -93.03, -91.04, -89.2, -88.44, -86.85, -86.34, -86.08, -85.28, -84.51, -84.07, -83.45, -83.0, -82.6, -82.47, -82.46, -82.16, -82.01, -81.57, -81.22, -80.99, -80.15, -79.5, -79.22, -79.12, -79.05, -77.25, -76.67, -76.28, -75.64, -75.2, -74.59, -74.01, -73.73, -73.42, -73.28, -73.42, -74.59, -74.4, -74.08, -74.08, -73.83, -73.44, -73.42, -73.04, -73.02, -73.01, -72.62, -72.27, -71.9, -71.5, -70.9, -70.71, -70.47, -70.71, -70.38, -70.16, -69.96, -69.66, -69.87, -69.83, -69.78, -69.38, -69.35, -69.0, -68.7, -68.79, -68.9, -69.01, -69.13, -68.99, -69.02, -69.09, -69.13, -68.84, -68.89, -69.22, -68.98, -68.7, -68.35, -67.49]\n",
            "\n",
            "\n",
            "[0.0, 0.0, 0.0, 0.0, 0.0, 0.0, 0.0, 0.0, -0.1111111111111111, -0.1, -0.09090909090909091, -0.08333333333333333, -0.07692307692307693, 0.0, 0.0, 0.0625, 0.0, 0.05555555555555555, 0.05263157894736842, 0.05, 0.047619047619047616, 0.09090909090909091, 0.08695652173913043, 0.125, 0.12, 0.11538461538461539, 0.14814814814814814, 0.17857142857142858, 0.20689655172413793, 0.2, 0.22580645161290322, 0.21875, 0.24242424242424243, 0.2647058823529412, 0.2571428571428571, 0.25, 0.24324324324324326, 0.23684210526315788, 0.2564102564102564, 0.275, 0.2682926829268293, 0.2619047619047619, 0.2558139534883721, 0.25, 0.26666666666666666, 0.2608695652173913, 0.2553191489361702, 0.2708333333333333, 0.2857142857142857, 0.28, 0.27450980392156865, 0.25, 0.24528301886792453, 0.24074074074074073, 0.23636363636363636, 0.23214285714285715, 0.22807017543859648, 0.22413793103448276, 0.22033898305084745, 0.23333333333333334, 0.22950819672131148, 0.22580645161290322, 0.23809523809523808, 0.234375, 0.23076923076923078, 0.24242424242424243, 0.2537313432835821, 0.2647058823529412, 0.2608695652173913, 0.2714285714285714, 0.2676056338028169, 0.25, 0.2602739726027397, 0.25675675675675674, 0.26666666666666666, 0.2631578947368421, 0.2727272727272727, 0.28205128205128205, 0.27848101265822783, 0.2875, 0.2839506172839506, 0.2926829268292683, 0.30120481927710846, 0.2976190476190476, 0.3058823529411765, 0.3023255813953488, 0.28735632183908044, 0.2840909090909091, 0.2808988764044944, 0.2777777777777778, 0.27472527472527475, 0.2826086956521739, 0.26881720430107525, 0.26595744680851063, 0.2631578947368421, 0.2604166666666667, 0.26804123711340205, 0.2755102040816326, 0.2828282828282828, 0.33, 0.32673267326732675, 0.3235294117647059, 0.32038834951456313, 0.3173076923076923, 0.3238095238095238, 0.3113207547169811, 0.308411214953271, 0.3055555555555556, 0.30275229357798167, 0.3, 0.3063063063063063, 0.30357142857142855, 0.3008849557522124, 0.2982456140350877, 0.3130434782608696, 0.3103448275862069, 0.29914529914529914, 0.2966101694915254, 0.29411764705882354, 0.2833333333333333, 0.2809917355371901, 0.2786885245901639, 0.2764227642276423, 0.28225806451612906, 0.288, 0.2857142857142857, 0.28346456692913385, 0.2890625, 0.29457364341085274, 0.3, 0.29770992366412213, 0.29545454545454547, 0.2932330827067669, 0.291044776119403, 0.28888888888888886, 0.2867647058823529, 0.291970802919708, 0.2971014492753623, 0.2949640287769784, 0.29285714285714287, 0.2907801418439716, 0.2887323943661972, 0.2937062937062937, 0.2916666666666667, 0.2896551724137931, 0.2945205479452055, 0.2925170068027211, 0.2972972972972973, 0.30201342281879195, 0.3, 0.304635761589404, 0.3026315789473684, 0.29411764705882354, 0.2987012987012987, 0.2967741935483871, 0.30128205128205127, 0.3057324840764331, 0.3037974683544304, 0.3081761006289308, 0.30625, 0.3105590062111801, 0.30864197530864196, 0.3067484662576687, 0.3048780487804878, 0.30303030303030304, 0.29518072289156627, 0.2934131736526946, 0.2976190476190476, 0.2958579881656805, 0.3058823529411765, 0.30409356725146197, 0.3081395348837209, 0.3063583815028902, 0.3045977011494253, 0.3028571428571429, 0.30113636363636365, 0.3050847457627119, 0.3089887640449438, 0.30726256983240224, 0.3111111111111111, 0.3149171270718232, 0.31868131868131866, 0.3114754098360656, 0.31521739130434784, 0.31891891891891894, 0.3172043010752688, 0.32085561497326204, 0.3191489361702128, 0.31746031746031744, 0.3157894736842105, 0.3193717277486911, 0.3229166666666667, 0.32124352331606215, 0.31958762886597936, 0.3128205128205128, 0.3163265306122449, 0.3147208121827411, 0.31313131313131315, 0.3165829145728643, 0.315]\n",
            "Experiment: 3\n",
            "Episode 100\tAverage Score: -86.36\tRegret: 0.00\n",
            "\n",
            "Environment solved in 100 episodes!\tAverage Score: -86.36\n",
            "0:00:47.369208\n",
            "[-251.0, -251.0, -251.0, -251.0, -251.0, -235.5, -228.0, -217.75, -207.55555555555554, -197.4, -194.54545454545453, -185.75, -176.84615384615384, -169.21428571428572, -166.46666666666667, -162.625, -157.7058823529412, -152.88888888888889, -148.8421052631579, -145.8, -143.04761904761904, -141.3181818181818, -138.6086956521739, -136.83333333333334, -133.72, -131.0, -129.7037037037037, -128.32142857142858, -126.51724137931035, -125.96666666666667, -126.0, -124.65625, -122.96969696969697, -122.52941176470588, -121.48571428571428, -120.52777777777777, -119.08108108108108, -118.42105263157895, -117.48717948717949, -115.85, -115.26829268292683, -115.33333333333333, -114.83720930232558, -113.54545454545455, -112.71111111111111, -112.06521739130434, -111.06382978723404, -110.25, -109.53061224489795, -108.3, -107.56862745098039, -106.48076923076923, -105.67924528301887, -104.85185185185185, -103.96363636363637, -103.16071428571429, -102.66666666666667, -101.96551724137932, -101.72881355932203, -101.06666666666666, -100.50819672131148, -100.01612903225806, -99.58730158730158, -98.84375, -98.41538461538461, -97.72727272727273, -97.11940298507463, -96.86764705882354, -96.6231884057971, -96.37142857142857, -95.7605633802817, -95.09722222222223, -94.73972602739725, -94.43243243243244, -94.4, -94.0657894736842, -93.42857142857143, -92.98717948717949, -92.53164556962025, -92.125, -91.9753086419753, -91.5, -91.4578313253012, -91.17857142857143, -91.01176470588236, -90.76744186046511, -90.42528735632185, -90.19318181818181, -89.84269662921348, -89.37777777777778, -88.98901098901099, -88.6086956521739, -88.12903225806451, -87.90425531914893, -87.82105263157895, -87.41666666666667, -87.26804123711341, -86.92857142857143, -86.58585858585859, -86.36]\n",
            "\n",
            "\n",
            "[0.0, 0.0, 0.0, 0.0, 0.0, 0.0, 0.14285714285714285, 0.25, 0.2222222222222222, 0.3, 0.2727272727272727, 0.25, 0.15384615384615385, 0.14285714285714285, 0.13333333333333333, 0.1875, 0.17647058823529413, 0.1111111111111111, 0.05263157894736842, 0.05, 0.047619047619047616, 0.045454545454545456, 0.043478260869565216, 0.08333333333333333, 0.08, 0.11538461538461539, 0.1111111111111111, 0.07142857142857142, 0.06896551724137931, 0.1, 0.0967741935483871, 0.09375, 0.09090909090909091, 0.17647058823529413, 0.2, 0.19444444444444445, 0.1891891891891892, 0.18421052631578946, 0.1794871794871795, 0.175, 0.17073170731707318, 0.19047619047619047, 0.20930232558139536, 0.20454545454545456, 0.24444444444444444, 0.2391304347826087, 0.23404255319148937, 0.25, 0.2653061224489796, 0.26, 0.27450980392156865, 0.2692307692307692, 0.2641509433962264, 0.2962962962962963, 0.3090909090909091, 0.32142857142857145, 0.3508771929824561, 0.3620689655172414, 0.3728813559322034, 0.36666666666666664, 0.36065573770491804, 0.3548387096774194, 0.3492063492063492, 0.34375, 0.35384615384615387, 0.36363636363636365, 0.3582089552238806, 0.35294117647058826, 0.34782608695652173, 0.35714285714285715, 0.352112676056338, 0.3472222222222222, 0.3424657534246575, 0.32432432432432434, 0.36, 0.35526315789473684, 0.35064935064935066, 0.358974358974359, 0.3670886075949367, 0.3625, 0.35802469135802467, 0.36585365853658536, 0.42168674698795183, 0.42857142857142855, 0.43529411764705883, 0.43023255813953487, 0.4367816091954023, 0.4318181818181818, 0.43820224719101125, 0.4444444444444444, 0.45054945054945056, 0.44565217391304346, 0.44086021505376344, 0.44680851063829785, 0.4421052631578947, 0.4479166666666667, 0.44329896907216493, 0.4387755102040816, 0.4444444444444444, 0.44]\n",
            "Episode 100\tAverage Score: -108.23\tRegret: 0.00\n",
            "Episode 200\tAverage Score: -77.43\tRegret: 1.00\n",
            "\n",
            "Environment solved in 200 episodes!\tAverage Score: -77.43\n",
            "0:01:41.322982\n",
            "[-251.0, -251.0, -251.0, -251.0, -251.0, -251.0, -251.0, -242.625, -233.77777777777777, -235.5, -221.63636363636363, -224.08333333333334, -216.6153846153846, -209.71428571428572, -204.66666666666666, -198.25, -193.2941176470588, -188.72222222222223, -186.3684210526316, -182.65, -178.23809523809524, -175.86363636363637, -172.08695652173913, -168.58333333333334, -166.0, -163.6153846153846, -160.8148148148148, -159.32142857142858, -156.55172413793105, -154.2, -151.1290322580645, -148.6875, -146.36363636363637, -143.7941176470588, -142.05714285714285, -140.77777777777777, -138.48648648648648, -136.73684210526315, -134.84615384615384, -133.475, -134.14634146341464, -132.73809523809524, -131.65116279069767, -130.4090909090909, -131.11111111111111, -129.7826086956522, -128.40425531914894, -127.35416666666667, -126.61224489795919, -129.1, -127.82352941176471, -129.51923076923077, -128.43396226415095, -127.31481481481481, -126.18181818181819, -125.66071428571429, -127.54385964912281, -126.63793103448276, -125.76271186440678, -125.68333333333334, -124.8360655737705, -126.30645161290323, -125.31746031746032, -124.6875, -124.2, -123.51515151515152, -123.01492537313433, -122.1470588235294, -121.42028985507247, -121.97142857142858, -121.2394366197183, -120.80555555555556, -120.63013698630137, -119.97297297297297, -119.14666666666666, -118.86842105263158, -118.35064935064935, -117.62820512820512, -117.59493670886076, -117.075, -116.65432098765432, -116.1219512195122, -115.60240963855422, -115.19047619047619, -114.70588235294117, -114.24418604651163, -113.54022988505747, -112.86363636363636, -112.35955056179775, -112.03333333333333, -111.38461538461539, -110.73913043478261, -110.47311827956989, -110.07446808510639, -109.92631578947369, -109.59375, -109.5360824742268, -109.07142857142857, -108.64646464646465, -108.23, -106.85, -105.47, -103.98, -102.4, -100.54, -99.16, -97.24, -96.31, -95.5, -93.87, -93.86, -92.26, -91.77, -91.23, -90.79, -90.7, -90.44, -90.13, -89.36, -88.96, -88.67, -88.07, -87.96, -87.87, -87.56, -87.3, -86.95, -86.36, -86.32, -86.38, -86.53, -86.48, -86.32, -86.45, -86.4, -86.15, -86.32, -86.59, -86.95, -86.91, -85.9, -85.74, -85.79, -85.65, -84.47, -84.27, -85.47, -85.39, -85.44, -83.64, -83.58, -82.42, -82.42, -82.59, -82.83, -82.66, -80.88, -80.79, -80.78, -80.8, -80.7, -79.35, -79.58, -79.16, -79.06, -80.78, -80.42, -80.34, -80.12, -79.15, -79.17, -79.19, -78.77, -78.91, -79.69, -79.21, -79.2, -80.09, -79.63, -79.33, -79.18, -79.35, -79.27, -79.01, -78.97, -78.72, -78.69, -78.91, -78.95, -78.58, -78.98, -79.08, -79.04, -78.9, -78.52, -78.35, -77.94, -77.82, -77.65, -77.43]\n",
            "\n",
            "\n",
            "[0.0, 0.0, 0.0, 0.0, 0.0, 0.0, 0.0, 0.0, -0.1111111111111111, -0.1, 0.0, 0.0, 0.0, 0.07142857142857142, 0.0, 0.0, 0.058823529411764705, 0.05555555555555555, 0.15789473684210525, 0.1, 0.14285714285714285, 0.18181818181818182, 0.17391304347826086, 0.20833333333333334, 0.24, 0.2692307692307692, 0.25925925925925924, 0.2857142857142857, 0.27586206896551724, 0.26666666666666666, 0.25806451612903225, 0.28125, 0.30303030303030304, 0.29411764705882354, 0.3142857142857143, 0.3055555555555556, 0.2702702702702703, 0.2894736842105263, 0.28205128205128205, 0.275, 0.24390243902439024, 0.2619047619047619, 0.2558139534883721, 0.25, 0.24444444444444444, 0.2608695652173913, 0.2765957446808511, 0.2708333333333333, 0.24489795918367346, 0.24, 0.23529411764705882, 0.23076923076923078, 0.22641509433962265, 0.2222222222222222, 0.23636363636363636, 0.25, 0.2631578947368421, 0.27586206896551724, 0.2711864406779661, 0.3, 0.2786885245901639, 0.27419354838709675, 0.2857142857142857, 0.28125, 0.2923076923076923, 0.2878787878787879, 0.2835820895522388, 0.29411764705882354, 0.2898550724637681, 0.2857142857142857, 0.29577464788732394, 0.3194444444444444, 0.3287671232876712, 0.33783783783783783, 0.3333333333333333, 0.34210526315789475, 0.33766233766233766, 0.3333333333333333, 0.3291139240506329, 0.325, 0.3333333333333333, 0.32926829268292684, 0.3132530120481928, 0.2976190476190476, 0.29411764705882354, 0.3023255813953488, 0.2988505747126437, 0.29545454545454547, 0.30337078651685395, 0.3, 0.2967032967032967, 0.29347826086956524, 0.2903225806451613, 0.2872340425531915, 0.28421052631578947, 0.2916666666666667, 0.28865979381443296, 0.2857142857142857, 0.2727272727272727, 0.27, 0.26732673267326734, 0.29411764705882354, 0.2912621359223301, 0.28846153846153844, 0.2857142857142857, 0.29245283018867924, 0.2897196261682243, 0.2962962962962963, 0.29357798165137616, 0.3, 0.2882882882882883, 0.2767857142857143, 0.2831858407079646, 0.2807017543859649, 0.2782608695652174, 0.28448275862068967, 0.28205128205128205, 0.288135593220339, 0.2857142857142857, 0.2833333333333333, 0.2892561983471074, 0.28688524590163933, 0.2845528455284553, 0.27419354838709675, 0.28, 0.2777777777777778, 0.2755905511811024, 0.2734375, 0.27906976744186046, 0.27692307692307694, 0.2824427480916031, 0.2727272727272727, 0.2706766917293233, 0.26119402985074625, 0.25925925925925924, 0.2647058823529412, 0.26277372262773724, 0.2608695652173913, 0.2589928057553957, 0.2642857142857143, 0.2695035460992908, 0.2605633802816901, 0.2517482517482518, 0.25, 0.2482758620689655, 0.2465753424657534, 0.24489795918367346, 0.25, 0.2483221476510067, 0.24666666666666667, 0.24503311258278146, 0.2631578947368421, 0.26143790849673204, 0.2597402597402597, 0.2645161290322581, 0.26282051282051283, 0.267515923566879, 0.2721518987341772, 0.2641509433962264, 0.2625, 0.2608695652173913, 0.2654320987654321, 0.26380368098159507, 0.2621951219512195, 0.26666666666666666, 0.26506024096385544, 0.2694610778443114, 0.27380952380952384, 0.27218934911242604, 0.27647058823529413, 0.2807017543859649, 0.27906976744186046, 0.2832369942196532, 0.28160919540229884, 0.2742857142857143, 0.2727272727272727, 0.2711864406779661, 0.2640449438202247, 0.2681564245810056, 0.2722222222222222, 0.27071823204419887, 0.2692307692307692, 0.273224043715847, 0.2717391304347826, 0.2702702702702703, 0.26881720430107525, 0.2620320855614973, 0.26063829787234044, 0.2698412698412698, 0.26842105263157895, 0.27225130890052357, 0.2760416666666667, 0.27979274611398963, 0.28350515463917525, 0.28717948717948716, 0.28061224489795916, 0.27918781725888325, 0.2828282828282828, 0.2814070351758794, 0.285]\n",
            "Experiment: 4\n",
            "Episode 100\tAverage Score: -95.17\tRegret: -1.00\n",
            "\n",
            "Environment solved in 100 episodes!\tAverage Score: -95.17\n",
            "0:00:50.015318\n",
            "[-251.0, -251.0, -251.0, -251.0, -251.0, -251.0, -251.0, -236.125, -231.33333333333334, -224.9, -216.36363636363637, -213.0, -209.3846153846154, -203.28571428571428, -199.4, -199.0625, -192.7058823529412, -185.38888888888889, -179.1578947368421, -174.55, -170.28571428571428, -166.5, -165.65217391304347, -162.625, -159.52, -155.73076923076923, -153.25925925925927, -151.39285714285714, -148.6551724137931, -146.0, -143.5483870967742, -140.90625, -142.78787878787878, -142.44117647058823, -140.17142857142858, -138.58333333333334, -138.16216216216216, -136.71052631578948, -134.5897435897436, -134.25, -132.14634146341464, -131.92857142857142, -130.34883720930233, -128.86363636363637, -127.17777777777778, -125.95652173913044, -124.87234042553192, -124.33333333333333, -123.12244897959184, -122.1, -121.15686274509804, -120.78846153846153, -119.62264150943396, -118.51851851851852, -117.74545454545455, -116.89285714285714, -116.40350877192982, -115.32758620689656, -114.1864406779661, -113.1, -113.01639344262296, -112.56451612903226, -111.76190476190476, -110.921875, -110.33846153846154, -109.60606060606061, -108.74626865671642, -108.19117647058823, -107.79710144927536, -107.35714285714286, -106.90140845070422, -106.65277777777777, -106.41095890410959, -105.77027027027027, -104.97333333333333, -104.36842105263158, -103.77922077922078, -103.08974358974359, -102.64556962025317, -101.95, -101.44444444444444, -100.85365853658537, -100.71084337349397, -100.29761904761905, -99.76470588235294, -99.34883720930233, -98.93103448275862, -98.625, -98.35955056179775, -97.93333333333334, -97.52747252747253, -97.1086956521739, -96.60215053763442, -96.55319148936171, -96.17894736842105, -95.6875, -95.50515463917526, -95.6938775510204, -95.33333333333333, -95.17]\n",
            "\n",
            "\n",
            "[0.0, 0.0, 0.0, 0.0, 0.0, 0.0, 0.0, 0.125, 0.1111111111111111, 0.1, 0.09090909090909091, 0.08333333333333333, 0.07692307692307693, 0.07142857142857142, 0.06666666666666667, 0.0625, 0.11764705882352941, 0.16666666666666666, 0.15789473684210525, 0.15, 0.09523809523809523, 0.09090909090909091, 0.17391304347826086, 0.16666666666666666, 0.16, 0.15384615384615385, 0.14814814814814814, 0.17857142857142858, 0.20689655172413793, 0.23333333333333334, 0.22580645161290322, 0.25, 0.24242424242424243, 0.2647058823529412, 0.2571428571428571, 0.25, 0.24324324324324326, 0.23684210526315788, 0.2564102564102564, 0.275, 0.2682926829268293, 0.2619047619047619, 0.27906976744186046, 0.29545454545454547, 0.3111111111111111, 0.2826086956521739, 0.2765957446808511, 0.2708333333333333, 0.2653061224489796, 0.28, 0.2549019607843137, 0.23076923076923078, 0.20754716981132076, 0.2222222222222222, 0.21818181818181817, 0.21428571428571427, 0.19298245614035087, 0.1896551724137931, 0.2033898305084746, 0.21666666666666667, 0.19672131147540983, 0.1935483870967742, 0.20634920634920634, 0.21875, 0.23076923076923078, 0.24242424242424243, 0.26865671641791045, 0.27941176470588236, 0.30434782608695654, 0.3142857142857143, 0.30985915492957744, 0.3055555555555556, 0.3150684931506849, 0.3108108108108108, 0.29333333333333333, 0.2894736842105263, 0.2857142857142857, 0.28205128205128205, 0.3037974683544304, 0.3, 0.30864197530864196, 0.3170731707317073, 0.3132530120481928, 0.32142857142857145, 0.3176470588235294, 0.313953488372093, 0.3218390804597701, 0.3181818181818182, 0.3146067415730337, 0.3111111111111111, 0.31868131868131866, 0.31521739130434784, 0.3225806451612903, 0.3191489361702128, 0.3157894736842105, 0.3229166666666667, 0.31958762886597936, 0.32653061224489793, 0.3333333333333333, 0.32]\n",
            "Episode 100\tAverage Score: -124.96\tRegret: 0.00\n",
            "Episode 200\tAverage Score: -64.50\tRegret: 0.00\n",
            "\n",
            "Environment solved in 200 episodes!\tAverage Score: -64.50\n",
            "0:01:40.335525\n",
            "[-251.0, -251.0, -251.0, -251.0, -251.0, -251.0, -251.0, -251.0, -244.66666666666666, -239.6, -237.9090909090909, -236.75, -228.07692307692307, -229.71428571428572, -227.93333333333334, -221.375, -217.52941176470588, -216.83333333333334, -218.6315789473684, -218.3, -216.38095238095238, -212.0909090909091, -213.7826086956522, -211.41666666666666, -209.4, -206.34615384615384, -204.2962962962963, -200.96428571428572, -202.68965517241378, -199.96666666666667, -198.19354838709677, -196.03125, -193.87878787878788, -191.85294117647058, -189.5142857142857, -187.38888888888889, -185.59459459459458, -182.8421052631579, -180.2051282051282, -178.2, -176.97560975609755, -175.42857142857142, -177.1860465116279, -176.02272727272728, -174.57777777777778, -172.52173913043478, -171.91489361702128, -170.41666666666666, -168.69387755102042, -166.82, -164.64705882352942, -163.17307692307693, -161.75471698113208, -160.25925925925927, -158.96363636363637, -157.625, -155.94736842105263, -154.68965517241378, -153.3050847457627, -152.28333333333333, -151.37704918032787, -150.11290322580646, -149.12698412698413, -147.671875, -146.4, -145.6060606060606, -144.47761194029852, -143.80882352941177, -143.2753623188406, -142.62857142857143, -141.73239436619718, -141.31944444444446, -140.24657534246575, -139.2972972972973, -138.36, -137.89473684210526, -137.02597402597402, -136.19230769230768, -135.69620253164558, -134.65, -134.2469135802469, -133.5, -132.84337349397592, -132.0, -131.69411764705882, -131.11627906976744, -130.7471264367816, -130.1818181818182, -129.62921348314606, -128.9, -128.3846153846154, -127.92391304347827, -127.05376344086021, -126.81914893617021, -126.01052631578948, -125.32291666666667, -124.69072164948453, -124.35714285714286, -125.63636363636364, -124.96, -123.17, -121.41, -119.51, -117.63, -115.94, -113.91, -111.93, -110.51, -109.3, -107.88, -106.65, -105.26, -105.0, -102.98, -101.61, -101.02, -100.18, -98.84, -97.0, -95.57, -94.37, -93.84, -92.19, -91.31, -90.57, -90.01, -89.26, -88.68, -86.76, -86.55, -85.71, -85.04, -84.47, -84.45, -83.98, -83.53, -82.93, -82.81, -82.72, -82.26, -81.56, -81.08, -79.16, -78.63, -78.05, -78.01, -77.27, -76.78, -76.52, -76.38, -76.44, -76.15, -76.07, -75.71, -75.45, -75.24, -75.18, -75.02, -74.8, -74.52, -74.29, -74.18, -73.97, -73.98, -73.89, -73.41, -73.36, -72.98, -72.64, -72.18, -71.81, -71.37, -71.32, -71.26, -71.27, -70.64, -70.52, -70.28, -69.79, -69.82, -69.27, -69.25, -69.06, -69.03, -68.42, -68.18, -67.92, -67.64, -67.45, -67.47, -67.2, -66.98, -67.1, -66.73, -66.9, -66.86, -66.72, -66.51, -64.54, -64.5]\n",
            "\n",
            "\n",
            "[0.0, 0.0, 0.0, 0.0, 0.0, 0.0, 0.0, 0.0, 0.0, 0.0, -0.09090909090909091, -0.08333333333333333, -0.07692307692307693, -0.07142857142857142, 0.0, -0.0625, -0.11764705882352941, -0.05555555555555555, -0.05263157894736842, -0.05, -0.047619047619047616, -0.045454545454545456, -0.043478260869565216, 0.0, 0.04, 0.038461538461538464, 0.07407407407407407, 0.07142857142857142, 0.06896551724137931, 0.1, 0.06451612903225806, 0.09375, 0.12121212121212122, 0.11764705882352941, 0.08571428571428572, 0.08333333333333333, 0.10810810810810811, 0.10526315789473684, 0.10256410256410256, 0.075, 0.07317073170731707, 0.07142857142857142, 0.06976744186046512, 0.06818181818181818, 0.06666666666666667, 0.06521739130434782, 0.06382978723404255, 0.0625, 0.10204081632653061, 0.08, 0.09803921568627451, 0.09615384615384616, 0.09433962264150944, 0.09259259259259259, 0.07272727272727272, 0.07142857142857142, 0.07017543859649122, 0.08620689655172414, 0.06779661016949153, 0.06666666666666667, 0.08196721311475409, 0.08064516129032258, 0.07936507936507936, 0.078125, 0.07692307692307693, 0.10606060606060606, 0.11940298507462686, 0.1323529411764706, 0.13043478260869565, 0.14285714285714285, 0.14084507042253522, 0.1527777777777778, 0.1506849315068493, 0.14864864864864866, 0.13333333333333333, 0.15789473684210525, 0.16883116883116883, 0.16666666666666666, 0.16455696202531644, 0.1625, 0.1728395061728395, 0.15853658536585366, 0.1686746987951807, 0.16666666666666666, 0.16470588235294117, 0.16279069767441862, 0.16091954022988506, 0.1590909090909091, 0.14606741573033707, 0.14444444444444443, 0.14285714285714285, 0.14130434782608695, 0.13978494623655913, 0.13829787234042554, 0.1368421052631579, 0.13541666666666666, 0.13402061855670103, 0.1326530612244898, 0.13131313131313133, 0.13, 0.13861386138613863, 0.13725490196078433, 0.1262135922330097, 0.1346153846153846, 0.14285714285714285, 0.14150943396226415, 0.14018691588785046, 0.14814814814814814, 0.1559633027522936, 0.15454545454545454, 0.15315315315315314, 0.14285714285714285, 0.1415929203539823, 0.14912280701754385, 0.14782608695652175, 0.14655172413793102, 0.1452991452991453, 0.15254237288135594, 0.15126050420168066, 0.15, 0.1487603305785124, 0.13934426229508196, 0.15447154471544716, 0.16129032258064516, 0.16, 0.16666666666666666, 0.1732283464566929, 0.171875, 0.17054263565891473, 0.16923076923076924, 0.17557251908396945, 0.17424242424242425, 0.17293233082706766, 0.17164179104477612, 0.17037037037037037, 0.16176470588235295, 0.16058394160583941, 0.16666666666666666, 0.16546762589928057, 0.16428571428571428, 0.16312056737588654, 0.1619718309859155, 0.16083916083916083, 0.16666666666666666, 0.15862068965517243, 0.1643835616438356, 0.17006802721088435, 0.16891891891891891, 0.16778523489932887, 0.16666666666666666, 0.16556291390728478, 0.15789473684210525, 0.16339869281045752, 0.16233766233766234, 0.16129032258064516, 0.16025641025641027, 0.16560509554140126, 0.16455696202531644, 0.16981132075471697, 0.175, 0.18012422360248448, 0.17901234567901234, 0.17791411042944785, 0.17682926829268292, 0.17575757575757575, 0.1746987951807229, 0.17964071856287425, 0.18452380952380953, 0.1834319526627219, 0.18823529411764706, 0.19298245614035087, 0.19767441860465115, 0.1907514450867052, 0.1896551724137931, 0.19428571428571428, 0.1875, 0.1977401129943503, 0.20224719101123595, 0.2011173184357542, 0.2, 0.19889502762430938, 0.2032967032967033, 0.20765027322404372, 0.20652173913043478, 0.21081081081081082, 0.20967741935483872, 0.20855614973262032, 0.20212765957446807, 0.20105820105820105, 0.2, 0.20418848167539266, 0.203125, 0.19689119170984457, 0.20103092783505155, 0.2, 0.19387755102040816, 0.19289340101522842, 0.1919191919191919, 0.20100502512562815, 0.2]\n",
            "Experiment: 5\n",
            "Episode 100\tAverage Score: -92.10\tRegret: 0.00\n",
            "\n",
            "Environment solved in 100 episodes!\tAverage Score: -92.10\n",
            "0:00:49.312175\n",
            "[-251.0, -251.0, -251.0, -251.0, -251.0, -235.5, -235.71428571428572, -235.0, -224.55555555555554, -221.4, -220.0, -219.58333333333334, -210.6153846153846, -206.07142857142858, -199.2, -195.3125, -189.11764705882354, -183.22222222222223, -177.47368421052633, -172.6, -169.61904761904762, -166.5909090909091, -164.43478260869566, -160.45833333333334, -157.04, -156.80769230769232, -154.1851851851852, -151.28571428571428, -148.13793103448276, -146.1, -143.4516129032258, -141.46875, -139.84848484848484, -137.2941176470588, -136.45714285714286, -134.38888888888889, -132.3783783783784, -131.02631578947367, -129.7948717948718, -128.425, -127.09756097560975, -125.5952380952381, -124.23255813953489, -123.20454545454545, -121.73333333333333, -120.69565217391305, -119.70212765957447, -118.41666666666667, -117.10204081632654, -116.02, -114.76470588235294, -116.13461538461539, -114.9245283018868, -114.11111111111111, -113.2, -112.32142857142857, -111.28070175438596, -110.43103448275862, -109.96610169491525, -109.31666666666666, -109.59016393442623, -108.83870967741936, -108.07936507936508, -107.328125, -106.63076923076923, -106.13636363636364, -105.26865671641791, -104.3970588235294, -103.84057971014492, -103.12857142857143, -102.36619718309859, -101.94444444444444, -101.63013698630137, -101.05405405405405, -100.94666666666667, -100.34210526315789, -99.84415584415585, -99.3076923076923, -98.67088607594937, -98.6875, -98.06172839506173, -97.42682926829268, -97.06024096385542, -96.70238095238095, -96.37647058823529, -96.29069767441861, -96.39080459770115, -95.7159090909091, -95.33707865168539, -94.87777777777778, -94.45054945054945, -94.08695652173913, -93.6236559139785, -93.15957446808511, -92.69473684210526, -92.35416666666667, -91.95876288659794, -92.08163265306122, -92.27272727272727, -92.1]\n",
            "\n",
            "\n",
            "[0.0, 0.0, 0.0, 0.0, 0.0, 0.0, 0.14285714285714285, 0.0, 0.0, 0.0, 0.09090909090909091, 0.08333333333333333, 0.15384615384615385, 0.07142857142857142, 0.06666666666666667, 0.0, 0.058823529411764705, 0.05555555555555555, 0.10526315789473684, 0.15, 0.09523809523809523, 0.13636363636363635, 0.17391304347826086, 0.20833333333333334, 0.2, 0.19230769230769232, 0.18518518518518517, 0.17857142857142858, 0.1724137931034483, 0.2, 0.1935483870967742, 0.1875, 0.21212121212121213, 0.23529411764705882, 0.22857142857142856, 0.25, 0.24324324324324326, 0.2631578947368421, 0.2564102564102564, 0.275, 0.2682926829268293, 0.2619047619047619, 0.2558139534883721, 0.2727272727272727, 0.26666666666666666, 0.2608695652173913, 0.2765957446808511, 0.2708333333333333, 0.2857142857142857, 0.28, 0.2549019607843137, 0.2692307692307692, 0.2641509433962264, 0.25925925925925924, 0.2727272727272727, 0.26785714285714285, 0.2631578947368421, 0.25862068965517243, 0.2711864406779661, 0.26666666666666666, 0.26229508196721313, 0.27419354838709675, 0.2857142857142857, 0.28125, 0.27692307692307694, 0.2727272727272727, 0.2835820895522388, 0.29411764705882354, 0.2898550724637681, 0.2857142857142857, 0.29577464788732394, 0.2916666666666667, 0.273972602739726, 0.28378378378378377, 0.30666666666666664, 0.3026315789473684, 0.2987012987012987, 0.2948717948717949, 0.27848101265822783, 0.275, 0.2839506172839506, 0.2804878048780488, 0.2891566265060241, 0.2857142857142857, 0.2823529411764706, 0.27906976744186046, 0.27586206896551724, 0.2727272727272727, 0.2696629213483146, 0.26666666666666666, 0.26373626373626374, 0.25, 0.23655913978494625, 0.23404255319148937, 0.23157894736842105, 0.22916666666666666, 0.2268041237113402, 0.21428571428571427, 0.20202020202020202, 0.2]\n",
            "Episode 100\tAverage Score: -123.37\tRegret: 0.00\n",
            "Episode 200\tAverage Score: -62.15\tRegret: 0.00\n",
            "\n",
            "Environment solved in 200 episodes!\tAverage Score: -62.15\n",
            "0:01:38.717219\n",
            "[-251.0, -251.0, -251.0, -251.0, -251.0, -251.0, -251.0, -251.0, -251.0, -251.0, -251.0, -241.75, -237.84615384615384, -238.78571428571428, -235.46666666666667, -234.9375, -235.88235294117646, -232.22222222222223, -232.1578947368421, -233.1, -229.42857142857142, -228.95454545454547, -225.6086956521739, -225.54166666666666, -221.84, -219.6153846153846, -220.77777777777777, -216.92857142857142, -213.3793103448276, -211.7, -207.0, -206.15625, -201.78787878787878, -199.52941176470588, -196.6, -193.41666666666666, -192.13513513513513, -190.02631578947367, -187.51282051282053, -184.65, -184.70731707317074, -183.8095238095238, -183.25581395348837, -181.3181818181818, -180.17777777777778, -177.84782608695653, -175.80851063829786, -173.45833333333334, -172.6734693877551, -170.62, -168.92156862745097, -167.84615384615384, -166.39622641509433, -164.40740740740742, -163.2, -161.5, -159.6140350877193, -157.9655172413793, -156.72881355932202, -155.55, -154.13114754098362, -153.25806451612902, -152.20634920634922, -151.15625, -150.1076923076923, -148.9848484848485, -148.02985074626866, -147.51470588235293, -146.20289855072463, -145.24285714285713, -143.94366197183098, -143.33333333333334, -142.53424657534248, -141.32432432432432, -140.46666666666667, -139.31578947368422, -138.46753246753246, -137.51282051282053, -136.50632911392404, -135.6375, -134.9506172839506, -133.8780487804878, -133.36144578313252, -132.53571428571428, -131.6705882352941, -130.95348837209303, -130.66666666666666, -130.0, -129.2134831460674, -128.48888888888888, -127.84615384615384, -127.23913043478261, -126.64516129032258, -125.85106382978724, -125.30526315789474, -124.67708333333333, -124.0618556701031, -124.13265306122449, -123.58585858585859, -123.37, -121.43, -119.71, -117.85, -115.81, -113.76, -112.02, -110.32, -108.44, -106.44, -104.52, -102.83, -102.18, -101.18, -99.25, -97.94, -96.14, -94.31, -93.23, -91.6, -89.73, -88.74, -87.32, -86.35, -84.65, -83.83, -82.84, -80.9, -80.33, -79.77, -78.58, -78.67, -77.58, -77.45, -76.89, -76.39, -76.54, -75.89, -75.2, -74.85, -74.69, -73.69, -72.73, -71.73, -71.2, -70.96, -71.06, -70.81, -70.82, -69.99, -69.89, -69.68, -69.24, -68.83, -68.87, -68.53, -68.39, -68.62, -68.7, -68.31, -68.05, -67.83, -67.54, -67.33, -67.19, -66.89, -66.59, -66.19, -65.79, -66.16, -65.86, -66.01, -65.45, -65.22, -65.15, -64.91, -64.91, -64.84, -64.67, -64.69, -64.69, -64.31, -64.32, -64.05, -64.09, -63.98, -63.94, -63.3, -63.07, -62.93, -63.89, -63.78, -63.73, -63.45, -63.39, -63.56, -63.39, -63.24, -62.38, -62.2, -62.15]\n",
            "\n",
            "\n",
            "[0.0, 0.0, 0.0, 0.0, 0.0, 0.0, 0.0, 0.0, 0.0, 0.0, 0.0, 0.08333333333333333, 0.07692307692307693, 0.07142857142857142, 0.06666666666666667, 0.0625, 0.058823529411764705, 0.1111111111111111, 0.10526315789473684, 0.1, 0.19047619047619047, 0.13636363636363635, 0.08695652173913043, 0.125, 0.12, 0.11538461538461539, 0.14814814814814814, 0.17857142857142858, 0.1724137931034483, 0.16666666666666666, 0.12903225806451613, 0.09375, 0.06060606060606061, 0.058823529411764705, 0.05714285714285714, 0.1111111111111111, 0.16216216216216217, 0.18421052631578946, 0.15384615384615385, 0.15, 0.1951219512195122, 0.19047619047619047, 0.18604651162790697, 0.20454545454545456, 0.2, 0.21739130434782608, 0.23404255319148937, 0.20833333333333334, 0.20408163265306123, 0.2, 0.19607843137254902, 0.19230769230769232, 0.18867924528301888, 0.18518518518518517, 0.18181818181818182, 0.17857142857142858, 0.19298245614035087, 0.20689655172413793, 0.23728813559322035, 0.23333333333333334, 0.2459016393442623, 0.24193548387096775, 0.25396825396825395, 0.25, 0.26153846153846155, 0.25757575757575757, 0.2537313432835821, 0.25, 0.2608695652173913, 0.2714285714285714, 0.2676056338028169, 0.2777777777777778, 0.273972602739726, 0.28378378378378377, 0.29333333333333333, 0.2894736842105263, 0.3116883116883117, 0.3076923076923077, 0.3037974683544304, 0.3, 0.30864197530864196, 0.2926829268292683, 0.2891566265060241, 0.2857142857142857, 0.2823529411764706, 0.27906976744186046, 0.3103448275862069, 0.3068181818181818, 0.3146067415730337, 0.3, 0.2967032967032967, 0.30434782608695654, 0.2903225806451613, 0.2872340425531915, 0.29473684210526313, 0.2916666666666667, 0.30927835051546393, 0.30612244897959184, 0.30303030303030304, 0.3, 0.3069306930693069, 0.30392156862745096, 0.30097087378640774, 0.2980769230769231, 0.2857142857142857, 0.29245283018867924, 0.29906542056074764, 0.3055555555555556, 0.3119266055045872, 0.3090909090909091, 0.3153153153153153, 0.32142857142857145, 0.30973451327433627, 0.30701754385964913, 0.30434782608695654, 0.3103448275862069, 0.3076923076923077, 0.2966101694915254, 0.29411764705882354, 0.3, 0.2892561983471074, 0.28688524590163933, 0.2845528455284553, 0.2903225806451613, 0.288, 0.2857142857142857, 0.2755905511811024, 0.2734375, 0.27906976744186046, 0.27692307692307694, 0.2748091603053435, 0.2803030303030303, 0.2781954887218045, 0.27611940298507465, 0.2814814814814815, 0.27941176470588236, 0.2846715328467153, 0.2898550724637681, 0.28776978417266186, 0.29285714285714287, 0.2978723404255319, 0.29577464788732394, 0.2937062937062937, 0.2916666666666667, 0.2896551724137931, 0.2876712328767123, 0.2857142857142857, 0.2905405405405405, 0.2953020134228188, 0.3, 0.2980132450331126, 0.29605263157894735, 0.29411764705882354, 0.2987012987012987, 0.2967741935483871, 0.30128205128205127, 0.29936305732484075, 0.2974683544303797, 0.29559748427672955, 0.3, 0.2981366459627329, 0.2962962962962963, 0.294478527607362, 0.29878048780487804, 0.2909090909090909, 0.28313253012048195, 0.2874251497005988, 0.2857142857142857, 0.2781065088757396, 0.27647058823529413, 0.27485380116959063, 0.27325581395348836, 0.27167630057803466, 0.27011494252873564, 0.2742857142857143, 0.2784090909090909, 0.2768361581920904, 0.2808988764044944, 0.27932960893854747, 0.2833333333333333, 0.287292817679558, 0.2857142857142857, 0.28415300546448086, 0.2826086956521739, 0.2810810810810811, 0.2849462365591398, 0.28342245989304815, 0.28191489361702127, 0.2804232804232804, 0.28421052631578947, 0.2774869109947644, 0.28125, 0.27979274611398963, 0.27835051546391754, 0.28205128205128205, 0.28061224489795916, 0.27918781725888325, 0.2777777777777778, 0.27638190954773867, 0.275]\n"
          ]
        }
      ]
    },
    {
      "cell_type": "code",
      "source": [
        "average_scores_T1 = np.array(average_scores_T1)\n",
        "cumm_regret_T1 = np.array(cumm_regret_T1)\n",
        "\n",
        "mean_average_scores_T1 = np.mean(average_scores_T1, axis=0)\n",
        "std_mean_average_scores_T1 = np.std(average_scores_T1, axis=0)\n",
        "\n",
        "mean_cumm_regret_T1 = np.mean(cumm_regret_T1, axis=0)\n",
        "mean_cumm_regret_T1 = np.std(cumm_regret_T1, axis=0)\n",
        "\n"
      ],
      "metadata": {
        "id": "zTKqtKWa4B9d",
        "colab": {
          "base_uri": "https://localhost:8080/"
        },
        "outputId": "3e652588-10b9-4b77-8330-f87ef1c0ac55"
      },
      "execution_count": 21,
      "outputs": [
        {
          "output_type": "stream",
          "name": "stderr",
          "text": [
            "/usr/local/lib/python3.10/dist-packages/ipykernel/ipkernel.py:283: DeprecationWarning: `should_run_async` will not call `transform_cell` automatically in the future. Please pass the result to `transformed_cell` argument and any exception that happen during thetransform in `preprocessing_exc_tuple` in IPython 7.17 and above.\n",
            "  and should_run_async(code)\n"
          ]
        }
      ]
    },
    {
      "cell_type": "code",
      "source": [
        "average_scores_T2 = np.array(average_scores_T2)\n",
        "cumm_regret_T2 = np.array(cumm_regret_T2)\n",
        "\n",
        "mean_average_scores_T2 = np.mean(average_scores_T2, axis=0)\n",
        "std_mean_average_scores_T2 = np.std(average_scores_T2, axis=0)\n",
        "\n",
        "mean_cumm_regret_T2 = np.mean(cumm_regret_T2, axis=0)\n",
        "mean_cumm_regret_T2 = np.std(cumm_regret_T2, axis=0)\n"
      ],
      "metadata": {
        "id": "RpvxHhsnZz6f"
      },
      "execution_count": 22,
      "outputs": []
    },
    {
      "cell_type": "code",
      "source": [
        "def plot_avg_curves(avg_reward_1,reward_std_1, avg_step_1, step_std_1,   avg_reward_2, reward_std_2, avg_step_2, step_std_2, step_size = 10 ):\n",
        "\n",
        "    trunc_avg_reward_1 = avg_reward_1[0::step_size]\n",
        "    tunc_reward_std_1 = reward_std_1[0::step_size]\n",
        "\n",
        "    trunc_avg_step_1 = avg_step_1[0::step_size]\n",
        "    tunc_step_std_1 = step_std_1[0::step_size]\n",
        "\n",
        "    trunc_avg_reward_2 = avg_reward_2[0::step_size]\n",
        "    tunc_reward_std_2 = reward_std_2[0::step_size]\n",
        "\n",
        "    trunc_avg_step_2 = avg_step_2[0::step_size]\n",
        "    tunc_step_std_2 = step_std_2[0::step_size]\n",
        "\n",
        "    # Plot the average rewards with mean and standard deviation\n",
        "    plt.figure()\n",
        "    plt.plot(trunc_avg_reward_1, label='Mean T1')\n",
        "    plt.fill_between(range(step_size), trunc_avg_reward_1 + tunc_reward_std_1, trunc_avg_reward_1 - tunc_reward_std_1, alpha=0.5, label=' Std Dev T1')\n",
        "    plt.plot(trunc_avg_reward_2, label='Mean T2')\n",
        "    plt.fill_between(range(step_size), trunc_avg_reward_2 + tunc_reward_std_2, trunc_avg_reward_2 - tunc_reward_std_2, alpha=0.5, label=' Std Dev T2')\n",
        "    plt.xlabel('Episode')\n",
        "    plt.ylabel('Average Total Reward')\n",
        "    plt.title('Average Total Reward vs Episode Comparison for T1 vs T2 Dueling DQN for CartPole-v1 Environment')\n",
        "    plt.legend()\n",
        "    # plt.savefig( \"RvsE \" +\".pdf\")\n",
        "    # files.download(exp_no+\"_RvsE.png\")\n",
        "    plt.show()\n",
        "\n",
        "\n",
        "\n",
        "   # Plot the average rewards with mean and standard deviation\n",
        "    plt.figure()\n",
        "    plt.plot(trunc_avg_step_1, label='Mean T1')\n",
        "    plt.fill_between(range(step_size), trunc_avg_step_1 + tunc_step_std_1, trunc_avg_step_1 - tunc_step_std_1, alpha=0.5, label=' Std Dev T1')\n",
        "    plt.plot(trunc_avg_step_2, label='Mean T2')\n",
        "    plt.fill_between(range(step_size), trunc_avg_step_2 + tunc_step_std_2, trunc_avg_step_2 - tunc_step_std_2, alpha=0.5, label=' Std Dev T2')\n",
        "    plt.xlabel('Episode')\n",
        "    plt.ylabel('Average Regret')\n",
        "    plt.title('Average Regret vs Episode Comparison for T1 vs T2 Dueling DQN for CartPole-v1 Environment')\n",
        "    plt.legend()\n",
        "    plt.show()\n",
        "\n",
        "    # Plot the average rewards with mean\n",
        "    plt.figure()\n",
        "    plt.plot(avg_step_1, label='Mean T1')\n",
        "    plt.plot(avg_step_2, label='Mean T2')\n",
        "    plt.xlabel('Episode')\n",
        "    plt.ylabel('Cummulative Average Regret')\n",
        "    plt.title('Cummulative Average Regret vs Episode Comparison for T1 vs T2 Dueling DQN for CartPole-v1 Environment')\n",
        "    plt.legend()\n",
        "    plt.show()\n",
        "\n"
      ],
      "metadata": {
        "id": "bKMK9VnNK_-C"
      },
      "execution_count": 23,
      "outputs": []
    },
    {
      "cell_type": "code",
      "source": [
        "plot_avg_curves(mean_average_scores_T1, std_mean_average_scores_T1, mean_cumm_regret_T1, mean_cumm_regret_T1, mean_average_scores_T2, std_mean_average_scores_T2, mean_cumm_regret_T2, mean_cumm_regret_T2, step_size = 1)"
      ],
      "metadata": {
        "id": "A2nb-xcOZ3FO"
      },
      "execution_count": null,
      "outputs": []
    },
    {
      "cell_type": "code",
      "source": [],
      "metadata": {
        "id": "mVm8HXwF8ZzQ"
      },
      "execution_count": null,
      "outputs": []
    },
    {
      "cell_type": "code",
      "source": [
        "# import numpy as np\n",
        "# import matplotlib.pyplot as plt\n",
        "\n",
        "# def plot_avg_curves(avg_reward, step_size=1):\n",
        "#     max_length = max(len(reward) for reward in avg_reward)\n",
        "\n",
        "#     # Initialize arrays to store sum and count of non-zero values for each index\n",
        "#     sum_non_zero = np.zeros(max_length)\n",
        "#     count_non_zero = np.zeros(max_length)\n",
        "\n",
        "#     # Iterate over each list in avg_reward\n",
        "#     for reward in avg_reward:\n",
        "#         for j, value in enumerate(reward):\n",
        "#             if j % step_size == 0:\n",
        "#                 sum_non_zero[j] += value\n",
        "#                 count_non_zero[j] += 1\n",
        "\n",
        "#     # Calculate mean and standard deviation using non-zero values\n",
        "#     mean_avg_reward = sum_non_zero / count_non_zero\n",
        "#     mean_reward_std = np.zeros(max_length)\n",
        "\n",
        "#     for reward in avg_reward:\n",
        "#         for j, value in enumerate(reward):\n",
        "#             if j % step_size == 0:\n",
        "#                 mean_reward_std[j] += (value - mean_avg_reward[j]) ** 2\n",
        "\n",
        "#     mean_reward_std = np.sqrt(mean_reward_std / count_non_zero)\n",
        "\n",
        "#     # Plot the average rewards with mean and standard deviation\n",
        "#     plt.figure()\n",
        "#     plt.plot(mean_avg_reward, label='Mean')\n",
        "#     plt.fill_between(range(0, max_length, step_size), mean_avg_reward + mean_reward_std, mean_avg_reward - mean_reward_std, alpha=0.5, label=' Std Dev')\n",
        "#     plt.xlabel('Episode')\n",
        "#     plt.ylabel('Average Total Reward')\n",
        "#     plt.title('Average Total Reward vs Episode')\n",
        "#     plt.legend()\n",
        "#     plt.show()\n",
        "\n",
        "# # Example usage:\n",
        "# # average_scores = [[1, 2, 3], [4, 5, 6, 7], [8, 9]]\n",
        "\n",
        "# plot_avg_curves(average_scores_T1, average_scores_T2, step_size=1)\n"
      ],
      "metadata": {
        "id": "sOpWRBSMHrrw"
      },
      "execution_count": null,
      "outputs": []
    },
    {
      "cell_type": "code",
      "source": [
        "import numpy as np\n",
        "import matplotlib.pyplot as plt\n",
        "\n",
        "def plot_avg_curves(avg_reward_1, avg_reward_2, step_size=1):\n",
        "    mean_avg_reward_1 = np.mean(avg_reward_1, axis=0)\n",
        "    mean_avg_reward_2 = np.mean(avg_reward_2, axis=0)\n",
        "    std_avg_reward_1 = np.std(avg_reward_1, axis=0)\n",
        "    std_avg_reward_2 = np.std(avg_reward_2, axis=0)\n",
        "\n",
        "    # Ensure that the length of the x-axis data matches the length of the y-axis data\n",
        "    length = min(len(mean_avg_reward_1), len(mean_avg_reward_2))\n",
        "    x = np.arange(0, length * step_size, step_size)\n",
        "\n",
        "    plt.figure()\n",
        "    plt.plot(x, mean_avg_reward_1[:length], label='Mean T1')\n",
        "    plt.fill_between(x, mean_avg_reward_1[:length] + std_avg_reward_1[:length], mean_avg_reward_1[:length] - std_avg_reward_1[:length], alpha=0.5, label=' Std Dev T1')\n",
        "    plt.plot(x, mean_avg_reward_2[:length], label='Mean T2')\n",
        "    plt.fill_between(x, mean_avg_reward_2[:length] + std_avg_reward_2[:length], mean_avg_reward_2[:length] - std_avg_reward_2[:length], alpha=0.5, label=' Std Dev T2')\n",
        "    plt.xlabel('Episode')\n",
        "    plt.ylabel('Average Total Reward')\n",
        "    plt.title('Average Total Reward vs Episode')\n",
        "    plt.legend()\n",
        "    plt.show()\n",
        "\n",
        "# Example usage:\n",
        "# average_scores_T1 = np.array([[1, 2, 3, 4, 5], [2, 3, 4, 5, 6]])\n",
        "# average_scores_T2 = np.array([[3, 4, 5, 6, 7], [4, 5, 6, 7, 8]])\n",
        "# plot_avg_curves(average_scores_T1, average_scores_T2, step_size=10)\n"
      ],
      "metadata": {
        "id": "wszJxtQk84A9"
      },
      "execution_count": 48,
      "outputs": []
    },
    {
      "cell_type": "code",
      "source": [
        "plot_avg_curves(average_scores_T1, average_scores_T2, step_size=10)"
      ],
      "metadata": {
        "colab": {
          "base_uri": "https://localhost:8080/",
          "height": 472
        },
        "id": "MO89rFgi87Ym",
        "outputId": "33d2732c-d58d-49ca-d6a3-ee928d8285e4"
      },
      "execution_count": 49,
      "outputs": [
        {
          "output_type": "display_data",
          "data": {
            "text/plain": [
              "<Figure size 640x480 with 1 Axes>"
            ],
            "image/png": "[encoded data removed]"
          },
          "metadata": {}
        }
      ]
    },
    {
      "cell_type": "code",
      "source": [
        "plot_avg_curves(cumm_regret_T1, cumm_regret_T2, step_size=10)"
      ],
      "metadata": {
        "colab": {
          "base_uri": "https://localhost:8080/",
          "height": 472
        },
        "id": "pV4FxSAH-AyN",
        "outputId": "1fde69f0-d278-4f4b-f9bc-eb53ec518918"
      },
      "execution_count": 50,
      "outputs": [
        {
          "output_type": "display_data",
          "data": {
            "text/plain": [
              "<Figure size 640x480 with 1 Axes>"
            ],
            "image/png": "[encoded data removed]"
          },
          "metadata": {}
        }
      ]
    }
  ]
}