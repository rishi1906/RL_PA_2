{
  "nbformat": 4,
  "nbformat_minor": 0,
  "metadata": {
    "colab": {
      "provenance": []
    },
    "kernelspec": {
      "name": "python3",
      "display_name": "Python 3"
    },
    "language_info": {
      "name": "python"
    },
    "widgets": {
      "application/vnd.jupyter.widget-state+json": {
        "7b6491ff7a4d4d90a9d69a6bf154654e": {
          "model_module": "@jupyter-widgets/controls",
          "model_name": "VBoxModel",
          "model_module_version": "1.5.0",
          "state": {
            "_dom_classes": [],
            "_model_module": "@jupyter-widgets/controls",
            "_model_module_version": "1.5.0",
            "_model_name": "VBoxModel",
            "_view_count": null,
            "_view_module": "@jupyter-widgets/controls",
            "_view_module_version": "1.5.0",
            "_view_name": "VBoxView",
            "box_style": "",
            "children": [
              "IPY_MODEL_0d281b320dd744b1a2535204734cd576",
              "IPY_MODEL_6b1fc47c93c64f0790a0ab075fbf7cea"
            ],
            "layout": "IPY_MODEL_fdea72ab1092478483c13f93ddf696d8"
          }
        },
        "0d281b320dd744b1a2535204734cd576": {
          "model_module": "@jupyter-widgets/controls",
          "model_name": "LabelModel",
          "model_module_version": "1.5.0",
          "state": {
            "_dom_classes": [],
            "_model_module": "@jupyter-widgets/controls",
            "_model_module_version": "1.5.0",
            "_model_name": "LabelModel",
            "_view_count": null,
            "_view_module": "@jupyter-widgets/controls",
            "_view_module_version": "1.5.0",
            "_view_name": "LabelView",
            "description": "",
            "description_tooltip": null,
            "layout": "IPY_MODEL_1ea718e95ef841be908349c14f04637e",
            "placeholder": "​",
            "style": "IPY_MODEL_b4619c52a37945f0b79e0f49129f9b0d",
            "value": "0.028 MB of 0.028 MB uploaded\r"
          }
        },
        "6b1fc47c93c64f0790a0ab075fbf7cea": {
          "model_module": "@jupyter-widgets/controls",
          "model_name": "FloatProgressModel",
          "model_module_version": "1.5.0",
          "state": {
            "_dom_classes": [],
            "_model_module": "@jupyter-widgets/controls",
            "_model_module_version": "1.5.0",
            "_model_name": "FloatProgressModel",
            "_view_count": null,
            "_view_module": "@jupyter-widgets/controls",
            "_view_module_version": "1.5.0",
            "_view_name": "ProgressView",
            "bar_style": "",
            "description": "",
            "description_tooltip": null,
            "layout": "IPY_MODEL_9877b28c569c4855a3df465bbd84e612",
            "max": 1,
            "min": 0,
            "orientation": "horizontal",
            "style": "IPY_MODEL_b0aa8f8a16a84ebda022dd9bca02b1d7",
            "value": 1
          }
        },
        "fdea72ab1092478483c13f93ddf696d8": {
          "model_module": "@jupyter-widgets/base",
          "model_name": "LayoutModel",
          "model_module_version": "1.2.0",
          "state": {
            "_model_module": "@jupyter-widgets/base",
            "_model_module_version": "1.2.0",
            "_model_name": "LayoutModel",
            "_view_count": null,
            "_view_module": "@jupyter-widgets/base",
            "_view_module_version": "1.2.0",
            "_view_name": "LayoutView",
            "align_content": null,
            "align_items": null,
            "align_self": null,
            "border": null,
            "bottom": null,
            "display": null,
            "flex": null,
            "flex_flow": null,
            "grid_area": null,
            "grid_auto_columns": null,
            "grid_auto_flow": null,
            "grid_auto_rows": null,
            "grid_column": null,
            "grid_gap": null,
            "grid_row": null,
            "grid_template_areas": null,
            "grid_template_columns": null,
            "grid_template_rows": null,
            "height": null,
            "justify_content": null,
            "justify_items": null,
            "left": null,
            "margin": null,
            "max_height": null,
            "max_width": null,
            "min_height": null,
            "min_width": null,
            "object_fit": null,
            "object_position": null,
            "order": null,
            "overflow": null,
            "overflow_x": null,
            "overflow_y": null,
            "padding": null,
            "right": null,
            "top": null,
            "visibility": null,
            "width": null
          }
        },
        "1ea718e95ef841be908349c14f04637e": {
          "model_module": "@jupyter-widgets/base",
          "model_name": "LayoutModel",
          "model_module_version": "1.2.0",
          "state": {
            "_model_module": "@jupyter-widgets/base",
            "_model_module_version": "1.2.0",
            "_model_name": "LayoutModel",
            "_view_count": null,
            "_view_module": "@jupyter-widgets/base",
            "_view_module_version": "1.2.0",
            "_view_name": "LayoutView",
            "align_content": null,
            "align_items": null,
            "align_self": null,
            "border": null,
            "bottom": null,
            "display": null,
            "flex": null,
            "flex_flow": null,
            "grid_area": null,
            "grid_auto_columns": null,
            "grid_auto_flow": null,
            "grid_auto_rows": null,
            "grid_column": null,
            "grid_gap": null,
            "grid_row": null,
            "grid_template_areas": null,
            "grid_template_columns": null,
            "grid_template_rows": null,
            "height": null,
            "justify_content": null,
            "justify_items": null,
            "left": null,
            "margin": null,
            "max_height": null,
            "max_width": null,
            "min_height": null,
            "min_width": null,
            "object_fit": null,
            "object_position": null,
            "order": null,
            "overflow": null,
            "overflow_x": null,
            "overflow_y": null,
            "padding": null,
            "right": null,
            "top": null,
            "visibility": null,
            "width": null
          }
        },
        "b4619c52a37945f0b79e0f49129f9b0d": {
          "model_module": "@jupyter-widgets/controls",
          "model_name": "DescriptionStyleModel",
          "model_module_version": "1.5.0",
          "state": {
            "_model_module": "@jupyter-widgets/controls",
            "_model_module_version": "1.5.0",
            "_model_name": "DescriptionStyleModel",
            "_view_count": null,
            "_view_module": "@jupyter-widgets/base",
            "_view_module_version": "1.2.0",
            "_view_name": "StyleView",
            "description_width": ""
          }
        },
        "9877b28c569c4855a3df465bbd84e612": {
          "model_module": "@jupyter-widgets/base",
          "model_name": "LayoutModel",
          "model_module_version": "1.2.0",
          "state": {
            "_model_module": "@jupyter-widgets/base",
            "_model_module_version": "1.2.0",
            "_model_name": "LayoutModel",
            "_view_count": null,
            "_view_module": "@jupyter-widgets/base",
            "_view_module_version": "1.2.0",
            "_view_name": "LayoutView",
            "align_content": null,
            "align_items": null,
            "align_self": null,
            "border": null,
            "bottom": null,
            "display": null,
            "flex": null,
            "flex_flow": null,
            "grid_area": null,
            "grid_auto_columns": null,
            "grid_auto_flow": null,
            "grid_auto_rows": null,
            "grid_column": null,
            "grid_gap": null,
            "grid_row": null,
            "grid_template_areas": null,
            "grid_template_columns": null,
            "grid_template_rows": null,
            "height": null,
            "justify_content": null,
            "justify_items": null,
            "left": null,
            "margin": null,
            "max_height": null,
            "max_width": null,
            "min_height": null,
            "min_width": null,
            "object_fit": null,
            "object_position": null,
            "order": null,
            "overflow": null,
            "overflow_x": null,
            "overflow_y": null,
            "padding": null,
            "right": null,
            "top": null,
            "visibility": null,
            "width": null
          }
        },
        "b0aa8f8a16a84ebda022dd9bca02b1d7": {
          "model_module": "@jupyter-widgets/controls",
          "model_name": "ProgressStyleModel",
          "model_module_version": "1.5.0",
          "state": {
            "_model_module": "@jupyter-widgets/controls",
            "_model_module_version": "1.5.0",
            "_model_name": "ProgressStyleModel",
            "_view_count": null,
            "_view_module": "@jupyter-widgets/base",
            "_view_module_version": "1.2.0",
            "_view_name": "StyleView",
            "bar_color": null,
            "description_width": ""
          }
        }
      }
    }
  },
  "cells": [
    {
      "cell_type": "code",
      "source": [
        "!pip install wandb\n",
        "import wandb\n",
        "# Replace with your actual API key\n",
        "api_key = \"17dab9d1bbdc37c41831799a4b0b50d3e97400c5\"\n",
        "project_name='RWBCS2'\n",
        "# Login to Weights & Biases\n",
        "wandb.login(key=api_key)"
      ],
      "metadata": {
        "colab": {
          "base_uri": "https://localhost:8080/"
        },
        "id": "KlW33Sjz2WUd",
        "outputId": "b21a8c0e-a4a2-4834-b81f-2948dfb4771b"
      },
      "execution_count": 15,
      "outputs": [
        {
          "output_type": "stream",
          "name": "stdout",
          "text": [
            "Requirement already satisfied: wandb in /usr/local/lib/python3.10/dist-packages (0.16.6)\n",
            "Requirement already satisfied: Click!=8.0.0,>=7.1 in /usr/local/lib/python3.10/dist-packages (from wandb) (8.1.7)\n",
            "Requirement already satisfied: GitPython!=3.1.29,>=1.0.0 in /usr/local/lib/python3.10/dist-packages (from wandb) (3.1.43)\n",
            "Requirement already satisfied: requests<3,>=2.0.0 in /usr/local/lib/python3.10/dist-packages (from wandb) (2.31.0)\n",
            "Requirement already satisfied: psutil>=5.0.0 in /usr/local/lib/python3.10/dist-packages (from wandb) (5.9.5)\n",
            "Requirement already satisfied: sentry-sdk>=1.0.0 in /usr/local/lib/python3.10/dist-packages (from wandb) (1.44.1)\n",
            "Requirement already satisfied: docker-pycreds>=0.4.0 in /usr/local/lib/python3.10/dist-packages (from wandb) (0.4.0)\n",
            "Requirement already satisfied: PyYAML in /usr/local/lib/python3.10/dist-packages (from wandb) (6.0.1)\n",
            "Requirement already satisfied: setproctitle in /usr/local/lib/python3.10/dist-packages (from wandb) (1.3.3)\n",
            "Requirement already satisfied: setuptools in /usr/local/lib/python3.10/dist-packages (from wandb) (67.7.2)\n",
            "Requirement already satisfied: appdirs>=1.4.3 in /usr/local/lib/python3.10/dist-packages (from wandb) (1.4.4)\n",
            "Requirement already satisfied: protobuf!=4.21.0,<5,>=3.19.0 in /usr/local/lib/python3.10/dist-packages (from wandb) (3.20.3)\n",
            "Requirement already satisfied: six>=1.4.0 in /usr/local/lib/python3.10/dist-packages (from docker-pycreds>=0.4.0->wandb) (1.16.0)\n",
            "Requirement already satisfied: gitdb<5,>=4.0.1 in /usr/local/lib/python3.10/dist-packages (from GitPython!=3.1.29,>=1.0.0->wandb) (4.0.11)\n",
            "Requirement already satisfied: charset-normalizer<4,>=2 in /usr/local/lib/python3.10/dist-packages (from requests<3,>=2.0.0->wandb) (3.3.2)\n",
            "Requirement already satisfied: idna<4,>=2.5 in /usr/local/lib/python3.10/dist-packages (from requests<3,>=2.0.0->wandb) (3.6)\n",
            "Requirement already satisfied: urllib3<3,>=1.21.1 in /usr/local/lib/python3.10/dist-packages (from requests<3,>=2.0.0->wandb) (2.0.7)\n",
            "Requirement already satisfied: certifi>=2017.4.17 in /usr/local/lib/python3.10/dist-packages (from requests<3,>=2.0.0->wandb) (2024.2.2)\n",
            "Requirement already satisfied: smmap<6,>=3.0.1 in /usr/local/lib/python3.10/dist-packages (from gitdb<5,>=4.0.1->GitPython!=3.1.29,>=1.0.0->wandb) (5.0.1)\n"
          ]
        },
        {
          "output_type": "stream",
          "name": "stderr",
          "text": [
            "\u001b[34m\u001b[1mwandb\u001b[0m: \u001b[33mWARNING\u001b[0m Calling wandb.login() after wandb.init() has no effect.\n"
          ]
        },
        {
          "output_type": "execute_result",
          "data": {
            "text/plain": [
              "True"
            ]
          },
          "metadata": {},
          "execution_count": 15
        }
      ]
    },
    {
      "cell_type": "code",
      "source": [
        "import gym\n",
        "import random\n",
        "import numpy as np\n",
        "from collections import deque\n",
        "import matplotlib.pyplot as plt\n",
        "plt.rcParams['figure.figsize'] = (16, 10)\n",
        "import torch\n",
        "import torch.nn as nn\n",
        "import torch.nn.functional as F\n",
        "import torch.optim as optim\n",
        "from torch.distributions import Categorical\n",
        "torch.manual_seed(0)\n",
        "import base64\n",
        "import io  # For visualization\n",
        "from gym.wrappers.monitoring import video_recorder\n",
        "from IPython.display import HTML\n",
        "from IPython import display\n",
        "import glob\n",
        "import datetime"
      ],
      "metadata": {
        "id": "r9eE0OjXWWW0"
      },
      "execution_count": 16,
      "outputs": []
    },
    {
      "cell_type": "code",
      "source": [
        "\n",
        "device = torch.device(\"cuda:0\" if torch.cuda.is_available() else \"cpu\")\n",
        "# print(device)"
      ],
      "metadata": {
        "id": "wJTy0fUIWY_r"
      },
      "execution_count": 17,
      "outputs": []
    },
    {
      "cell_type": "code",
      "source": [
        "env = gym.make('CartPole-v1')\n",
        "env.seed(0)\n",
        "state_shape = env.observation_space.shape[0]\n",
        "action_shape = env.action_space.n\n",
        "# print('observation space:', env.observation_space)\n",
        "# print('action space:', env.action_space)\n"
      ],
      "metadata": {
        "colab": {
          "base_uri": "https://localhost:8080/"
        },
        "id": "hse5VDflWeUk",
        "outputId": "50e7461c-97dc-4038-f3cd-0f5bfae7ebf9"
      },
      "execution_count": 18,
      "outputs": [
        {
          "output_type": "stream",
          "name": "stderr",
          "text": [
            "/usr/local/lib/python3.10/dist-packages/gym/core.py:317: DeprecationWarning: \u001b[33mWARN: Initializing wrapper in old step API which returns one bool instead of two. It is recommended to set `new_step_api=True` to use new step API. This will be the default behaviour in future.\u001b[0m\n",
            "  deprecation(\n",
            "/usr/local/lib/python3.10/dist-packages/gym/wrappers/step_api_compatibility.py:39: DeprecationWarning: \u001b[33mWARN: Initializing environment in old step API which returns one bool instead of two. It is recommended to set `new_step_api=True` to use new step API. This will be the default behaviour in future.\u001b[0m\n",
            "  deprecation(\n",
            "/usr/local/lib/python3.10/dist-packages/gym/core.py:256: DeprecationWarning: \u001b[33mWARN: Function `env.seed(seed)` is marked as deprecated and will be removed in the future. Please use `env.reset(seed=seed)` instead.\u001b[0m\n",
            "  deprecation(\n"
          ]
        }
      ]
    },
    {
      "cell_type": "code",
      "source": [
        "\n",
        "class Policy(nn.Module):\n",
        "    def __init__(self, state_size=4, action_size=2, hidden_size=32):\n",
        "        super(Policy, self).__init__()\n",
        "        self.fc1 = nn.Linear(state_size, hidden_size)\n",
        "        self.fc2 = nn.Linear(hidden_size, action_size)\n",
        "\n",
        "    def forward(self, state):\n",
        "        x = F.relu(self.fc1(state))\n",
        "        x = self.fc2(x)\n",
        "        # we just consider 1 dimensional probability of action\n",
        "        return F.softmax(x, dim=1)\n",
        "\n",
        "    def act(self, state):\n",
        "        state = torch.from_numpy(state).float().unsqueeze(0).to(device)\n",
        "        probs = self.forward(state).cpu()\n",
        "        model = Categorical(probs)\n",
        "        action = model.sample()\n",
        "        return action.item(), model.log_prob(action)\n"
      ],
      "metadata": {
        "id": "Z2ON5IlyXLqc"
      },
      "execution_count": 19,
      "outputs": []
    },
    {
      "cell_type": "code",
      "execution_count": 20,
      "metadata": {
        "id": "T1B1nA1J0Fxa"
      },
      "outputs": [],
      "source": [
        "\n",
        "def reinforce(policy, optimizer, n_episodes=2000, max_t=1000, gamma=0.99, print_every=100):\n",
        "    scores_window = deque(maxlen=100)\n",
        "    scores = []\n",
        "    average_scores_epsgrdy = []\n",
        "    episode_list_epsgrdy = []\n",
        "    flag = False\n",
        "    for e in range(1, n_episodes):\n",
        "        saved_log_probs = []\n",
        "        rewards = []\n",
        "        state = env.reset()\n",
        "        # Collect trajectory\n",
        "        for t in range(max_t):\n",
        "            # Sample the action from current policy\n",
        "            action, log_prob = policy.act(state)\n",
        "            saved_log_probs.append(log_prob)\n",
        "            state, reward, done, _ = env.step(action)\n",
        "            rewards.append(reward)\n",
        "            if done:\n",
        "                break\n",
        "        # Calculate total expected reward\n",
        "        scores_window.append(sum(rewards))\n",
        "        scores.append(sum(rewards))\n",
        "\n",
        "        average_score = np.mean(scores_window)\n",
        "        average_scores_epsgrdy.append(average_score)\n",
        "\n",
        "        wandb.log({'average_score': average_score})\n",
        "\n",
        "        episode_list_epsgrdy.append(e)\n",
        "\n",
        "\n",
        "        # Recalculate the total reward applying discounted factor\n",
        "        discounts = [gamma ** i for i in range(len(rewards) + 1)]\n",
        "        R = sum([a * b for a,b in zip(discounts, rewards)])\n",
        "\n",
        "        # Calculate the loss\n",
        "        policy_loss = []\n",
        "        for t, log_prob in enumerate(saved_log_probs):\n",
        "            # Note that we are using Gradient Ascent, not Descent. So we need to calculate it with negative rewards.\n",
        "            policy_loss.append(-log_prob * R )\n",
        "        # After that, we concatenate whole policy loss in 0th dimension\n",
        "        policy_loss = torch.cat(policy_loss).sum()\n",
        "\n",
        "        # Backpropagation\n",
        "        optimizer.zero_grad()\n",
        "        policy_loss.backward()\n",
        "        optimizer.step()\n",
        "\n",
        "        if e % print_every == 0:\n",
        "            print('Episode {}\\tAverage Score: {:.2f}'.format(e, np.mean(scores_window)))\n",
        "        if np.mean(scores_window) >= 195.0 and flag == False:\n",
        "            print('Environment solved in {:d} episodes!\\tAverage Score: {:.2f}'.format(e - 100, np.mean(scores_window)))\n",
        "            flag = True\n",
        "            break\n",
        "    return episode_list_epsgrdy, average_scores_epsgrdy\n",
        "\n",
        "\n"
      ]
    },
    {
      "cell_type": "code",
      "source": [
        "wandb.init(project=project_name)"
      ],
      "metadata": {
        "colab": {
          "base_uri": "https://localhost:8080/",
          "height": 331,
          "referenced_widgets": [
            "7b6491ff7a4d4d90a9d69a6bf154654e",
            "0d281b320dd744b1a2535204734cd576",
            "6b1fc47c93c64f0790a0ab075fbf7cea",
            "fdea72ab1092478483c13f93ddf696d8",
            "1ea718e95ef841be908349c14f04637e",
            "b4619c52a37945f0b79e0f49129f9b0d",
            "9877b28c569c4855a3df465bbd84e612",
            "b0aa8f8a16a84ebda022dd9bca02b1d7"
          ]
        },
        "id": "lI9JpNhurdWD",
        "outputId": "6c1482d2-271a-4909-c7aa-42578d77a6c7"
      },
      "execution_count": 21,
      "outputs": [
        {
          "output_type": "display_data",
          "data": {
            "text/plain": [
              "<IPython.core.display.HTML object>"
            ],
            "text/html": [
              "Changes to your `wandb` environment variables will be ignored because your `wandb` session has already started. For more information on how to modify your settings with `wandb.init()` arguments, please refer to <a href='https://wandb.me/wandb-init' target=\"_blank\">the W&B docs</a>."
            ]
          },
          "metadata": {}
        },
        {
          "output_type": "display_data",
          "data": {
            "text/plain": [
              "<IPython.core.display.HTML object>"
            ],
            "text/html": [
              "Finishing last run (ID:vb6hord4) before initializing another..."
            ]
          },
          "metadata": {}
        },
        {
          "output_type": "display_data",
          "data": {
            "text/plain": [
              "VBox(children=(Label(value='0.001 MB of 0.001 MB uploaded\\r'), FloatProgress(value=1.0, max=1.0)))"
            ],
            "application/vnd.jupyter.widget-view+json": {
              "version_major": 2,
              "version_minor": 0,
              "model_id": "7b6491ff7a4d4d90a9d69a6bf154654e"
            }
          },
          "metadata": {}
        },
        {
          "output_type": "display_data",
          "data": {
            "text/plain": [
              "<IPython.core.display.HTML object>"
            ],
            "text/html": [
              "<style>\n",
              "    table.wandb td:nth-child(1) { padding: 0 10px; text-align: left ; width: auto;} td:nth-child(2) {text-align: left ; width: 100%}\n",
              "    .wandb-row { display: flex; flex-direction: row; flex-wrap: wrap; justify-content: flex-start; width: 100% }\n",
              "    .wandb-col { display: flex; flex-direction: column; flex-basis: 100%; flex: 1; padding: 10px; }\n",
              "    </style>\n",
              "<div class=\"wandb-row\"><div class=\"wandb-col\"><h3>Run history:</h3><br/><table class=\"wandb\"><tr><td>average_score</td><td>▁▁▁▁▁▂▂▂▂▂▂▂▂▃▃▃▃▃▄▄▅▅▅▅▅▅▆▆▄▆▇▇▇████▇▆▄</td></tr></table><br/></div><div class=\"wandb-col\"><h3>Run summary:</h3><br/><table class=\"wandb\"><tr><td>average_score</td><td>148.88</td></tr></table><br/></div></div>"
            ]
          },
          "metadata": {}
        },
        {
          "output_type": "display_data",
          "data": {
            "text/plain": [
              "<IPython.core.display.HTML object>"
            ],
            "text/html": [
              " View run <strong style=\"color:#cdcd00\">lucky-dream-46</strong> at: <a href='https://wandb.ai/iitm_aero/RWBCS2/runs/vb6hord4' target=\"_blank\">https://wandb.ai/iitm_aero/RWBCS2/runs/vb6hord4</a><br/> View project at: <a href='https://wandb.ai/iitm_aero/RWBCS2' target=\"_blank\">https://wandb.ai/iitm_aero/RWBCS2</a><br/>Synced 5 W&B file(s), 0 media file(s), 0 artifact file(s) and 0 other file(s)"
            ]
          },
          "metadata": {}
        },
        {
          "output_type": "display_data",
          "data": {
            "text/plain": [
              "<IPython.core.display.HTML object>"
            ],
            "text/html": [
              "Find logs at: <code>./wandb/run-20240409_032419-vb6hord4/logs</code>"
            ]
          },
          "metadata": {}
        },
        {
          "output_type": "display_data",
          "data": {
            "text/plain": [
              "<IPython.core.display.HTML object>"
            ],
            "text/html": [
              "Successfully finished last run (ID:vb6hord4). Initializing new run:<br/>"
            ]
          },
          "metadata": {}
        },
        {
          "output_type": "display_data",
          "data": {
            "text/plain": [
              "<IPython.core.display.HTML object>"
            ],
            "text/html": [
              "Tracking run with wandb version 0.16.6"
            ]
          },
          "metadata": {}
        },
        {
          "output_type": "display_data",
          "data": {
            "text/plain": [
              "<IPython.core.display.HTML object>"
            ],
            "text/html": [
              "Run data is saved locally in <code>/content/wandb/run-20240409_033223-tfj5hqq3</code>"
            ]
          },
          "metadata": {}
        },
        {
          "output_type": "display_data",
          "data": {
            "text/plain": [
              "<IPython.core.display.HTML object>"
            ],
            "text/html": [
              "Syncing run <strong><a href='https://wandb.ai/iitm_aero/RWBCS2/runs/tfj5hqq3' target=\"_blank\">easy-sky-33</a></strong> to <a href='https://wandb.ai/iitm_aero/RWBCS2' target=\"_blank\">Weights & Biases</a> (<a href='https://wandb.me/run' target=\"_blank\">docs</a>)<br/>"
            ]
          },
          "metadata": {}
        },
        {
          "output_type": "display_data",
          "data": {
            "text/plain": [
              "<IPython.core.display.HTML object>"
            ],
            "text/html": [
              " View project at <a href='https://wandb.ai/iitm_aero/RWBCS2' target=\"_blank\">https://wandb.ai/iitm_aero/RWBCS2</a>"
            ]
          },
          "metadata": {}
        },
        {
          "output_type": "display_data",
          "data": {
            "text/plain": [
              "<IPython.core.display.HTML object>"
            ],
            "text/html": [
              " View run at <a href='https://wandb.ai/iitm_aero/RWBCS2/runs/tfj5hqq3' target=\"_blank\">https://wandb.ai/iitm_aero/RWBCS2/runs/tfj5hqq3</a>"
            ]
          },
          "metadata": {}
        },
        {
          "output_type": "execute_result",
          "data": {
            "text/html": [
              "<button onClick=\"this.nextSibling.style.display='block';this.style.display='none';\">Display W&B run</button><iframe src='https://wandb.ai/iitm_aero/RWBCS2/runs/tfj5hqq3?jupyter=true' style='border:none;width:100%;height:420px;display:none;'></iframe>"
            ],
            "text/plain": [
              "<wandb.sdk.wandb_run.Run at 0x7ac9149acb50>"
            ]
          },
          "metadata": {},
          "execution_count": 21
        }
      ]
    },
    {
      "cell_type": "code",
      "source": [
        "env = gym.make('CartPole-v1')\n",
        "env.seed(0)\n",
        "state_shape = env.observation_space.shape[0]\n",
        "action_shape = env.action_space.n"
      ],
      "metadata": {
        "id": "nOKV8a9CnAec"
      },
      "execution_count": 22,
      "outputs": []
    },
    {
      "cell_type": "code",
      "source": [
        "sweep_config = {\n",
        "    'method': 'grid',\n",
        "    'metric': {\n",
        "      'name': 'Average Reward',\n",
        "      'goal': 'maximize'\n",
        "    },\n",
        "    'parameters': {\n",
        "        'state_size': {\n",
        "            'values': [state_shape]\n",
        "        },\n",
        "        'action_size': {\n",
        "            'values': [action_shape]\n",
        "        },\n",
        "        'hidden_size': {\n",
        "            'values': [64]\n",
        "        },\n",
        "        'max_t': {\n",
        "            'values': [1000]\n",
        "        },\n",
        "        'lr': {\n",
        "            'values': [1e-3]\n",
        "        },\n",
        "        'gamma': {\n",
        "            'values': [0.99]\n",
        "        },\n",
        "        'alpha': {\n",
        "            'values': [0.0001]\n",
        "        },\n",
        "        'n_episodes': {\n",
        "            'values': [2000]\n",
        "        },\n",
        "        \"max_t\":{\n",
        "            'values': [1000]\n",
        "        },\n",
        "         \"print_every\": {\n",
        "             'values': [100]\n",
        "         }\n",
        "    }\n",
        "}"
      ],
      "metadata": {
        "id": "Sn8tdcXc1Gte"
      },
      "execution_count": 23,
      "outputs": []
    },
    {
      "cell_type": "code",
      "source": [
        "# Initialize a new sweep\n",
        "sweep_id = wandb.sweep(sweep=sweep_config,  project=project_name)\n"
      ],
      "metadata": {
        "colab": {
          "base_uri": "https://localhost:8080/"
        },
        "id": "3QMZhG_F0TZB",
        "outputId": "903b0a3b-7afc-4f88-e52f-41b486a8ab20"
      },
      "execution_count": 24,
      "outputs": [
        {
          "output_type": "stream",
          "name": "stdout",
          "text": [
            "Create sweep with ID: opv2rriv\n",
            "Sweep URL: https://wandb.ai/iitm_aero/RWBCS2/sweeps/opv2rriv\n"
          ]
        }
      ]
    },
    {
      "cell_type": "code",
      "source": [],
      "metadata": {
        "id": "6l21L1R-zZm4"
      },
      "execution_count": 24,
      "outputs": []
    },
    {
      "cell_type": "code",
      "source": [
        "average_scores = []"
      ],
      "metadata": {
        "id": "U8lTqmUvcJ4L"
      },
      "execution_count": 25,
      "outputs": []
    },
    {
      "cell_type": "code",
      "source": [
        "def AvgOverExperiments():\n",
        "\n",
        "    # with wandb.init() as run:\n",
        "        # Get the hyperparameters for this run\n",
        "        # config = wandb.config\n",
        "\n",
        "        # begin_time = datetime.datetime.now()\n",
        "        config= {\n",
        "        'state_size': state_shape,\n",
        "        'action_size':action_shape,\n",
        "        'hidden_size':64,\n",
        "        'max_t':1000,\n",
        "        'lr':1e-3,\n",
        "        'gamma':0.99,\n",
        "        'alpha':0.0001,\n",
        "        'n_episodes':2000,\n",
        "        \"max_t\": 1000,\n",
        "        \"print_every\": 100\n",
        "        }\n",
        "        # config = sweep_config\n",
        "        begin_time = datetime.datetime.now()\n",
        "        # Create the policy network with the specified hyperparameters\n",
        "        policy = Policy(state_size=4, action_size=2, hidden_size=config[\"hidden_size\"])\n",
        "        optimizer = optim.Adam(policy.parameters(), lr=config[\"lr\"])\n",
        "\n",
        "        # Run the REINFORCE algorithm with the specified hyperparameters\n",
        "        episode_list_epsgrdy, average_scores_epsgrdy = reinforce(policy, optimizer, n_episodes=config[\"n_episodes\"], max_t=config[\"max_t\"], gamma=config[\"gamma\"], print_every=config[\"print_every\"])\n",
        "\n",
        "        time_taken = datetime.datetime.now() - begin_time\n",
        "        print(time_taken)\n",
        "        # time_taken = datetime.datetime.now() - begin_time\n",
        "        print(average_scores_epsgrdy)\n",
        "        print('\\n')\n",
        "        average_scores.append(average_scores_epsgrdy)\n",
        "        # print(time_taken)\n",
        "        # Log the final average score to wandb\n",
        "        # wandb.log({\"Average Score\": average_scores_epsgrdy})\n",
        "        # wandb.log({\"Average Score\": cumulative_regret})\n"
      ],
      "metadata": {
        "id": "p9qbRfNIsXmV"
      },
      "execution_count": 26,
      "outputs": []
    },
    {
      "cell_type": "code",
      "source": [
        "def plot_avg_curves(avg_reward,reward_std, step_size = 1 ):\n",
        "\n",
        "    trunc_avg_reward = avg_reward[0::step_size]\n",
        "    tunc_reward_std = reward_std[0::step_size]\n",
        "\n",
        "    # trunc_avg_step = avg_step[0::step_size]\n",
        "    # tunc_step_std = step_std[0::step_size]\n",
        "\n",
        "    # Plot the average rewards with mean and standard deviation\n",
        "    plt.figure()\n",
        "    plt.plot(trunc_avg_reward, label='Mean')\n",
        "    plt.fill_between(range(step_size), trunc_avg_reward + tunc_reward_std, trunc_avg_reward - tunc_reward_std, alpha=0.5, label=' Std Dev')\n",
        "    plt.xlabel('Episode')\n",
        "    plt.ylabel('Average Total Reward')\n",
        "    plt.title('Average Total Reward vs Episode')\n",
        "    plt.legend()\n",
        "    # plt.savefig( \"RvsE \" +\".pdf\")\n",
        "    # files.download(exp_no+\"_RvsE.png\")\n",
        "    plt.show()\n",
        "\n",
        "\n",
        "\n",
        "    # # Plot the average rewards with mean and standard deviation\n",
        "    # plt.figure()\n",
        "    # plt.plot(trunc_avg_step, label='Mean')\n",
        "    # plt.fill_between(range(step_size), trunc_avg_step + tunc_step_std, trunc_avg_step - tunc_step_std, alpha=0.5, label=' Std Dev')\n",
        "    # plt.xlabel('Episode')\n",
        "    # plt.ylabel('Average Regret')\n",
        "    # plt.title(' Average Regret vs Episode')\n",
        "    # plt.legend()\n",
        "    # # plt.savefig(\"SvsE \" + \".pdf\")\n",
        "    # # files.download(exp_no+\"_SvsE.png\")\n",
        "    # plt.show()\n",
        "\n",
        "    # # Plot the average rewards with mean and standard deviation\n",
        "    # plt.figure()\n",
        "    # plt.plot(avg_step, label='Mean')\n",
        "    # # plt.fill_between(range(step_size), trunc_avg_step + tunc_step_std, trunc_avg_step - tunc_step_std, alpha=0.5, label=' Std Dev')\n",
        "    # plt.xlabel('Episode')\n",
        "    # plt.ylabel('Cummulative Regret')\n",
        "    # plt.title('Cummulative Average Regret vs Episode')\n",
        "    # plt.legend()\n",
        "    # # plt.savefig(\"SvsE \" + \".pdf\")\n",
        "    # # files.download(exp_no+\"_SvsE.png\")\n",
        "    # plt.show()\n"
      ],
      "metadata": {
        "id": "bKMK9VnNK_-C"
      },
      "execution_count": 27,
      "outputs": []
    },
    {
      "cell_type": "code",
      "source": [
        "# # Average over 5 exeriments\n",
        "\n",
        "# average_scores, cumm_regret = [], []\n",
        "num_expts = 5\n",
        "for i in range(num_expts):\n",
        "    AvgOverExperiments()\n",
        "    # print(\"Experiment: %d\" % (i + 1))\n",
        "    # # episode_average_scores, episode_cumm_regret =  wandb.agent(sweep_id, function=AvgOverExperiments, count=1)\n",
        "    # wandb.agent(sweep_id, function=AvgOverExperiments, count=1)\n",
        "    # # average_scores.append(episode_average_scores)\n",
        "    # # cumm_regret.append(episode_cumm_regret)\n",
        "\n"
      ],
      "metadata": {
        "colab": {
          "base_uri": "https://localhost:8080/"
        },
        "id": "7XVhKNa22FaH",
        "outputId": "57aba5aa-2d5a-40fe-e80a-1c184ede9f8e"
      },
      "execution_count": 28,
      "outputs": [
        {
          "output_type": "stream",
          "name": "stderr",
          "text": [
            "/usr/local/lib/python3.10/dist-packages/gym/utils/passive_env_checker.py:241: DeprecationWarning: `np.bool8` is a deprecated alias for `np.bool_`.  (Deprecated NumPy 1.24)\n",
            "  if not isinstance(terminated, (bool, np.bool8)):\n"
          ]
        },
        {
          "output_type": "stream",
          "name": "stdout",
          "text": [
            "Episode 100\tAverage Score: 21.98\n",
            "Episode 200\tAverage Score: 27.77\n",
            "Episode 300\tAverage Score: 42.31\n",
            "Episode 400\tAverage Score: 52.37\n",
            "Episode 500\tAverage Score: 47.83\n",
            "Episode 600\tAverage Score: 58.13\n",
            "Episode 700\tAverage Score: 57.44\n",
            "Episode 800\tAverage Score: 79.90\n",
            "Episode 900\tAverage Score: 89.23\n",
            "Episode 1000\tAverage Score: 84.11\n",
            "Episode 1100\tAverage Score: 135.33\n",
            "Episode 1200\tAverage Score: 142.47\n",
            "Episode 1300\tAverage Score: 173.64\n",
            "Environment solved in 1270 episodes!\tAverage Score: 197.34\n",
            "Episode 1400\tAverage Score: 195.11\n",
            "Episode 1500\tAverage Score: 196.86\n",
            "Episode 1600\tAverage Score: 203.31\n",
            "Episode 1700\tAverage Score: 159.22\n",
            "Episode 1800\tAverage Score: 259.02\n",
            "Episode 1900\tAverage Score: 240.53\n",
            "0:04:28.718055\n",
            "[22.0, 17.5, 25.333333333333332, 26.0, 23.0, 21.666666666666668, 19.857142857142858, 19.25, 18.555555555555557, 20.6, 20.272727272727273, 19.75, 19.307692307692307, 18.928571428571427, 18.466666666666665, 18.1875, 18.41176470588235, 18.166666666666668, 18.105263157894736, 18.8, 19.19047619047619, 18.772727272727273, 18.434782608695652, 18.291666666666668, 18.04, 18.03846153846154, 18.40740740740741, 19.785714285714285, 19.517241379310345, 19.4, 19.548387096774192, 19.8125, 19.87878787878788, 20.441176470588236, 20.114285714285714, 19.944444444444443, 19.864864864864863, 20.473684210526315, 21.05128205128205, 20.925, 20.804878048780488, 20.666666666666668, 20.441860465116278, 20.272727272727273, 20.0, 20.32608695652174, 20.95744680851064, 20.770833333333332, 20.571428571428573, 21.06, 21.07843137254902, 20.98076923076923, 21.20754716981132, 21.01851851851852, 20.854545454545455, 21.303571428571427, 21.17543859649123, 22.0, 21.864406779661017, 21.766666666666666, 21.65573770491803, 21.516129032258064, 21.365079365079364, 21.5, 21.815384615384616, 22.0, 22.0, 21.897058823529413, 21.768115942028984, 21.685714285714287, 21.535211267605632, 21.430555555555557, 21.506849315068493, 21.472972972972972, 21.4, 21.513157894736842, 21.844155844155843, 21.923076923076923, 21.82278481012658, 21.95, 21.901234567901234, 21.975609756097562, 21.867469879518072, 21.88095238095238, 21.95294117647059, 21.86046511627907, 22.057471264367816, 21.931818181818183, 21.831460674157302, 21.733333333333334, 21.956043956043956, 21.82608695652174, 21.795698924731184, 21.72340425531915, 21.705263157894738, 21.791666666666668, 22.061855670103093, 22.132653061224488, 22.09090909090909, 21.98, 21.93, 21.92, 21.76, 21.95, 22.42, 22.47, 22.82, 22.82, 23.03, 22.81, 22.91, 23.19, 23.41, 23.5, 23.54, 23.62, 23.59, 23.67, 23.8, 23.61, 23.46, 23.9, 23.91, 23.95, 24.19, 24.14, 24.36, 24.17, 24.23, 24.31, 24.22, 24.15, 24.13, 23.82, 24.09, 24.06, 24.41, 24.16, 23.95, 24.37, 24.58, 24.59, 24.62, 24.66, 24.88, 24.78, 25.04, 25.23, 25.23, 24.92, 24.9, 24.91, 24.92, 25.16, 25.22, 25.07, 25.1, 24.91, 25.63, 25.61, 25.76, 25.74, 25.75, 25.77, 25.56, 25.46, 25.36, 25.51, 25.58, 25.77, 25.85, 26.11, 26.23, 26.3, 26.44, 26.48, 26.15, 26.08, 26.61, 26.68, 27.42, 27.3, 27.28, 27.45, 27.37, 27.42, 27.35, 27.59, 27.69, 27.69, 27.61, 27.71, 27.64, 27.85, 27.87, 27.98, 27.69, 27.67, 27.75, 27.77, 27.73, 27.94, 27.88, 27.53, 27.29, 27.25, 26.98, 27.15, 26.99, 27.38, 27.3, 27.0, 27.08, 27.28, 27.29, 27.32, 27.37, 27.38, 27.4, 27.47, 27.64, 27.35, 27.42, 28.03, 27.91, 28.41, 28.47, 28.29, 28.28, 28.24, 28.27, 28.38, 28.53, 28.61, 28.95, 29.18, 28.77, 28.87, 29.76, 29.41, 29.56, 29.6, 29.74, 29.8, 29.68, 30.15, 29.64, 30.36, 30.45, 30.46, 30.5, 31.11, 31.12, 31.92, 32.2, 32.85, 33.54, 33.17, 32.69, 32.87, 33.06, 33.36, 33.66, 33.76, 33.8, 33.9, 34.14, 34.35, 34.58, 34.86, 35.11, 35.09, 34.98, 35.59, 35.68, 36.01, 36.17, 36.43, 36.36, 36.43, 36.13, 36.36, 36.9, 37.29, 37.67, 38.24, 38.33, 38.35, 38.5, 39.09, 39.22, 39.84, 41.0, 40.86, 41.44, 41.31, 41.91, 41.83, 42.31, 42.31, 42.73, 42.77, 43.32, 43.63, 43.76, 43.86, 44.01, 43.9, 44.21, 44.18, 44.36, 45.2, 45.53, 45.64, 45.85, 46.11, 46.01, 45.98, 46.17, 46.56, 47.0, 47.42, 47.61, 47.29, 47.34, 47.31, 47.24, 47.68, 48.49, 48.73, 48.83, 49.43, 49.8, 50.06, 49.89, 49.84, 49.91, 50.27, 49.46, 49.49, 49.44, 49.77, 49.74, 50.03, 50.31, 50.47, 50.75, 50.08, 50.3, 50.34, 50.31, 50.4, 50.39, 50.4, 50.65, 50.43, 49.8, 50.01, 49.9, 50.05, 50.06, 49.85, 49.98, 51.63, 52.4, 52.66, 53.21, 53.31, 53.7, 53.49, 54.07, 54.01, 54.0, 53.59, 53.39, 52.95, 53.22, 53.13, 53.21, 53.32, 52.92, 52.69, 52.62, 52.73, 52.68, 52.39, 52.39, 52.4, 53.0, 52.98, 53.04, 52.78, 51.77, 51.94, 51.43, 51.4, 51.21, 51.43, 51.41, 52.37, 52.62, 52.66, 52.07, 51.94, 51.76, 51.81, 51.91, 51.91, 51.87, 51.9, 51.71, 51.41, 51.25, 50.85, 51.05, 50.83, 51.44, 51.6, 51.56, 51.5, 51.26, 51.39, 51.3, 51.09, 51.34, 51.32, 51.1, 51.15, 50.55, 50.44, 50.54, 49.79, 49.74, 49.63, 49.8, 49.67, 49.84, 49.6, 49.88, 49.92, 50.16, 50.14, 50.08, 50.2, 50.39, 49.8, 49.66, 50.0, 49.87, 49.99, 50.0, 49.42, 49.9, 49.79, 49.39, 49.29, 49.34, 49.29, 49.26, 49.25, 49.26, 49.48, 49.73, 48.38, 48.27, 48.0, 47.82, 47.63, 47.49, 47.57, 46.76, 46.8, 46.84, 46.69, 46.92, 46.88, 46.75, 46.67, 46.98, 46.88, 47.32, 47.99, 48.0, 47.87, 47.95, 48.33, 48.44, 48.86, 48.47, 48.24, 48.02, 48.22, 48.15, 48.42, 48.52, 48.96, 48.64, 48.7, 48.42, 47.83, 47.55, 47.9, 48.69, 48.98, 49.1, 49.39, 49.64, 50.11, 50.38, 50.49, 50.89, 50.56, 50.37, 50.6, 50.56, 50.73, 50.28, 50.4, 50.36, 50.13, 50.17, 49.92, 50.51, 50.84, 50.94, 50.99, 51.17, 50.73, 50.82, 50.85, 51.02, 51.46, 51.68, 52.05, 51.83, 51.88, 51.88, 51.91, 51.73, 51.71, 52.11, 52.36, 52.71, 52.65, 52.78, 53.05, 53.26, 53.04, 53.46, 53.76, 53.77, 54.39, 54.01, 53.32, 53.53, 53.37, 53.55, 53.5, 53.62, 54.14, 54.51, 54.59, 54.48, 54.22, 53.69, 54.53, 54.03, 54.25, 54.59, 54.52, 54.83, 54.79, 54.67, 55.19, 55.22, 55.66, 56.55, 56.58, 56.05, 56.14, 56.9, 56.72, 57.31, 57.26, 57.11, 56.57, 56.53, 56.53, 56.35, 56.34, 56.53, 56.2, 56.4, 56.13, 56.64, 56.25, 56.43, 56.33, 57.08, 58.13, 58.13, 58.27, 57.59, 57.32, 57.19, 57.24, 57.09, 57.47, 57.55, 57.16, 57.26, 57.63, 58.13, 58.0, 58.3, 58.33, 58.33, 58.63, 59.23, 59.79, 59.66, 59.97, 60.52, 60.35, 60.28, 60.13, 60.23, 60.45, 60.74, 61.45, 61.45, 61.25, 61.15, 60.97, 60.95, 61.02, 60.88, 61.03, 60.95, 60.92, 60.02, 60.05, 59.82, 60.29, 59.78, 59.88, 59.55, 59.67, 59.78, 59.75, 59.71, 59.04, 59.47, 59.83, 59.89, 59.76, 60.12, 60.83, 60.97, 60.63, 60.54, 60.43, 60.61, 60.64, 60.87, 60.07, 60.8, 60.84, 60.42, 60.65, 60.77, 60.91, 61.37, 60.81, 60.85, 60.61, 59.57, 59.57, 59.66, 59.62, 58.49, 58.37, 57.67, 57.91, 57.65, 58.7, 58.81, 58.52, 58.51, 58.61, 58.58, 58.6, 58.33, 58.5, 57.81, 58.19, 58.53, 58.87, 58.44, 57.44, 57.92, 57.52, 57.82, 58.42, 58.68, 58.37, 58.61, 58.68, 59.24, 59.59, 60.04, 59.89, 60.19, 60.73, 60.74, 60.52, 60.54, 60.33, 60.79, 60.96, 61.07, 61.27, 60.48, 60.62, 60.3, 61.52, 61.41, 61.65, 61.9, 61.37, 61.5, 62.41, 62.37, 62.64, 62.78, 63.56, 63.87, 64.2, 64.53, 65.26, 66.79, 66.55, 66.58, 66.39, 66.36, 66.36, 66.43, 66.28, 66.64, 66.88, 67.1, 67.17, 67.51, 67.14, 67.1, 67.58, 67.35, 67.5, 67.3, 68.1, 67.86, 68.05, 68.32, 69.1, 68.98, 69.54, 69.18, 69.08, 69.08, 68.76, 69.95, 70.39, 70.19, 70.43, 70.31, 70.93, 71.62, 72.01, 72.18, 73.46, 73.63, 74.25, 75.69, 75.46, 75.65, 74.71, 75.75, 75.74, 75.94, 76.29, 76.45, 77.5, 77.83, 78.17, 78.99, 78.88, 79.0, 78.67, 79.02, 79.9, 79.71, 79.97, 79.79, 79.51, 80.09, 80.51, 80.18, 79.78, 79.31, 79.7, 79.5, 79.6, 78.98, 79.09, 78.67, 79.16, 79.53, 79.82, 79.15, 78.8, 79.01, 78.98, 78.94, 79.6, 81.22, 80.55, 80.94, 81.96, 82.18, 82.5, 82.14, 81.57, 81.2, 81.85, 82.29, 82.39, 83.42, 83.06, 83.14, 83.46, 83.15, 83.23, 83.47, 82.95, 83.81, 85.03, 85.95, 86.54, 86.36, 86.62, 86.91, 87.35, 87.25, 87.46, 87.52, 87.81, 87.85, 87.01, 87.39, 87.22, 87.62, 87.58, 87.34, 86.28, 86.86, 86.38, 86.76, 87.13, 88.58, 88.71, 87.46, 87.39, 87.34, 88.29, 88.63, 89.64, 89.57, 89.59, 90.19, 89.54, 90.26, 90.77, 90.06, 89.94, 91.1, 91.05, 90.06, 90.08, 90.39, 90.34, 90.41, 90.17, 90.12, 89.8, 89.52, 90.18, 89.96, 90.41, 90.13, 89.23, 88.97, 88.6, 88.85, 89.0, 88.87, 88.97, 89.02, 88.8, 88.31, 88.01, 87.87, 88.11, 87.86, 87.59, 87.63, 88.03, 88.23, 88.83, 88.97, 89.01, 89.14, 88.85, 88.64, 88.02, 86.59, 85.93, 85.86, 84.65, 84.05, 83.62, 84.02, 84.1, 84.4, 83.53, 83.58, 83.14, 82.26, 82.61, 82.16, 81.92, 81.15, 81.43, 81.17, 81.44, 81.34, 80.15, 79.7, 79.29, 79.27, 79.58, 79.66, 80.03, 79.72, 79.85, 80.22, 79.71, 80.05, 80.66, 80.6, 80.84, 80.85, 80.76, 81.09, 81.93, 81.22, 82.0, 81.64, 81.13, 80.06, 80.37, 80.49, 81.86, 83.43, 82.45, 82.56, 81.49, 81.22, 81.29, 80.71, 80.94, 81.62, 81.55, 81.3, 81.96, 82.44, 82.41, 82.53, 83.25, 83.62, 84.3, 84.2, 83.43, 83.56, 83.62, 83.29, 83.03, 83.15, 83.57, 83.9, 84.11, 84.55, 84.93, 85.77, 87.11, 86.49, 87.39, 87.92, 88.14, 89.17, 89.16, 89.88, 90.19, 90.5, 91.49, 91.2, 91.31, 91.59, 91.43, 92.61, 93.76, 93.65, 94.48, 96.59, 96.82, 98.76, 101.45, 100.94, 101.87, 101.37, 102.21, 102.28, 102.45, 103.51, 103.27, 104.26, 104.19, 105.9, 105.33, 106.12, 106.59, 107.49, 107.88, 110.45, 111.17, 111.36, 111.55, 111.39, 111.94, 111.48, 111.28, 112.03, 111.62, 112.4, 112.32, 112.14, 114.92, 115.47, 115.7, 116.05, 115.58, 115.62, 115.86, 116.35, 116.0, 117.47, 116.94, 117.06, 117.35, 116.84, 117.1, 117.66, 116.55, 115.74, 116.72, 117.58, 117.96, 119.51, 119.29, 119.82, 120.65, 119.13, 118.96, 121.55, 121.35, 122.34, 123.24, 123.23, 123.95, 125.47, 125.33, 126.52, 127.68, 128.8, 129.44, 132.63, 133.19, 134.35, 134.25, 134.67, 135.33, 136.18, 136.96, 137.96, 137.23, 138.58, 137.28, 137.49, 137.99, 138.64, 140.08, 139.65, 140.33, 140.7, 140.02, 140.78, 142.02, 142.44, 142.39, 142.68, 142.32, 142.77, 142.55, 141.2, 141.78, 141.89, 139.9, 140.82, 140.56, 141.85, 141.21, 141.69, 142.21, 142.43, 143.86, 142.36, 143.5, 141.6, 142.44, 142.52, 141.96, 143.13, 143.07, 141.82, 141.35, 141.0, 141.26, 142.29, 142.41, 142.9, 142.91, 143.4, 144.37, 144.44, 144.41, 144.93, 143.06, 142.6, 143.15, 144.26, 145.38, 146.36, 148.03, 148.12, 150.96, 151.19, 152.41, 152.12, 153.17, 155.85, 156.01, 155.47, 155.44, 155.23, 155.82, 155.09, 155.65, 154.87, 155.65, 155.34, 155.34, 155.4, 154.48, 153.25, 153.0, 151.96, 151.68, 152.22, 151.39, 149.14, 149.41, 149.22, 148.36, 147.65, 147.11, 144.07, 142.93, 142.04, 141.79, 141.5, 142.47, 141.82, 142.0, 141.77, 141.54, 141.1, 142.63, 143.23, 143.56, 142.21, 141.25, 141.81, 141.43, 142.23, 142.06, 143.61, 143.42, 143.55, 143.25, 142.21, 141.8, 143.4, 143.93, 144.13, 145.37, 147.13, 147.07, 146.6, 146.73, 147.64, 147.91, 149.96, 151.68, 151.22, 151.89, 152.43, 153.05, 154.21, 154.08, 153.81, 154.37, 153.05, 155.21, 155.41, 157.26, 158.06, 157.96, 158.16, 160.78, 161.48, 161.42, 161.91, 161.36, 162.97, 163.69, 163.27, 163.72, 165.8, 165.61, 164.74, 164.85, 165.48, 163.54, 162.98, 162.41, 162.15, 161.99, 163.18, 164.8, 162.58, 162.67, 166.13, 166.18, 167.76, 166.84, 167.56, 166.88, 168.04, 168.2, 170.35, 169.56, 170.45, 170.94, 170.12, 170.12, 168.57, 169.62, 169.53, 172.23, 173.03, 172.98, 172.66, 172.83, 172.45, 172.93, 173.56, 174.35, 173.91, 174.8, 174.0, 173.64, 173.82, 174.45, 173.08, 173.52, 175.34, 175.38, 174.82, 174.86, 174.79, 175.09, 174.59, 175.68, 175.13, 177.05, 175.9, 174.04, 172.8, 174.83, 176.44, 176.67, 177.46, 178.77, 179.88, 179.59, 177.16, 177.87, 181.06, 181.09, 180.14, 183.07, 181.77, 180.28, 180.08, 179.62, 180.69, 179.55, 181.33, 182.24, 186.36, 187.71, 188.22, 185.86, 187.08, 188.87, 189.09, 189.05, 188.39, 186.87, 186.14, 187.38, 186.1, 187.1, 188.33, 188.88, 190.85, 191.53, 191.42, 191.73, 192.11, 190.84, 190.55, 191.17, 191.36, 190.6, 192.01, 193.27, 194.47, 192.82, 193.93, 197.34, 194.03, 193.88, 193.02, 192.96, 192.17, 192.52, 191.51, 192.24, 190.19, 190.31, 191.64, 190.89, 191.87, 192.26, 193.09, 192.84, 193.93, 191.27, 190.78, 190.4, 190.13, 189.99, 191.53, 192.87, 193.58, 193.61, 195.45, 194.63, 195.47, 195.11, 195.16, 195.93, 196.11, 196.54, 194.22, 193.32, 193.26, 193.42, 194.72, 194.17, 195.33, 194.28, 194.72, 194.85, 195.22, 196.85, 197.78, 197.21, 196.73, 197.59, 198.22, 196.54, 195.71, 195.62, 195.52, 194.9, 192.5, 192.95, 194.74, 192.8, 192.78, 192.98, 195.3, 194.55, 194.38, 197.79, 195.21, 194.53, 192.59, 191.54, 193.49, 194.04, 193.3, 191.93, 192.56, 194.18, 195.44, 194.05, 195.07, 195.4, 195.66, 195.26, 193.62, 193.36, 193.71, 192.55, 191.14, 190.94, 191.71, 192.72, 193.32, 194.49, 194.56, 195.35, 193.51, 192.7, 191.64, 192.22, 192.87, 189.1, 190.42, 191.78, 191.08, 192.81, 193.19, 193.04, 191.97, 191.41, 192.46, 192.71, 190.99, 192.02, 191.14, 194.92, 195.89, 196.74, 196.12, 196.75, 197.71, 197.39, 198.49, 200.56, 199.83, 197.84, 197.18, 197.29, 195.19, 195.14, 196.39, 196.86, 196.44, 194.61, 197.81, 197.39, 198.07, 198.75, 199.75, 200.0, 199.07, 198.83, 197.86, 197.96, 198.18, 197.39, 197.63, 197.99, 197.17, 197.17, 198.94, 198.62, 198.09, 197.4, 198.18, 197.53, 198.33, 199.84, 199.48, 198.84, 196.97, 197.21, 196.98, 197.53, 195.15, 194.4, 193.57, 189.98, 191.97, 194.85, 193.74, 193.53, 191.67, 190.9, 191.47, 190.22, 189.56, 188.53, 187.22, 187.35, 187.9, 186.53, 186.18, 185.58, 183.96, 183.69, 183.44, 183.47, 183.06, 182.65, 181.92, 181.67, 182.77, 181.97, 183.6, 183.95, 185.61, 184.52, 187.65, 187.78, 186.28, 188.36, 189.39, 188.55, 189.63, 188.89, 190.77, 191.24, 193.16, 194.31, 194.01, 193.63, 194.67, 194.75, 195.11, 191.74, 192.15, 192.03, 192.19, 192.34, 193.83, 194.36, 195.62, 195.04, 195.32, 196.2, 198.34, 197.98, 200.93, 201.91, 202.79, 203.31, 204.62, 205.28, 205.87, 205.4, 206.2, 206.08, 205.82, 205.53, 206.6, 209.9, 210.34, 209.97, 211.07, 211.01, 211.28, 210.77, 213.53, 213.0, 209.86, 208.73, 206.94, 210.91, 210.63, 210.41, 209.73, 211.22, 212.74, 213.99, 216.06, 216.02, 216.02, 214.98, 214.98, 216.92, 218.71, 220.15, 218.68, 215.87, 215.72, 215.77, 214.67, 215.19, 213.98, 215.27, 215.05, 214.64, 215.42, 215.12, 213.71, 213.71, 213.69, 213.78, 212.86, 213.66, 212.18, 212.29, 212.55, 212.39, 211.86, 211.05, 208.1, 207.99, 206.11, 203.96, 201.83, 201.95, 198.19, 196.42, 195.45, 193.27, 191.48, 191.48, 190.99, 189.8, 187.39, 186.19, 185.31, 183.36, 182.51, 181.86, 181.35, 181.37, 180.25, 179.48, 177.92, 177.85, 176.69, 175.81, 174.66, 174.17, 172.65, 171.39, 170.41, 169.8, 167.44, 167.01, 164.65, 163.31, 161.04, 159.22, 158.95, 157.73, 154.14, 154.16, 153.26, 152.72, 151.97, 152.07, 151.04, 149.82, 149.3, 148.39, 147.95, 146.77, 146.06, 145.58, 144.48, 143.88, 144.28, 145.41, 144.15, 141.05, 143.92, 146.18, 146.6, 144.1, 144.59, 145.31, 142.8, 144.46, 144.86, 145.03, 145.63, 146.4, 148.42, 149.61, 149.94, 151.52, 151.57, 153.45, 156.02, 156.68, 157.59, 156.35, 157.34, 159.56, 159.45, 162.11, 164.87, 168.21, 170.28, 173.32, 178.01, 177.13, 178.18, 179.64, 179.58, 181.39, 181.37, 183.97, 186.96, 189.42, 189.13, 189.81, 193.91, 195.95, 199.8, 203.43, 204.81, 208.98, 209.24, 211.92, 211.76, 213.48, 213.88, 214.71, 218.18, 219.21, 220.77, 222.04, 222.34, 222.12, 224.27, 224.47, 228.39, 229.16, 230.02, 231.38, 232.17, 234.28, 234.36, 238.31, 242.63, 246.79, 248.65, 249.41, 252.41, 253.67, 257.48, 259.02, 258.07, 260.04, 260.65, 262.89, 266.41, 266.46, 267.59, 269.5, 269.22, 267.38, 269.11, 272.12, 271.03, 271.82, 271.65, 272.75, 270.95, 271.31, 271.26, 271.57, 272.51, 272.26, 269.49, 267.71, 267.17, 267.51, 268.46, 267.7, 267.77, 266.54, 267.2, 269.72, 268.19, 270.03, 266.48, 263.92, 263.56, 262.8, 265.95, 265.43, 263.35, 263.99, 266.4, 267.28, 269.68, 267.94, 270.7, 268.84, 265.84, 264.32, 266.13, 263.27, 260.24, 260.05, 259.63, 260.22, 261.25, 262.33, 262.33, 260.27, 260.52, 261.33, 261.87, 262.05, 259.36, 257.42, 253.55, 251.78, 251.28, 247.81, 247.32, 248.16, 250.81, 253.22, 254.03, 254.07, 252.0, 252.11, 251.73, 253.01, 253.39, 255.93, 253.94, 253.66, 250.03, 247.77, 250.51, 249.62, 247.68, 245.72, 247.14, 244.81, 242.38, 239.27, 238.76, 242.47, 240.31, 243.49, 241.6, 240.53, 240.95, 240.88, 240.24, 239.79, 238.1, 239.12, 241.8, 240.91, 241.55, 244.1, 245.43, 243.04, 244.0, 244.42, 246.52, 248.96, 250.83, 250.42, 250.42, 253.24, 253.75, 254.08, 254.46, 254.65, 256.52, 255.42, 253.94, 254.21, 254.45, 255.85, 257.18, 258.03, 260.77, 259.34, 259.63, 262.29, 263.37, 266.21, 262.93, 261.77, 262.34, 262.85, 258.77, 257.82, 254.55, 255.67, 252.24, 255.4, 259.5, 258.28, 255.25, 258.85, 261.42, 261.34, 260.98, 259.44, 258.17, 257.12, 260.7, 261.82, 261.71, 261.43, 262.34, 264.37, 265.59, 265.43, 267.24, 267.05, 268.36, 268.3, 272.1, 267.85, 264.75, 261.85, 264.02, 264.66, 262.82, 263.98, 264.54, 263.43, 266.32, 264.36, 266.17, 270.16, 270.68, 273.1, 271.05, 271.61, 274.87, 275.34, 273.48, 275.81, 278.24, 280.03, 278.96, 278.96, 278.88, 275.02, 275.85]\n",
            "\n",
            "\n",
            "Episode 100\tAverage Score: 25.15\n",
            "Episode 200\tAverage Score: 28.16\n",
            "Episode 300\tAverage Score: 34.14\n",
            "Episode 400\tAverage Score: 38.52\n",
            "Episode 500\tAverage Score: 42.61\n",
            "Episode 600\tAverage Score: 53.67\n",
            "Episode 700\tAverage Score: 57.33\n",
            "Episode 800\tAverage Score: 71.84\n",
            "Episode 900\tAverage Score: 87.75\n",
            "Episode 1000\tAverage Score: 96.16\n",
            "Episode 1100\tAverage Score: 98.71\n",
            "Episode 1200\tAverage Score: 115.30\n",
            "Episode 1300\tAverage Score: 132.28\n",
            "Episode 1400\tAverage Score: 151.55\n",
            "Episode 1500\tAverage Score: 150.92\n",
            "Episode 1600\tAverage Score: 153.24\n",
            "Episode 1700\tAverage Score: 146.64\n",
            "Episode 1800\tAverage Score: 183.85\n",
            "Environment solved in 1740 episodes!\tAverage Score: 195.23\n",
            "Episode 1900\tAverage Score: 195.54\n",
            "0:03:30.082597\n",
            "[19.0, 15.5, 14.666666666666666, 19.75, 29.6, 32.0, 31.428571428571427, 29.375, 27.333333333333332, 26.4, 25.09090909090909, 26.75, 25.923076923076923, 25.142857142857142, 25.466666666666665, 24.75, 24.58823529411765, 24.61111111111111, 24.736842105263158, 24.05, 24.714285714285715, 25.136363636363637, 25.217391304347824, 25.0, 24.64, 24.192307692307693, 24.48148148148148, 24.892857142857142, 24.689655172413794, 24.433333333333334, 24.096774193548388, 23.6875, 23.90909090909091, 24.735294117647058, 24.571428571428573, 24.944444444444443, 25.2972972972973, 25.36842105263158, 25.05128205128205, 25.225, 25.0, 25.166666666666668, 25.0, 26.068181818181817, 25.866666666666667, 26.130434782608695, 25.872340425531913, 26.104166666666668, 25.959183673469386, 25.74, 25.647058823529413, 25.75, 26.39622641509434, 26.37037037037037, 26.181818181818183, 25.857142857142858, 25.789473684210527, 25.56896551724138, 25.83050847457627, 26.05, 26.098360655737704, 26.0, 25.73015873015873, 25.84375, 25.876923076923077, 26.151515151515152, 25.98507462686567, 25.808823529411764, 25.666666666666668, 25.47142857142857, 25.239436619718308, 25.055555555555557, 25.0, 24.945945945945947, 24.96, 24.855263157894736, 24.727272727272727, 25.28205128205128, 25.240506329113924, 25.1, 24.987654320987655, 24.841463414634145, 25.349397590361445, 25.5, 25.423529411764704, 25.25581395348837, 25.20689655172414, 25.056818181818183, 24.876404494382022, 25.066666666666666, 25.0989010989011, 24.98913043478261, 24.93548387096774, 24.861702127659573, 24.768421052631577, 24.677083333333332, 24.7319587628866, 24.581632653061224, 25.181818181818183, 25.15, 25.16, 25.18, 25.24, 25.17, 24.72, 24.52, 24.41, 24.47, 24.47, 24.53, 24.68, 24.51, 25.46, 25.46, 25.4, 25.46, 25.65, 25.54, 25.44, 25.74, 25.6, 25.43, 25.3, 25.23, 25.31, 25.27, 25.13, 25.01, 25.04, 25.56, 25.7, 25.81, 25.7, 25.58, 25.7, 25.81, 25.75, 25.65, 25.64, 25.84, 25.87, 25.82, 26.1, 25.72, 25.68, 25.51, 25.77, 25.72, 25.79, 26.0, 26.23, 26.03, 25.99, 26.03, 26.16, 26.19, 26.1, 26.43, 26.22, 26.18, 26.1, 26.18, 26.23, 26.32, 26.16, 26.01, 26.13, 26.27, 26.22, 26.22, 26.69, 26.74, 26.68, 26.89, 27.22, 27.3, 27.48, 26.98, 27.01, 27.27, 27.3, 27.39, 26.96, 26.72, 26.63, 27.17, 27.23, 27.28, 27.49, 27.21, 27.59, 27.62, 27.87, 28.22, 28.19, 28.43, 28.69, 28.8, 28.09, 28.16, 28.46, 28.71, 28.75, 28.77, 28.71, 28.92, 29.0, 28.96, 29.2, 29.09, 29.54, 29.58, 28.66, 28.86, 28.77, 28.68, 28.5, 28.86, 29.03, 29.04, 29.05, 29.13, 29.17, 29.48, 29.59, 29.8, 29.94, 30.22, 30.29, 29.82, 29.85, 29.93, 29.92, 29.66, 29.95, 30.41, 30.47, 30.65, 30.82, 30.99, 31.2, 31.2, 30.93, 30.72, 30.81, 31.06, 30.94, 31.09, 31.05, 31.06, 30.86, 31.35, 31.02, 31.08, 31.23, 31.38, 31.51, 31.18, 31.21, 31.07, 31.45, 31.29, 31.77, 31.5, 31.64, 31.65, 31.73, 31.88, 32.32, 32.36, 31.92, 32.03, 32.58, 32.89, 32.83, 32.86, 32.91, 33.01, 33.03, 32.91, 33.05, 33.15, 33.29, 33.59, 33.79, 33.43, 33.45, 33.53, 33.46, 33.63, 33.29, 33.67, 33.48, 33.1, 33.26, 33.35, 33.32, 33.71, 33.77, 34.14, 34.03, 33.82, 33.87, 34.03, 34.04, 34.07, 34.22, 34.32, 34.21, 34.22, 33.71, 34.67, 34.75, 35.14, 35.39, 35.87, 36.39, 36.18, 36.31, 36.14, 36.43, 36.42, 36.65, 37.14, 37.29, 37.24, 37.42, 37.41, 37.31, 37.23, 37.34, 37.42, 37.52, 37.52, 37.09, 36.79, 36.74, 36.62, 36.66, 36.14, 35.94, 36.0, 36.71, 36.91, 36.96, 36.67, 36.89, 36.82, 36.88, 36.8, 36.71, 36.3, 36.21, 36.24, 36.14, 36.49, 36.66, 36.99, 37.12, 37.11, 36.78, 36.96, 36.92, 37.46, 37.61, 37.95, 37.75, 38.29, 38.07, 38.62, 38.67, 38.58, 38.21, 37.69, 37.38, 37.32, 37.28, 37.24, 37.56, 37.54, 37.41, 37.37, 37.36, 37.55, 37.6, 37.57, 37.83, 37.74, 37.77, 37.78, 37.66, 37.7, 38.09, 38.19, 38.3, 38.22, 38.84, 38.46, 38.96, 38.52, 38.58, 38.71, 39.01, 38.7, 38.81, 38.68, 38.62, 38.85, 38.76, 39.05, 39.1, 38.51, 38.66, 38.07, 37.92, 38.19, 37.93, 38.02, 37.83, 38.05, 38.0, 38.18, 38.22, 37.9, 37.77, 37.72, 37.77, 37.66, 37.76, 38.18, 38.06, 37.92, 37.99, 38.0, 38.0, 38.26, 38.16, 38.63, 38.54, 38.69, 38.87, 38.96, 39.18, 39.07, 39.5, 39.55, 39.53, 39.31, 39.69, 39.81, 40.09, 40.54, 40.87, 40.63, 40.66, 40.48, 40.75, 40.49, 40.86, 41.21, 41.98, 41.85, 41.65, 41.25, 41.62, 41.51, 41.83, 41.22, 41.27, 40.89, 41.6, 41.64, 41.53, 41.99, 42.52, 42.7, 42.53, 42.59, 42.21, 42.32, 42.45, 42.41, 42.47, 42.11, 42.29, 42.51, 42.15, 42.45, 42.88, 43.17, 43.37, 43.12, 43.0, 43.42, 43.69, 43.52, 42.99, 43.04, 42.57, 42.61, 42.65, 42.91, 42.53, 42.97, 43.01, 42.87, 42.75, 42.69, 42.91, 42.68, 42.99, 43.73, 44.18, 44.76, 44.78, 44.35, 44.69, 44.82, 44.95, 45.67, 45.47, 45.55, 45.57, 45.45, 45.67, 45.8, 45.47, 45.53, 45.79, 45.83, 46.7, 46.87, 47.12, 47.29, 47.77, 47.39, 47.81, 48.62, 48.94, 48.96, 49.14, 49.25, 48.52, 49.11, 48.72, 49.23, 48.97, 49.72, 49.42, 49.28, 48.99, 49.19, 49.17, 49.29, 49.17, 49.0, 48.71, 48.74, 48.44, 48.27, 47.56, 47.81, 47.68, 47.67, 47.12, 47.19, 47.53, 47.68, 47.94, 48.6, 48.39, 48.82, 49.36, 48.98, 48.68, 49.05, 49.61, 50.08, 50.99, 51.0, 50.94, 51.22, 51.46, 51.5, 51.2, 50.95, 51.53, 51.55, 51.55, 51.25, 51.32, 51.34, 51.41, 51.65, 52.49, 53.03, 52.91, 52.97, 53.21, 53.67, 53.48, 53.93, 54.1, 54.54, 54.46, 55.25, 55.67, 55.72, 55.91, 56.16, 55.88, 54.61, 54.9, 54.91, 55.43, 55.24, 55.72, 55.68, 55.66, 54.63, 54.64, 54.54, 54.78, 54.82, 54.99, 55.49, 55.47, 55.29, 55.49, 55.54, 54.85, 54.74, 54.57, 55.46, 55.48, 55.83, 56.28, 55.17, 55.94, 56.28, 56.06, 56.44, 56.89, 56.49, 56.74, 56.42, 56.46, 56.06, 56.26, 56.34, 56.38, 55.84, 56.05, 56.08, 56.35, 56.54, 56.69, 56.97, 57.1, 57.17, 57.32, 57.35, 57.48, 57.46, 57.46, 57.34, 57.16, 57.27, 57.37, 56.53, 56.67, 56.59, 56.59, 56.6, 56.53, 56.62, 56.38, 55.84, 55.73, 55.58, 55.72, 55.58, 55.77, 56.77, 56.9, 56.85, 56.57, 56.5, 56.38, 56.58, 56.53, 57.2, 57.37, 56.99, 56.35, 56.27, 56.89, 57.57, 57.35, 57.33, 57.53, 57.08, 57.67, 57.6, 57.91, 57.59, 57.44, 57.82, 57.89, 57.81, 58.21, 59.06, 58.35, 58.91, 58.53, 59.19, 58.06, 58.07, 58.12, 58.31, 58.67, 58.46, 58.43, 58.64, 58.32, 58.07, 58.6, 59.06, 58.84, 58.69, 58.97, 59.27, 59.32, 58.64, 58.45, 58.41, 58.05, 58.28, 57.64, 57.58, 58.42, 58.22, 57.99, 58.37, 58.54, 58.91, 59.32, 59.32, 59.27, 59.87, 60.62, 60.8, 60.68, 61.16, 61.26, 61.14, 61.17, 61.61, 61.91, 62.17, 62.0, 62.27, 62.55, 63.15, 63.91, 64.18, 63.99, 63.78, 64.03, 65.14, 64.95, 65.37, 65.36, 65.61, 65.99, 65.98, 66.23, 66.58, 66.37, 67.1, 67.18, 67.53, 67.62, 66.94, 66.87, 68.34, 68.35, 68.94, 69.79, 71.07, 71.12, 71.07, 71.43, 71.75, 71.92, 71.91, 72.07, 71.65, 71.83, 71.84, 72.87, 73.46, 72.8, 73.37, 73.56, 73.45, 73.33, 73.93, 74.72, 74.82, 74.85, 75.13, 75.84, 75.01, 74.99, 74.98, 75.95, 76.26, 76.4, 76.71, 76.56, 77.35, 77.63, 77.31, 78.16, 78.49, 78.79, 79.25, 79.23, 79.73, 79.98, 80.65, 80.98, 81.51, 82.4, 82.38, 82.34, 82.37, 82.45, 82.68, 82.53, 81.98, 82.15, 81.56, 82.06, 82.0, 82.31, 82.36, 82.79, 83.06, 82.81, 83.81, 84.03, 84.49, 84.05, 84.5, 84.75, 84.77, 84.29, 83.93, 84.22, 85.43, 87.3, 87.56, 86.98, 87.78, 87.88, 89.09, 89.19, 88.45, 88.28, 88.41, 88.27, 88.82, 88.88, 88.79, 88.63, 89.15, 89.38, 88.73, 88.68, 88.58, 88.44, 89.12, 90.43, 89.54, 89.57, 89.29, 88.57, 87.62, 87.62, 87.47, 86.98, 86.84, 86.59, 87.63, 87.43, 87.7, 87.88, 87.75, 87.27, 87.28, 88.33, 89.79, 89.83, 89.58, 89.77, 89.05, 87.92, 88.33, 88.34, 87.76, 87.32, 88.08, 88.54, 88.38, 87.68, 87.85, 88.93, 89.68, 90.3, 90.08, 90.11, 91.98, 91.65, 91.67, 91.56, 91.57, 92.15, 91.77, 92.65, 92.72, 92.57, 92.14, 92.17, 92.52, 93.72, 93.94, 94.48, 94.78, 94.61, 95.76, 96.81, 97.58, 97.71, 97.59, 96.99, 97.23, 97.41, 97.24, 97.93, 97.33, 97.25, 97.6, 98.31, 98.44, 98.35, 98.16, 98.68, 99.56, 99.54, 98.58, 97.57, 98.26, 98.46, 97.46, 97.79, 96.9, 96.66, 96.98, 97.02, 96.68, 96.77, 96.27, 95.94, 95.72, 96.03, 95.53, 95.24, 95.61, 95.86, 95.53, 95.37, 94.84, 93.98, 94.49, 94.82, 94.64, 94.39, 94.51, 94.89, 94.54, 95.82, 96.13, 96.58, 95.59, 95.06, 94.91, 96.12, 96.16, 95.71, 95.23, 94.4, 92.05, 92.22, 92.6, 92.38, 92.76, 92.8, 92.73, 93.49, 93.28, 93.09, 93.06, 93.27, 93.98, 94.1, 93.52, 92.38, 91.64, 91.16, 91.81, 91.14, 89.48, 88.97, 89.24, 88.96, 88.57, 88.49, 89.29, 88.36, 87.75, 87.88, 88.76, 88.17, 88.5, 87.62, 87.79, 87.41, 87.11, 87.5, 87.02, 86.84, 86.86, 86.96, 86.97, 88.05, 88.38, 88.0, 87.83, 87.66, 88.22, 88.42, 88.46, 88.4, 88.63, 88.92, 88.81, 89.01, 88.73, 89.59, 89.57, 88.74, 87.89, 88.93, 89.38, 89.25, 90.07, 90.45, 90.81, 91.28, 92.08, 93.07, 93.15, 93.98, 94.41, 94.32, 94.64, 95.06, 95.23, 95.48, 96.29, 96.32, 96.4, 97.72, 97.59, 97.81, 98.05, 99.13, 98.95, 99.22, 99.31, 98.58, 98.03, 98.26, 98.83, 98.97, 99.28, 98.21, 98.71, 100.13, 100.44, 100.84, 101.6, 101.54, 101.5, 102.67, 102.49, 104.11, 104.62, 103.7, 103.99, 105.11, 105.23, 105.5, 105.7, 106.01, 106.78, 106.66, 107.02, 107.01, 106.63, 107.03, 107.55, 108.83, 108.48, 109.31, 109.17, 108.91, 108.31, 111.49, 112.39, 112.88, 112.37, 113.15, 112.31, 113.14, 112.98, 112.61, 112.92, 112.83, 113.13, 112.87, 112.91, 112.7, 113.1, 112.67, 111.88, 112.36, 112.37, 112.77, 112.39, 112.22, 112.09, 111.63, 112.17, 111.44, 112.68, 112.42, 112.89, 112.5, 112.89, 112.6, 112.18, 111.53, 112.19, 112.0, 110.9, 110.23, 110.32, 111.18, 111.19, 110.37, 110.25, 110.0, 109.98, 109.94, 110.11, 110.51, 111.69, 112.57, 112.72, 112.9, 112.68, 112.7, 112.89, 112.45, 113.26, 112.78, 113.24, 112.99, 113.99, 114.32, 114.4, 113.94, 113.84, 113.66, 113.32, 114.96, 115.3, 113.53, 113.44, 112.9, 112.63, 113.16, 115.01, 114.38, 115.34, 114.77, 114.3, 114.89, 114.71, 114.33, 114.52, 114.43, 115.31, 115.67, 116.08, 116.55, 116.69, 116.66, 117.16, 117.67, 117.56, 116.75, 116.41, 116.11, 116.79, 117.52, 118.19, 115.44, 114.92, 114.91, 114.95, 114.87, 115.67, 115.66, 116.02, 116.61, 116.61, 116.4, 116.11, 114.94, 114.93, 114.8, 115.51, 116.21, 116.67, 116.05, 116.57, 117.85, 117.96, 118.26, 117.8, 118.61, 118.44, 119.17, 118.66, 119.2, 119.07, 118.82, 118.58, 119.42, 120.51, 120.48, 120.42, 121.06, 122.42, 124.62, 124.39, 123.46, 123.43, 124.11, 125.17, 125.51, 126.99, 128.24, 128.07, 127.42, 126.79, 127.29, 127.79, 128.33, 129.06, 129.83, 128.92, 129.21, 129.79, 129.15, 129.51, 130.03, 129.82, 129.31, 130.84, 130.46, 130.99, 132.02, 132.2, 131.59, 132.28, 133.35, 134.03, 135.35, 135.66, 135.19, 134.25, 134.61, 134.4, 134.46, 134.75, 134.05, 134.78, 134.77, 134.88, 134.91, 133.73, 134.08, 133.9, 134.2, 134.54, 134.58, 134.41, 134.24, 134.47, 134.72, 134.45, 134.03, 133.44, 135.38, 134.72, 134.21, 134.55, 134.97, 135.31, 134.73, 135.0, 134.33, 134.29, 134.37, 134.54, 135.18, 135.8, 137.57, 138.69, 139.02, 138.79, 138.8, 139.3, 140.75, 140.02, 137.94, 140.5, 141.58, 142.07, 142.44, 142.25, 141.78, 142.79, 142.68, 142.84, 145.11, 145.39, 145.17, 144.28, 146.08, 145.5, 145.45, 145.55, 143.26, 144.19, 146.48, 146.13, 146.39, 146.38, 148.81, 147.41, 146.96, 148.22, 149.55, 149.96, 149.58, 149.67, 150.21, 150.21, 150.74, 150.66, 151.41, 150.85, 152.41, 151.13, 150.71, 150.34, 151.34, 151.28, 151.8, 151.92, 151.92, 152.28, 151.87, 151.55, 152.41, 152.12, 151.95, 151.42, 152.27, 154.95, 154.47, 154.79, 157.43, 157.9, 159.05, 159.62, 160.1, 160.42, 160.34, 160.7, 160.06, 159.49, 159.79, 160.83, 161.44, 161.06, 160.63, 160.47, 162.0, 163.14, 163.42, 163.96, 163.46, 162.94, 163.07, 163.16, 163.24, 162.99, 165.1, 163.58, 163.27, 163.74, 163.83, 164.25, 163.89, 163.98, 163.32, 162.86, 162.81, 163.26, 162.94, 162.86, 162.08, 162.84, 163.62, 162.12, 161.21, 160.72, 161.44, 161.07, 161.87, 160.93, 160.66, 160.86, 159.06, 158.62, 159.12, 160.53, 158.65, 158.75, 159.32, 158.66, 160.45, 160.7, 158.51, 158.39, 159.13, 158.6, 157.06, 157.49, 158.03, 156.52, 155.5, 155.07, 156.41, 155.71, 154.65, 154.42, 152.2, 152.88, 152.38, 151.95, 151.03, 151.92, 153.76, 153.81, 153.19, 151.9, 151.73, 150.99, 151.56, 151.43, 151.33, 150.92, 149.94, 149.62, 149.49, 150.01, 149.99, 147.76, 148.18, 148.5, 145.92, 145.13, 144.37, 144.03, 143.91, 143.42, 143.35, 143.75, 144.31, 144.85, 145.32, 144.87, 144.98, 145.85, 147.12, 147.0, 146.45, 145.47, 146.3, 147.26, 145.72, 147.63, 149.25, 148.44, 147.86, 148.52, 147.05, 148.33, 149.81, 149.41, 149.97, 149.62, 149.49, 148.81, 148.6, 147.53, 147.13, 146.22, 146.41, 146.49, 147.21, 148.52, 148.68, 148.43, 148.78, 149.92, 149.19, 149.75, 150.16, 150.83, 150.89, 150.99, 151.4, 152.92, 152.36, 151.84, 152.41, 153.32, 153.08, 153.22, 151.93, 152.23, 151.56, 151.69, 151.61, 152.31, 150.32, 150.37, 151.43, 152.86, 153.51, 153.88, 151.14, 151.0, 151.69, 151.53, 151.59, 151.5, 152.58, 153.01, 153.38, 154.83, 152.57, 152.8, 152.6, 153.15, 154.5, 154.7, 153.75, 154.04, 154.13, 153.24, 153.07, 153.28, 153.39, 153.39, 152.58, 152.07, 153.23, 152.34, 151.93, 152.41, 152.48, 152.16, 153.05, 152.58, 153.07, 151.32, 150.6, 150.31, 150.51, 148.8, 148.38, 147.61, 146.97, 147.83, 146.81, 147.94, 147.84, 146.99, 146.69, 146.35, 145.34, 145.96, 146.02, 145.29, 145.41, 147.15, 146.65, 147.22, 146.7, 146.77, 147.13, 146.87, 147.47, 147.87, 147.89, 148.65, 147.86, 148.79, 147.83, 147.34, 146.62, 146.01, 145.93, 145.41, 145.69, 145.57, 145.1, 144.32, 144.82, 143.68, 143.09, 142.24, 142.75, 142.09, 142.63, 141.06, 141.06, 140.63, 141.12, 139.53, 140.37, 141.03, 140.62, 139.76, 140.67, 140.58, 138.94, 140.05, 140.23, 140.18, 140.86, 141.05, 139.85, 141.44, 143.61, 143.87, 143.66, 142.6, 142.84, 141.27, 141.93, 142.04, 142.43, 143.11, 142.4, 144.51, 145.68, 145.84, 145.81, 146.64, 147.64, 147.99, 148.54, 148.2, 148.59, 148.97, 148.0, 148.2, 147.86, 147.79, 148.04, 148.58, 147.42, 148.72, 149.39, 150.54, 151.04, 151.57, 150.79, 151.36, 152.9, 152.8, 153.12, 153.81, 154.45, 155.18, 155.53, 156.28, 156.43, 156.4, 156.09, 156.27, 156.46, 157.79, 157.48, 156.37, 155.69, 155.56, 156.06, 155.45, 155.95, 157.27, 155.88, 156.19, 156.65, 156.73, 158.63, 158.42, 160.1, 158.95, 159.44, 161.18, 161.32, 161.3, 162.28, 162.51, 163.73, 163.97, 163.53, 165.53, 166.38, 166.15, 167.25, 167.22, 165.86, 168.06, 168.06, 169.04, 169.18, 169.81, 170.45, 169.74, 170.38, 172.89, 174.46, 174.09, 174.6, 173.49, 174.16, 173.99, 174.18, 175.03, 176.41, 175.58, 175.23, 175.81, 176.2, 177.66, 177.44, 177.98, 178.49, 179.53, 178.85, 179.37, 179.4, 179.01, 180.22, 180.91, 183.6, 183.85, 183.78, 183.47, 183.07, 183.22, 183.16, 181.94, 182.23, 182.29, 183.12, 183.86, 184.54, 184.55, 186.01, 185.38, 184.48, 184.81, 184.79, 185.33, 186.5, 187.64, 187.44, 187.59, 187.87, 186.88, 187.88, 187.89, 189.0, 189.55, 190.91, 191.0, 191.38, 191.43, 191.58, 191.91, 193.34, 192.5, 193.39, 193.82, 193.3, 195.23, 194.45, 194.83, 196.35, 196.01, 196.55, 196.85, 196.45, 198.69, 198.0, 199.16, 202.31, 201.74, 201.52, 200.93, 199.73, 199.89, 199.97, 199.55, 201.34, 200.94, 200.26, 201.31, 201.09, 202.2, 203.3, 202.14, 203.05, 203.23, 203.44, 205.09, 205.87, 206.46, 205.66, 204.21, 202.69, 203.14, 202.22, 200.96, 199.13, 200.22, 200.83, 200.99, 201.32, 201.22, 200.6, 201.06, 200.55, 199.18, 199.6, 200.07, 200.09, 199.87, 201.5, 200.57, 200.51, 199.49, 198.21, 197.68, 195.1, 195.54, 195.16, 196.42, 196.38, 198.38, 198.62, 199.27, 198.84, 198.3, 201.72, 201.99, 201.98, 201.55, 200.74, 200.36, 200.6, 200.51, 201.51, 201.13, 200.48, 200.44, 200.04, 201.1, 201.64, 202.38, 201.36, 201.31, 200.61, 200.6, 201.12, 202.72, 202.48, 203.05, 202.84, 204.19, 205.04, 205.3, 205.27, 205.11, 206.94, 207.08, 209.14, 209.32, 209.84, 210.86, 211.45, 211.67, 214.35, 211.8, 211.91, 211.71, 210.05, 211.17, 212.06, 212.87, 213.06, 212.97, 212.15, 214.23, 213.51, 213.79, 215.48, 215.03, 215.68, 218.63, 218.97, 221.16, 221.34, 221.86, 221.26, 221.15, 220.47, 222.8, 223.12, 224.02, 224.69, 226.39, 227.32, 228.16, 232.27, 233.76, 233.35, 234.36, 234.72, 235.08, 234.58, 235.39, 234.8, 237.04, 238.62, 239.18, 239.15, 240.38, 239.82, 239.48, 238.61, 238.21, 240.95, 240.62, 240.8]\n",
            "\n",
            "\n",
            "Episode 100\tAverage Score: 19.36\n",
            "Episode 200\tAverage Score: 21.81\n",
            "Episode 300\tAverage Score: 29.24\n",
            "Episode 400\tAverage Score: 38.53\n",
            "Episode 500\tAverage Score: 38.98\n",
            "Episode 600\tAverage Score: 46.23\n",
            "Episode 700\tAverage Score: 50.98\n",
            "Episode 800\tAverage Score: 60.95\n",
            "Episode 900\tAverage Score: 78.10\n",
            "Episode 1000\tAverage Score: 93.43\n",
            "Episode 1100\tAverage Score: 106.13\n",
            "Episode 1200\tAverage Score: 94.23\n",
            "Episode 1300\tAverage Score: 104.57\n",
            "Episode 1400\tAverage Score: 115.41\n",
            "Episode 1500\tAverage Score: 129.19\n",
            "Episode 1600\tAverage Score: 120.93\n",
            "Episode 1700\tAverage Score: 138.21\n",
            "Episode 1800\tAverage Score: 135.56\n",
            "Episode 1900\tAverage Score: 156.80\n",
            "0:02:55.547964\n",
            "[14.0, 18.5, 16.333333333333332, 16.75, 18.2, 18.833333333333332, 19.0, 19.25, 18.444444444444443, 18.6, 19.09090909090909, 19.416666666666668, 19.53846153846154, 19.214285714285715, 18.666666666666668, 18.375, 18.823529411764707, 18.666666666666668, 18.42105263157895, 18.5, 18.047619047619047, 17.863636363636363, 18.47826086956522, 18.291666666666668, 18.12, 18.03846153846154, 18.14814814814815, 17.892857142857142, 18.17241379310345, 18.166666666666668, 17.967741935483872, 18.0625, 18.181818181818183, 18.205882352941178, 18.085714285714285, 18.083333333333332, 17.83783783783784, 17.842105263157894, 18.205128205128204, 18.25, 18.341463414634145, 18.261904761904763, 18.186046511627907, 18.431818181818183, 18.42222222222222, 19.02173913043478, 18.914893617021278, 18.895833333333332, 19.163265306122447, 19.06, 18.941176470588236, 18.826923076923077, 18.71698113207547, 18.574074074074073, 18.618181818181817, 18.482142857142858, 18.385964912280702, 18.362068965517242, 18.25423728813559, 18.216666666666665, 18.21311475409836, 18.70967741935484, 18.714285714285715, 18.65625, 18.553846153846155, 18.62121212121212, 19.029850746268657, 18.91176470588235, 18.82608695652174, 18.785714285714285, 18.774647887323944, 18.694444444444443, 18.684931506849313, 19.12162162162162, 19.08, 19.026315789473685, 19.181818181818183, 19.23076923076923, 19.21518987341772, 19.1875, 19.19753086419753, 19.182926829268293, 19.096385542168676, 19.023809523809526, 19.376470588235293, 19.6046511627907, 19.528735632183906, 19.602272727272727, 19.50561797752809, 19.41111111111111, 19.32967032967033, 19.380434782608695, 19.344086021505376, 19.414893617021278, 19.389473684210525, 19.34375, 19.309278350515463, 19.244897959183675, 19.262626262626263, 19.36, 19.4, 19.62, 19.8, 19.77, 19.87, 19.81, 19.81, 19.71, 19.8, 20.06, 19.94, 19.86, 19.78, 19.94, 19.95, 20.04, 20.03, 19.99, 20.15, 20.35, 20.56, 20.63, 20.61, 20.67, 20.83, 20.8, 20.71, 20.72, 20.62, 20.59, 20.68, 20.62, 20.57, 20.66, 20.65, 20.58, 20.66, 20.68, 20.59, 20.62, 20.54, 20.68, 20.68, 20.53, 20.59, 20.28, 20.24, 20.19, 20.02, 20.02, 20.28, 20.32, 20.45, 20.48, 20.6, 20.65, 20.94, 20.94, 21.25, 21.31, 21.35, 21.22, 21.51, 21.48, 21.48, 21.92, 21.64, 21.62, 21.61, 21.64, 21.7, 21.92, 21.87, 21.49, 21.49, 21.45, 21.31, 21.25, 21.2, 21.19, 21.29, 21.24, 21.48, 21.68, 21.34, 21.15, 21.24, 21.25, 21.3, 21.4, 21.56, 21.74, 21.85, 21.69, 21.64, 21.83, 21.82, 21.79, 21.93, 21.81, 21.78, 21.58, 21.55, 21.6, 21.46, 21.5, 21.5, 21.65, 21.59, 21.41, 21.47, 21.61, 21.62, 21.66, 21.84, 21.95, 21.79, 21.86, 21.72, 22.13, 22.27, 22.51, 22.37, 22.38, 22.44, 22.45, 22.53, 22.65, 22.82, 22.8, 22.88, 22.91, 23.17, 23.22, 23.39, 23.52, 23.67, 23.65, 23.58, 23.46, 23.78, 23.85, 23.89, 23.96, 23.93, 24.09, 24.13, 24.3, 24.44, 25.18, 24.98, 24.93, 24.87, 24.91, 24.73, 24.78, 24.6, 25.19, 24.87, 25.1, 25.0, 24.83, 24.54, 24.62, 24.71, 24.22, 24.31, 24.63, 24.86, 24.94, 25.46, 25.39, 25.65, 25.8, 26.0, 26.1, 26.15, 26.21, 26.3, 26.51, 26.49, 26.95, 26.94, 26.83, 27.36, 27.28, 27.41, 27.28, 27.22, 27.59, 28.22, 27.99, 28.23, 28.22, 28.88, 29.1, 29.08, 29.21, 29.1, 29.24, 29.5, 29.46, 29.54, 29.84, 30.18, 30.32, 30.29, 30.26, 30.44, 30.4, 30.58, 30.74, 30.81, 30.99, 31.05, 31.29, 31.92, 32.21, 32.23, 31.76, 31.85, 31.62, 31.84, 32.12, 31.98, 32.03, 32.25, 32.22, 32.2, 32.16, 32.38, 33.0, 32.71, 32.69, 33.3, 33.39, 33.27, 33.42, 33.59, 33.92, 33.95, 33.89, 33.98, 34.76, 35.14, 35.26, 35.36, 35.54, 35.69, 35.35, 35.61, 35.77, 35.69, 35.85, 36.01, 36.27, 36.47, 35.98, 36.13, 36.03, 36.17, 36.24, 36.38, 36.44, 36.49, 36.6, 36.65, 36.54, 36.43, 36.3, 36.12, 36.03, 36.08, 35.96, 36.11, 36.5, 36.8, 36.98, 37.3, 37.4, 37.79, 37.47, 37.48, 37.62, 37.44, 37.6, 37.57, 37.83, 38.13, 37.85, 37.29, 37.58, 37.76, 37.86, 37.93, 38.08, 38.28, 38.47, 38.61, 38.53, 38.37, 38.49, 38.35, 38.26, 37.91, 37.84, 37.98, 38.57, 38.84, 38.88, 38.83, 38.62, 38.76, 38.88, 38.82, 38.52, 38.03, 37.98, 38.3, 38.19, 37.81, 37.93, 37.74, 37.49, 37.74, 37.71, 37.94, 38.0, 37.97, 38.17, 37.9, 37.26, 37.26, 37.25, 36.48, 36.51, 36.85, 37.06, 36.93, 36.84, 36.64, 36.84, 37.04, 36.23, 35.93, 35.8, 36.15, 35.91, 35.9, 35.56, 35.8, 35.83, 36.01, 35.8, 35.72, 36.11, 36.07, 36.09, 36.06, 36.35, 36.32, 37.44, 37.48, 37.91, 38.36, 38.59, 39.03, 39.0, 39.09, 39.44, 39.3, 39.39, 39.49, 39.53, 39.2, 38.86, 38.61, 38.52, 38.32, 38.25, 38.14, 38.28, 38.18, 38.36, 38.2, 38.13, 38.27, 38.28, 38.32, 38.6, 38.49, 38.5, 38.19, 38.83, 38.66, 38.6, 38.61, 38.53, 38.5, 38.98, 39.75, 39.8, 40.16, 40.19, 40.57, 40.62, 40.47, 40.14, 39.95, 40.08, 39.98, 40.17, 40.44, 40.12, 40.33, 40.73, 40.97, 40.88, 40.64, 40.6, 41.09, 41.25, 41.51, 41.52, 41.32, 41.3, 41.09, 41.15, 41.74, 41.68, 42.11, 42.27, 42.39, 42.77, 42.87, 42.8, 42.6, 42.44, 42.54, 42.61, 42.73, 42.54, 42.34, 42.52, 42.5, 43.13, 42.96, 43.43, 43.43, 43.63, 43.45, 43.36, 43.5, 44.29, 44.42, 44.13, 44.02, 44.05, 44.37, 44.38, 44.42, 44.02, 44.28, 43.85, 43.82, 43.51, 43.15, 43.6, 43.48, 43.33, 43.5, 44.21, 44.83, 45.55, 45.6, 45.67, 45.84, 45.8, 45.99, 45.92, 45.78, 45.56, 45.58, 45.29, 45.85, 46.78, 46.8, 46.67, 47.16, 46.78, 46.8, 46.99, 47.36, 46.69, 46.44, 46.19, 46.29, 46.48, 46.43, 46.23, 45.47, 45.54, 45.33, 45.36, 44.99, 44.99, 44.96, 44.77, 44.75, 44.48, 44.39, 45.07, 45.58, 45.61, 45.51, 45.21, 45.47, 45.47, 45.32, 45.34, 44.84, 44.92, 45.03, 45.26, 45.6, 45.78, 45.68, 45.81, 45.41, 45.46, 44.98, 45.67, 45.94, 45.84, 45.84, 45.74, 45.94, 45.9, 45.92, 46.54, 46.67, 47.19, 47.36, 47.18, 47.46, 46.72, 47.17, 47.09, 47.22, 47.04, 46.78, 46.89, 46.7, 45.96, 45.79, 45.47, 45.9, 46.04, 46.14, 45.94, 45.89, 45.25, 45.0, 45.02, 44.96, 46.15, 46.19, 45.81, 46.45, 46.8, 47.73, 47.13, 46.56, 45.85, 46.43, 46.31, 46.35, 46.32, 46.62, 47.2, 47.41, 47.77, 47.67, 48.15, 47.58, 47.58, 47.53, 48.39, 47.64, 47.96, 48.58, 48.37, 48.55, 48.55, 48.74, 49.46, 49.74, 49.88, 50.61, 50.98, 50.99, 51.3, 51.67, 51.53, 52.68, 53.11, 53.48, 53.6, 53.67, 54.09, 54.42, 53.73, 53.04, 53.18, 53.09, 53.33, 52.91, 53.36, 53.67, 54.14, 54.54, 54.23, 53.93, 54.19, 53.84, 53.88, 53.84, 54.0, 53.79, 54.05, 54.4, 54.27, 54.04, 53.96, 54.26, 55.33, 55.16, 55.17, 55.39, 54.63, 54.54, 54.27, 54.24, 54.74, 54.57, 54.99, 54.82, 55.31, 55.35, 55.55, 55.82, 56.0, 56.1, 56.8, 57.6, 57.64, 57.94, 57.75, 57.87, 58.17, 58.43, 58.37, 58.23, 58.59, 58.33, 57.54, 57.45, 58.46, 58.2, 58.67, 57.77, 58.36, 58.02, 58.71, 58.41, 58.49, 58.7, 58.99, 59.12, 58.47, 58.17, 57.88, 58.84, 58.46, 58.82, 58.01, 60.06, 59.62, 59.87, 59.87, 60.19, 60.01, 60.13, 61.54, 61.48, 61.14, 61.0, 61.67, 61.1, 60.95, 61.28, 61.4, 61.47, 61.76, 60.91, 60.86, 60.74, 61.34, 61.5, 62.63, 63.31, 63.21, 63.47, 63.47, 63.73, 63.35, 63.91, 63.74, 64.95, 64.91, 64.88, 65.17, 65.54, 65.57, 65.85, 65.88, 66.81, 66.41, 67.04, 66.89, 67.67, 68.22, 68.4, 68.34, 68.66, 68.46, 69.47, 70.4, 70.96, 71.23, 71.26, 71.09, 71.43, 71.25, 71.62, 71.43, 71.38, 70.95, 71.48, 72.11, 72.71, 72.59, 73.11, 72.39, 71.81, 72.05, 71.5, 71.97, 71.68, 72.55, 72.71, 72.86, 73.41, 73.32, 73.65, 73.9, 74.85, 74.16, 75.48, 75.58, 76.97, 76.6, 78.08, 77.88, 78.01, 78.03, 77.92, 78.43, 77.95, 78.68, 78.95, 79.18, 79.26, 79.52, 79.57, 79.65, 77.86, 78.39, 79.16, 79.23, 78.4, 78.73, 78.17, 77.29, 78.09, 78.1, 77.96, 77.74, 78.25, 78.1, 78.39, 79.28, 79.18, 79.84, 80.46, 80.17, 80.24, 80.29, 80.1, 79.32, 78.82, 78.98, 79.52, 79.66, 79.77, 80.54, 81.12, 81.76, 81.9, 82.31, 83.32, 83.5, 83.62, 83.25, 83.44, 85.6, 84.7, 84.95, 84.77, 84.88, 84.13, 84.31, 84.65, 85.03, 84.91, 84.82, 83.9, 83.11, 82.32, 82.52, 83.48, 83.55, 83.56, 83.69, 84.59, 85.38, 85.48, 85.59, 85.87, 85.97, 85.49, 86.56, 86.94, 87.83, 88.01, 89.6, 91.23, 91.01, 91.22, 89.85, 90.3, 90.57, 90.97, 91.18, 91.47, 91.2, 90.46, 91.09, 91.0, 90.33, 88.88, 89.23, 89.19, 89.4, 89.2, 90.42, 90.46, 90.1, 90.72, 90.62, 90.98, 91.17, 90.25, 90.41, 90.39, 91.53, 91.63, 91.35, 90.93, 91.57, 92.6, 92.39, 93.5, 93.31, 92.37, 91.96, 92.91, 92.4, 92.44, 93.43, 93.09, 91.93, 93.06, 92.58, 93.04, 93.13, 94.08, 94.45, 94.44, 94.8, 95.0, 96.24, 95.88, 97.38, 97.23, 97.33, 96.75, 96.12, 95.25, 95.55, 95.33, 96.32, 97.23, 97.88, 98.34, 96.99, 97.99, 98.96, 98.96, 100.03, 100.46, 99.87, 100.1, 100.49, 100.21, 100.32, 100.57, 101.04, 102.64, 103.77, 103.12, 103.76, 104.15, 105.31, 104.78, 103.94, 104.12, 104.54, 103.81, 103.76, 103.61, 103.22, 103.42, 103.49, 103.83, 103.45, 102.2, 102.29, 103.01, 103.91, 104.7, 105.58, 105.49, 105.36, 105.48, 105.54, 105.63, 105.14, 104.15, 105.19, 105.28, 105.14, 104.17, 103.74, 103.66, 103.12, 103.53, 104.26, 103.9, 103.48, 102.97, 103.23, 103.9, 104.24, 104.1, 104.19, 104.79, 105.02, 105.33, 104.88, 104.06, 104.26, 104.37, 104.27, 104.68, 105.3, 104.97, 106.26, 106.25, 106.13, 106.58, 107.34, 106.23, 107.06, 106.67, 106.9, 106.3, 105.66, 105.94, 105.93, 105.76, 105.11, 104.99, 103.3, 103.18, 102.99, 102.86, 103.28, 103.8, 102.89, 102.41, 101.77, 100.55, 100.22, 100.51, 99.84, 98.93, 98.45, 99.33, 98.51, 98.16, 98.08, 97.67, 97.18, 98.19, 98.32, 98.64, 98.34, 97.31, 96.34, 96.05, 95.79, 95.44, 94.27, 93.91, 94.17, 95.1, 94.34, 94.64, 94.13, 94.14, 94.41, 93.69, 93.45, 93.94, 93.37, 93.23, 93.52, 92.55, 93.18, 91.97, 91.25, 91.01, 90.96, 90.78, 90.74, 92.72, 93.69, 93.45, 92.86, 92.76, 92.67, 92.57, 93.11, 93.78, 95.32, 95.45, 94.67, 95.26, 95.28, 95.78, 95.51, 95.27, 94.67, 94.99, 94.28, 93.23, 93.4, 93.0, 92.9, 93.83, 94.11, 93.77, 95.2, 95.03, 94.86, 95.14, 93.87, 94.59, 94.23, 93.72, 93.12, 93.6, 94.99, 94.94, 94.66, 94.36, 95.28, 94.96, 95.16, 95.77, 95.93, 96.23, 97.02, 97.46, 97.48, 98.06, 98.6, 97.83, 98.84, 98.56, 98.03, 99.42, 99.67, 98.71, 99.27, 99.68, 99.92, 98.77, 98.7, 98.68, 98.44, 99.23, 99.42, 99.84, 99.34, 99.16, 99.53, 99.57, 99.34, 99.82, 100.02, 100.7, 100.85, 100.88, 101.72, 100.36, 101.24, 101.2, 101.52, 101.7, 101.01, 101.44, 100.9, 100.06, 100.6, 101.08, 101.65, 102.5, 101.06, 101.5, 101.39, 101.64, 101.31, 101.54, 103.4, 101.86, 101.38, 101.52, 102.0, 102.25, 102.54, 102.75, 102.72, 102.38, 100.67, 101.03, 101.44, 100.67, 102.64, 103.45, 103.95, 103.74, 104.63, 104.27, 104.9, 105.42, 105.06, 106.01, 105.9, 105.36, 105.33, 105.45, 104.58, 105.71, 106.04, 105.61, 106.0, 104.84, 104.57, 104.8, 105.63, 106.96, 104.32, 103.72, 104.5, 104.86, 104.24, 105.49, 105.23, 105.66, 105.69, 106.34, 106.34, 107.32, 107.41, 106.8, 105.99, 107.75, 106.75, 106.99, 108.1, 107.37, 106.81, 106.77, 107.1, 107.52, 107.61, 109.24, 109.54, 110.48, 111.1, 110.8, 111.39, 111.26, 112.61, 113.04, 113.67, 113.44, 114.01, 114.03, 114.11, 113.99, 114.69, 114.56, 114.51, 114.86, 114.48, 114.62, 115.46, 115.29, 115.86, 115.3, 116.43, 116.47, 115.45, 116.29, 115.35, 116.06, 116.05, 115.5, 117.21, 117.49, 118.14, 118.11, 116.42, 115.8, 115.06, 115.02, 115.71, 115.62, 115.63, 116.24, 117.12, 117.98, 118.01, 117.18, 117.9, 118.12, 116.58, 115.73, 115.86, 115.95, 117.21, 118.21, 117.18, 117.28, 116.91, 116.99, 118.13, 118.15, 118.25, 117.87, 117.6, 116.07, 115.58, 115.23, 115.23, 115.65, 115.41, 115.89, 115.62, 114.5, 115.37, 116.53, 116.33, 117.22, 116.96, 116.75, 117.1, 116.7, 117.06, 117.69, 117.37, 118.14, 118.6, 118.69, 118.89, 117.8, 118.56, 119.29, 118.45, 118.16, 118.73, 119.61, 119.72, 119.74, 119.77, 119.44, 119.83, 120.64, 121.2, 120.84, 120.14, 119.32, 118.18, 118.57, 117.69, 118.03, 118.13, 117.57, 118.45, 119.04, 119.25, 119.57, 118.77, 120.05, 120.28, 120.51, 119.73, 120.15, 120.58, 121.0, 120.46, 120.81, 122.58, 121.48, 122.08, 121.21, 121.87, 123.9, 122.5, 122.41, 123.46, 123.36, 123.9, 124.38, 125.24, 125.22, 123.64, 123.91, 126.32, 126.11, 125.31, 124.91, 124.71, 125.06, 123.92, 123.73, 124.19, 124.62, 125.61, 126.65, 124.65, 124.12, 124.83, 124.46, 124.75, 124.29, 123.88, 123.94, 123.87, 124.55, 124.89, 125.7, 126.08, 126.24, 126.17, 127.73, 129.19, 129.14, 128.59, 128.09, 128.39, 127.77, 128.81, 128.49, 128.36, 127.92, 127.11, 126.82, 126.25, 125.73, 125.7, 124.13, 123.58, 123.39, 123.05, 122.99, 122.77, 122.86, 123.86, 123.61, 124.69, 125.06, 124.28, 124.04, 123.84, 123.52, 123.48, 122.99, 122.26, 122.22, 122.71, 122.32, 122.75, 122.17, 121.92, 121.51, 120.85, 121.53, 121.46, 120.83, 120.42, 120.39, 121.1, 120.75, 120.38, 119.7, 119.83, 120.72, 119.99, 119.6, 119.59, 119.4, 117.67, 117.94, 117.48, 117.91, 118.97, 117.86, 117.84, 117.01, 116.06, 116.78, 116.62, 116.22, 115.46, 116.32, 116.58, 117.79, 115.94, 116.33, 118.07, 117.97, 118.71, 119.46, 119.93, 120.2, 120.29, 120.01, 119.05, 119.78, 120.02, 119.96, 121.06, 122.66, 122.37, 122.94, 122.61, 122.63, 123.29, 122.6, 122.75, 122.49, 122.95, 123.58, 123.58, 122.23, 120.93, 120.46, 121.21, 121.14, 121.46, 121.12, 119.68, 119.77, 119.76, 120.38, 120.4, 120.08, 120.46, 119.72, 119.61, 120.83, 121.29, 121.94, 122.42, 122.33, 122.78, 121.91, 121.73, 121.84, 121.5, 120.7, 120.31, 120.14, 119.95, 119.82, 119.18, 118.66, 119.26, 119.34, 119.08, 119.9, 120.49, 120.98, 121.45, 122.0, 122.81, 123.45, 122.27, 122.04, 122.61, 123.55, 123.43, 122.92, 123.61, 125.19, 125.28, 125.93, 127.02, 128.31, 129.02, 128.98, 129.49, 129.38, 130.13, 130.85, 129.97, 129.28, 128.97, 130.02, 130.15, 129.76, 129.93, 132.25, 132.38, 132.59, 132.94, 133.85, 134.32, 135.19, 133.0, 133.14, 133.0, 132.03, 132.64, 132.82, 132.85, 133.01, 134.42, 133.12, 132.88, 133.96, 133.46, 132.35, 132.75, 132.07, 132.45, 132.87, 133.18, 133.61, 134.13, 135.71, 135.66, 136.19, 136.7, 137.31, 138.21, 138.69, 138.28, 138.68, 138.39, 139.07, 140.23, 139.83, 140.36, 140.77, 141.91, 143.14, 142.38, 143.67, 144.24, 142.81, 142.71, 142.44, 142.36, 142.0, 142.66, 142.84, 142.85, 143.26, 143.01, 143.7, 144.67, 145.43, 145.17, 146.01, 146.1, 146.37, 145.35, 145.84, 146.12, 147.33, 146.99, 146.24, 146.61, 147.13, 147.01, 146.44, 146.82, 146.9, 146.05, 145.68, 145.76, 145.42, 145.59, 144.56, 145.08, 144.38, 144.22, 143.34, 143.41, 144.3, 143.86, 144.4, 144.13, 143.47, 144.44, 144.68, 145.86, 146.08, 146.55, 145.95, 146.2, 144.43, 144.85, 144.92, 144.84, 143.42, 142.33, 141.55, 141.98, 142.08, 142.19, 141.83, 141.44, 141.06, 141.45, 141.27, 140.09, 139.53, 140.91, 141.51, 140.38, 140.08, 141.07, 141.24, 140.91, 140.55, 140.02, 140.01, 139.19, 137.89, 137.71, 136.61, 136.65, 135.6, 135.56, 135.51, 136.03, 137.5, 137.11, 136.99, 137.0, 137.56, 138.23, 137.33, 137.62, 138.36, 138.37, 137.69, 138.69, 138.96, 139.91, 140.14, 139.8, 142.87, 142.17, 143.83, 143.76, 144.0, 144.28, 142.97, 143.69, 143.46, 143.78, 142.22, 143.21, 142.75, 142.99, 142.76, 142.06, 140.51, 140.45, 141.07, 140.79, 140.96, 141.16, 141.07, 140.71, 140.15, 140.86, 141.95, 141.61, 142.05, 141.31, 141.39, 141.38, 140.47, 140.03, 140.53, 140.87, 140.52, 141.01, 140.9, 141.07, 141.09, 139.69, 140.0, 140.12, 139.15, 139.08, 139.39, 139.21, 139.64, 140.55, 140.42, 142.29, 144.32, 145.37, 146.18, 146.5, 147.4, 148.41, 150.38, 151.25, 151.52, 150.59, 150.76, 150.25, 151.74, 151.1, 149.8, 151.33, 151.83, 152.75, 153.26, 155.23, 156.34, 155.91, 154.99, 154.95, 154.79, 155.08, 156.28, 155.7, 156.6, 156.8, 156.85, 155.63, 153.51, 153.5, 153.26, 153.34, 153.15, 152.33, 152.22, 150.73, 148.88, 149.49, 148.21, 146.54, 146.48, 145.63, 145.79, 146.05, 143.0, 142.87, 141.27, 140.92, 140.88, 139.48, 141.13, 140.35, 139.43, 139.04, 139.21, 138.16, 137.9, 137.84, 137.57, 139.03, 139.17, 138.49, 138.09, 137.62, 136.65, 136.24, 135.87, 135.48, 135.73, 135.38, 133.47, 133.62, 134.94, 134.54, 134.92, 134.32, 134.29, 133.96, 133.64, 132.4, 132.15, 131.14, 130.96, 131.05, 130.69, 131.89, 131.44, 130.36, 130.69, 129.73, 129.61, 129.53, 128.56, 127.17, 127.14, 125.74, 122.74, 121.16, 119.97, 119.64, 118.65, 117.44, 115.81, 114.64, 115.53, 115.77, 116.36, 117.0, 115.99, 116.57, 116.31, 115.95, 115.58, 114.35, 113.58, 112.48, 111.58, 111.96, 112.76, 114.05, 115.15, 114.75, 114.29, 114.74, 115.06]\n",
            "\n",
            "\n",
            "Episode 100\tAverage Score: 20.22\n",
            "Episode 200\tAverage Score: 20.65\n",
            "Episode 300\tAverage Score: 25.09\n",
            "Episode 400\tAverage Score: 25.80\n",
            "Episode 500\tAverage Score: 32.03\n",
            "Episode 600\tAverage Score: 33.83\n",
            "Episode 700\tAverage Score: 33.68\n",
            "Episode 800\tAverage Score: 40.57\n",
            "Episode 900\tAverage Score: 51.00\n",
            "Episode 1000\tAverage Score: 59.88\n",
            "Episode 1100\tAverage Score: 70.81\n",
            "Episode 1200\tAverage Score: 75.71\n",
            "Episode 1300\tAverage Score: 78.79\n",
            "Episode 1400\tAverage Score: 82.26\n",
            "Episode 1500\tAverage Score: 82.75\n",
            "Episode 1600\tAverage Score: 95.63\n",
            "Episode 1700\tAverage Score: 156.33\n",
            "Episode 1800\tAverage Score: 155.69\n",
            "Episode 1900\tAverage Score: 140.73\n",
            "Environment solved in 1884 episodes!\tAverage Score: 195.64\n",
            "0:02:33.817326\n",
            "[16.0, 15.5, 14.0, 17.75, 17.0, 16.666666666666668, 16.857142857142858, 16.25, 16.22222222222222, 15.9, 16.181818181818183, 16.0, 16.0, 15.642857142857142, 17.0, 16.9375, 16.58823529411765, 16.166666666666668, 15.894736842105264, 16.05, 16.714285714285715, 16.818181818181817, 16.652173913043477, 16.583333333333332, 16.48, 17.0, 16.88888888888889, 17.25, 17.03448275862069, 16.8, 16.870967741935484, 16.6875, 16.636363636363637, 16.852941176470587, 16.82857142857143, 16.63888888888889, 16.83783783783784, 16.657894736842106, 16.487179487179485, 16.325, 16.634146341463413, 16.547619047619047, 16.558139534883722, 16.522727272727273, 16.444444444444443, 16.76086956521739, 17.02127659574468, 16.958333333333332, 16.93877551020408, 17.14, 17.50980392156863, 17.423076923076923, 17.28301886792453, 17.38888888888889, 17.30909090909091, 17.321428571428573, 17.19298245614035, 17.724137931034484, 17.593220338983052, 17.733333333333334, 17.9672131147541, 18.06451612903226, 17.952380952380953, 18.0, 18.092307692307692, 18.227272727272727, 18.492537313432837, 18.720588235294116, 19.014492753623188, 18.9, 19.225352112676056, 19.34722222222222, 19.246575342465754, 19.243243243243242, 19.746666666666666, 19.93421052631579, 19.948051948051948, 20.153846153846153, 20.20253164556962, 20.1125, 20.098765432098766, 20.195121951219512, 20.19277108433735, 20.071428571428573, 20.08235294117647, 19.988372093023255, 19.885057471264368, 19.806818181818183, 19.797752808988765, 19.9, 20.0989010989011, 20.41304347826087, 20.311827956989248, 20.351063829787233, 20.410526315789475, 20.395833333333332, 20.432989690721648, 20.346938775510203, 20.303030303030305, 20.22, 20.21, 20.2, 20.23, 20.19, 20.21, 20.27, 20.24, 20.29, 20.33, 20.31, 20.25, 20.41, 20.48, 20.47, 20.37, 20.35, 20.77, 20.85, 20.92, 20.89, 20.75, 20.71, 20.72, 20.78, 20.95, 20.83, 20.95, 20.84, 21.01, 21.05, 21.08, 21.39, 21.44, 21.37, 21.41, 21.48, 21.33, 21.44, 21.48, 21.58, 21.43, 21.48, 21.55, 21.72, 21.85, 21.74, 21.62, 21.79, 21.75, 21.84, 21.66, 22.01, 22.03, 21.92, 21.89, 21.9, 22.22, 22.02, 22.09, 21.97, 21.8, 21.67, 21.83, 21.78, 21.66, 21.61, 21.35, 21.42, 21.14, 21.19, 21.1, 20.99, 21.03, 20.98, 21.11, 20.97, 20.96, 20.93, 20.93, 21.03, 20.98, 20.9, 20.9, 21.01, 20.89, 21.26, 21.34, 21.31, 21.44, 21.38, 21.22, 20.82, 20.86, 20.77, 20.65, 20.55, 20.49, 20.47, 20.49, 20.65, 20.74, 20.74, 20.71, 20.64, 20.62, 20.53, 20.61, 20.8, 21.0, 21.14, 21.13, 21.08, 21.01, 21.16, 21.22, 21.38, 20.97, 20.95, 21.22, 21.29, 21.3, 21.3, 21.38, 21.3, 21.15, 21.15, 21.03, 21.01, 20.9, 20.89, 20.85, 20.72, 20.65, 20.67, 20.65, 21.12, 21.16, 21.08, 21.19, 21.1, 21.29, 21.27, 21.24, 21.12, 21.01, 21.0, 20.99, 20.79, 20.89, 20.82, 20.76, 20.66, 21.1, 21.87, 22.01, 22.02, 22.46, 22.37, 22.6, 22.73, 23.04, 23.56, 23.46, 23.66, 23.66, 23.55, 24.05, 23.79, 23.78, 23.73, 23.59, 23.78, 23.79, 23.85, 23.39, 23.33, 23.45, 23.59, 23.58, 23.5, 23.55, 23.7, 23.83, 23.91, 24.09, 24.17, 24.46, 24.52, 24.32, 24.44, 24.33, 24.42, 24.72, 24.82, 24.89, 25.02, 25.09, 25.14, 25.15, 25.09, 25.23, 25.26, 25.28, 25.25, 25.4, 25.59, 25.49, 25.27, 25.06, 25.07, 25.05, 24.97, 25.06, 25.03, 24.82, 24.74, 24.72, 24.93, 24.8, 24.72, 24.84, 24.94, 24.98, 25.09, 25.27, 25.2, 25.16, 25.2, 25.21, 25.28, 25.45, 25.34, 25.37, 25.29, 25.3, 24.9, 25.15, 25.25, 25.29, 25.42, 25.54, 25.57, 25.67, 26.01, 26.08, 26.0, 26.0, 26.16, 26.07, 25.96, 26.08, 25.86, 25.56, 24.89, 24.91, 24.91, 24.28, 24.35, 24.07, 24.08, 24.09, 23.97, 24.66, 24.47, 24.67, 24.81, 24.42, 24.49, 24.59, 24.65, 24.82, 24.57, 25.05, 24.99, 24.87, 25.31, 25.4, 25.34, 25.45, 25.5, 25.61, 25.71, 25.71, 25.64, 25.48, 25.38, 25.08, 25.06, 25.15, 25.2, 25.27, 25.27, 24.97, 24.83, 25.11, 25.04, 25.07, 25.3, 25.92, 25.8, 25.74, 25.93, 26.41, 26.5, 26.71, 26.91, 26.96, 27.23, 27.16, 27.11, 27.21, 27.17, 27.16, 27.41, 27.69, 27.73, 27.95, 27.77, 27.71, 27.88, 27.82, 28.12, 28.33, 28.27, 28.67, 28.75, 28.82, 28.93, 29.06, 28.98, 29.03, 29.13, 29.33, 29.43, 29.85, 30.18, 29.97, 29.87, 29.93, 29.88, 30.26, 30.34, 30.18, 30.05, 30.16, 30.43, 30.43, 30.41, 30.53, 30.5, 31.27, 31.41, 31.36, 31.91, 31.9, 32.06, 31.99, 31.93, 32.22, 32.08, 32.17, 31.87, 31.26, 31.27, 31.7, 31.57, 31.76, 32.7, 32.75, 32.83, 32.69, 32.83, 32.45, 32.56, 32.76, 32.33, 32.3, 32.35, 32.5, 32.4, 32.52, 32.34, 32.48, 32.35, 32.41, 32.11, 32.13, 32.16, 32.18, 31.96, 32.07, 32.2, 32.25, 32.35, 32.13, 32.84, 32.74, 32.59, 31.96, 32.03, 32.02, 32.29, 32.11, 32.31, 32.3, 32.07, 32.04, 31.97, 32.13, 32.05, 32.55, 32.54, 32.59, 32.36, 32.52, 32.39, 32.3, 32.38, 32.43, 32.36, 32.39, 32.19, 32.01, 32.15, 31.59, 31.55, 31.52, 31.35, 31.22, 31.56, 31.61, 31.59, 31.58, 31.55, 31.2, 31.05, 31.41, 31.51, 31.41, 31.44, 30.82, 30.86, 31.03, 30.82, 30.87, 30.88, 31.39, 31.43, 31.73, 32.01, 31.33, 31.38, 31.6, 31.01, 31.33, 31.25, 31.39, 31.51, 31.65, 31.81, 32.14, 32.36, 32.48, 32.52, 32.33, 32.76, 32.59, 31.56, 31.47, 31.55, 31.6, 31.68, 31.82, 32.05, 31.98, 31.98, 31.79, 31.72, 31.48, 31.69, 31.77, 31.71, 31.76, 32.02, 32.31, 32.45, 32.57, 32.63, 32.69, 32.84, 33.06, 33.42, 33.57, 33.54, 33.75, 33.17, 33.53, 33.72, 33.86, 33.83, 33.81, 33.3, 33.28, 33.1, 33.95, 33.86, 33.91, 33.92, 33.86, 34.19, 33.76, 33.88, 33.78, 33.78, 33.56, 33.74, 33.73, 33.72, 33.63, 33.53, 33.66, 33.88, 33.85, 33.98, 34.04, 34.29, 34.38, 34.4, 34.38, 34.47, 34.31, 34.63, 34.61, 34.74, 34.67, 34.43, 34.28, 34.37, 34.41, 34.35, 34.45, 34.35, 34.25, 34.19, 34.22, 34.07, 34.32, 34.46, 34.01, 33.72, 33.77, 34.02, 34.05, 33.99, 33.97, 34.18, 34.26, 34.22, 33.99, 34.11, 33.46, 33.3, 33.78, 33.79, 33.5, 33.19, 33.27, 33.43, 33.38, 33.32, 33.3, 33.37, 33.21, 32.93, 33.1, 33.11, 33.19, 33.16, 33.23, 33.07, 33.06, 32.99, 33.19, 33.15, 32.95, 33.24, 33.16, 33.5, 33.73, 33.65, 33.39, 32.83, 32.71, 33.14, 33.09, 33.19, 33.0, 33.13, 33.09, 33.68, 33.77, 34.12, 33.94, 33.9, 32.73, 32.98, 32.99, 32.95, 32.93, 32.63, 32.67, 32.95, 33.06, 33.36, 33.73, 34.02, 33.99, 34.17, 34.36, 34.44, 34.36, 34.28, 34.54, 34.8, 34.81, 34.81, 34.82, 35.11, 35.47, 35.24, 35.35, 35.02, 35.0, 35.18, 35.35, 35.38, 35.19, 35.28, 35.37, 35.65, 35.83, 35.96, 36.04, 36.44, 36.68, 36.74, 36.35, 36.18, 36.25, 36.3, 36.14, 35.72, 35.68, 36.06, 35.83, 35.76, 35.55, 36.18, 36.77, 37.15, 37.43, 37.54, 37.02, 37.17, 37.05, 37.09, 36.92, 37.06, 37.13, 37.28, 37.29, 37.7, 38.11, 38.38, 38.2, 38.21, 38.45, 39.06, 39.39, 39.58, 39.57, 39.88, 39.53, 40.41, 40.49, 40.34, 40.32, 40.19, 39.92, 40.1, 40.2, 40.76, 40.86, 40.84, 40.79, 40.89, 40.87, 40.75, 40.68, 40.57, 40.87, 40.56, 40.51, 40.47, 40.7, 40.43, 40.64, 41.3, 41.46, 41.86, 41.87, 41.7, 41.49, 41.51, 41.17, 40.9, 41.31, 41.18, 41.1, 41.22, 41.39, 41.82, 41.58, 41.33, 41.42, 41.48, 41.61, 41.69, 41.67, 41.88, 41.75, 41.85, 41.9, 41.97, 42.43, 42.93, 43.2, 43.63, 43.88, 43.89, 44.07, 44.06, 44.76, 44.65, 44.3, 44.5, 44.44, 45.05, 45.22, 45.7, 46.0, 46.12, 46.06, 45.93, 46.51, 46.89, 47.35, 46.66, 46.43, 45.96, 45.96, 45.79, 45.85, 45.99, 46.09, 46.07, 46.28, 46.44, 46.92, 46.84, 47.35, 47.19, 47.31, 47.18, 47.14, 47.43, 48.0, 47.26, 47.96, 48.73, 48.95, 49.24, 49.17, 48.35, 48.32, 48.17, 48.37, 49.02, 50.18, 50.15, 50.12, 49.62, 49.46, 49.73, 49.67, 49.73, 49.73, 50.07, 51.07, 51.0, 50.58, 50.98, 51.19, 52.41, 52.71, 53.4, 53.44, 53.0, 53.01, 53.4, 53.76, 53.75, 54.22, 54.03, 54.06, 54.37, 54.13, 54.41, 54.33, 54.5, 54.53, 54.21, 54.47, 54.91, 55.2, 55.37, 55.34, 55.5, 55.32, 55.42, 56.02, 56.31, 56.42, 56.44, 55.98, 55.69, 55.7, 55.25, 55.22, 55.31, 55.64, 56.24, 55.59, 55.75, 56.52, 56.82, 56.97, 56.68, 56.7, 56.27, 56.09, 56.35, 56.73, 57.86, 57.38, 57.1, 57.34, 57.68, 57.34, 57.51, 57.46, 58.05, 57.98, 58.05, 58.3, 58.79, 58.77, 58.67, 58.4, 59.48, 59.54, 59.37, 59.03, 59.31, 59.8, 59.65, 59.3, 59.51, 58.67, 58.09, 58.08, 58.27, 58.45, 58.66, 58.84, 59.6, 59.9, 59.42, 58.56, 58.46, 59.03, 59.19, 59.72, 59.61, 59.76, 59.76, 60.41, 60.24, 59.92, 59.88, 60.15, 59.82, 59.76, 58.93, 58.68, 58.16, 58.25, 58.23, 58.61, 58.4, 58.64, 58.65, 58.5, 58.6, 58.81, 59.3, 59.5, 59.52, 59.65, 59.99, 59.84, 60.31, 61.5, 62.63, 63.0, 62.87, 63.43, 63.18, 63.14, 64.01, 63.78, 63.95, 64.08, 64.06, 64.88, 64.98, 64.9, 64.8, 64.98, 65.24, 65.0, 65.12, 65.71, 66.62, 66.33, 65.95, 66.27, 66.53, 66.84, 67.17, 67.18, 67.13, 66.67, 65.39, 65.67, 66.84, 66.6, 66.48, 67.58, 67.68, 67.45, 67.29, 67.51, 67.24, 67.27, 66.99, 67.2, 67.08, 68.1, 67.43, 67.62, 67.89, 67.87, 68.31, 68.05, 68.1, 67.98, 68.73, 68.57, 68.48, 69.42, 69.15, 69.73, 69.95, 70.09, 69.81, 69.9, 70.03, 70.41, 70.48, 70.46, 71.12, 70.89, 70.83, 71.15, 71.24, 70.78, 70.92, 70.84, 70.81, 70.66, 72.23, 73.35, 73.58, 73.78, 73.89, 74.55, 74.99, 75.17, 75.03, 74.66, 74.55, 74.63, 75.03, 74.96, 74.48, 75.1, 75.02, 75.48, 75.41, 76.02, 75.83, 74.92, 73.33, 73.38, 73.51, 73.09, 73.23, 73.94, 73.15, 73.26, 73.34, 73.59, 73.51, 72.79, 73.74, 74.27, 74.57, 74.39, 74.06, 74.34, 73.92, 73.63, 72.65, 72.51, 73.02, 72.39, 71.85, 71.78, 71.83, 72.44, 72.44, 72.81, 73.5, 73.18, 72.49, 72.29, 72.33, 71.73, 73.35, 73.87, 73.77, 73.95, 74.24, 74.18, 74.63, 75.08, 75.28, 74.7, 74.18, 74.06, 75.22, 75.57, 74.88, 75.85, 76.15, 75.97, 75.28, 75.63, 75.76, 74.77, 74.65, 74.76, 74.42, 74.92, 74.39, 74.48, 74.69, 75.05, 75.49, 75.09, 75.59, 76.15, 75.83, 75.42, 75.72, 76.18, 76.03, 75.71, 75.71, 75.88, 74.71, 74.45, 74.27, 74.04, 74.09, 73.42, 74.58, 74.08, 74.59, 75.16, 75.45, 75.71, 75.45, 75.84, 75.91, 75.73, 75.99, 75.96, 75.94, 76.07, 75.86, 75.86, 77.53, 77.31, 77.29, 77.12, 77.25, 76.75, 76.58, 76.27, 75.71, 75.29, 75.57, 75.54, 76.06, 75.6, 75.75, 75.47, 76.1, 76.06, 76.5, 76.15, 76.17, 76.18, 75.76, 76.16, 76.63, 76.4, 76.05, 75.88, 76.45, 76.13, 76.62, 76.8, 76.9, 77.27, 77.23, 77.49, 75.71, 75.29, 75.23, 75.78, 75.65, 76.5, 76.04, 75.36, 75.93, 76.85, 77.24, 76.97, 75.6, 75.63, 76.27, 75.98, 76.26, 77.29, 77.27, 77.14, 77.39, 77.21, 77.28, 77.06, 77.15, 76.55, 77.22, 77.22, 77.05, 76.53, 76.66, 76.81, 76.29, 77.04, 77.41, 77.69, 77.58, 77.54, 78.84, 78.77, 78.79, 79.25, 79.18, 78.66, 78.36, 78.57, 79.12, 79.26, 77.83, 77.83, 77.37, 77.35, 78.28, 78.41, 78.51, 78.33, 78.21, 78.07, 78.46, 78.77, 78.47, 78.07, 77.92, 77.6, 76.79, 76.63, 76.61, 76.71, 77.22, 77.53, 77.83, 78.37, 79.5, 80.08, 79.81, 80.02, 79.25, 79.27, 79.35, 79.73, 79.39, 78.89, 78.74, 78.94, 79.24, 79.4, 79.32, 79.92, 79.76, 80.08, 80.63, 80.62, 81.63, 81.76, 81.1, 81.25, 80.78, 81.28, 81.45, 80.76, 82.1, 82.5, 83.45, 82.78, 82.74, 82.06, 82.0, 82.24, 81.54, 80.42, 80.86, 81.49, 81.7, 82.43, 82.14, 82.24, 81.95, 80.86, 81.83, 81.92, 81.67, 82.36, 82.67, 82.5, 83.15, 83.38, 83.58, 84.03, 83.88, 83.77, 83.59, 83.99, 83.39, 82.35, 82.37, 82.25, 82.67, 82.56, 82.16, 82.19, 82.26, 81.92, 82.23, 81.87, 82.2, 82.16, 81.69, 81.53, 81.84, 81.78, 81.74, 81.2, 80.4, 80.05, 80.07, 79.87, 80.04, 79.73, 80.34, 79.95, 80.21, 80.07, 80.31, 80.23, 80.65, 80.88, 82.04, 82.02, 81.88, 81.98, 81.7, 81.35, 80.8, 80.42, 81.02, 80.89, 80.53, 80.73, 81.16, 81.17, 82.07, 82.6, 82.54, 82.54, 82.35, 81.98, 82.46, 83.04, 83.94, 84.07, 83.95, 83.76, 82.47, 82.96, 82.87, 83.12, 83.42, 83.35, 83.69, 83.61, 82.63, 82.78, 82.12, 83.14, 84.09, 84.46, 85.09, 85.28, 86.7, 86.42, 85.85, 85.36, 85.41, 84.28, 84.82, 84.33, 84.34, 84.76, 83.85, 83.74, 84.33, 83.79, 83.35, 83.84, 83.22, 83.12, 82.68, 82.43, 82.46, 82.43, 82.32, 81.62, 81.97, 82.33, 81.81, 82.47, 82.07, 82.24, 82.34, 82.52, 82.75, 82.91, 82.88, 83.72, 83.82, 83.78, 83.59, 84.09, 84.74, 84.91, 85.52, 85.78, 86.21, 88.62, 89.15, 89.08, 89.25, 89.18, 89.01, 89.48, 90.74, 90.64, 90.8, 91.71, 90.71, 90.15, 89.87, 90.63, 90.33, 89.95, 90.72, 90.78, 90.72, 91.5, 91.94, 91.72, 91.8, 91.8, 91.43, 91.33, 90.62, 90.39, 89.81, 89.62, 90.17, 90.9, 90.23, 89.06, 88.54, 88.75, 88.8, 88.53, 89.03, 88.98, 89.09, 88.41, 88.28, 87.94, 87.64, 90.09, 90.48, 90.4, 90.95, 89.88, 89.13, 88.93, 88.66, 88.54, 87.46, 87.88, 88.26, 89.08, 89.13, 89.65, 88.58, 88.97, 89.18, 88.94, 89.57, 89.79, 90.2, 90.16, 91.46, 92.41, 92.86, 92.61, 93.03, 93.04, 93.5, 93.62, 93.96, 95.13, 94.83, 94.54, 96.08, 95.87, 95.66, 95.53, 94.66, 95.49, 95.63, 95.71, 96.06, 96.93, 96.7, 96.92, 96.89, 98.24, 97.54, 98.71, 98.98, 100.0, 99.65, 97.71, 98.48, 99.61, 100.05, 100.23, 100.98, 100.65, 99.35, 100.59, 101.23, 101.8, 103.04, 103.62, 104.3, 104.8, 106.43, 108.03, 107.43, 109.96, 109.91, 110.1, 110.97, 111.75, 112.81, 113.16, 113.93, 113.84, 113.66, 114.06, 114.49, 115.87, 115.96, 115.76, 117.0, 117.13, 117.3, 118.55, 121.07, 123.52, 123.83, 123.64, 124.37, 125.3, 127.05, 127.09, 127.78, 125.88, 126.0, 126.81, 126.89, 128.44, 129.78, 130.48, 131.02, 132.71, 132.78, 133.15, 134.29, 134.82, 135.11, 135.61, 137.18, 138.51, 139.49, 140.91, 141.13, 142.22, 142.56, 144.49, 144.44, 143.71, 143.96, 144.72, 145.32, 145.53, 145.7, 146.31, 146.77, 149.55, 150.69, 153.42, 153.3, 153.68, 155.08, 155.85, 156.67, 156.08, 156.33, 158.5, 159.24, 158.88, 158.74, 158.57, 160.68, 159.83, 160.12, 159.96, 158.86, 158.17, 158.69, 160.22, 159.79, 158.83, 158.56, 158.93, 158.17, 159.37, 160.13, 158.67, 158.37, 157.5, 155.64, 156.28, 155.33, 154.98, 154.06, 153.03, 153.56, 152.8, 153.27, 153.17, 152.23, 152.44, 151.46, 152.33, 152.7, 153.04, 153.39, 153.82, 154.76, 154.59, 154.44, 155.03, 154.54, 154.87, 155.45, 155.2, 153.26, 152.29, 152.63, 153.96, 154.07, 154.56, 153.69, 154.49, 155.0, 156.27, 157.43, 157.68, 157.87, 157.03, 156.03, 156.7, 156.97, 157.03, 158.31, 159.05, 159.72, 158.94, 158.65, 158.21, 158.85, 159.14, 158.79, 160.38, 161.43, 160.26, 161.17, 159.97, 159.28, 159.06, 158.82, 159.45, 158.94, 159.71, 159.34, 159.64, 160.2, 157.59, 157.67, 156.39, 155.77, 155.86, 155.24, 154.49, 155.41, 155.06, 155.69, 153.94, 154.49, 153.98, 154.8, 155.66, 154.87, 154.87, 154.75, 155.26, 156.68, 156.43, 157.19, 156.02, 155.73, 156.82, 156.71, 157.29, 157.28, 157.94, 157.61, 158.62, 159.13, 159.43, 161.13, 161.15, 161.95, 161.99, 161.76, 161.72, 162.65, 163.62, 163.27, 164.13, 163.57, 163.37, 164.47, 164.04, 165.3, 165.68, 166.32, 165.71, 165.68, 166.92, 166.22, 165.85, 166.69, 166.96, 166.5, 165.43, 165.33, 164.93, 164.31, 163.48, 162.55, 161.88, 161.3, 159.86, 159.41, 158.74, 157.21, 157.72, 156.64, 156.02, 157.19, 156.8, 156.35, 154.89, 153.55, 152.93, 151.48, 150.95, 151.21, 150.58, 149.3, 147.88, 147.96, 146.16, 144.83, 145.88, 143.73, 144.8, 144.27, 144.71, 144.79, 146.65, 145.66, 145.15, 144.81, 144.31, 143.29, 142.05, 141.42, 140.43, 141.12, 140.78, 140.73, 141.18, 140.49, 141.41, 140.73, 140.55, 139.78, 139.67, 141.75, 142.92, 143.16, 143.8, 145.03, 144.38, 145.1, 144.63, 143.94, 145.37, 145.63, 145.64, 146.61, 146.79, 147.27, 146.86, 147.18, 148.07, 147.47, 147.57, 147.4, 148.42, 148.82, 148.95, 149.94, 151.24, 151.13, 150.08, 151.55, 150.91, 151.25, 153.19, 152.53, 151.61, 149.2, 148.39, 149.64, 150.47, 150.19, 149.82, 152.2, 151.95, 153.34, 153.7, 154.74, 157.03, 158.45, 158.88, 159.57, 162.33, 163.76, 164.67, 164.7, 166.65, 168.6, 169.01, 171.49, 171.16, 172.46, 173.19, 173.74, 172.35, 173.95, 176.86, 178.62, 179.57, 182.08, 183.49, 183.45, 185.37, 186.84, 187.46, 187.81, 189.02, 189.61, 190.21, 194.54, 193.79, 194.18, 194.66, 195.64, 195.55, 197.22, 197.39, 201.1, 202.02, 204.41, 205.56, 206.84, 207.85, 207.31, 209.19, 209.18, 208.96, 210.55, 212.96]\n",
            "\n",
            "\n",
            "Episode 100\tAverage Score: 22.69\n",
            "Episode 200\tAverage Score: 24.26\n",
            "Episode 300\tAverage Score: 30.34\n",
            "Episode 400\tAverage Score: 34.84\n",
            "Episode 500\tAverage Score: 42.01\n",
            "Episode 600\tAverage Score: 51.88\n",
            "Episode 700\tAverage Score: 57.48\n",
            "Episode 800\tAverage Score: 62.85\n",
            "Episode 900\tAverage Score: 78.91\n",
            "Episode 1000\tAverage Score: 82.77\n",
            "Episode 1100\tAverage Score: 80.21\n",
            "Episode 1200\tAverage Score: 88.19\n",
            "Episode 1300\tAverage Score: 87.14\n",
            "Episode 1400\tAverage Score: 94.36\n",
            "Episode 1500\tAverage Score: 97.94\n",
            "Episode 1600\tAverage Score: 103.36\n",
            "Episode 1700\tAverage Score: 95.56\n",
            "Episode 1800\tAverage Score: 73.13\n",
            "Episode 1900\tAverage Score: 98.39\n",
            "0:02:25.001951\n",
            "[13.0, 14.5, 22.666666666666668, 28.75, 27.0, 28.0, 27.0, 26.875, 26.11111111111111, 26.1, 26.818181818181817, 27.5, 26.53846153846154, 25.714285714285715, 24.866666666666667, 25.1875, 26.11764705882353, 25.444444444444443, 24.736842105263158, 24.2, 24.285714285714285, 24.136363636363637, 24.217391304347824, 24.833333333333332, 24.6, 24.0, 23.77777777777778, 24.5, 24.03448275862069, 23.733333333333334, 23.483870967741936, 23.34375, 23.09090909090909, 22.676470588235293, 23.4, 23.083333333333332, 22.864864864864863, 22.94736842105263, 22.666666666666668, 22.825, 22.78048780487805, 22.785714285714285, 22.697674418604652, 22.545454545454547, 22.466666666666665, 22.32608695652174, 22.19148936170213, 22.125, 22.53061224489796, 22.38, 22.41176470588235, 22.403846153846153, 22.169811320754718, 22.35185185185185, 22.29090909090909, 22.339285714285715, 22.17543859649123, 22.413793103448278, 22.54237288135593, 22.8, 23.016393442622952, 22.951612903225808, 22.857142857142858, 22.75, 22.6, 22.5, 22.567164179104477, 22.485294117647058, 22.55072463768116, 22.442857142857143, 22.281690140845072, 22.194444444444443, 22.08219178082192, 22.04054054054054, 21.986666666666668, 21.86842105263158, 22.038961038961038, 22.0, 21.9873417721519, 22.0, 22.728395061728396, 22.74390243902439, 22.746987951807228, 22.678571428571427, 22.788235294117648, 22.732558139534884, 22.735632183908045, 22.78409090909091, 22.8876404494382, 22.955555555555556, 22.824175824175825, 22.684782608695652, 22.72043010752688, 22.648936170212767, 22.589473684210525, 22.697916666666668, 22.742268041237114, 22.8265306122449, 22.68686868686869, 22.69, 22.7, 22.72, 22.67, 22.4, 22.54, 22.38, 22.31, 22.56, 22.48, 22.4, 22.28, 22.09, 22.06, 22.16, 22.19, 22.22, 21.96, 22.13, 22.52, 22.5, 22.38, 22.48, 22.42, 22.17, 22.14, 22.17, 22.1, 21.76, 21.97, 21.94, 22.05, 22.02, 22.04, 22.18, 21.94, 22.15, 22.18, 22.1, 22.16, 22.06, 22.21, 22.16, 22.19, 22.16, 22.12, 22.26, 22.25, 22.79, 22.52, 22.59, 22.48, 22.73, 22.94, 22.75, 22.79, 22.86, 22.92, 22.81, 22.72, 22.55, 22.44, 22.55, 22.69, 22.93, 22.99, 23.29, 23.17, 23.14, 23.02, 23.0, 23.03, 23.2, 23.31, 23.28, 23.21, 23.22, 23.06, 22.97, 23.04, 23.04, 22.49, 22.41, 22.51, 22.53, 22.67, 22.97, 23.07, 22.99, 22.94, 23.01, 23.1, 23.17, 23.23, 23.26, 23.22, 23.04, 23.06, 23.59, 23.81, 24.26, 24.3, 24.45, 24.53, 24.6, 25.4, 25.46, 25.54, 25.22, 25.44, 25.68, 25.77, 25.76, 25.98, 26.17, 26.8, 26.91, 27.0, 26.9, 26.49, 26.49, 26.54, 26.72, 26.67, 27.0, 27.1, 27.16, 27.18, 27.6, 27.72, 27.83, 27.99, 28.24, 28.58, 28.76, 28.95, 28.93, 29.0, 29.05, 29.09, 29.06, 28.93, 29.13, 29.06, 29.07, 29.2, 29.17, 29.68, 29.1, 29.25, 29.27, 29.44, 29.12, 29.17, 29.65, 29.56, 29.45, 29.49, 29.72, 29.75, 29.78, 29.92, 29.79, 29.63, 29.41, 29.34, 29.3, 29.56, 29.92, 30.06, 30.26, 30.3, 30.4, 30.37, 30.32, 30.35, 30.48, 30.48, 30.47, 30.54, 30.41, 30.54, 30.68, 30.51, 30.57, 30.36, 30.52, 30.3, 30.21, 30.28, 30.44, 30.46, 30.48, 30.8, 30.99, 31.18, 31.48, 31.52, 30.83, 30.8, 30.34, 30.52, 30.43, 30.64, 30.53, 30.22, 30.16, 30.76, 30.99, 30.81, 30.55, 30.38, 30.46, 30.36, 30.25, 30.08, 29.96, 30.12, 30.14, 30.49, 30.76, 30.77, 30.5, 30.64, 30.45, 30.5, 30.89, 30.96, 31.18, 31.04, 31.28, 31.03, 30.75, 30.39, 30.11, 29.88, 29.81, 29.83, 30.02, 30.11, 30.26, 30.17, 30.06, 30.13, 30.42, 30.84, 30.77, 30.24, 30.35, 30.36, 30.54, 30.71, 30.72, 30.61, 30.14, 30.44, 31.29, 31.54, 31.54, 31.72, 31.9, 32.06, 32.14, 32.23, 32.29, 32.48, 32.25, 32.05, 31.76, 31.73, 31.97, 32.19, 32.21, 32.15, 32.35, 32.67, 32.66, 32.82, 32.96, 32.94, 33.14, 33.17, 33.48, 33.78, 34.1, 34.53, 34.45, 34.66, 34.74, 34.61, 34.45, 34.92, 34.93, 34.58, 34.53, 34.47, 34.39, 34.62, 34.89, 34.85, 34.84, 34.93, 34.84, 34.54, 34.75, 34.11, 34.11, 33.49, 33.73, 34.1, 34.32, 34.41, 34.4, 34.44, 34.66, 34.37, 34.67, 34.58, 34.57, 34.31, 34.2, 34.76, 34.98, 35.08, 35.26, 35.11, 34.67, 34.84, 34.31, 34.41, 34.23, 34.3, 34.8, 34.98, 35.1, 35.19, 35.35, 35.32, 35.45, 35.65, 35.54, 35.73, 35.73, 35.94, 36.12, 35.82, 35.83, 35.95, 36.38, 36.5, 36.42, 36.4, 36.86, 37.27, 38.26, 38.35, 37.61, 37.4, 37.55, 37.44, 37.23, 37.03, 37.49, 37.59, 37.91, 37.74, 37.87, 38.13, 38.68, 39.46, 39.29, 39.27, 39.09, 39.73, 39.75, 39.49, 39.86, 39.77, 40.16, 40.07, 40.26, 40.53, 40.41, 40.72, 40.56, 40.06, 39.75, 39.8, 39.97, 40.16, 40.62, 40.28, 40.3, 40.51, 40.51, 40.97, 40.81, 40.85, 41.54, 41.55, 42.01, 42.25, 42.67, 42.73, 42.67, 43.02, 43.37, 43.47, 43.1, 42.89, 43.08, 43.4, 43.42, 44.19, 44.23, 44.1, 43.92, 44.09, 44.41, 44.73, 44.71, 44.5, 44.41, 44.29, 44.8, 45.53, 45.61, 45.46, 45.63, 45.73, 46.42, 46.68, 46.16, 46.1, 46.74, 47.06, 47.35, 47.43, 47.45, 47.46, 47.63, 47.7, 47.64, 47.51, 47.16, 47.01, 48.83, 48.89, 49.11, 49.4, 49.75, 49.76, 49.45, 49.28, 48.48, 48.49, 48.58, 48.87, 48.69, 48.93, 49.02, 49.13, 49.05, 49.48, 49.43, 49.61, 49.51, 49.92, 50.22, 49.65, 49.69, 50.15, 50.38, 50.0, 50.47, 51.0, 50.68, 51.01, 50.73, 51.25, 51.2, 51.15, 51.11, 50.53, 50.67, 51.21, 51.68, 51.79, 51.67, 51.53, 51.14, 51.27, 51.6, 52.01, 52.29, 52.46, 52.79, 52.64, 51.99, 52.08, 51.88, 51.61, 51.27, 51.59, 52.18, 52.05, 52.1, 52.94, 53.09, 53.21, 53.28, 53.09, 53.35, 52.58, 52.63, 52.85, 52.86, 52.8, 52.68, 53.02, 53.16, 53.13, 53.21, 53.14, 53.39, 52.89, 53.13, 53.55, 54.26, 54.21, 53.66, 53.62, 54.61, 54.94, 55.1, 55.02, 55.15, 55.29, 55.09, 55.15, 55.27, 55.43, 55.59, 56.2, 56.48, 56.91, 55.23, 55.22, 54.74, 54.5, 54.4, 54.69, 54.63, 54.68, 55.11, 55.88, 55.83, 55.8, 57.07, 56.74, 56.69, 56.63, 56.45, 55.94, 55.74, 55.69, 56.17, 55.53, 55.05, 55.08, 55.51, 55.06, 54.93, 55.38, 55.42, 55.42, 55.7, 56.43, 56.68, 56.2, 56.13, 56.12, 56.47, 56.74, 56.47, 56.21, 55.72, 55.69, 55.78, 55.84, 56.11, 56.25, 56.23, 55.92, 56.25, 55.73, 55.47, 55.83, 55.98, 56.59, 57.48, 57.97, 58.29, 58.0, 58.31, 58.77, 58.47, 57.72, 57.8, 57.57, 57.26, 57.85, 57.53, 57.6, 57.18, 57.45, 57.5, 57.86, 57.69, 57.13, 57.8, 57.52, 57.75, 57.78, 56.92, 56.9, 57.09, 56.84, 56.91, 57.05, 57.05, 57.44, 56.63, 56.69, 56.28, 56.01, 55.72, 55.44, 55.99, 55.69, 56.7, 56.91, 57.24, 56.63, 56.32, 55.95, 55.99, 56.71, 56.86, 56.99, 56.79, 57.21, 57.5, 57.47, 57.11, 56.1, 56.53, 56.67, 55.25, 55.46, 55.48, 55.67, 55.49, 55.84, 55.99, 56.36, 56.16, 56.38, 56.36, 56.1, 56.12, 56.7, 57.27, 56.9, 56.98, 57.08, 56.97, 56.1, 56.15, 56.51, 56.62, 56.55, 56.73, 56.96, 57.48, 57.86, 58.35, 58.3, 58.72, 59.23, 59.92, 60.25, 60.39, 61.59, 60.94, 61.51, 62.47, 62.21, 62.85, 62.91, 62.85, 62.78, 62.67, 63.0, 63.16, 63.09, 63.91, 64.55, 65.11, 65.37, 65.74, 66.08, 66.62, 66.87, 67.44, 67.77, 67.97, 67.62, 67.74, 67.93, 67.36, 67.97, 68.05, 68.74, 68.94, 69.46, 69.4, 69.84, 69.1, 68.79, 68.9, 69.29, 69.53, 69.51, 69.71, 69.89, 69.94, 70.56, 70.56, 70.92, 69.87, 69.87, 70.71, 71.45, 71.81, 71.78, 72.5, 72.71, 72.78, 72.7, 72.8, 72.34, 72.6, 72.68, 72.75, 72.96, 72.68, 72.76, 73.23, 73.93, 75.52, 75.57, 75.84, 75.63, 76.18, 76.52, 76.99, 78.0, 78.02, 79.2, 78.82, 78.38, 77.99, 78.41, 77.84, 77.73, 78.74, 79.72, 79.74, 79.83, 80.32, 80.22, 80.28, 80.86, 80.54, 81.15, 81.17, 82.36, 82.09, 81.75, 81.3, 81.12, 81.07, 80.06, 80.75, 80.44, 79.99, 79.99, 79.46, 79.51, 78.91, 78.78, 79.02, 78.73, 78.32, 77.87, 77.66, 77.28, 76.39, 76.69, 76.89, 76.51, 76.37, 76.22, 75.93, 75.43, 75.68, 75.97, 76.5, 76.9, 77.38, 77.09, 77.33, 77.45, 77.46, 77.1, 77.49, 78.09, 78.74, 79.43, 79.8, 79.69, 79.47, 79.52, 79.77, 80.08, 80.69, 80.7, 80.0, 80.45, 80.99, 81.35, 80.35, 80.46, 80.83, 81.07, 80.91, 80.49, 81.06, 81.76, 81.73, 81.81, 82.18, 82.64, 83.18, 83.31, 83.3, 83.26, 83.23, 82.95, 82.01, 81.9, 82.33, 83.03, 82.78, 82.28, 82.23, 81.37, 82.19, 81.99, 81.96, 82.15, 82.13, 81.95, 82.32, 83.13, 82.73, 82.29, 82.35, 82.08, 82.77, 82.74, 83.03, 82.43, 82.58, 81.84, 81.28, 81.06, 81.61, 82.19, 81.88, 81.77, 82.51, 82.69, 82.53, 83.06, 83.65, 83.43, 83.3, 83.08, 82.77, 82.87, 82.5, 83.26, 83.61, 83.88, 83.76, 83.64, 84.03, 84.09, 84.01, 83.86, 83.65, 85.0, 85.33, 85.35, 84.87, 85.1, 85.27, 84.74, 84.21, 84.09, 84.4, 84.05, 84.15, 84.86, 85.46, 84.83, 84.14, 83.81, 83.54, 83.5, 84.02, 84.35, 83.93, 83.72, 83.1, 83.18, 83.64, 83.35, 83.06, 83.37, 83.6, 83.28, 82.81, 82.98, 82.58, 82.36, 81.99, 81.89, 82.46, 82.28, 81.53, 80.97, 81.02, 81.4, 82.05, 82.02, 81.86, 82.05, 82.08, 82.41, 82.25, 82.07, 82.15, 82.7, 82.32, 82.25, 81.59, 81.29, 81.51, 81.36, 81.28, 81.18, 81.52, 80.7, 80.69, 81.23, 81.02, 81.37, 80.17, 80.29, 79.81, 79.64, 79.31, 79.2, 79.85, 79.23, 79.82, 79.54, 79.98, 79.74, 79.06, 79.31, 79.62, 78.93, 78.65, 79.31, 79.41, 79.5, 80.21, 80.27, 80.64, 79.85, 79.36, 79.35, 79.73, 80.21, 80.44, 80.37, 80.0, 79.61, 80.77, 79.35, 79.28, 79.8, 79.99, 79.6, 79.32, 80.02, 80.39, 80.84, 80.59, 80.76, 80.81, 80.21, 79.53, 79.41, 79.59, 80.43, 80.95, 81.96, 81.82, 82.09, 82.46, 82.85, 82.87, 82.7, 83.6, 83.57, 83.81, 83.21, 83.3, 83.89, 84.02, 84.35, 84.23, 84.75, 84.8, 84.07, 83.75, 84.49, 84.98, 85.45, 85.18, 84.97, 84.53, 84.75, 84.77, 85.0, 84.72, 85.22, 85.8, 86.26, 86.14, 85.96, 85.95, 86.15, 86.04, 85.98, 85.7, 86.1, 86.3, 86.23, 85.8, 85.84, 85.39, 85.0, 85.8, 86.13, 86.89, 87.42, 87.31, 87.47, 88.11, 88.93, 89.0, 88.68, 89.56, 89.29, 88.81, 89.23, 89.24, 88.87, 88.44, 89.1, 88.86, 88.65, 88.28, 88.09, 88.19, 88.3, 88.73, 89.47, 89.19, 89.19, 88.81, 88.89, 89.23, 89.43, 89.55, 90.59, 89.37, 89.62, 89.57, 89.11, 89.22, 89.64, 90.03, 89.74, 89.74, 89.73, 89.35, 89.15, 89.6, 89.77, 89.52, 89.79, 90.27, 89.78, 89.11, 88.05, 88.25, 87.89, 87.3, 87.49, 87.65, 88.76, 88.2, 88.0, 89.05, 89.09, 89.44, 88.5, 88.83, 88.63, 89.42, 88.91, 88.82, 89.45, 89.45, 89.38, 89.26, 88.82, 88.45, 88.88, 89.1, 88.85, 89.19, 88.52, 88.86, 89.19, 88.33, 87.64, 88.28, 88.3, 88.62, 88.24, 88.5, 88.89, 89.83, 89.28, 90.24, 90.46, 90.23, 89.89, 90.06, 89.42, 88.69, 89.52, 89.13, 88.85, 88.56, 89.15, 89.1, 88.25, 87.66, 88.27, 86.58, 86.89, 87.25, 87.14, 87.1, 86.82, 87.29, 86.94, 87.06, 86.86, 87.59, 87.72, 87.14, 87.01, 87.04, 87.22, 87.66, 87.96, 87.83, 87.52, 86.91, 86.85, 87.59, 87.47, 88.11, 88.23, 88.96, 88.87, 88.96, 88.94, 88.33, 89.01, 88.58, 88.48, 88.54, 88.49, 88.11, 88.11, 88.16, 88.89, 88.49, 88.47, 88.72, 88.64, 88.89, 88.6, 88.51, 87.82, 87.83, 86.48, 86.27, 86.33, 84.99, 84.95, 84.36, 85.73, 85.85, 85.97, 86.06, 86.68, 86.68, 86.19, 86.6, 86.69, 86.95, 87.32, 88.11, 87.75, 87.4, 87.36, 87.49, 88.23, 88.1, 87.51, 88.02, 87.94, 87.56, 88.52, 89.48, 90.71, 90.59, 90.46, 89.54, 90.21, 90.27, 90.27, 90.78, 91.5, 92.01, 92.49, 92.88, 91.67, 91.54, 91.97, 92.72, 92.31, 92.35, 93.07, 93.59, 94.01, 94.3, 94.21, 93.84, 94.06, 93.74, 94.21, 93.99, 94.16, 94.62, 94.97, 94.35, 94.2, 94.36, 94.5, 94.09, 94.77, 95.57, 95.31, 95.28, 96.12, 96.48, 96.42, 96.1, 96.6, 96.46, 97.18, 96.35, 96.6, 96.41, 96.32, 97.72, 96.78, 97.76, 97.83, 97.85, 98.38, 98.01, 97.97, 97.89, 98.35, 98.67, 98.85, 98.98, 99.19, 99.85, 99.89, 100.76, 101.29, 101.48, 101.91, 102.14, 101.91, 102.12, 102.83, 103.0, 101.91, 101.47, 101.38, 101.41, 100.61, 101.49, 101.68, 101.68, 102.08, 101.67, 101.77, 100.92, 101.01, 101.38, 101.62, 101.01, 100.85, 101.14, 100.77, 100.48, 101.09, 101.49, 100.85, 100.45, 99.27, 99.61, 99.02, 99.1, 98.55, 97.85, 97.94, 98.41, 97.94, 97.74, 97.71, 97.57, 97.79, 98.05, 97.7, 97.33, 97.67, 97.87, 97.47, 97.34, 96.97, 96.8, 97.7, 97.92, 98.49, 98.88, 98.4, 97.92, 98.04, 97.64, 98.01, 98.13, 98.06, 97.94, 98.38, 99.4, 98.45, 97.51, 98.03, 97.9, 97.4, 97.74, 98.52, 99.67, 98.77, 98.54, 98.11, 99.29, 99.4, 99.47, 99.78, 98.58, 99.05, 98.38, 99.47, 99.69, 99.56, 100.27, 100.31, 101.21, 99.98, 100.0, 100.89, 101.38, 100.72, 99.76, 99.75, 99.61, 99.54, 99.77, 99.79, 99.75, 100.06, 99.92, 99.07, 98.95, 98.83, 98.78, 99.28, 98.78, 99.09, 97.95, 97.94, 98.0, 97.31, 97.49, 97.82, 98.57, 98.43, 98.53, 98.95, 99.54, 99.11, 98.16, 98.09, 98.39, 98.31, 97.91, 97.41, 97.48, 98.07, 97.59, 97.46, 97.87, 97.96, 98.19, 98.26, 97.82, 99.84, 100.06, 99.48, 100.99, 100.77, 100.61, 100.58, 100.78, 101.3, 101.52, 101.52, 101.82, 101.53, 101.34, 100.8, 100.76, 99.89, 100.42, 101.48, 101.78, 102.19, 102.31, 101.9, 102.39, 102.5, 103.36, 103.13, 102.35, 101.88, 101.63, 101.12, 101.77, 101.48, 103.42, 102.41, 101.49, 102.54, 103.1, 103.64, 102.5, 102.11, 102.21, 101.68, 102.77, 102.72, 102.97, 102.06, 102.13, 102.02, 102.92, 103.03, 102.95, 103.08, 103.02, 102.0, 101.7, 101.81, 101.42, 101.62, 101.66, 101.52, 101.39, 101.22, 101.21, 101.19, 101.62, 102.96, 103.48, 103.61, 103.99, 103.15, 103.08, 103.93, 104.23, 104.13, 103.84, 103.39, 103.29, 103.35, 103.31, 103.53, 103.2, 102.66, 102.33, 102.84, 104.3, 105.46, 105.05, 104.66, 105.15, 105.06, 104.13, 103.77, 103.47, 104.03, 103.96, 104.05, 103.65, 103.22, 102.75, 101.07, 100.39, 100.89, 99.01, 99.19, 98.86, 99.61, 99.45, 99.26, 98.4, 98.45, 98.38, 98.67, 98.79, 98.8, 98.74, 99.05, 98.34, 97.33, 97.18, 96.66, 96.2, 96.03, 95.53, 96.42, 95.56, 95.24, 94.77, 95.11, 94.9, 95.87, 95.66, 95.53, 93.03, 93.12, 93.81, 93.1, 93.08, 92.38, 92.48, 92.6, 92.78, 93.02, 92.1, 92.24, 91.78, 91.12, 91.13, 90.8, 89.07, 88.83, 87.97, 87.82, 88.41, 87.97, 88.93, 88.97, 89.02, 89.11, 88.76, 88.74, 89.01, 88.67, 88.3, 88.34, 87.66, 85.96, 85.41, 85.34, 84.96, 85.1, 84.81, 84.06, 83.78, 83.71, 83.52, 83.31, 83.03, 82.92, 82.31, 82.05, 82.05, 81.89, 81.58, 80.85, 80.22, 79.42, 79.4, 79.22, 78.38, 78.13, 78.19, 77.9, 78.43, 78.33, 78.12, 78.15, 78.11, 78.11, 78.22, 78.32, 78.34, 78.3, 78.41, 77.73, 77.82, 76.77, 76.54, 75.47, 75.66, 75.9, 75.77, 75.24, 75.16, 74.76, 74.6, 74.37, 74.57, 74.29, 74.1, 74.18, 73.99, 73.68, 73.84, 72.72, 73.13, 72.98, 73.46, 73.66, 74.3, 73.28, 73.43, 73.36, 73.25, 73.37, 71.9, 71.22, 71.02, 70.87, 70.71, 70.86, 70.2, 69.85, 70.33, 70.17, 70.29, 70.48, 70.26, 70.69, 71.35, 71.75, 72.04, 71.84, 71.48, 71.57, 70.99, 71.02, 71.39, 70.96, 71.5, 72.22, 71.47, 71.79, 72.41, 72.78, 72.89, 73.26, 73.61, 73.99, 74.16, 74.3, 75.58, 76.1, 76.14, 76.38, 76.69, 77.56, 78.33, 78.86, 79.25, 78.92, 79.32, 79.55, 80.63, 81.23, 81.16, 80.76, 80.86, 81.1, 82.2, 83.7, 84.17, 84.74, 84.53, 84.64, 85.39, 86.25, 86.42, 86.88, 87.14, 87.68, 87.64, 88.0, 88.32, 88.73, 89.05, 89.09, 89.59, 90.6, 91.36, 91.4, 91.95, 92.98, 93.11, 93.71, 94.75, 94.67, 95.05, 95.74, 96.23, 96.59, 96.73, 97.21, 97.44, 98.09, 98.39, 98.57, 98.83, 98.39, 100.39, 101.72, 102.06, 101.93, 102.6, 102.96, 103.03, 103.73, 105.65, 106.29, 106.31, 107.15, 108.17, 108.74, 108.25, 108.37, 109.11, 110.76, 110.85, 110.6, 110.32, 110.23, 110.38, 110.74, 111.08, 111.52, 110.72, 110.45, 110.38, 110.83, 110.68, 110.35, 110.41, 110.8, 110.8, 110.89, 110.99, 111.03, 110.99, 110.43, 111.56, 112.36, 111.21, 110.85, 111.42, 111.26, 111.13, 110.79, 110.24, 109.74, 110.37, 110.63, 110.33, 112.18, 111.29, 111.14, 110.95, 112.41, 112.04, 113.31, 112.26, 111.26, 112.03, 111.63, 112.03, 111.92, 111.7, 111.71, 111.84, 112.1, 112.04, 111.27, 111.48, 112.59, 112.57, 112.88, 112.95, 113.43, 113.27, 112.73, 112.03, 111.98, 112.19, 112.93, 113.09, 112.82, 112.79, 112.75, 112.35, 112.76, 112.6, 112.4, 113.0, 112.92, 112.64, 112.99]\n",
            "\n",
            "\n"
          ]
        }
      ]
    },
    {
      "cell_type": "code",
      "source": [
        "import numpy as np\n",
        "import matplotlib.pyplot as plt\n",
        "\n",
        "def plot_avg_curves(avg_reward, step_size=1):\n",
        "    max_length = max(len(reward) for reward in avg_reward)\n",
        "\n",
        "    # Initialize arrays to store sum and count of non-zero values for each index\n",
        "    sum_non_zero = np.zeros(max_length)\n",
        "    count_non_zero = np.zeros(max_length)\n",
        "\n",
        "    # Iterate over each list in avg_reward\n",
        "    for reward in avg_reward:\n",
        "        for j, value in enumerate(reward):\n",
        "            if j % step_size == 0:\n",
        "                sum_non_zero[j] += value\n",
        "                count_non_zero[j] += 1\n",
        "\n",
        "    # Calculate mean and standard deviation using non-zero values\n",
        "    mean_avg_reward = sum_non_zero / count_non_zero\n",
        "    mean_reward_std = np.zeros(max_length)\n",
        "\n",
        "    for reward in avg_reward:\n",
        "        for j, value in enumerate(reward):\n",
        "            if j % step_size == 0:\n",
        "                mean_reward_std[j] += (value - mean_avg_reward[j]) ** 2\n",
        "\n",
        "    mean_reward_std = np.sqrt(mean_reward_std / count_non_zero)\n",
        "\n",
        "    # Plot the average rewards with mean and standard deviation\n",
        "    plt.figure()\n",
        "    plt.plot(mean_avg_reward, label='Mean')\n",
        "    plt.fill_between(range(0, max_length, step_size), mean_avg_reward + mean_reward_std, mean_avg_reward - mean_reward_std, alpha=0.5, label=' Std Dev')\n",
        "    plt.xlabel('Episode')\n",
        "    plt.ylabel('Average Total Reward')\n",
        "    plt.title('Average Total Reward vs Episode')\n",
        "    plt.legend()\n",
        "    plt.show()\n",
        "\n",
        "# Example usage:\n",
        "# average_scores = [[1, 2, 3], [4, 5, 6, 7], [8, 9]]\n",
        "\n",
        "plot_avg_curves(np.array(average_scores), step_size=1)\n"
      ],
      "metadata": {
        "colab": {
          "base_uri": "https://localhost:8080/",
          "height": 872
        },
        "id": "sOpWRBSMHrrw",
        "outputId": "271d2b29-4400-4c28-fdf8-ac10b6bcdcf9"
      },
      "execution_count": 37,
      "outputs": [
        {
          "output_type": "display_data",
          "data": {
            "text/plain": [
              "<Figure size 1600x1000 with 1 Axes>"
            ],
            "image/png": "[encoded data removed]"
          },
          "metadata": {}
        }
      ]
    }
  ]
}