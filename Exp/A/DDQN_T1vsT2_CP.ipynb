{
  "nbformat": 4,
  "nbformat_minor": 0,
  "metadata": {
    "colab": {
      "provenance": []
    },
    "kernelspec": {
      "name": "python3",
      "display_name": "Python 3"
    },
    "language_info": {
      "name": "python"
    }
  },
  "cells": [
    {
      "cell_type": "code",
      "execution_count": null,
      "metadata": {
        "id": "cYaqVrNiWUGT"
      },
      "outputs": [],
      "source": []
    },
    {
      "cell_type": "code",
      "source": [
        "'''\n",
        "Installing packages for rendering the game on Colab\n",
        "'''\n",
        "\n",
        "!pip install gym pyvirtualdisplay > /dev/null 2>&1\n",
        "!apt-get install -y xvfb python-opengl ffmpeg > /dev/null 2>&1\n",
        "!apt-get update > /dev/null 2>&1\n",
        "!apt-get install cmake > /dev/null 2>&1\n",
        "!pip install --upgrade setuptools 2>&1\n",
        "!pip install ez_setup > /dev/null 2>&1\n",
        "!pip install gym[atari] > /dev/null 2>&1\n",
        "!pip install git+https://github.com/tensorflow/docs > /dev/null 2>&1\n",
        "!pip install gym[classic_control]"
      ],
      "metadata": {
        "id": "zve95x_CZIk-",
        "colab": {
          "base_uri": "https://localhost:8080/"
        },
        "outputId": "72b3f045-a759-4871-9751-e4add756b7cb"
      },
      "execution_count": 1,
      "outputs": [
        {
          "output_type": "stream",
          "name": "stdout",
          "text": [
            "Requirement already satisfied: setuptools in /usr/local/lib/python3.10/dist-packages (69.2.0)\n",
            "Requirement already satisfied: gym[classic_control] in /usr/local/lib/python3.10/dist-packages (0.25.2)\n",
            "Requirement already satisfied: numpy>=1.18.0 in /usr/local/lib/python3.10/dist-packages (from gym[classic_control]) (1.25.2)\n",
            "Requirement already satisfied: cloudpickle>=1.2.0 in /usr/local/lib/python3.10/dist-packages (from gym[classic_control]) (2.2.1)\n",
            "Requirement already satisfied: gym-notices>=0.0.4 in /usr/local/lib/python3.10/dist-packages (from gym[classic_control]) (0.0.8)\n",
            "Requirement already satisfied: pygame==2.1.0 in /usr/local/lib/python3.10/dist-packages (from gym[classic_control]) (2.1.0)\n"
          ]
        }
      ]
    },
    {
      "cell_type": "code",
      "source": [],
      "metadata": {
        "id": "ZdYJt4F-Wrnk"
      },
      "execution_count": 1,
      "outputs": []
    },
    {
      "cell_type": "code",
      "source": [
        "!pip install wandb\n",
        "import wandb\n",
        "# Replace with your actual API key\n",
        "api_key = \"17dab9d1bbdc37c41831799a4b0b50d3e97400c5\"\n",
        "\n",
        "# Login to Weights & Biases\n",
        "wandb.login(key=api_key)\n",
        "project_name = 'DDQN_T1vsT2_CP'"
      ],
      "metadata": {
        "id": "LjcjlGuQZVfV",
        "colab": {
          "base_uri": "https://localhost:8080/"
        },
        "outputId": "9295d1d8-6d58-4202-e750-e85885cc34f9"
      },
      "execution_count": 2,
      "outputs": [
        {
          "output_type": "stream",
          "name": "stdout",
          "text": [
            "Requirement already satisfied: wandb in /usr/local/lib/python3.10/dist-packages (0.16.6)\n",
            "Requirement already satisfied: Click!=8.0.0,>=7.1 in /usr/local/lib/python3.10/dist-packages (from wandb) (8.1.7)\n",
            "Requirement already satisfied: GitPython!=3.1.29,>=1.0.0 in /usr/local/lib/python3.10/dist-packages (from wandb) (3.1.43)\n",
            "Requirement already satisfied: requests<3,>=2.0.0 in /usr/local/lib/python3.10/dist-packages (from wandb) (2.31.0)\n",
            "Requirement already satisfied: psutil>=5.0.0 in /usr/local/lib/python3.10/dist-packages (from wandb) (5.9.5)\n",
            "Requirement already satisfied: sentry-sdk>=1.0.0 in /usr/local/lib/python3.10/dist-packages (from wandb) (1.44.1)\n",
            "Requirement already satisfied: docker-pycreds>=0.4.0 in /usr/local/lib/python3.10/dist-packages (from wandb) (0.4.0)\n",
            "Requirement already satisfied: PyYAML in /usr/local/lib/python3.10/dist-packages (from wandb) (6.0.1)\n",
            "Requirement already satisfied: setproctitle in /usr/local/lib/python3.10/dist-packages (from wandb) (1.3.3)\n",
            "Requirement already satisfied: setuptools in /usr/local/lib/python3.10/dist-packages (from wandb) (69.2.0)\n",
            "Requirement already satisfied: appdirs>=1.4.3 in /usr/local/lib/python3.10/dist-packages (from wandb) (1.4.4)\n",
            "Requirement already satisfied: protobuf!=4.21.0,<5,>=3.19.0 in /usr/local/lib/python3.10/dist-packages (from wandb) (3.20.3)\n",
            "Requirement already satisfied: six>=1.4.0 in /usr/local/lib/python3.10/dist-packages (from docker-pycreds>=0.4.0->wandb) (1.16.0)\n",
            "Requirement already satisfied: gitdb<5,>=4.0.1 in /usr/local/lib/python3.10/dist-packages (from GitPython!=3.1.29,>=1.0.0->wandb) (4.0.11)\n",
            "Requirement already satisfied: charset-normalizer<4,>=2 in /usr/local/lib/python3.10/dist-packages (from requests<3,>=2.0.0->wandb) (3.3.2)\n",
            "Requirement already satisfied: idna<4,>=2.5 in /usr/local/lib/python3.10/dist-packages (from requests<3,>=2.0.0->wandb) (3.6)\n",
            "Requirement already satisfied: urllib3<3,>=1.21.1 in /usr/local/lib/python3.10/dist-packages (from requests<3,>=2.0.0->wandb) (2.0.7)\n",
            "Requirement already satisfied: certifi>=2017.4.17 in /usr/local/lib/python3.10/dist-packages (from requests<3,>=2.0.0->wandb) (2024.2.2)\n",
            "Requirement already satisfied: smmap<6,>=3.0.1 in /usr/local/lib/python3.10/dist-packages (from gitdb<5,>=4.0.1->GitPython!=3.1.29,>=1.0.0->wandb) (5.0.1)\n"
          ]
        },
        {
          "output_type": "stream",
          "name": "stderr",
          "text": [
            "\u001b[34m\u001b[1mwandb\u001b[0m: Currently logged in as: \u001b[33mrishi1906\u001b[0m (\u001b[33miitm_aero\u001b[0m). Use \u001b[1m`wandb login --relogin`\u001b[0m to force relogin\n",
            "\u001b[34m\u001b[1mwandb\u001b[0m: \u001b[33mWARNING\u001b[0m If you're specifying your api key in code, ensure this code is not shared publicly.\n",
            "\u001b[34m\u001b[1mwandb\u001b[0m: \u001b[33mWARNING\u001b[0m Consider setting the WANDB_API_KEY environment variable, or running `wandb login` from the command line.\n",
            "\u001b[34m\u001b[1mwandb\u001b[0m: Appending key for api.wandb.ai to your netrc file: /root/.netrc\n"
          ]
        }
      ]
    },
    {
      "cell_type": "code",
      "source": [
        "!pip install torch"
      ],
      "metadata": {
        "id": "KtCihhmB8AnZ",
        "colab": {
          "base_uri": "https://localhost:8080/"
        },
        "outputId": "c9ff6f2b-29f9-40f1-9c6a-7c6f6351663d"
      },
      "execution_count": 3,
      "outputs": [
        {
          "output_type": "stream",
          "name": "stdout",
          "text": [
            "Requirement already satisfied: torch in /usr/local/lib/python3.10/dist-packages (2.2.1+cu121)\n",
            "Requirement already satisfied: filelock in /usr/local/lib/python3.10/dist-packages (from torch) (3.13.3)\n",
            "Requirement already satisfied: typing-extensions>=4.8.0 in /usr/local/lib/python3.10/dist-packages (from torch) (4.10.0)\n",
            "Requirement already satisfied: sympy in /usr/local/lib/python3.10/dist-packages (from torch) (1.12)\n",
            "Requirement already satisfied: networkx in /usr/local/lib/python3.10/dist-packages (from torch) (3.2.1)\n",
            "Requirement already satisfied: jinja2 in /usr/local/lib/python3.10/dist-packages (from torch) (3.1.3)\n",
            "Requirement already satisfied: fsspec in /usr/local/lib/python3.10/dist-packages (from torch) (2023.6.0)\n",
            "Requirement already satisfied: nvidia-cuda-nvrtc-cu12==12.1.105 in /usr/local/lib/python3.10/dist-packages (from torch) (12.1.105)\n",
            "Requirement already satisfied: nvidia-cuda-runtime-cu12==12.1.105 in /usr/local/lib/python3.10/dist-packages (from torch) (12.1.105)\n",
            "Requirement already satisfied: nvidia-cuda-cupti-cu12==12.1.105 in /usr/local/lib/python3.10/dist-packages (from torch) (12.1.105)\n",
            "Requirement already satisfied: nvidia-cudnn-cu12==8.9.2.26 in /usr/local/lib/python3.10/dist-packages (from torch) (8.9.2.26)\n",
            "Requirement already satisfied: nvidia-cublas-cu12==12.1.3.1 in /usr/local/lib/python3.10/dist-packages (from torch) (12.1.3.1)\n",
            "Requirement already satisfied: nvidia-cufft-cu12==11.0.2.54 in /usr/local/lib/python3.10/dist-packages (from torch) (11.0.2.54)\n",
            "Requirement already satisfied: nvidia-curand-cu12==10.3.2.106 in /usr/local/lib/python3.10/dist-packages (from torch) (10.3.2.106)\n",
            "Requirement already satisfied: nvidia-cusolver-cu12==11.4.5.107 in /usr/local/lib/python3.10/dist-packages (from torch) (11.4.5.107)\n",
            "Requirement already satisfied: nvidia-cusparse-cu12==12.1.0.106 in /usr/local/lib/python3.10/dist-packages (from torch) (12.1.0.106)\n",
            "Requirement already satisfied: nvidia-nccl-cu12==2.19.3 in /usr/local/lib/python3.10/dist-packages (from torch) (2.19.3)\n",
            "Requirement already satisfied: nvidia-nvtx-cu12==12.1.105 in /usr/local/lib/python3.10/dist-packages (from torch) (12.1.105)\n",
            "Requirement already satisfied: triton==2.2.0 in /usr/local/lib/python3.10/dist-packages (from torch) (2.2.0)\n",
            "Requirement already satisfied: nvidia-nvjitlink-cu12 in /usr/local/lib/python3.10/dist-packages (from nvidia-cusolver-cu12==11.4.5.107->torch) (12.4.127)\n",
            "Requirement already satisfied: MarkupSafe>=2.0 in /usr/local/lib/python3.10/dist-packages (from jinja2->torch) (2.1.5)\n",
            "Requirement already satisfied: mpmath>=0.19 in /usr/local/lib/python3.10/dist-packages (from sympy->torch) (1.3.0)\n"
          ]
        }
      ]
    },
    {
      "cell_type": "code",
      "source": [
        "import numpy as np\n",
        "import random\n",
        "import torch\n",
        "import torch.nn as nn\n",
        "import torch.nn.functional as F\n",
        "from collections import namedtuple, deque\n",
        "import torch.optim as optim\n",
        "import datetime\n",
        "import gym\n",
        "from gym.wrappers.record_video import RecordVideo\n",
        "import glob\n",
        "import io\n",
        "import base64\n",
        "import matplotlib.pyplot as plt\n",
        "from IPython.display import HTML\n",
        "from pyvirtualdisplay import Display\n",
        "import tensorflow as tf\n",
        "from IPython import display as ipythondisplay\n",
        "from PIL import Image\n",
        "import tensorflow_probability as tfp\n",
        "import wandb"
      ],
      "metadata": {
        "id": "2anBcjTiil7R",
        "colab": {
          "base_uri": "https://localhost:8080/"
        },
        "outputId": "f2947268-f407-4d12-eae5-a71a4d561650"
      },
      "execution_count": 4,
      "outputs": [
        {
          "output_type": "stream",
          "name": "stderr",
          "text": [
            "/usr/local/lib/python3.10/dist-packages/tensorflow_probability/python/__init__.py:57: DeprecationWarning: distutils Version classes are deprecated. Use packaging.version instead.\n",
            "  if (distutils.version.LooseVersion(tf.__version__) <\n"
          ]
        }
      ]
    },
    {
      "cell_type": "code",
      "source": [
        "\n",
        "device = torch.device(\"cuda:0\" if torch.cuda.is_available() else \"cpu\")\n"
      ],
      "metadata": {
        "id": "R5KV6KnciwII",
        "colab": {
          "base_uri": "https://localhost:8080/"
        },
        "outputId": "69ee4095-6160-4a38-eeea-95a19dc8d1a7"
      },
      "execution_count": 5,
      "outputs": [
        {
          "output_type": "stream",
          "name": "stderr",
          "text": [
            "/usr/local/lib/python3.10/dist-packages/ipykernel/ipkernel.py:283: DeprecationWarning: `should_run_async` will not call `transform_cell` automatically in the future. Please pass the result to `transformed_cell` argument and any exception that happen during thetransform in `preprocessing_exc_tuple` in IPython 7.17 and above.\n",
            "  and should_run_async(code)\n"
          ]
        }
      ]
    },
    {
      "cell_type": "code",
      "source": [
        "\n",
        "# Define the Dueling DQN model\n",
        "class DuelingDQN_T1(nn.Module):\n",
        "    def __init__(self, input_size, output_size, fc1_units, fc2_units, seed):\n",
        "        super(DuelingDQN_T1, self).__init__()\n",
        "        self.seed = torch.manual_seed(seed)\n",
        "        self.fc1 = nn.Linear(input_size, fc1_units)\n",
        "        self.fc2 = nn.Linear(fc1_units, fc2_units)\n",
        "        self.advantage = nn.Linear(fc2_units, output_size)\n",
        "        self.value = nn.Linear(fc2_units, 1)\n",
        "\n",
        "    def forward(self, state):\n",
        "        x = F.relu(self.fc1(state))\n",
        "        x = F.relu(self.fc2(x))\n",
        "        advantage = self.advantage(x)\n",
        "        value = self.value(x)\n",
        "        q_values = value + (advantage - advantage.mean(dim=-1, keepdim=True))\n",
        "        return q_values\n"
      ],
      "metadata": {
        "id": "5SXQlNoci9Ag"
      },
      "execution_count": 6,
      "outputs": []
    },
    {
      "cell_type": "code",
      "source": [
        "\n",
        "# Define the Dueling DQN model\n",
        "class DuelingDQN_T2(nn.Module):\n",
        "    def __init__(self, input_size, output_size, fc1_units, fc2_units, seed):\n",
        "        super(DuelingDQN_T2, self).__init__()\n",
        "        self.seed = torch.manual_seed(seed)\n",
        "        self.fc1 = nn.Linear(input_size, fc1_units)\n",
        "        self.fc2 = nn.Linear(fc1_units, fc2_units)\n",
        "        self.advantage = nn.Linear(fc2_units, output_size)\n",
        "        self.value = nn.Linear(fc2_units, 1)\n",
        "\n",
        "    def forward(self, state):\n",
        "        x = F.relu(self.fc1(state))\n",
        "        x = F.relu(self.fc2(x))\n",
        "        advantage = self.advantage(x)\n",
        "        value = self.value(x)\n",
        "        q_values = value + (advantage - advantage.max(dim=-1, keepdim=True)[0])\n",
        "        return q_values\n"
      ],
      "metadata": {
        "id": "hOJ9E0bSXQa_"
      },
      "execution_count": 7,
      "outputs": []
    },
    {
      "cell_type": "code",
      "source": [
        "# Define the ReplayBuffer class\n",
        "class ReplayBuffer:\n",
        "    def __init__(self, action_size, buffer_size, batch_size, seed):\n",
        "        self.action_size = action_size\n",
        "        self.memory = deque(maxlen=buffer_size)\n",
        "        self.batch_size = batch_size\n",
        "        self.experience = namedtuple(\"Experience\", field_names=[\"state\", \"action\", \"reward\", \"next_state\", \"done\"])\n",
        "        self.seed = random.seed(seed)\n",
        "\n",
        "    def add(self, state, action, reward, next_state, done):\n",
        "        e = self.experience(state, action, reward, next_state, done)\n",
        "        self.memory.append(e)\n",
        "\n",
        "    def sample(self):\n",
        "        experiences = random.sample(self.memory, k=self.batch_size)\n",
        "        states = torch.from_numpy(np.vstack([e.state for e in experiences if e is not None])).float().to(device)\n",
        "        actions = torch.from_numpy(np.vstack([e.action for e in experiences if e is not None])).long().to(device)\n",
        "        rewards = torch.from_numpy(np.vstack([e.reward for e in experiences if e is not None])).float().to(device)\n",
        "        next_states = torch.from_numpy(np.vstack([e.next_state for e in experiences if e is not None])).float().to(device)\n",
        "        dones = torch.from_numpy(np.vstack([e.done for e in experiences if e is not None]).astype(np.uint8)).float().to(device)\n",
        "        return (states, actions, rewards, next_states, dones)\n",
        "\n",
        "    def __len__(self):\n",
        "        return len(self.memory)\n"
      ],
      "metadata": {
        "id": "BfzM7c3TjDxV"
      },
      "execution_count": 8,
      "outputs": []
    },
    {
      "cell_type": "code",
      "source": [
        "# Define the agent\n",
        "class Agent_T1():\n",
        "    def __init__(self, state_size, action_size, fc1_units, fc2_units, buffer_size, batch_size, lr, update_every, gamma, eps_end, eps_decay, seed):\n",
        "        self.state_size = state_size\n",
        "        self.action_size = action_size\n",
        "        self.batch_size = batch_size\n",
        "        self.lr = lr\n",
        "        self.update_every = update_every\n",
        "        self.gamma = gamma\n",
        "        self.seed = random.seed(seed)\n",
        "        self.q_network = DuelingDQN_T1(state_size, action_size, fc1_units, fc2_units, seed).to(device)\n",
        "        self.target_network = DuelingDQN_T1(state_size, action_size, fc1_units, fc2_units, seed).to(device)\n",
        "        self.optimizer = optim.Adam(self.q_network.parameters(), lr=lr)\n",
        "        ''' Replay memory '''\n",
        "        self.memory = ReplayBuffer(action_size, buffer_size, batch_size, seed)\n",
        "        self.t_step = 0\n",
        "        self.eps_end = eps_end\n",
        "        self.eps_decay = eps_decay\n",
        "\n",
        "    def step(self, state, action, reward, next_state, done):\n",
        "        self.memory.add(state, action, reward, next_state, done)\n",
        "\n",
        "        if len(self.memory) >= self.batch_size:\n",
        "            experiences = self.memory.sample()\n",
        "            self.learn(experiences)\n",
        "\n",
        "        self.t_step = (self.t_step + 1) % self.update_every\n",
        "        if self.t_step == 0:\n",
        "            self.target_network.load_state_dict(self.q_network.state_dict())\n",
        "\n",
        "    def act(self, state, eps=0.0):\n",
        "        state = torch.from_numpy(state).float().unsqueeze(0).to(device)\n",
        "        self.q_network.eval()\n",
        "        with torch.no_grad():\n",
        "            action_values = self.q_network(state)\n",
        "        self.q_network.train()\n",
        "        if random.random() > eps:\n",
        "            return np.argmax(action_values.cpu().data.numpy())\n",
        "        else:\n",
        "            return random.choice(np.arange(self.action_size))\n",
        "\n",
        "    def learn(self, experiences):\n",
        "        states, actions, rewards, next_states, dones = experiences\n",
        "        Q_targets_next = self.target_network(next_states).detach().max(1)[0].unsqueeze(1)\n",
        "        Q_targets = rewards + (self.gamma * Q_targets_next * (1 - dones))\n",
        "        Q_expected = self.q_network(states).gather(1, actions)\n",
        "        loss = F.mse_loss(Q_expected, Q_targets)\n",
        "        # wandb.log({'train loss': loss})\n",
        "        self.optimizer.zero_grad()\n",
        "        loss.backward()\n",
        "        for param in self.q_network.parameters():\n",
        "            param.grad.data.clamp_(-1, 1)  # Gradient clipping\n",
        "        self.optimizer.step()\n"
      ],
      "metadata": {
        "id": "9TzHGE1Ei_j1"
      },
      "execution_count": 9,
      "outputs": []
    },
    {
      "cell_type": "code",
      "source": [
        "# Define the agent\n",
        "class Agent_T2():\n",
        "    def __init__(self, state_size, action_size, fc1_units, fc2_units, buffer_size, batch_size, lr, update_every, gamma, eps_end, eps_decay, seed):\n",
        "        self.state_size = state_size\n",
        "        self.action_size = action_size\n",
        "        self.batch_size = batch_size\n",
        "        self.lr = lr\n",
        "        self.update_every = update_every\n",
        "        self.gamma = gamma\n",
        "        self.seed = random.seed(seed)\n",
        "        self.q_network = DuelingDQN_T2(state_size, action_size, fc1_units, fc2_units, seed).to(device)\n",
        "        self.target_network = DuelingDQN_T2(state_size, action_size, fc1_units, fc2_units, seed).to(device)\n",
        "        self.optimizer = optim.Adam(self.q_network.parameters(), lr=lr)\n",
        "        ''' Replay memory '''\n",
        "        self.memory = ReplayBuffer(action_size, buffer_size, batch_size, seed)\n",
        "        self.t_step = 0\n",
        "        self.eps_end = eps_end\n",
        "        self.eps_decay = eps_decay\n",
        "\n",
        "    def step(self, state, action, reward, next_state, done):\n",
        "        self.memory.add(state, action, reward, next_state, done)\n",
        "\n",
        "        if len(self.memory) >= self.batch_size:\n",
        "            experiences = self.memory.sample()\n",
        "            self.learn(experiences)\n",
        "\n",
        "        self.t_step = (self.t_step + 1) % self.update_every\n",
        "        if self.t_step == 0:\n",
        "            self.target_network.load_state_dict(self.q_network.state_dict())\n",
        "\n",
        "    def act(self, state, eps=0.0):\n",
        "        state = torch.from_numpy(state).float().unsqueeze(0).to(device)\n",
        "        self.q_network.eval()\n",
        "        with torch.no_grad():\n",
        "            action_values = self.q_network(state)\n",
        "        self.q_network.train()\n",
        "        if random.random() > eps:\n",
        "            return np.argmax(action_values.cpu().data.numpy())\n",
        "        else:\n",
        "            return random.choice(np.arange(self.action_size))\n",
        "\n",
        "    def learn(self, experiences):\n",
        "        states, actions, rewards, next_states, dones = experiences\n",
        "        Q_targets_next = self.target_network(next_states).detach().max(1)[0].unsqueeze(1)\n",
        "        Q_targets = rewards + (self.gamma * Q_targets_next * (1 - dones))\n",
        "        Q_expected = self.q_network(states).gather(1, actions)\n",
        "        loss = F.mse_loss(Q_expected, Q_targets)\n",
        "        # wandb.log({'train loss': loss})\n",
        "        self.optimizer.zero_grad()\n",
        "        loss.backward()\n",
        "        for param in self.q_network.parameters():\n",
        "            param.grad.data.clamp_(-1, 1)  # Gradient clipping\n",
        "        self.optimizer.step()\n"
      ],
      "metadata": {
        "id": "So9_8oGKYxU8"
      },
      "execution_count": 10,
      "outputs": []
    },
    {
      "cell_type": "code",
      "source": [
        "def dqn(agent, env, n_episodes=10000, max_t=1000, eps_start=1.0, eps_end=0.01, eps_decay=0.995):\n",
        "    scores_window = deque(maxlen=100)\n",
        "    episode_list_epsgrdy = []\n",
        "    average_scores_epsgrdy = []\n",
        "    average_regret_epsgrdy = []\n",
        "    cumulative_regret_epsgrdy = []\n",
        "    cummulative_regret_window=[]\n",
        "    regret_window = []\n",
        "    cumulative_regret = 0  # Initialize cumulative regret\n",
        "    eps = eps_start\n",
        "\n",
        "    for i_episode in range(1, n_episodes+1):\n",
        "        state = env.reset()\n",
        "        score = 0\n",
        "        regret = 0  # Initialize regret for this episode\n",
        "        # cumulative_regret = 0\n",
        "        for t in range(max_t):\n",
        "            action = agent.act(state, eps)\n",
        "            next_state, reward, done, _ = env.step(action)\n",
        "            optimal_action = np.argmax(agent.q_network(torch.from_numpy(state).float().unsqueeze(0)).cpu().data.numpy())\n",
        "            optimal_reward = env.step(optimal_action)[1]  # Get the reward for the optimal action\n",
        "            regret += optimal_reward - reward  # Calculate regret for this time step\n",
        "            agent.step(state, action, reward, next_state, done)\n",
        "            state = next_state\n",
        "            score += reward\n",
        "\n",
        "            if done:\n",
        "                break\n",
        "\n",
        "\n",
        "        scores_window.append(score)\n",
        "        average_score = np.mean(scores_window)\n",
        "        average_scores_epsgrdy.append(average_score)\n",
        "\n",
        "\n",
        "        regret_window.append(regret)\n",
        "        average_regret = np.mean(regret_window)\n",
        "        average_regret_epsgrdy.append(average_regret)\n",
        "\n",
        "        cumulative_regret += average_regret  # Update cumulative regret\n",
        "\n",
        "        # cummulative_regret_window.append(cumulative_regret)\n",
        "        # cummulative_average_regret = np.mean(cummulative_regret_window)\n",
        "        cummulative_average_regret = average_regret\n",
        "        cumulative_regret_epsgrdy.append(cumulative_regret)\n",
        "\n",
        "        episode_list_epsgrdy.append(i_episode)\n",
        "        wandb.log({'average_score': average_score})\n",
        "        wandb.log({'average_regret': average_regret})\n",
        "        wandb.log({\"cummulative_regret\": cumulative_regret})\n",
        "\n",
        "        print('\\rEpisode {}\\tAverage Score: {:.2f}'.format(i_episode, average_score), end=\"\")\n",
        "\n",
        "        if i_episode % 100 == 0:\n",
        "            print('\\rEpisode {}\\tAverage Score: {:.2f}\\tRegret: {:.2f}'.format(i_episode, average_score, regret))\n",
        "\n",
        "        if np.mean(scores_window)>=195.0:\n",
        "           print('\\nEnvironment solved in {:d} episodes!\\tAverage Score: {:.2f}'.format(i_episode, np.mean(scores_window)))\n",
        "           break\n",
        "        eps = max(eps_end, eps_decay*eps)\n",
        "\n",
        "    return episode_list_epsgrdy, average_scores_epsgrdy, average_regret_epsgrdy"
      ],
      "metadata": {
        "id": "oqeWaJOf7u4P"
      },
      "execution_count": 11,
      "outputs": []
    },
    {
      "cell_type": "code",
      "source": [
        "\n",
        "# Initialize wandb with your project name\n",
        "wandb.init(project=project_name)"
      ],
      "metadata": {
        "id": "EPQxglT2j1Kz",
        "colab": {
          "base_uri": "https://localhost:8080/",
          "height": 125
        },
        "outputId": "c0f98c22-7211-4872-c724-e017d70ffbac"
      },
      "execution_count": 12,
      "outputs": [
        {
          "output_type": "display_data",
          "data": {
            "text/plain": [
              "<IPython.core.display.HTML object>"
            ],
            "text/html": [
              "Tracking run with wandb version 0.16.6"
            ]
          },
          "metadata": {}
        },
        {
          "output_type": "display_data",
          "data": {
            "text/plain": [
              "<IPython.core.display.HTML object>"
            ],
            "text/html": [
              "Run data is saved locally in <code>/content/wandb/run-20240409_112918-t5oam6hj</code>"
            ]
          },
          "metadata": {}
        },
        {
          "output_type": "display_data",
          "data": {
            "text/plain": [
              "<IPython.core.display.HTML object>"
            ],
            "text/html": [
              "Syncing run <strong><a href='https://wandb.ai/iitm_aero/DDQN_T1vsT2_CP/runs/t5oam6hj' target=\"_blank\">generous-silence-6</a></strong> to <a href='https://wandb.ai/iitm_aero/DDQN_T1vsT2_CP' target=\"_blank\">Weights & Biases</a> (<a href='https://wandb.me/run' target=\"_blank\">docs</a>)<br/>"
            ]
          },
          "metadata": {}
        },
        {
          "output_type": "display_data",
          "data": {
            "text/plain": [
              "<IPython.core.display.HTML object>"
            ],
            "text/html": [
              " View project at <a href='https://wandb.ai/iitm_aero/DDQN_T1vsT2_CP' target=\"_blank\">https://wandb.ai/iitm_aero/DDQN_T1vsT2_CP</a>"
            ]
          },
          "metadata": {}
        },
        {
          "output_type": "display_data",
          "data": {
            "text/plain": [
              "<IPython.core.display.HTML object>"
            ],
            "text/html": [
              " View run at <a href='https://wandb.ai/iitm_aero/DDQN_T1vsT2_CP/runs/t5oam6hj' target=\"_blank\">https://wandb.ai/iitm_aero/DDQN_T1vsT2_CP/runs/t5oam6hj</a>"
            ]
          },
          "metadata": {}
        },
        {
          "output_type": "execute_result",
          "data": {
            "text/html": [
              "<button onClick=\"this.nextSibling.style.display='block';this.style.display='none';\">Display W&B run</button><iframe src='https://wandb.ai/iitm_aero/DDQN_T1vsT2_CP/runs/t5oam6hj?jupyter=true' style='border:none;width:100%;height:420px;display:none;'></iframe>"
            ],
            "text/plain": [
              "<wandb.sdk.wandb_run.Run at 0x7ed9ee444bb0>"
            ]
          },
          "metadata": {},
          "execution_count": 12
        }
      ]
    },
    {
      "cell_type": "code",
      "source": [
        "env = gym.make('CartPole-v1')\n",
        "env.seed(0)\n",
        "state_shape = env.observation_space.shape[0]\n",
        "action_shape = env.action_space.n"
      ],
      "metadata": {
        "colab": {
          "base_uri": "https://localhost:8080/"
        },
        "id": "nOKV8a9CnAec",
        "outputId": "f301f3d9-7c75-475c-9b99-59c4866c8e7d"
      },
      "execution_count": 13,
      "outputs": [
        {
          "output_type": "stream",
          "name": "stderr",
          "text": [
            "/usr/local/lib/python3.10/dist-packages/gym/core.py:317: DeprecationWarning: \u001b[33mWARN: Initializing wrapper in old step API which returns one bool instead of two. It is recommended to set `new_step_api=True` to use new step API. This will be the default behaviour in future.\u001b[0m\n",
            "  deprecation(\n",
            "/usr/local/lib/python3.10/dist-packages/gym/wrappers/step_api_compatibility.py:39: DeprecationWarning: \u001b[33mWARN: Initializing environment in old step API which returns one bool instead of two. It is recommended to set `new_step_api=True` to use new step API. This will be the default behaviour in future.\u001b[0m\n",
            "  deprecation(\n",
            "/usr/local/lib/python3.10/dist-packages/gym/core.py:256: DeprecationWarning: \u001b[33mWARN: Function `env.seed(seed)` is marked as deprecated and will be removed in the future. Please use `env.reset(seed=seed)` instead.\u001b[0m\n",
            "  deprecation(\n"
          ]
        }
      ]
    },
    {
      "cell_type": "code",
      "execution_count": 21,
      "metadata": {
        "id": "SluwY98d5OOy"
      },
      "outputs": [],
      "source": [
        "config_T1 = {\n",
        "    'state_size': state_shape,\n",
        "    'action_size': action_shape,\n",
        "    'BUFFER_SIZE': int(1e5),\n",
        "    'BATCH_SIZE': 64,\n",
        "    'LR': 0.0001,\n",
        "    'UPDATE_EVERY': 20,\n",
        "    'fc1_units': 128,\n",
        "    'fc2_units': 64,\n",
        "    'eps_start': 1,\n",
        "    'eps_end': 0.01,\n",
        "    'eps_decay': 0.995,\n",
        "    'gamma': 0.99,\n",
        "    'n_episodes': 1000,\n",
        "    'max_t': 1000\n",
        "}\n",
        "\n",
        "# sweep_id_T1 = wandb.sweep(sweep=sweep_config_T1, project=project_name)"
      ]
    },
    {
      "cell_type": "code",
      "execution_count": 22,
      "metadata": {
        "id": "iN5duOGNX22D"
      },
      "outputs": [],
      "source": [
        "config_T2 = {\n",
        "    'state_size': state_shape,\n",
        "    'action_size': action_shape,\n",
        "    'BUFFER_SIZE': int(1e5),\n",
        "    'BATCH_SIZE': 64,\n",
        "    'LR': 0.0001,\n",
        "    'UPDATE_EVERY': 20,\n",
        "    'fc1_units': 128,\n",
        "    'fc2_units': 64,\n",
        "    'eps_start': 1,\n",
        "    'eps_end': 0.01,\n",
        "    'eps_decay': 0.995,\n",
        "    'gamma': 0.99,\n",
        "    'n_episodes': 1000,\n",
        "    'max_t': 1000\n",
        "}\n",
        "\n",
        "# sweep_id_T2 = wandb.sweep(sweep=sweep_config_T2, project=project_name)\n"
      ]
    },
    {
      "cell_type": "code",
      "source": [
        "average_scores_T1 = []\n",
        "cumm_regret_T1 = []"
      ],
      "metadata": {
        "id": "VLLndXNFYDqw"
      },
      "execution_count": 17,
      "outputs": []
    },
    {
      "cell_type": "code",
      "source": [
        "average_scores_T2 = []\n",
        "cumm_regret_T2 = []"
      ],
      "metadata": {
        "id": "rdI8yJcstPHW"
      },
      "execution_count": null,
      "outputs": []
    },
    {
      "cell_type": "code",
      "source": [
        "\n",
        "\n",
        "# Define the main function for hyperparameter tuning\n",
        "def AvgOverExperiments_T1():\n",
        "\n",
        "    # env = gym.make('Acrobot-v1')\n",
        "    # env.seed(0)\n",
        "    # state_shape = env.observation_space.shape[0]\n",
        "    # no_of_actions = env.action_space.n\n",
        "\n",
        "    # with wandb.init() as run:\n",
        "    # Get the hyperparameters for this run\n",
        "    # config = wandb.config\n",
        "\n",
        "    begin_time = datetime.datetime.now()\n",
        "    # env = gym.make('Acrobot-v1')\n",
        "    # env.seed(0)\n",
        "\n",
        "    # Create the agent with the hyperparameters\n",
        "    agent = Agent_T1(state_size=config_T1['state_size'], action_size=config_T1['action_size'], fc1_units=config_T1['fc1_units'], fc2_units=config_T1['fc2_units'], buffer_size=config_T1['BUFFER_SIZE'], batch_size=config_T1['BATCH_SIZE'], lr=config_T1['LR'], update_every=config_T1['UPDATE_EVERY'], gamma=config_T1['gamma'], eps_end=config_T1['eps_end'], eps_decay=config_T1['eps_decay'],seed = 0)\n",
        "\n",
        "    # Train the agent and get the scores\n",
        "    # episode_list_epsgrdy, average_scores_epsgrdy = dqn(agent, env, n_episodes=config.n_episodes, max_t=config.max_t, eps_start=config.eps_start, eps_end=config.eps_end, eps_decay=config.eps_decay)\n",
        "\n",
        "    episode_list_epsgrdy, average_scores_epsgrdy, cumulative_regret_epsgrdy = dqn(agent, env, n_episodes=config_T1['n_episodes'], max_t=config_T1['max_t'], eps_start=config_T1['eps_start'], eps_end=config_T1['eps_end'], eps_decay=config_T1['eps_decay'])\n",
        "\n",
        "    time_taken = datetime.datetime.now() - begin_time\n",
        "\n",
        "    print(time_taken)\n",
        "    # Log the final average score to wandb\n",
        "    # wandb.log({\"Average Score\": average_scores_epsgrdy})\n",
        "    # wandb.log({\"Average Score\": cumulative_regret})\n",
        "    print(average_scores_epsgrdy)\n",
        "    print('\\n')\n",
        "    print(cumulative_regret_epsgrdy)\n",
        "    average_scores_T1.append(average_scores_epsgrdy)\n",
        "    cumm_regret_T1.append(cumulative_regret_epsgrdy)\n",
        "        # return [average_scores_epsgrdy, cumulative_regret]\n"
      ],
      "metadata": {
        "id": "M4cke-mK2Pr0"
      },
      "execution_count": 18,
      "outputs": []
    },
    {
      "cell_type": "code",
      "source": [
        "\n",
        "\n",
        "# Define the main function for hyperparameter tuning\n",
        "def AvgOverExperiments_T2():\n",
        "\n",
        "    # env = gym.make('Acrobot-v1')\n",
        "    # env.seed(0)\n",
        "    # state_shape = env.observation_space.shape[0]\n",
        "    # no_of_actions = env.action_space.n\n",
        "\n",
        "    # with wandb.init() as run:\n",
        "    # Get the hyperparameters for this run\n",
        "    # config = wandb.config\n",
        "\n",
        "    begin_time = datetime.datetime.now()\n",
        "    # env = gym.make('Acrobot-v1')\n",
        "    # env.seed(0)\n",
        "\n",
        "    # Create the agent with the hyperparameters\n",
        "    agent = Agent_T2(state_size=config_T2['state_size'], action_size=config_T2['action_size'], fc1_units=config_T2['fc1_units'], fc2_units=config_T2['fc2_units'], buffer_size=config_T2['BUFFER_SIZE'], batch_size=config_T2['BATCH_SIZE'], lr=config_T2['LR'], update_every=config_T2['UPDATE_EVERY'], gamma=config_T2['gamma'], eps_end=config_T2['eps_end'], eps_decay=config_T2['eps_decay'],seed = 0)\n",
        "\n",
        "    # Train the agent and get the scores\n",
        "    # episode_list_epsgrdy, average_scores_epsgrdy = dqn(agent, env, n_episodes=config.n_episodes, max_t=config.max_t, eps_start=config.eps_start, eps_end=config.eps_end, eps_decay=config.eps_decay)\n",
        "\n",
        "    episode_list_epsgrdy, average_scores_epsgrdy, cumulative_regret_epsgrdy = dqn(agent, env, n_episodes=config_T2['n_episodes'], max_t=config_T2['max_t'], eps_start=config_T2['eps_start'], eps_end=config_T2['eps_end'], eps_decay=config_T2['eps_decay'])\n",
        "\n",
        "    time_taken = datetime.datetime.now() - begin_time\n",
        "\n",
        "    print(time_taken)\n",
        "    # Log the final average score to wandb\n",
        "    # wandb.log({\"Average Score\": average_scores_epsgrdy})\n",
        "    # wandb.log({\"Average Score\": cumulative_regret})\n",
        "    print(average_scores_epsgrdy)\n",
        "    print('\\n')\n",
        "    print(cumulative_regret_epsgrdy)\n",
        "    average_scores_T2.append(average_scores_epsgrdy)\n",
        "    cumm_regret_T2.append(cumulative_regret_epsgrdy)\n",
        "        # return [average_scores_epsgrdy, cumulative_regret]\n"
      ],
      "metadata": {
        "id": "H96AA1RJZBOY"
      },
      "execution_count": 19,
      "outputs": []
    },
    {
      "cell_type": "code",
      "source": [
        "# # Average over 5 exeriments\n",
        "\n",
        "# average_scores, cumm_regret = [], []\n",
        "num_expts = 5\n",
        "for i in range(num_expts):\n",
        "    print(\"Experiment: %d\" % (i + 1))\n",
        "    AvgOverExperiments_T1()\n",
        "    AvgOverExperiments_T2()\n",
        "    # episode_average_scores, episode_cumm_regret =  wandb.agent(sweep_id, function=AvgOverExperiments, count=1)\n",
        "    # wandb.agent(sweep_id, function=AvgOverExperiments, count=1)\n",
        "    # average_scores.append(episode_average_scores)\n",
        "    # cumm_regret.append(episode_cumm_regret)\n",
        "# wandb.finish()\n"
      ],
      "metadata": {
        "colab": {
          "base_uri": "https://localhost:8080/"
        },
        "id": "7XVhKNa22FaH",
        "outputId": "97c96841-b5cd-4f25-cc65-62b56f1e57a0"
      },
      "execution_count": 23,
      "outputs": [
        {
          "output_type": "stream",
          "name": "stdout",
          "text": [
            "Experiment: 1\n",
            "Episode 100\tAverage Score: 6.38\tRegret: 0.00\n",
            "Episode 200\tAverage Score: 13.63\tRegret: -1.00\n",
            "Episode 300\tAverage Score: 52.32\tRegret: 0.00\n",
            "Episode 400\tAverage Score: 170.77\tRegret: 0.00\n",
            "Episode 422\tAverage Score: 195.12\n",
            "Environment solved in 422 episodes!\tAverage Score: 195.12\n",
            "0:02:10.008153\n",
            "[5.0, 6.5, 6.666666666666667, 6.75, 6.6, 7.0, 7.142857142857143, 7.875, 7.777777777777778, 7.6, 7.636363636363637, 7.416666666666667, 7.3076923076923075, 7.142857142857143, 7.0, 7.125, 7.117647058823529, 7.111111111111111, 7.157894736842105, 7.2, 7.142857142857143, 7.045454545454546, 7.217391304347826, 7.166666666666667, 7.16, 7.076923076923077, 7.037037037037037, 7.0, 7.103448275862069, 7.066666666666666, 7.0, 7.09375, 7.151515151515151, 7.0588235294117645, 7.0285714285714285, 6.972222222222222, 6.972972972972973, 7.0, 6.9743589743589745, 6.975, 6.951219512195122, 6.904761904761905, 6.883720930232558, 6.863636363636363, 6.844444444444444, 6.826086956521739, 6.829787234042553, 6.854166666666667, 6.836734693877551, 6.82, 6.803921568627451, 6.788461538461538, 6.811320754716981, 6.796296296296297, 6.781818181818182, 6.75, 6.7368421052631575, 6.706896551724138, 6.677966101694915, 6.65, 6.639344262295082, 6.612903225806452, 6.587301587301587, 6.5625, 6.553846153846154, 6.53030303030303, 6.507462686567164, 6.514705882352941, 6.521739130434782, 6.5, 6.492957746478873, 6.5, 6.506849315068493, 6.486486486486487, 6.493333333333333, 6.473684210526316, 6.454545454545454, 6.448717948717949, 6.430379746835443, 6.4, 6.395061728395062, 6.378048780487805, 6.397590361445783, 6.416666666666667, 6.411764705882353, 6.406976744186046, 6.390804597701149, 6.363636363636363, 6.337078651685394, 6.333333333333333, 6.318681318681318, 6.336956521739131, 6.408602150537634, 6.3936170212765955, 6.410526315789474, 6.40625, 6.402061855670103, 6.387755102040816, 6.393939393939394, 6.38, 6.4, 6.42, 6.4, 6.38, 6.38, 6.34, 6.31, 6.25, 6.26, 6.25, 6.22, 6.24, 6.23, 6.24, 6.24, 6.2, 6.2, 6.19, 6.17, 6.15, 6.16, 6.16, 6.1, 6.1, 6.09, 6.11, 6.1, 6.09, 6.05, 6.05, 6.05, 6.0, 5.97, 6.01, 6.01, 6.02, 6.02, 5.99, 6.0, 5.98, 5.99, 6.0, 5.99, 5.98, 5.99, 5.97, 5.95, 5.94, 5.93, 5.94, 5.95, 5.95, 5.94, 5.94, 5.95, 5.96, 5.97, 6.02, 6.08, 6.13, 6.14, 6.17, 6.23, 6.29, 6.34, 6.38, 6.41, 6.44, 6.47, 6.55, 6.59, 6.6, 6.63, 6.7, 6.83, 7.13, 7.34, 7.48, 7.82, 8.07, 8.28, 8.4, 8.64, 8.81, 9.07, 9.12, 9.44, 9.92, 10.32, 10.73, 10.94, 11.18, 11.47, 11.83, 11.98, 12.34, 12.53, 13.24, 13.46, 13.63, 13.78, 14.17, 14.34, 14.58, 14.78, 15.43, 15.59, 16.01, 16.31, 16.48, 16.88, 17.13, 17.3, 17.56, 17.8, 18.14, 18.42, 18.72, 18.95, 19.19, 19.5, 19.65, 19.98, 20.44, 20.77, 20.9, 21.14, 21.3, 21.67, 21.95, 22.33, 22.46, 22.55, 22.68, 22.93, 23.4, 23.52, 23.64, 23.84, 24.2, 24.64, 24.91, 25.13, 25.34, 25.66, 26.04, 26.26, 26.32, 26.56, 26.88, 27.1, 27.33, 27.82, 27.99, 28.06, 28.68, 29.32, 29.46, 29.73, 30.15, 30.44, 30.82, 31.1, 31.5, 32.37, 32.5, 32.59, 32.9, 33.35, 33.76, 34.13, 34.8, 35.25, 35.37, 35.69, 35.77, 36.76, 37.0, 36.86, 37.3, 37.58, 38.69, 39.78, 40.24, 40.84, 41.72, 41.92, 43.91, 44.14, 45.13, 46.24, 46.42, 46.55, 47.43, 48.52, 49.63, 51.06, 51.82, 52.06, 52.32, 52.72, 54.21, 54.86, 54.97, 55.17, 56.98, 57.35, 58.3, 58.8, 58.95, 59.62, 60.07, 61.2, 61.39, 61.55, 62.52, 63.42, 63.81, 64.79, 65.96, 67.65, 68.76, 69.19, 69.63, 70.14, 71.08, 72.35, 73.67, 74.25, 76.42, 77.33, 79.47, 80.54, 81.41, 82.93, 84.91, 86.55, 87.55, 89.68, 90.53, 91.24, 92.55, 93.92, 95.76, 95.89, 97.98, 100.22, 101.55, 103.77, 104.34, 104.87, 107.09, 108.11, 110.39, 112.01, 112.51, 114.31, 116.58, 118.71, 119.62, 120.94, 122.09, 122.81, 124.2, 125.19, 127.48, 129.82, 130.94, 132.41, 134.38, 135.43, 136.15, 137.19, 138.57, 140.27, 142.13, 142.22, 144.29, 145.71, 147.16, 149.12, 150.35, 151.4, 153.1, 154.69, 156.06, 158.0, 157.67, 159.39, 159.58, 160.72, 162.73, 164.13, 164.8, 165.55, 165.97, 166.7, 167.33, 168.74, 170.77, 172.66, 172.71, 174.35, 175.67, 177.72, 176.52, 178.45, 179.22, 180.85, 182.99, 184.02, 185.38, 185.86, 187.1, 188.53, 189.19, 189.6, 191.36, 192.6, 193.48, 193.92, 195.12]\n",
            "\n",
            "\n",
            "[0.0, 0.0, -0.3333333333333333, -0.25, -0.4, -0.5, -0.42857142857142855, -0.375, -0.4444444444444444, -0.4, -0.45454545454545453, -0.4166666666666667, -0.38461538461538464, -0.35714285714285715, -0.4, -0.375, -0.35294117647058826, -0.3888888888888889, -0.42105263157894735, -0.45, -0.42857142857142855, -0.4090909090909091, -0.43478260869565216, -0.4583333333333333, -0.48, -0.46153846153846156, -0.48148148148148145, -0.5, -0.4827586206896552, -0.4666666666666667, -0.45161290322580644, -0.46875, -0.45454545454545453, -0.4411764705882353, -0.42857142857142855, -0.4444444444444444, -0.43243243243243246, -0.4473684210526316, -0.46153846153846156, -0.475, -0.4634146341463415, -0.4523809523809524, -0.46511627906976744, -0.45454545454545453, -0.4444444444444444, -0.43478260869565216, -0.44680851063829785, -0.4583333333333333, -0.46938775510204084, -0.48, -0.49019607843137253, -0.5, -0.5094339622641509, -0.5185185185185185, -0.509090909090909, -0.5, -0.5087719298245614, -0.5, -0.4915254237288136, -0.48333333333333334, -0.4918032786885246, -0.4838709677419355, -0.49206349206349204, -0.484375, -0.49230769230769234, -0.48484848484848486, -0.47761194029850745, -0.47058823529411764, -0.4782608695652174, -0.4714285714285714, -0.4788732394366197, -0.4861111111111111, -0.4931506849315068, -0.4864864864864865, -0.49333333333333335, -0.4868421052631579, -0.4935064935064935, -0.5, -0.5063291139240507, -0.5, -0.49382716049382713, -0.5, -0.5060240963855421, -0.5, -0.49411764705882355, -0.4883720930232558, -0.4827586206896552, -0.4772727272727273, -0.47191011235955055, -0.4666666666666667, -0.4725274725274725, -0.4673913043478261, -0.46236559139784944, -0.4574468085106383, -0.4631578947368421, -0.46875, -0.4742268041237113, -0.46938775510204084, -0.47474747474747475, -0.47, -0.4752475247524752, -0.4803921568627451, -0.4854368932038835, -0.49038461538461536, -0.49523809523809526, -0.5, -0.5046728971962616, -0.5092592592592593, -0.5137614678899083, -0.5181818181818182, -0.5135135135135135, -0.5178571428571429, -0.5221238938053098, -0.5175438596491229, -0.5130434782608696, -0.5086206896551724, -0.5042735042735043, -0.5, -0.5042016806722689, -0.5, -0.49586776859504134, -0.5, -0.4959349593495935, -0.5, -0.504, -0.5079365079365079, -0.5039370078740157, -0.5, -0.49612403100775193, -0.5, -0.4961832061068702, -0.49242424242424243, -0.49624060150375937, -0.5, -0.5037037037037037, -0.5073529411764706, -0.5109489051094891, -0.5072463768115942, -0.5107913669064749, -0.5071428571428571, -0.5106382978723404, -0.5140845070422535, -0.5174825174825175, -0.5208333333333334, -0.5241379310344828, -0.5205479452054794, -0.5238095238095238, -0.527027027027027, -0.5234899328859061, -0.5266666666666666, -0.5231788079470199, -0.5263157894736842, -0.5294117647058824, -0.5324675324675324, -0.535483870967742, -0.5384615384615384, -0.535031847133758, -0.5316455696202531, -0.5283018867924528, -0.525, -0.5279503105590062, -0.5308641975308642, -0.5276073619631901, -0.5304878048780488, -0.5272727272727272, -0.5301204819277109, -0.5269461077844312, -0.5297619047619048, -0.5325443786982249, -0.5352941176470588, -0.5380116959064327, -0.5348837209302325, -0.5375722543352601, -0.5402298850574713, -0.5428571428571428, -0.5397727272727273, -0.536723163841808, -0.5393258426966292, -0.5363128491620112, -0.5388888888888889, -0.5414364640883977, -0.5439560439560439, -0.546448087431694, -0.5434782608695652, -0.5405405405405406, -0.5376344086021505, -0.5347593582887701, -0.5372340425531915, -0.5343915343915344, -0.5368421052631579, -0.5287958115183246, -0.53125, -0.533678756476684, -0.5360824742268041, -0.5333333333333333, -0.5306122448979592, -0.5279187817258884, -0.5202020202020202, -0.5175879396984925, -0.52, -0.5223880597014925, -0.5198019801980198, -0.5172413793103449, -0.5147058823529411, -0.5121951219512195, -0.5145631067961165, -0.5120772946859904, -0.5144230769230769, -0.5167464114832536, -0.5142857142857142, -0.5118483412322274, -0.5141509433962265, -0.5117370892018779, -0.514018691588785, -0.5162790697674419, -0.5138888888888888, -0.5161290322580645, -0.5137614678899083, -0.5159817351598174, -0.5181818181818182, -0.5203619909502263, -0.5180180180180181, -0.515695067264574, -0.5178571428571429, -0.52, -0.5221238938053098, -0.5198237885462555, -0.5175438596491229, -0.519650655021834, -0.5217391304347826, -0.5194805194805194, -0.5172413793103449, -0.5150214592274678, -0.5128205128205128, -0.5063829787234042, -0.5084745762711864, -0.510548523206751, -0.5126050420168067, -0.5146443514644351, -0.5125, -0.5103734439834025, -0.5082644628099173, -0.5102880658436214, -0.5081967213114754, -0.5102040816326531, -0.508130081300813, -0.5060728744939271, -0.5080645161290323, -0.5100401606425703, -0.512, -0.5099601593625498, -0.5079365079365079, -0.5098814229249012, -0.5118110236220472, -0.5098039215686274, -0.5078125, -0.5058365758754864, -0.5077519379844961, -0.5096525096525096, -0.5076923076923077, -0.5095785440613027, -0.5114503816793893, -0.5095057034220533, -0.5113636363636364, -0.5132075471698113, -0.5112781954887218, -0.5093632958801498, -0.5111940298507462, -0.5130111524163569, -0.5148148148148148, -0.5129151291512916, -0.5110294117647058, -0.5091575091575091, -0.5109489051094891, -0.5127272727272727, -0.5108695652173914, -0.5126353790613718, -0.5143884892086331, -0.5161290322580645, -0.5142857142857142, -0.5160142348754448, -0.5177304964539007, -0.519434628975265, -0.5176056338028169, -0.5157894736842106, -0.513986013986014, -0.5121951219512195, -0.5104166666666666, -0.5121107266435986, -0.5137931034482759, -0.5154639175257731, -0.5136986301369864, -0.5119453924914675, -0.5136054421768708, -0.5152542372881356, -0.5135135135135135, -0.5151515151515151, -0.5134228187919463, -0.5083612040133779, -0.5066666666666667, -0.5083056478405316, -0.5099337748344371, -0.5115511551155115, -0.5131578947368421, -0.5147540983606558, -0.5130718954248366, -0.5146579804560261, -0.512987012987013, -0.511326860841424, -0.5096774193548387, -0.5080385852090032, -0.5064102564102564, -0.5079872204472844, -0.5095541401273885, -0.5079365079365079, -0.5063291139240507, -0.5078864353312302, -0.5094339622641509, -0.5078369905956113, -0.50625, -0.5046728971962616, -0.5062111801242236, -0.5077399380804953, -0.5061728395061729, -0.5076923076923077, -0.5061349693251533, -0.5045871559633027, -0.5060975609756098, -0.5075987841945289, -0.5060606060606061, -0.5075528700906344, -0.5060240963855421, -0.5075075075075075, -0.5059880239520959, -0.5014925373134328, -0.5, -0.5014836795252225, -0.5, -0.5014749262536873, -0.5029411764705882, -0.5043988269794721, -0.5058479532163743, -0.5043731778425656, -0.5058139534883721, -0.5072463768115942, -0.5057803468208093, -0.5043227665706052, -0.5057471264367817, -0.504297994269341, -0.5057142857142857, -0.5071225071225072, -0.5056818181818182, -0.5070821529745042, -0.5056497175141242, -0.504225352112676, -0.5056179775280899, -0.5042016806722689, -0.5027932960893855, -0.5013927576601671, -0.5027777777777778, -0.5013850415512465, -0.5027624309392266, -0.5041322314049587, -0.5027472527472527, -0.5041095890410959, -0.5027322404371585, -0.5040871934604905, -0.5027173913043478, -0.5013550135501355, -0.5, -0.5013477088948787, -0.5, -0.49865951742627346, -0.5, -0.5013333333333333, -0.5026595744680851, -0.5013262599469496, -0.5, -0.5013192612137203, -0.5, -0.49868766404199477, -0.4973821989528796, -0.4960835509138381, -0.4973958333333333, -0.4961038961038961, -0.4948186528497409, -0.4935400516795866, -0.49226804123711343, -0.493573264781491, -0.4948717948717949, -0.4936061381074169, -0.4923469387755102, -0.49363867684478374, -0.4949238578680203, -0.4962025316455696, -0.49747474747474746, -0.4987405541561713, -0.5, -0.5012531328320802, -0.5, -0.49875311720698257, -0.5, -0.4987593052109181, -0.5, -0.49876543209876545, -0.5, -0.4987714987714988, -0.49754901960784315, -0.4963325183374083, -0.4951219512195122, -0.49391727493917276, -0.49271844660194175, -0.4939467312348668, -0.4927536231884058, -0.4939759036144578, -0.49278846153846156, -0.49160671462829736, -0.4904306220095694, -0.4892601431980907, -0.49047619047619045, -0.48931116389548696, -0.4881516587677725]\n",
            "Episode 100\tAverage Score: 10.36\tRegret: -1.00\n",
            "Episode 200\tAverage Score: 55.01\tRegret: 0.00\n",
            "Episode 300\tAverage Score: 96.55\tRegret: -1.00\n",
            "Episode 400\tAverage Score: 184.70\tRegret: 0.00\n",
            "Episode 500\tAverage Score: 104.23\tRegret: 0.00\n",
            "Episode 600\tAverage Score: 37.51\tRegret: 0.00\n",
            "Episode 700\tAverage Score: 8.07\tRegret: 0.00\n",
            "Episode 800\tAverage Score: 6.84\tRegret: -1.00\n",
            "Episode 900\tAverage Score: 72.95\tRegret: -1.00\n",
            "Episode 1000\tAverage Score: 85.73\tRegret: -1.00\n",
            "0:05:11.289462\n",
            "[6.0, 7.0, 6.666666666666667, 7.0, 7.0, 7.0, 7.0, 7.75, 7.666666666666667, 7.7, 7.454545454545454, 7.416666666666667, 7.384615384615385, 7.571428571428571, 7.6, 7.625, 7.588235294117647, 7.611111111111111, 7.684210526315789, 7.75, 8.238095238095237, 8.909090909090908, 9.043478260869565, 8.958333333333334, 8.8, 8.807692307692308, 8.74074074074074, 8.892857142857142, 8.793103448275861, 8.766666666666667, 8.67741935483871, 8.5625, 8.93939393939394, 9.176470588235293, 9.057142857142857, 8.972222222222221, 8.91891891891892, 8.868421052631579, 8.846153846153847, 8.825, 8.951219512195122, 8.952380952380953, 8.906976744186046, 8.931818181818182, 9.0, 8.91304347826087, 9.0, 9.0, 8.918367346938776, 8.88, 8.803921568627452, 8.788461538461538, 8.716981132075471, 8.666666666666666, 8.781818181818181, 8.732142857142858, 8.75438596491228, 8.758620689655173, 8.76271186440678, 8.783333333333333, 8.754098360655737, 8.806451612903226, 8.80952380952381, 8.9375, 8.907692307692308, 9.136363636363637, 9.104477611940299, 9.294117647058824, 9.27536231884058, 9.314285714285715, 9.295774647887324, 9.277777777777779, 9.315068493150685, 9.35135135135135, 9.4, 9.43421052631579, 9.376623376623376, 9.512820512820513, 9.481012658227849, 9.5125, 9.555555555555555, 9.670731707317072, 9.674698795180722, 9.738095238095237, 9.717647058823529, 9.825581395348838, 9.931034482758621, 9.897727272727273, 9.853932584269662, 9.833333333333334, 9.967032967032967, 9.967391304347826, 9.989247311827956, 10.106382978723405, 10.210526315789474, 10.34375, 10.329896907216495, 10.418367346938776, 10.383838383838384, 10.36, 10.4, 10.52, 10.59, 10.59, 10.61, 10.65, 10.68, 10.7, 10.74, 10.8, 10.89, 10.98, 11.01, 11.08, 11.09, 11.11, 11.27, 11.25, 11.39, 11.47, 11.52, 11.53, 11.83, 11.95, 12.18, 12.37, 12.46, 12.68, 12.83, 13.21, 13.79, 14.28, 15.05, 15.48, 16.96, 17.45, 18.46, 19.21, 19.78, 20.53, 21.18, 21.92, 23.21, 23.84, 24.36, 25.05, 25.84, 26.27, 26.98, 27.68, 27.99, 29.3, 30.54, 31.33, 32.31, 33.95, 34.67, 35.39, 35.71, 36.71, 37.4, 38.25, 38.5, 39.17, 39.95, 39.96, 40.84, 41.08, 41.82, 41.83, 41.92, 42.08, 42.95, 43.55, 44.12, 44.85, 45.77, 45.73, 46.4, 46.77, 46.92, 46.93, 47.59, 47.72, 47.76, 48.19, 48.69, 49.41, 50.05, 50.66, 50.84, 51.18, 51.75, 52.32, 52.27, 52.29, 53.06, 53.55, 54.37, 55.01, 55.54, 56.42, 56.92, 56.98, 57.54, 58.08, 58.74, 59.37, 59.76, 59.77, 60.33, 60.31, 60.89, 61.52, 61.79, 62.55, 63.01, 63.73, 64.43, 65.37, 65.9, 66.98, 67.44, 68.03, 68.49, 69.27, 69.83, 70.43, 70.94, 71.28, 71.32, 71.51, 71.35, 71.78, 71.02, 70.67, 69.81, 69.9, 70.19, 70.32, 70.49, 70.6, 70.05, 70.06, 70.44, 70.5, 70.75, 71.11, 71.12, 71.36, 71.81, 71.33, 71.17, 71.2, 72.16, 71.26, 71.26, 71.49, 71.91, 72.21, 72.32, 72.23, 73.02, 73.05, 73.35, 74.43, 74.78, 75.54, 75.77, 76.64, 77.58, 78.43, 78.61, 78.21, 78.59, 78.8, 78.91, 79.92, 80.61, 81.57, 82.71, 83.63, 84.23, 85.29, 86.37, 87.52, 87.37, 87.66, 88.59, 89.09, 88.79, 89.5, 90.19, 90.63, 91.43, 92.85, 93.6, 94.78, 96.05, 96.55, 97.35, 97.71, 98.47, 99.71, 100.51, 101.46, 102.22, 103.12, 104.08, 105.16, 105.72, 107.39, 108.32, 109.51, 110.69, 111.42, 112.23, 113.04, 113.38, 113.56, 114.78, 114.95, 115.62, 116.02, 116.88, 117.22, 117.92, 118.52, 120.29, 121.26, 121.98, 122.97, 123.63, 123.89, 124.63, 126.04, 127.84, 128.54, 129.22, 130.01, 130.53, 131.18, 132.88, 133.98, 134.77, 136.05, 137.39, 138.09, 138.77, 139.29, 140.22, 141.37, 142.01, 143.64, 143.5, 144.62, 146.31, 147.78, 148.74, 149.64, 151.28, 152.25, 152.93, 153.77, 154.81, 155.78, 156.33, 156.66, 157.81, 158.9, 160.3, 161.72, 163.06, 164.43, 164.64, 166.09, 167.46, 168.8, 168.58, 169.64, 170.73, 171.4, 172.55, 173.72, 175.03, 174.87, 176.14, 176.45, 177.33, 177.99, 180.4, 181.76, 182.89, 183.51, 184.55, 184.78, 185.17, 184.79, 184.27, 184.7, 185.19, 186.26, 187.09, 187.38, 187.89, 187.6, 187.57, 187.47, 187.43, 187.55, 187.5, 187.06, 186.54, 185.7, 185.28, 185.16, 185.17, 184.6, 184.52, 184.22, 183.34, 182.98, 182.45, 182.46, 181.92, 181.57, 181.13, 180.81, 179.25, 178.47, 178.11, 177.39, 176.87, 176.62, 176.1, 175.47, 174.48, 173.97, 173.42, 172.7, 172.17, 171.52, 170.01, 169.14, 168.27, 167.23, 165.86, 165.31, 164.9, 164.32, 163.47, 162.51, 161.49, 159.93, 158.89, 157.84, 156.28, 154.67, 153.69, 152.37, 150.77, 149.77, 148.78, 147.16, 145.86, 144.45, 143.52, 142.88, 141.45, 140.31, 138.77, 137.26, 135.67, 135.02, 134.66, 133.14, 131.62, 129.9, 129.57, 127.95, 126.27, 125.26, 123.55, 121.91, 120.22, 119.46, 118.57, 118.07, 116.45, 115.49, 113.87, 112.26, 110.6, 109.64, 108.5, 107.45, 106.4, 105.72, 104.97, 104.23, 103.12, 100.67, 99.43, 98.61, 97.41, 96.15, 95.44, 94.76, 94.12, 93.58, 93.28, 92.7, 92.46, 92.09, 91.83, 91.28, 90.56, 90.3, 89.9, 89.74, 88.69, 87.61, 87.49, 87.07, 86.07, 85.82, 84.89, 84.49, 83.62, 83.44, 83.28, 83.08, 82.94, 82.67, 82.5, 81.58, 80.62, 80.23, 79.22, 78.25, 78.08, 77.87, 77.73, 76.81, 76.7, 75.73, 74.65, 74.37, 74.04, 73.95, 73.86, 73.53, 72.84, 71.94, 71.08, 70.27, 70.16, 69.32, 69.35, 68.42, 67.56, 66.76, 65.99, 65.95, 65.11, 64.27, 63.4, 62.54, 61.82, 60.92, 60.0, 59.85, 58.98, 57.99, 57.11, 56.18, 55.31, 54.58, 53.76, 52.94, 52.17, 51.44, 50.69, 49.87, 49.11, 48.32, 47.46, 46.63, 45.79, 44.96, 44.12, 43.27, 42.47, 41.64, 40.84, 40.04, 39.95, 39.2, 38.36, 37.51, 36.75, 36.74, 35.82, 35.02, 34.31, 34.31, 33.58, 32.73, 32.0, 31.24, 30.37, 29.63, 28.84, 28.11, 27.32, 26.45, 25.72, 25.01, 24.27, 23.5, 23.5, 23.5, 22.65, 21.94, 21.93, 21.19, 21.19, 20.42, 20.42, 19.65, 18.82, 18.8, 18.04, 17.32, 16.56, 16.55, 16.53, 15.88, 15.87, 16.58, 15.85, 15.17, 14.36, 14.37, 13.59, 13.57, 13.57, 13.61, 12.95, 12.15, 11.41, 10.7, 10.69, 10.69, 10.69, 10.69, 9.9, 10.55, 9.76, 9.76, 9.76, 9.76, 9.76, 9.76, 9.76, 9.77, 9.77, 9.77, 9.77, 9.77, 9.78, 8.99, 8.99, 8.99, 8.99, 8.98, 8.96, 8.95, 8.95, 8.93, 8.92, 8.92, 8.93, 8.93, 8.92, 8.91, 8.9, 8.9, 8.9, 8.88, 8.88, 8.88, 8.88, 8.88, 8.88, 8.88, 8.07, 8.07, 8.08, 8.07, 8.07, 8.07, 8.06, 8.06, 8.06, 8.06, 8.06, 8.08, 8.08, 8.08, 8.09, 8.1, 8.09, 8.09, 8.07, 8.07, 8.06, 8.06, 8.07, 8.06, 8.06, 8.06, 8.05, 8.04, 8.05, 8.05, 8.05, 8.05, 8.04, 8.05, 8.05, 7.32, 7.31, 7.31, 7.3, 7.3, 7.3, 7.29, 7.29, 6.57, 6.57, 6.57, 6.57, 6.56, 6.56, 6.56, 6.55, 5.82, 5.82, 5.82, 5.82, 5.81, 5.8, 5.8, 5.8, 5.8, 5.8, 5.14, 5.14, 5.14, 5.14, 5.14, 5.14, 5.14, 5.14, 5.14, 5.15, 5.16, 5.16, 5.17, 5.16, 5.16, 5.16, 5.16, 5.16, 5.17, 5.19, 5.19, 5.96, 5.96, 5.96, 5.97, 5.97, 5.97, 5.97, 5.98, 5.98, 5.98, 5.98, 5.99, 6.0, 6.01, 6.02, 6.02, 6.02, 6.83, 6.84, 6.85, 6.84, 6.84, 6.84, 6.85, 7.64, 7.63, 7.64, 8.44, 9.27, 9.25, 9.25, 9.26, 9.26, 9.26, 9.27, 9.28, 9.29, 10.1, 10.1, 10.11, 10.1, 10.1, 10.1, 10.92, 10.94, 10.96, 10.96, 10.96, 10.96, 10.95, 11.78, 12.58, 12.58, 13.41, 13.41, 14.21, 14.22, 15.05, 16.06, 16.97, 17.73, 18.55, 19.42, 19.42, 20.29, 21.23, 22.24, 23.17, 24.08, 24.9, 24.92, 25.81, 26.7, 27.55, 28.56, 29.51, 30.53, 31.49, 32.64, 33.69, 34.79, 35.67, 36.62, 37.57, 38.65, 39.71, 40.65, 41.5, 42.53, 43.41, 44.46, 45.51, 46.55, 47.51, 48.49, 49.52, 50.5, 51.59, 52.69, 53.64, 53.7, 54.69, 55.67, 56.63, 57.61, 58.63, 59.72, 60.76, 61.81, 62.96, 64.02, 64.93, 65.98, 66.99, 67.88, 68.77, 69.71, 69.6, 70.34, 71.25, 72.07, 72.95, 73.79, 74.89, 74.94, 75.91, 76.94, 77.14, 77.23, 78.34, 79.29, 80.13, 80.9, 81.76, 82.56, 83.44, 84.51, 84.62, 85.53, 86.27, 87.27, 88.3, 89.1, 89.04, 89.81, 90.46, 91.39, 92.08, 92.86, 93.68, 93.64, 93.6, 94.35, 94.29, 95.15, 95.09, 95.89, 95.94, 95.87, 95.7, 95.88, 95.77, 95.62, 96.4, 96.3, 96.12, 95.96, 95.76, 95.56, 95.45, 96.24, 96.15, 96.09, 96.11, 95.94, 95.89, 95.59, 95.45, 95.06, 94.71, 94.38, 94.49, 94.38, 94.2, 93.88, 93.6, 93.45, 93.38, 93.07, 92.88, 92.56, 92.2, 91.93, 91.81, 91.75, 91.48, 91.25, 90.94, 90.52, 90.31, 90.24, 90.11, 89.86, 89.62, 89.47, 89.18, 88.88, 88.55, 88.3, 87.86, 87.51, 87.35, 87.1, 86.88, 86.76, 86.78, 86.62, 86.79, 86.79, 85.87, 85.83, 85.73]\n",
            "\n",
            "\n",
            "[-1.0, -1.0, -0.6666666666666666, -0.5, -0.6, -0.6666666666666666, -0.7142857142857143, -0.625, -0.5555555555555556, -0.6, -0.5454545454545454, -0.5, -0.5384615384615384, -0.5714285714285714, -0.5333333333333333, -0.5, -0.47058823529411764, -0.4444444444444444, -0.47368421052631576, -0.5, -0.47619047619047616, -0.5, -0.4782608695652174, -0.4583333333333333, -0.44, -0.4230769230769231, -0.4074074074074074, -0.39285714285714285, -0.3793103448275862, -0.36666666666666664, -0.3870967741935484, -0.375, -0.3939393939393939, -0.4117647058823529, -0.4, -0.3888888888888889, -0.3783783783783784, -0.39473684210526316, -0.41025641025641024, -0.4, -0.4146341463414634, -0.42857142857142855, -0.4418604651162791, -0.4318181818181818, -0.4222222222222222, -0.43478260869565216, -0.425531914893617, -0.4166666666666667, -0.40816326530612246, -0.42, -0.43137254901960786, -0.4230769230769231, -0.41509433962264153, -0.4074074074074074, -0.41818181818181815, -0.4107142857142857, -0.42105263157894735, -0.43103448275862066, -0.423728813559322, -0.43333333333333335, -0.4426229508196721, -0.45161290322580644, -0.4444444444444444, -0.453125, -0.46153846153846156, -0.4696969696969697, -0.4626865671641791, -0.47058823529411764, -0.4782608695652174, -0.4714285714285714, -0.4647887323943662, -0.4583333333333333, -0.4657534246575342, -0.4594594594594595, -0.4666666666666667, -0.4605263157894737, -0.45454545454545453, -0.46153846153846156, -0.45569620253164556, -0.4625, -0.4567901234567901, -0.45121951219512196, -0.4457831325301205, -0.44047619047619047, -0.43529411764705883, -0.43023255813953487, -0.42528735632183906, -0.4318181818181818, -0.43820224719101125, -0.43333333333333335, -0.43956043956043955, -0.44565217391304346, -0.45161290322580644, -0.4574468085106383, -0.4631578947368421, -0.4583333333333333, -0.4639175257731959, -0.46938775510204084, -0.46464646464646464, -0.47, -0.4752475247524752, -0.4803921568627451, -0.47572815533980584, -0.47115384615384615, -0.4666666666666667, -0.46226415094339623, -0.4672897196261682, -0.4722222222222222, -0.47706422018348627, -0.4727272727272727, -0.46846846846846846, -0.4732142857142857, -0.4690265486725664, -0.47368421052631576, -0.4782608695652174, -0.4827586206896552, -0.48717948717948717, -0.4830508474576271, -0.48739495798319327, -0.48333333333333334, -0.4793388429752066, -0.47540983606557374, -0.4715447154471545, -0.46774193548387094, -0.472, -0.47619047619047616, -0.48031496062992124, -0.4765625, -0.4806201550387597, -0.4846153846153846, -0.48091603053435117, -0.4772727272727273, -0.48120300751879697, -0.48507462686567165, -0.48148148148148145, -0.47794117647058826, -0.4744525547445255, -0.47101449275362317, -0.4748201438848921, -0.4785714285714286, -0.475177304964539, -0.47183098591549294, -0.46853146853146854, -0.4652777777777778, -0.4689655172413793, -0.4657534246575342, -0.46258503401360546, -0.46621621621621623, -0.46308724832214765, -0.46, -0.45695364238410596, -0.4605263157894737, -0.46405228758169936, -0.461038961038961, -0.4645161290322581, -0.46153846153846156, -0.4585987261146497, -0.4620253164556962, -0.4591194968553459, -0.45625, -0.45962732919254656, -0.46296296296296297, -0.4601226993865031, -0.4634146341463415, -0.46060606060606063, -0.4578313253012048, -0.46107784431137727, -0.4583333333333333, -0.4556213017751479, -0.45294117647058824, -0.4502923976608187, -0.4476744186046512, -0.4508670520231214, -0.4540229885057471, -0.4514285714285714, -0.44886363636363635, -0.4463276836158192, -0.4438202247191011, -0.44692737430167595, -0.4444444444444444, -0.44751381215469616, -0.44505494505494503, -0.44808743169398907, -0.44565217391304346, -0.44324324324324327, -0.44086021505376344, -0.44385026737967914, -0.44148936170212766, -0.43915343915343913, -0.4368421052631579, -0.4397905759162304, -0.4375, -0.43523316062176165, -0.4381443298969072, -0.4358974358974359, -0.4336734693877551, -0.4365482233502538, -0.43434343434343436, -0.4321608040201005, -0.43, -0.42786069651741293, -0.42574257425742573, -0.42857142857142855, -0.4264705882352941, -0.4292682926829268, -0.4320388349514563, -0.43478260869565216, -0.4375, -0.44019138755980863, -0.44285714285714284, -0.44075829383886256, -0.44339622641509435, -0.4413145539906103, -0.4439252336448598, -0.4418604651162791, -0.4444444444444444, -0.4470046082949309, -0.44954128440366975, -0.4474885844748858, -0.45, -0.4479638009049774, -0.44594594594594594, -0.4439461883408072, -0.4419642857142857, -0.44, -0.43805309734513276, -0.43612334801762115, -0.4342105263157895, -0.4366812227074236, -0.4391304347826087, -0.44155844155844154, -0.44396551724137934, -0.44635193133047213, -0.44871794871794873, -0.451063829787234, -0.4491525423728814, -0.45147679324894513, -0.453781512605042, -0.45188284518828453, -0.45416666666666666, -0.45228215767634855, -0.45454545454545453, -0.45267489711934156, -0.45491803278688525, -0.45714285714285713, -0.45934959349593496, -0.4574898785425101, -0.45564516129032256, -0.4538152610441767, -0.452, -0.4541832669322709, -0.4523809523809524, -0.4505928853754941, -0.44881889763779526, -0.4470588235294118, -0.4453125, -0.4474708171206226, -0.44573643410852715, -0.444015444015444, -0.4423076923076923, -0.44061302681992337, -0.44274809160305345, -0.44106463878326996, -0.4393939393939394, -0.4377358490566038, -0.4398496240601504, -0.43820224719101125, -0.43656716417910446, -0.4349442379182156, -0.43333333333333335, -0.4354243542435424, -0.4338235294117647, -0.43223443223443225, -0.4306569343065693, -0.43272727272727274, -0.4311594202898551, -0.4332129963898917, -0.4316546762589928, -0.4336917562724014, -0.43214285714285716, -0.43416370106761565, -0.4326241134751773, -0.43109540636042404, -0.4295774647887324, -0.43157894736842106, -0.43356643356643354, -0.43205574912891986, -0.4305555555555556, -0.4290657439446367, -0.42758620689655175, -0.4261168384879725, -0.4280821917808219, -0.42662116040955633, -0.42857142857142855, -0.43050847457627117, -0.42905405405405406, -0.4276094276094276, -0.4261744966442953, -0.4280936454849498, -0.43, -0.4318936877076412, -0.4337748344370861, -0.43234323432343236, -0.4309210526315789, -0.43278688524590164, -0.434640522875817, -0.4364820846905538, -0.4383116883116883, -0.4368932038834951, -0.43870967741935485, -0.43729903536977494, -0.4391025641025641, -0.44089456869009586, -0.4426751592356688, -0.4444444444444444, -0.4462025316455696, -0.444794952681388, -0.44654088050314467, -0.4482758620689655, -0.45, -0.4485981308411215, -0.4503105590062112, -0.4520123839009288, -0.4537037037037037, -0.4523076923076923, -0.4539877300613497, -0.4525993883792049, -0.45426829268292684, -0.45288753799392095, -0.45151515151515154, -0.4501510574018127, -0.45180722891566266, -0.45345345345345345, -0.4550898203592814, -0.4537313432835821, -0.4523809523809524, -0.4540059347181009, -0.4526627218934911, -0.45132743362831856, -0.45, -0.45161290322580644, -0.4502923976608187, -0.4489795918367347, -0.4476744186046512, -0.4492753623188406, -0.4479768786127168, -0.44668587896253603, -0.4454022988505747, -0.4469914040114613, -0.44571428571428573, -0.4444444444444444, -0.4431818181818182, -0.4447592067988669, -0.4435028248587571, -0.4422535211267606, -0.4410112359550562, -0.43977591036414565, -0.43854748603351956, -0.4401114206128134, -0.4388888888888889, -0.4376731301939058, -0.43922651933701656, -0.4380165289256198, -0.43956043956043955, -0.4410958904109589, -0.4426229508196721, -0.44141689373297005, -0.4429347826086957, -0.4444444444444444, -0.44594594594594594, -0.444743935309973, -0.4435483870967742, -0.44235924932975873, -0.44385026737967914, -0.44533333333333336, -0.4441489361702128, -0.44562334217506633, -0.4444444444444444, -0.44591029023746703, -0.44473684210526315, -0.4435695538057743, -0.4424083769633508, -0.4412532637075718, -0.4401041666666667, -0.43896103896103894, -0.44041450777202074, -0.4392764857881137, -0.44072164948453607, -0.43958868894601544, -0.43846153846153846, -0.4373401534526854, -0.4362244897959184, -0.4351145038167939, -0.434010152284264, -0.43291139240506327, -0.43434343434343436, -0.4332493702770781, -0.4321608040201005, -0.43358395989974935, -0.4325, -0.4339152119700748, -0.43283582089552236, -0.4317617866004963, -0.4306930693069307, -0.43209876543209874, -0.43103448275862066, -0.42997542997543, -0.43137254901960786, -0.43276283618581907, -0.43414634146341463, -0.43552311435523117, -0.4368932038834951, -0.4358353510895884, -0.43719806763285024, -0.43855421686746987, -0.4375, -0.43884892086330934, -0.44019138755980863, -0.441527446300716, -0.44285714285714284, -0.4418052256532066, -0.44075829383886256, -0.4397163120567376, -0.4386792452830189, -0.44, -0.4413145539906103, -0.4426229508196721, -0.4439252336448598, -0.44522144522144524, -0.4441860465116279, -0.44547563805104406, -0.4444444444444444, -0.44341801385681295, -0.4447004608294931, -0.4436781609195402, -0.4426605504587156, -0.4439359267734554, -0.4429223744292237, -0.44419134396355353, -0.44545454545454544, -0.4444444444444444, -0.4457013574660634, -0.4469525959367946, -0.44594594594594594, -0.44719101123595506, -0.4484304932735426, -0.44742729306487694, -0.4486607142857143, -0.44766146993318484, -0.4488888888888889, -0.4501108647450111, -0.4491150442477876, -0.4503311258278146, -0.45154185022026433, -0.45054945054945056, -0.44956140350877194, -0.45076586433260396, -0.4497816593886463, -0.44880174291938996, -0.45, -0.4490238611713666, -0.45021645021645024, -0.44924406047516197, -0.4504310344827586, -0.45161290322580644, -0.45278969957081544, -0.4539614561027837, -0.4551282051282051, -0.4562899786780384, -0.4574468085106383, -0.4564755838641189, -0.4576271186440678, -0.45665961945031713, -0.45569620253164556, -0.45473684210526316, -0.45588235294117646, -0.4570230607966457, -0.4560669456066946, -0.4551148225469729, -0.45416666666666666, -0.4553014553014553, -0.45435684647302904, -0.453416149068323, -0.45454545454545453, -0.4536082474226804, -0.45267489711934156, -0.4517453798767967, -0.45081967213114754, -0.4498977505112474, -0.45102040816326533, -0.45213849287169044, -0.45121951219512196, -0.45030425963488846, -0.4493927125506073, -0.4505050505050505, -0.45161290322580644, -0.45271629778672035, -0.4538152610441767, -0.45490981963927857, -0.454, -0.4550898203592814, -0.4541832669322709, -0.4532803180914513, -0.45436507936507936, -0.4534653465346535, -0.4525691699604743, -0.4536489151873767, -0.4547244094488189, -0.45579567779960706, -0.4549019607843137, -0.45401174168297453, -0.455078125, -0.45614035087719296, -0.45525291828793774, -0.4563106796116505, -0.45542635658914726, -0.4564796905222437, -0.4555984555984556, -0.45472061657032753, -0.45384615384615384, -0.45297504798464494, -0.4521072796934866, -0.45315487571701724, -0.4541984732824427, -0.4552380952380952, -0.45627376425855515, -0.45540796963946867, -0.45454545454545453, -0.4555765595463138, -0.4547169811320755, -0.4538606403013183, -0.4548872180451128, -0.45590994371482174, -0.45692883895131087, -0.45607476635514016, -0.457089552238806, -0.4581005586592179, -0.4591078066914498, -0.4601113172541744, -0.46111111111111114, -0.4602587800369686, -0.45940959409594095, -0.4585635359116022, -0.4577205882352941, -0.45871559633027525, -0.4597069597069597, -0.4606946983546618, -0.46167883211678834, -0.46265938069216755, -0.4636363636363636, -0.4646098003629764, -0.46557971014492755, -0.4665461121157324, -0.4657039711191336, -0.4648648648648649, -0.46402877697841727, -0.4631956912028725, -0.46415770609318996, -0.46332737030411447, -0.4625, -0.46167557932263814, -0.4626334519572954, -0.4635879218472469, -0.4627659574468085, -0.46194690265486726, -0.46113074204946997, -0.4603174603174603, -0.4595070422535211, -0.46045694200351495, -0.4614035087719298, -0.46059544658493873, -0.4597902097902098, -0.45898778359511344, -0.45818815331010454, -0.4573913043478261, -0.4583333333333333, -0.45753899480069327, -0.458477508650519, -0.459412780656304, -0.4603448275862069, -0.4612736660929432, -0.46048109965635736, -0.45969125214408235, -0.4589041095890411, -0.4598290598290598, -0.46075085324232085, -0.4616695059625213, -0.46258503401360546, -0.4617996604414261, -0.46271186440677964, -0.46362098138747887, -0.46283783783783783, -0.4620573355817875, -0.4612794612794613, -0.46050420168067224, -0.46140939597315433, -0.46063651591289784, -0.459866220735786, -0.4607679465776294, -0.46, -0.45923460898502494, -0.4584717607973422, -0.4593698175787728, -0.4602649006622517, -0.45950413223140496, -0.45874587458745875, -0.45799011532125206, -0.45723684210526316, -0.45648604269293924, -0.45737704918032784, -0.45662847790507366, -0.45588235294117646, -0.4567699836867863, -0.4560260586319218, -0.45691056910569106, -0.45616883116883117, -0.45705024311183146, -0.45792880258899676, -0.45718901453957994, -0.45645161290322583, -0.4557165861513688, -0.454983922829582, -0.45425361155698235, -0.453525641025641, -0.4544, -0.45527156549520764, -0.45454545454545453, -0.4554140127388535, -0.4562798092209857, -0.45555555555555555, -0.45641838351822506, -0.45569620253164556, -0.4565560821484992, -0.45741324921135645, -0.4566929133858268, -0.4559748427672956, -0.45682888540031397, -0.45768025078369906, -0.458528951486698, -0.4578125, -0.45865834633385333, -0.45950155763239875, -0.45878693623639194, -0.45962732919254656, -0.4604651162790698, -0.45975232198142413, -0.45904173106646057, -0.45987654320987653, -0.46070878274268107, -0.46153846153846156, -0.46236559139784944, -0.46319018404907975, -0.46248085758039814, -0.4617737003058104, -0.46259541984732827, -0.46189024390243905, -0.4627092846270928, -0.4635258358662614, -0.4628224582701062, -0.4636363636363636, -0.46444780635400906, -0.4637462235649547, -0.46304675716440424, -0.463855421686747, -0.4631578947368421, -0.46396396396396394, -0.46326836581709147, -0.4625748502994012, -0.4633781763826607, -0.4626865671641791, -0.46348733233979134, -0.4642857142857143, -0.4635958395245171, -0.46439169139465875, -0.46370370370370373, -0.46449704142011833, -0.4638109305760709, -0.4631268436578171, -0.4639175257731959, -0.4647058823529412, -0.4654919236417034, -0.46480938416422285, -0.465592972181552, -0.46637426900584794, -0.46715328467153283, -0.4679300291545189, -0.46870451237263466, -0.4680232558139535, -0.46879535558780844, -0.4681159420289855, -0.46888567293777134, -0.46965317919075145, -0.4704184704184704, -0.4697406340057637, -0.46906474820143884, -0.46839080459770116, -0.46771879483500717, -0.4670487106017192, -0.4678111587982833, -0.46714285714285714, -0.4664764621968616, -0.4658119658119658, -0.465149359886202, -0.46448863636363635, -0.46382978723404256, -0.4631728045325779, -0.4625176803394625, -0.4632768361581921, -0.46262341325811, -0.4619718309859155, -0.4613220815752461, -0.4606741573033708, -0.4600280504908836, -0.46078431372549017, -0.46013986013986014, -0.4594972067039106, -0.45885634588563456, -0.4582172701949861, -0.45897079276773295, -0.4597222222222222, -0.4590846047156727, -0.4584487534626039, -0.4578146611341632, -0.457182320441989, -0.45655172413793105, -0.4573002754820937, -0.45667125171939477, -0.4574175824175824, -0.4567901234567901, -0.45616438356164385, -0.45690834473324216, -0.4562841530054645, -0.45566166439290584, -0.4550408719346049, -0.454421768707483, -0.453804347826087, -0.4531886024423338, -0.45257452574525747, -0.45331529093369416, -0.4527027027027027, -0.4534412955465587, -0.4528301886792453, -0.4522207267833109, -0.45161290322580644, -0.45234899328859063, -0.45308310991957107, -0.4538152610441767, -0.45454545454545453, -0.4552736982643525, -0.456, -0.4567243675099867, -0.4574468085106383, -0.45683930942895085, -0.4562334217506631, -0.4556291390728477, -0.455026455026455, -0.4557463672391017, -0.45646437994722955, -0.45586297760210803, -0.45657894736842103, -0.45729303547963207, -0.4566929133858268, -0.45609436435124506, -0.4568062827225131, -0.45751633986928103, -0.45822454308093996, -0.4589308996088657, -0.4596354166666667, -0.46033810143042914, -0.461038961038961, -0.46173800259403375, -0.46243523316062174, -0.463130659767141, -0.4625322997416021, -0.4632258064516129, -0.4639175257731959, -0.4646074646074646, -0.4640102827763496, -0.4634146341463415, -0.46282051282051284, -0.4622279129321383, -0.4629156010230179, -0.46360153256704983, -0.4630102040816326, -0.4624203821656051, -0.4631043256997455, -0.4625158831003812, -0.4619289340101523, -0.46261089987325726, -0.4620253164556962, -0.46270543615676357, -0.4633838383838384, -0.4640605296343001, -0.464735516372796, -0.4641509433962264, -0.4648241206030151, -0.465495608531995, -0.4649122807017544, -0.4643304130162703, -0.465, -0.46441947565543074, -0.46508728179551123, -0.46450809464508097, -0.4639303482587065, -0.4645962732919255, -0.4652605459057072, -0.46592317224287483, -0.46534653465346537, -0.4647713226205192, -0.4654320987654321, -0.4648581997533909, -0.4642857142857143, -0.46371463714637146, -0.4643734643734644, -0.46503067484662575, -0.46568627450980393, -0.4663402692778458, -0.4669926650366748, -0.46764346764346765, -0.4682926829268293, -0.46772228989037756, -0.46715328467153283, -0.4665856622114216, -0.4672330097087379, -0.4678787878787879, -0.46731234866828086, -0.4667472793228537, -0.4673913043478261, -0.46682750301568154, -0.4674698795180723, -0.4681107099879663, -0.4675480769230769, -0.4669867947178872, -0.4676258992805755, -0.4682634730538922, -0.4688995215311005, -0.46953405017921146, -0.46897374701670647, -0.4684147794994041, -0.46904761904761905, -0.4684898929845422, -0.4679334916864608, -0.46737841043890865, -0.46800947867298576, -0.46745562130177515, -0.466903073286052, -0.46635182998819363, -0.4658018867924528, -0.4664310954063604, -0.46705882352941175, -0.46768507638072854, -0.4671361502347418, -0.46776084407971863, -0.468384074941452, -0.46900584795321637, -0.46845794392523366, -0.4679113185530922, -0.46853146853146854, -0.4679860302677532, -0.46744186046511627, -0.46689895470383275, -0.46635730858468677, -0.46697566628041715, -0.4664351851851852, -0.4658959537572254, -0.4665127020785219, -0.4659746251441753, -0.4665898617511521, -0.4660529344073648, -0.46551724137931033, -0.4661308840413318, -0.46559633027522934, -0.4650630011454754, -0.4645308924485126, -0.46514285714285714, -0.4646118721461187, -0.4640820980615735, -0.4646924829157175, -0.4653014789533561, -0.4647727272727273, -0.46538024971623154, -0.46598639455782315, -0.4665911664779162, -0.4660633484162896, -0.4655367231638418, -0.46613995485327314, -0.46561443066516345, -0.46621621621621623, -0.46569178852643417, -0.46629213483146065, -0.4668911335578002, -0.4663677130044843, -0.4658454647256439, -0.4664429530201342, -0.4659217877094972, -0.4654017857142857, -0.46488294314381273, -0.46547884187082406, -0.4649610678531702, -0.46555555555555556, -0.46614872364039955, -0.46674057649667405, -0.46622369878183834, -0.4657079646017699, -0.46519337016574586, -0.46578366445916114, -0.4663726571113561, -0.4658590308370044, -0.46644664466446645, -0.46593406593406594, -0.4665203073545554, -0.46710526315789475, -0.46768893756845564, -0.4682713347921225, -0.46885245901639344, -0.4683406113537118, -0.4678298800436205, -0.4684095860566449, -0.4689880304678999, -0.46956521739130436, -0.46905537459283386, -0.4685466377440347, -0.46912242686890576, -0.4686147186147186, -0.4681081081081081, -0.468682505399568, -0.4692556634304207, -0.4698275862068966, -0.4703982777179763, -0.4698924731182796, -0.46938775510204084, -0.4699570815450644, -0.4694533762057878, -0.47002141327623126, -0.47058823529411764, -0.47115384615384615, -0.47065101387406616, -0.4701492537313433, -0.4696485623003195, -0.46914893617021275, -0.46865037194473963, -0.4681528662420382, -0.4676564156945917, -0.4682203389830508, -0.4677248677248677, -0.4682875264270613, -0.4677930306230201, -0.46835443037974683, -0.46891464699683877, -0.4694736842105263, -0.46898002103049424, -0.4695378151260504, -0.4700944386149003, -0.469601677148847, -0.46910994764397906, -0.4696652719665272, -0.46917450365726227, -0.46868475991649267, -0.4692387904066736, -0.46979166666666666, -0.46930280957336107, -0.4698544698544699, -0.46936656282450673, -0.4699170124481328, -0.47046632124352333, -0.47101449275362317, -0.47156153050672184, -0.47210743801652894, -0.4716202270381837, -0.4711340206185567, -0.47167868177136973, -0.4722222222222222, -0.47173689619732784, -0.4722792607802875, -0.4717948717948718, -0.4713114754098361, -0.47082906857727735, -0.47137014314928427, -0.47088866189989786, -0.4704081632653061, -0.4709480122324159, -0.47046843177189407, -0.47100712105798576, -0.4715447154471545, -0.47106598984771575, -0.47058823529411764, -0.47112462006079026, -0.4706477732793522, -0.47017189079878663, -0.4696969696969697, -0.47023208879919276, -0.46975806451612906, -0.4692849949647533, -0.46981891348088534, -0.46934673366834173, -0.46987951807228917, -0.4704112337011033, -0.46993987975951906, -0.4694694694694695, -0.47]\n",
            "Experiment: 2\n",
            "Episode 100\tAverage Score: 6.73\tRegret: 0.00\n",
            "Episode 200\tAverage Score: 13.23\tRegret: -1.00\n",
            "Episode 300\tAverage Score: 53.78\tRegret: 1.00\n",
            "Episode 400\tAverage Score: 140.03\tRegret: 0.00\n",
            "Episode 500\tAverage Score: 123.46\tRegret: -1.00\n",
            "Episode 600\tAverage Score: 132.15\tRegret: 0.00\n",
            "Episode 700\tAverage Score: 112.89\tRegret: -1.00\n",
            "Episode 800\tAverage Score: 81.52\tRegret: -1.00\n",
            "Episode 900\tAverage Score: 63.62\tRegret: 0.00\n",
            "Episode 1000\tAverage Score: 52.50\tRegret: 0.00\n",
            "0:06:04.557281\n",
            "[5.0, 6.0, 6.0, 6.25, 6.0, 6.333333333333333, 6.142857142857143, 6.375, 6.888888888888889, 7.1, 7.181818181818182, 7.25, 7.076923076923077, 6.928571428571429, 6.866666666666666, 6.8125, 6.882352941176471, 6.944444444444445, 6.947368421052632, 6.9, 6.904761904761905, 6.863636363636363, 6.826086956521739, 6.791666666666667, 6.76, 6.769230769230769, 6.851851851851852, 6.857142857142857, 6.862068965517241, 6.933333333333334, 6.935483870967742, 6.90625, 6.96969696969697, 7.0588235294117645, 7.0, 6.972222222222222, 6.945945945945946, 7.0, 7.0, 6.975, 6.975609756097561, 7.0, 6.976744186046512, 6.931818181818182, 6.933333333333334, 6.913043478260869, 6.8936170212765955, 6.9375, 6.938775510204081, 6.92, 6.901960784313726, 6.923076923076923, 6.9245283018867925, 6.944444444444445, 6.927272727272728, 6.910714285714286, 6.87719298245614, 6.862068965517241, 6.830508474576271, 6.816666666666666, 6.80327868852459, 6.758064516129032, 6.73015873015873, 6.703125, 6.676923076923077, 6.651515151515151, 6.686567164179104, 6.676470588235294, 6.681159420289855, 6.685714285714286, 6.676056338028169, 6.666666666666667, 6.657534246575342, 6.648648648648648, 6.626666666666667, 6.605263157894737, 6.597402597402597, 6.589743589743589, 6.569620253164557, 6.5625, 6.555555555555555, 6.573170731707317, 6.626506024096385, 6.642857142857143, 6.623529411764705, 6.627906976744186, 6.620689655172414, 6.625, 6.674157303370786, 6.7444444444444445, 6.835164835164835, 6.815217391304348, 6.806451612903226, 6.808510638297872, 6.810526315789474, 6.802083333333333, 6.783505154639175, 6.775510204081633, 6.757575757575758, 6.73, 6.73, 6.71, 6.7, 6.68, 6.68, 6.68, 6.69, 6.66, 6.6, 6.56, 6.53, 6.5, 6.51, 6.52, 6.54, 6.55, 6.51, 6.5, 6.48, 6.47, 6.46, 6.46, 6.46, 6.45, 6.43, 6.41, 6.38, 6.37, 6.35, 6.33, 6.32, 6.35, 6.36, 6.32, 6.32, 6.31, 6.29, 6.26, 6.27, 6.26, 6.26, 6.22, 6.22, 6.22, 6.2, 6.19, 6.19, 6.16, 6.14, 6.13, 6.12, 6.12, 6.1, 6.08, 6.07, 6.09, 6.14, 6.16, 6.22, 6.27, 6.31, 6.38, 6.42, 6.48, 6.53, 6.6, 6.62, 6.77, 7.01, 7.18, 7.36, 7.49, 7.82, 8.19, 8.58, 9.09, 9.25, 9.34, 9.49, 9.73, 10.08, 10.23, 10.3, 10.51, 10.65, 11.02, 11.36, 11.48, 11.6, 11.65, 11.77, 11.83, 12.02, 12.17, 12.33, 12.52, 12.71, 12.88, 13.02, 13.23, 13.42, 13.55, 13.92, 14.09, 14.29, 14.49, 14.6, 14.73, 14.88, 15.14, 15.25, 15.42, 15.65, 15.79, 15.85, 16.11, 16.55, 16.65, 16.7, 16.81, 17.25, 17.38, 17.63, 17.91, 18.03, 18.2, 18.31, 18.5, 18.73, 18.94, 19.04, 19.11, 19.36, 19.5, 19.93, 20.15, 20.5, 20.83, 21.13, 21.55, 21.68, 21.84, 21.95, 22.25, 22.34, 22.55, 22.78, 23.49, 23.61, 24.2, 24.62, 24.88, 25.2, 25.35, 25.71, 25.99, 26.3, 26.75, 27.23, 27.39, 28.05, 28.33, 28.89, 29.05, 29.21, 29.31, 29.61, 29.98, 29.97, 30.08, 30.19, 30.71, 31.19, 31.43, 31.55, 31.72, 31.94, 32.55, 33.15, 34.01, 34.75, 35.27, 36.45, 36.96, 38.18, 38.74, 39.58, 40.7, 41.43, 43.76, 44.62, 45.6, 46.46, 47.01, 47.88, 50.06, 50.68, 51.62, 53.49, 53.78, 54.92, 56.13, 57.49, 57.73, 58.96, 59.28, 60.92, 62.43, 63.25, 64.2, 64.47, 64.67, 65.8, 67.24, 68.25, 70.04, 70.29, 70.68, 72.03, 73.17, 73.41, 74.89, 74.83, 75.68, 77.36, 78.54, 80.24, 80.82, 82.79, 84.08, 86.43, 87.42, 87.74, 89.14, 89.15, 90.54, 91.26, 92.69, 93.48, 94.49, 96.21, 98.3, 99.16, 99.84, 99.95, 102.2, 103.66, 104.32, 105.26, 107.08, 107.14, 109.0, 110.7, 111.49, 112.6, 114.75, 115.39, 116.46, 117.23, 118.76, 118.41, 120.53, 121.31, 122.74, 123.78, 125.2, 127.29, 128.62, 129.7, 130.79, 132.07, 132.56, 132.95, 133.61, 134.49, 135.31, 136.3, 136.86, 137.64, 138.99, 139.12, 139.58, 139.27, 139.56, 139.46, 139.46, 139.29, 138.38, 139.01, 137.75, 138.12, 138.39, 138.22, 139.29, 139.38, 138.77, 139.58, 140.01, 139.42, 140.03, 140.01, 139.78, 139.13, 139.78, 139.3, 140.38, 139.8, 139.32, 139.48, 139.17, 139.72, 141.23, 141.04, 140.53, 140.69, 139.66, 139.96, 139.53, 139.05, 138.87, 139.31, 138.83, 139.71, 139.89, 139.0, 139.39, 138.73, 138.94, 137.78, 137.67, 136.53, 136.76, 137.63, 137.66, 138.62, 138.13, 138.11, 137.49, 137.4, 137.17, 136.42, 135.34, 135.42, 135.87, 136.58, 135.17, 134.32, 133.86, 133.84, 132.53, 133.06, 132.25, 131.35, 131.73, 131.61, 130.16, 130.91, 130.49, 130.22, 129.43, 130.04, 128.53, 128.25, 127.6, 127.83, 127.12, 125.62, 124.77, 124.8, 124.68, 124.32, 124.21, 123.97, 123.84, 123.7, 123.54, 123.07, 123.23, 122.95, 121.53, 121.49, 121.36, 122.09, 123.11, 122.85, 122.85, 123.02, 123.97, 123.52, 123.52, 123.05, 122.84, 123.38, 122.78, 124.1, 123.48, 123.07, 122.67, 122.21, 123.46, 123.71, 123.5, 123.51, 123.76, 124.32, 123.72, 123.94, 123.89, 124.2, 125.55, 125.99, 125.09, 125.06, 124.92, 124.76, 124.9, 125.16, 126.51, 126.84, 126.81, 126.86, 127.06, 127.72, 127.42, 127.69, 126.89, 127.11, 128.57, 128.51, 128.13, 128.46, 128.05, 127.47, 127.13, 126.88, 127.17, 127.45, 127.51, 127.39, 127.27, 127.44, 127.37, 127.43, 127.22, 127.64, 127.71, 127.86, 128.13, 128.03, 129.39, 129.63, 129.57, 130.04, 129.94, 129.72, 129.91, 129.18, 129.18, 130.6, 130.54, 130.52, 131.04, 131.07, 131.36, 131.68, 131.79, 132.21, 132.46, 132.36, 132.45, 132.36, 132.37, 132.46, 132.23, 132.32, 132.48, 133.06, 132.78, 132.68, 132.82, 132.67, 132.98, 132.78, 131.84, 132.01, 132.29, 132.62, 132.68, 132.86, 132.85, 133.39, 133.47, 133.38, 133.48, 132.61, 132.7, 132.79, 132.69, 133.11, 132.15, 131.97, 132.19, 132.22, 131.97, 131.67, 131.93, 131.52, 131.65, 131.5, 131.2, 131.3, 131.54, 131.33, 131.51, 131.83, 131.57, 131.29, 131.05, 131.04, 131.21, 131.05, 131.1, 130.78, 130.97, 131.19, 131.3, 131.09, 130.05, 130.06, 130.3, 129.51, 129.53, 129.9, 129.62, 129.37, 129.48, 129.16, 128.92, 129.13, 129.3, 129.06, 129.05, 128.9, 128.71, 128.6, 128.55, 128.4, 128.42, 128.83, 127.74, 127.41, 127.04, 126.85, 126.67, 126.85, 126.67, 126.88, 126.95, 125.96, 126.15, 126.57, 126.11, 126.0, 125.65, 125.07, 124.78, 124.49, 124.25, 123.92, 123.42, 123.07, 122.81, 122.65, 122.64, 122.23, 121.68, 121.21, 121.16, 121.16, 120.83, 120.98, 120.81, 120.29, 120.13, 119.89, 119.57, 119.19, 118.65, 118.11, 117.84, 117.35, 116.93, 116.45, 115.92, 115.12, 114.71, 114.16, 114.03, 113.48, 112.89, 112.74, 112.71, 112.55, 112.38, 112.06, 111.75, 111.62, 111.23, 110.78, 109.89, 109.27, 109.07, 108.98, 108.75, 108.13, 108.18, 108.0, 107.63, 107.27, 106.92, 106.73, 106.09, 105.41, 105.13, 104.56, 104.41, 104.18, 103.8, 103.64, 103.04, 103.03, 102.97, 102.51, 102.36, 102.04, 101.24, 101.23, 101.14, 100.66, 100.22, 99.96, 99.58, 99.33, 98.98, 98.57, 98.22, 98.12, 97.6, 96.97, 96.19, 95.98, 95.82, 95.14, 94.77, 94.23, 93.94, 93.49, 93.05, 92.4, 92.19, 91.5, 91.21, 90.88, 90.66, 90.07, 90.07, 89.84, 89.81, 89.8, 89.71, 89.7, 89.49, 89.18, 88.96, 88.61, 88.36, 88.01, 87.81, 87.34, 87.15, 86.6, 85.99, 85.55, 85.38, 85.16, 84.82, 84.37, 84.21, 84.23, 84.03, 83.47, 83.31, 83.05, 82.86, 82.65, 82.34, 82.32, 81.97, 81.81, 81.52, 80.98, 80.51, 80.23, 79.99, 79.65, 79.29, 78.95, 78.74, 78.44, 78.02, 77.84, 77.39, 77.25, 76.94, 76.83, 76.4, 76.12, 75.94, 75.79, 75.53, 75.25, 75.04, 74.91, 74.58, 74.37, 74.18, 73.81, 73.44, 73.34, 73.4, 73.22, 72.99, 72.74, 72.57, 72.56, 72.47, 72.13, 71.81, 71.73, 71.55, 71.29, 71.25, 71.23, 71.01, 70.33, 70.13, 69.88, 69.74, 69.61, 69.63, 69.37, 69.19, 69.02, 69.05, 68.86, 68.71, 68.59, 68.41, 68.17, 67.85, 67.74, 67.49, 67.52, 67.36, 67.22, 66.95, 66.82, 66.38, 66.13, 65.92, 65.71, 65.76, 65.74, 65.74, 65.72, 65.58, 65.51, 65.16, 65.2, 65.01, 64.89, 64.84, 64.81, 64.63, 64.48, 64.53, 64.42, 64.32, 64.14, 63.88, 64.01, 63.92, 63.91, 63.94, 64.02, 64.08, 63.89, 63.86, 63.66, 63.62, 63.48, 63.45, 63.23, 63.06, 63.09, 62.89, 62.83, 62.76, 62.77, 62.69, 62.59, 62.55, 62.56, 62.52, 62.28, 62.27, 62.26, 61.87, 61.27, 61.12, 61.07, 61.04, 60.87, 60.85, 60.69, 60.11, 60.12, 59.6, 59.41, 59.25, 59.14, 59.19, 59.14, 58.99, 58.91, 58.77, 58.72, 58.68, 58.54, 58.15, 58.11, 57.89, 57.72, 57.74, 58.09, 57.9, 57.86, 57.85, 57.57, 57.38, 57.19, 57.22, 57.24, 57.12, 56.99, 56.87, 56.73, 56.29, 56.27, 56.11, 56.05, 56.19, 56.01, 55.5, 55.51, 55.55, 55.38, 55.49, 55.4, 55.41, 55.36, 54.91, 54.72, 54.53, 54.47, 54.4, 54.22, 54.2, 54.01, 54.0, 53.96, 54.03, 53.96, 53.81, 53.76, 53.68, 53.59, 53.6, 53.31, 53.39, 53.31, 53.33, 53.29, 52.78, 52.73, 52.6, 52.61, 52.65, 52.52, 52.5]\n",
            "\n",
            "\n",
            "[-1.0, -1.0, -0.6666666666666666, -0.75, -0.8, -0.8333333333333334, -0.7142857142857143, -0.625, -0.6666666666666666, -0.7, -0.6363636363636364, -0.5833333333333334, -0.6153846153846154, -0.6428571428571429, -0.6, -0.625, -0.6470588235294118, -0.6111111111111112, -0.631578947368421, -0.6, -0.5714285714285714, -0.5909090909090909, -0.6086956521739131, -0.5833333333333334, -0.6, -0.5769230769230769, -0.5555555555555556, -0.5714285714285714, -0.5862068965517241, -0.6, -0.6129032258064516, -0.625, -0.6363636363636364, -0.6176470588235294, -0.6285714285714286, -0.6388888888888888, -0.6486486486486487, -0.6578947368421053, -0.6666666666666666, -0.675, -0.6585365853658537, -0.6666666666666666, -0.6744186046511628, -0.6590909090909091, -0.6444444444444445, -0.6521739130434783, -0.6595744680851063, -0.6666666666666666, -0.6530612244897959, -0.66, -0.6470588235294118, -0.6538461538461539, -0.660377358490566, -0.6481481481481481, -0.6545454545454545, -0.6428571428571429, -0.6491228070175439, -0.6551724137931034, -0.6440677966101694, -0.6333333333333333, -0.6229508196721312, -0.6129032258064516, -0.6031746031746031, -0.59375, -0.5846153846153846, -0.5909090909090909, -0.5970149253731343, -0.6029411764705882, -0.6086956521739131, -0.6, -0.5915492957746479, -0.5833333333333334, -0.5753424657534246, -0.5675675675675675, -0.5733333333333334, -0.5657894736842105, -0.5714285714285714, -0.5769230769230769, -0.5822784810126582, -0.575, -0.5679012345679012, -0.573170731707317, -0.5662650602409639, -0.5714285714285714, -0.5764705882352941, -0.5813953488372093, -0.5862068965517241, -0.5909090909090909, -0.5955056179775281, -0.6, -0.5934065934065934, -0.5978260869565217, -0.6021505376344086, -0.6063829787234043, -0.6105263157894737, -0.6041666666666666, -0.5979381443298969, -0.5918367346938775, -0.5959595959595959, -0.59, -0.5841584158415841, -0.5882352941176471, -0.5922330097087378, -0.5865384615384616, -0.5904761904761905, -0.5849056603773585, -0.5887850467289719, -0.5833333333333334, -0.5779816513761468, -0.5727272727272728, -0.5765765765765766, -0.5714285714285714, -0.5752212389380531, -0.5701754385964912, -0.5652173913043478, -0.5689655172413793, -0.5641025641025641, -0.5677966101694916, -0.5630252100840336, -0.5583333333333333, -0.5537190082644629, -0.5573770491803278, -0.5609756097560976, -0.5645161290322581, -0.56, -0.5555555555555556, -0.5511811023622047, -0.546875, -0.5426356589147286, -0.5461538461538461, -0.5419847328244275, -0.5454545454545454, -0.5488721804511278, -0.5522388059701493, -0.5481481481481482, -0.5514705882352942, -0.5474452554744526, -0.5434782608695652, -0.5467625899280576, -0.5428571428571428, -0.5460992907801419, -0.5422535211267606, -0.5454545454545454, -0.5486111111111112, -0.5448275862068965, -0.541095890410959, -0.5374149659863946, -0.5337837837837838, -0.5302013422818792, -0.5333333333333333, -0.5298013245033113, -0.5328947368421053, -0.5359477124183006, -0.538961038961039, -0.535483870967742, -0.532051282051282, -0.5286624203821656, -0.5253164556962026, -0.5283018867924528, -0.525, -0.5279503105590062, -0.5308641975308642, -0.5337423312883436, -0.5365853658536586, -0.5393939393939394, -0.536144578313253, -0.5389221556886228, -0.5416666666666666, -0.5384615384615384, -0.5352941176470588, -0.5380116959064327, -0.5406976744186046, -0.5433526011560693, -0.5402298850574713, -0.5428571428571428, -0.5397727272727273, -0.536723163841808, -0.5393258426966292, -0.5418994413407822, -0.5444444444444444, -0.5469613259668509, -0.5494505494505495, -0.5519125683060109, -0.5543478260869565, -0.5513513513513514, -0.553763440860215, -0.5561497326203209, -0.5585106382978723, -0.5608465608465608, -0.5631578947368421, -0.5654450261780105, -0.5625, -0.5647668393782384, -0.5670103092783505, -0.5641025641025641, -0.5612244897959183, -0.5583756345177665, -0.5606060606060606, -0.5577889447236181, -0.56, -0.5621890547263682, -0.5594059405940595, -0.5566502463054187, -0.553921568627451, -0.551219512195122, -0.5533980582524272, -0.5555555555555556, -0.5528846153846154, -0.5550239234449761, -0.5571428571428572, -0.5545023696682464, -0.5566037735849056, -0.5586854460093896, -0.5560747663551402, -0.5534883720930233, -0.5509259259259259, -0.5529953917050692, -0.555045871559633, -0.5525114155251142, -0.55, -0.5520361990950227, -0.5540540540540541, -0.5560538116591929, -0.5535714285714286, -0.5511111111111111, -0.5486725663716814, -0.5506607929515418, -0.5482456140350878, -0.5458515283842795, -0.5434782608695652, -0.5411255411255411, -0.5431034482758621, -0.5450643776824035, -0.5470085470085471, -0.548936170212766, -0.5508474576271186, -0.5485232067510548, -0.5462184873949579, -0.5397489539748954, -0.5375, -0.5352697095435685, -0.5371900826446281, -0.5390946502057613, -0.5368852459016393, -0.5387755102040817, -0.5365853658536586, -0.5344129554655871, -0.532258064516129, -0.5301204819277109, -0.528, -0.5298804780876494, -0.5317460317460317, -0.5335968379446641, -0.5354330708661418, -0.5372549019607843, -0.53515625, -0.5330739299610895, -0.5348837209302325, -0.5366795366795367, -0.5384615384615384, -0.5402298850574713, -0.5419847328244275, -0.5437262357414449, -0.5416666666666666, -0.5433962264150943, -0.5413533834586466, -0.5430711610486891, -0.5410447761194029, -0.5427509293680297, -0.5444444444444444, -0.5461254612546126, -0.5441176470588235, -0.5457875457875457, -0.5437956204379562, -0.5418181818181819, -0.5434782608695652, -0.5379061371841155, -0.539568345323741, -0.5412186379928315, -0.5392857142857143, -0.5373665480427047, -0.5354609929078015, -0.5371024734982333, -0.5387323943661971, -0.5368421052631579, -0.5384615384615384, -0.5365853658536586, -0.5381944444444444, -0.5363321799307958, -0.5344827586206896, -0.5360824742268041, -0.5376712328767124, -0.5392491467576792, -0.5374149659863946, -0.5389830508474577, -0.5405405405405406, -0.5420875420875421, -0.5436241610738255, -0.5418060200668896, -0.5366666666666666, -0.5348837209302325, -0.5364238410596026, -0.5346534653465347, -0.5361842105263158, -0.5344262295081967, -0.5359477124183006, -0.5342019543973942, -0.5357142857142857, -0.5372168284789643, -0.5387096774193548, -0.5369774919614148, -0.5352564102564102, -0.536741214057508, -0.5382165605095541, -0.5365079365079365, -0.5379746835443038, -0.5362776025236593, -0.5345911949685535, -0.5329153605015674, -0.53125, -0.5327102803738317, -0.531055900621118, -0.5325077399380805, -0.5339506172839507, -0.5353846153846153, -0.5368098159509203, -0.5382262996941896, -0.5365853658536586, -0.5349544072948328, -0.5333333333333333, -0.5317220543806647, -0.5301204819277109, -0.5285285285285285, -0.5299401197604791, -0.5313432835820896, -0.5297619047619048, -0.5281899109792285, -0.5266272189349113, -0.528023598820059, -0.5264705882352941, -0.5278592375366569, -0.5292397660818714, -0.5276967930029155, -0.5261627906976745, -0.527536231884058, -0.5260115606936416, -0.5273775216138329, -0.5258620689655172, -0.5272206303724928, -0.5257142857142857, -0.5242165242165242, -0.5255681818181818, -0.5240793201133145, -0.5225988700564972, -0.523943661971831, -0.5224719101123596, -0.5210084033613446, -0.5223463687150838, -0.520891364902507, -0.5222222222222223, -0.5235457063711911, -0.5220994475138122, -0.5234159779614325, -0.521978021978022, -0.5205479452054794, -0.5191256830601093, -0.5204359673024523, -0.5190217391304348, -0.5176151761517616, -0.5135135135135135, -0.5148247978436657, -0.5161290322580645, -0.514745308310992, -0.516042780748663, -0.5173333333333333, -0.5159574468085106, -0.5145888594164456, -0.5132275132275133, -0.5145118733509235, -0.5131578947368421, -0.5118110236220472, -0.5130890052356021, -0.5117493472584856, -0.5104166666666666, -0.5116883116883116, -0.5129533678756477, -0.5116279069767442, -0.5077319587628866, -0.5089974293059126, -0.5076923076923077, -0.5089514066496164, -0.5076530612244898, -0.5063613231552163, -0.5076142131979695, -0.5063291139240507, -0.5075757575757576, -0.5062972292191436, -0.5050251256281407, -0.506265664160401, -0.505, -0.5037406483790524, -0.5049751243781094, -0.5062034739454094, -0.5074257425742574, -0.508641975308642, -0.5073891625615764, -0.5061425061425061, -0.5049019607843137, -0.5036674816625917, -0.5048780487804878, -0.5060827250608273, -0.5072815533980582, -0.5084745762711864, -0.5072463768115942, -0.5084337349397591, -0.5096153846153846, -0.5107913669064749, -0.5095693779904307, -0.5107398568019093, -0.5095238095238095, -0.5106888361045131, -0.509478672985782, -0.5106382978723404, -0.5117924528301887, -0.5129411764705882, -0.5117370892018779, -0.5128805620608899, -0.5116822429906542, -0.5128205128205128, -0.5116279069767442, -0.5127610208816705, -0.5138888888888888, -0.5150115473441108, -0.5161290322580645, -0.5149425287356322, -0.5160550458715596, -0.517162471395881, -0.5159817351598174, -0.5148063781321185, -0.5159090909090909, -0.5147392290249433, -0.5135746606334841, -0.5124153498871332, -0.5135135135135135, -0.5123595505617977, -0.5112107623318386, -0.5100671140939598, -0.5111607142857143, -0.512249443207127, -0.5133333333333333, -0.5121951219512195, -0.5132743362831859, -0.5143487858719646, -0.513215859030837, -0.512087912087912, -0.5131578947368421, -0.5120350109409191, -0.5109170305676856, -0.5119825708061002, -0.5108695652173914, -0.5119305856832972, -0.512987012987013, -0.5140388768898488, -0.5129310344827587, -0.513978494623656, -0.5150214592274678, -0.5160599571734475, -0.5170940170940171, -0.5181236673773987, -0.5170212765957447, -0.5180467091295117, -0.5190677966101694, -0.5179704016913319, -0.5168776371308017, -0.5157894736842106, -0.5168067226890757, -0.5157232704402516, -0.5167364016736402, -0.5177453027139874, -0.51875, -0.5197505197505198, -0.520746887966805, -0.5217391304347826, -0.5227272727272727, -0.5237113402061856, -0.522633744855967, -0.5215605749486653, -0.5204918032786885, -0.5194274028629857, -0.5204081632653061, -0.5193482688391039, -0.5203252032520326, -0.5212981744421906, -0.520242914979757, -0.5191919191919192, -0.5201612903225806, -0.5191146881287726, -0.5180722891566265, -0.5170340681362725, -0.518, -0.5189620758483033, -0.5179282868525896, -0.5168986083499006, -0.5158730158730159, -0.5148514851485149, -0.5158102766798419, -0.514792899408284, -0.515748031496063, -0.5147347740667977, -0.515686274509804, -0.5166340508806262, -0.517578125, -0.5165692007797271, -0.5155642023346303, -0.516504854368932, -0.5155038759689923, -0.5164410058027079, -0.5154440154440154, -0.5163776493256262, -0.5173076923076924, -0.5182341650671785, -0.5191570881226054, -0.5181644359464627, -0.5190839694656488, -0.52, -0.5190114068441065, -0.5199240986717267, -0.5189393939393939, -0.5179584120982986, -0.5188679245283019, -0.519774011299435, -0.518796992481203, -0.5178236397748592, -0.5187265917602997, -0.5177570093457944, -0.5186567164179104, -0.5195530726256983, -0.5204460966542751, -0.5213358070500927, -0.5222222222222223, -0.5212569316081331, -0.522140221402214, -0.5230202578268877, -0.5238970588235294, -0.5247706422018349, -0.5238095238095238, -0.5228519195612431, -0.5237226277372263, -0.5245901639344263, -0.5236363636363637, -0.5245009074410163, -0.5235507246376812, -0.5226039783001808, -0.5216606498194946, -0.5225225225225225, -0.5233812949640287, -0.5242369838420108, -0.5232974910394266, -0.5223613595706619, -0.5232142857142857, -0.5240641711229946, -0.5231316725978647, -0.522202486678508, -0.5230496453900709, -0.5221238938053098, -0.5212014134275619, -0.5220458553791887, -0.522887323943662, -0.523725834797891, -0.5228070175438596, -0.521891418563923, -0.5209790209790209, -0.5218150087260035, -0.5226480836236934, -0.5217391304347826, -0.5225694444444444, -0.5233968804159446, -0.5224913494809689, -0.5233160621761658, -0.5241379310344828, -0.5232358003442341, -0.5240549828178694, -0.5248713550600344, -0.523972602739726, -0.5247863247863248, -0.5238907849829352, -0.5229982964224872, -0.5238095238095238, -0.5229202037351444, -0.523728813559322, -0.5228426395939086, -0.5236486486486487, -0.5227655986509275, -0.5218855218855218, -0.5226890756302521, -0.5218120805369127, -0.5226130653266332, -0.5217391304347826, -0.5225375626043406, -0.5216666666666666, -0.5224625623960066, -0.5232558139534884, -0.5240464344941956, -0.5248344370860927, -0.5256198347107438, -0.5247524752475248, -0.5255354200988468, -0.524671052631579, -0.5254515599343186, -0.5245901639344263, -0.5237315875613748, -0.5228758169934641, -0.5236541598694943, -0.5228013029315961, -0.5235772357723577, -0.5227272727272727, -0.5218800648298217, -0.5226537216828478, -0.5218093699515347, -0.5209677419354839, -0.5201288244766505, -0.5209003215434084, -0.5200642054574639, -0.5208333333333334, -0.52, -0.5207667731629393, -0.5199362041467305, -0.5191082802547771, -0.519872813990461, -0.5206349206349207, -0.5198098256735341, -0.5189873417721519, -0.5197472353870458, -0.5205047318611987, -0.5196850393700787, -0.5204402515723271, -0.5196232339089482, -0.5203761755485894, -0.5211267605633803, -0.5203125, -0.5195007800312013, -0.5202492211838006, -0.52099533437014, -0.5201863354037267, -0.5209302325581395, -0.521671826625387, -0.5208655332302936, -0.5216049382716049, -0.522342064714946, -0.5230769230769231, -0.5238095238095238, -0.5230061349693251, -0.5237366003062787, -0.5229357798165137, -0.5221374045801527, -0.5228658536585366, -0.5235920852359208, -0.5243161094224924, -0.5235204855842185, -0.5242424242424243, -0.5234493192133132, -0.5226586102719033, -0.521870286576169, -0.5225903614457831, -0.5218045112781955, -0.521021021021021, -0.5217391304347826, -0.5209580838323353, -0.5216741405082213, -0.5208955223880597, -0.5216095380029806, -0.5223214285714286, -0.5215453194650818, -0.5222551928783383, -0.522962962962963, -0.522189349112426, -0.5214180206794683, -0.5206489675516224, -0.5198821796759941, -0.5191176470588236, -0.5183553597650514, -0.5175953079178885, -0.5183016105417276, -0.5190058479532164, -0.5197080291970803, -0.5189504373177842, -0.519650655021834, -0.5203488372093024, -0.5195936139332366, -0.5202898550724637, -0.5209840810419681, -0.5216763005780347, -0.5209235209235209, -0.521613832853026, -0.520863309352518, -0.521551724137931, -0.5222381635581061, -0.5214899713467048, -0.5221745350500715, -0.5228571428571429, -0.5221112696148359, -0.5227920227920227, -0.5234708392603129, -0.5241477272727273, -0.524822695035461, -0.5240793201133145, -0.5233380480905233, -0.5240112994350282, -0.5232722143864598, -0.5225352112676056, -0.5218002812939522, -0.5210674157303371, -0.5217391304347826, -0.5210084033613446, -0.5216783216783217, -0.5223463687150838, -0.5230125523012552, -0.5236768802228412, -0.5243393602225312, -0.5236111111111111, -0.5242718446601942, -0.5235457063711911, -0.5228215767634855, -0.5234806629834254, -0.5241379310344828, -0.5234159779614325, -0.5240715268225584, -0.5233516483516484, -0.52400548696845, -0.5232876712328767, -0.5225718194254446, -0.523224043715847, -0.5225102319236017, -0.5231607629427792, -0.5224489795918368, -0.5230978260869565, -0.5237449118046132, -0.524390243902439, -0.523680649526387, -0.5243243243243243, -0.5236167341430499, -0.522911051212938, -0.5235531628532974, -0.5228494623655914, -0.5221476510067115, -0.5214477211796247, -0.5220883534136547, -0.5227272727272727, -0.5220293724966623, -0.5213333333333333, -0.521970705725699, -0.5212765957446809, -0.5205843293492696, -0.5212201591511937, -0.5205298013245033, -0.5198412698412699, -0.5191545574636723, -0.5184696569920845, -0.5177865612648221, -0.5171052631578947, -0.5177398160315374, -0.5170603674540682, -0.5176933158584535, -0.518324607329843, -0.5176470588235295, -0.5182767624020888, -0.5176010430247718, -0.5182291666666666, -0.5188556566970091, -0.5181818181818182, -0.5188067444876784, -0.5181347150259067, -0.517464424320828, -0.5167958656330749, -0.5161290322580645, -0.5154639175257731, -0.5148005148005148, -0.5141388174807198, -0.5134788189987163, -0.5128205128205128, -0.5134443021766966, -0.5127877237851662, -0.5134099616858238, -0.514030612244898, -0.5146496815286624, -0.5139949109414759, -0.5146124523506989, -0.5139593908629442, -0.5133079847908745, -0.5126582278481012, -0.5120101137800253, -0.5113636363636364, -0.5119798234552333, -0.5125944584382871, -0.5132075471698113, -0.5138190954773869, -0.5131744040150564, -0.5125313283208021, -0.5118898623279099, -0.5125, -0.5131086142322098, -0.5124688279301746, -0.5130759651307597, -0.5124378109452736, -0.5130434782608696, -0.5136476426799007, -0.5142503097893433, -0.5136138613861386, -0.5142150803461063, -0.5135802469135803, -0.5129469790382244, -0.5135467980295566, -0.5141451414514145, -0.5147420147420148, -0.5141104294478528, -0.5147058823529411, -0.5152998776009792, -0.5146699266503667, -0.514041514041514, -0.5134146341463415, -0.51278928136419, -0.5121654501216545, -0.5127582017010935, -0.5121359223300971, -0.5127272727272727, -0.513317191283293, -0.5139056831922612, -0.5132850241545893, -0.5138721351025332, -0.5144578313253012, -0.5138387484957883, -0.5144230769230769, -0.5150060024009604, -0.5155875299760192, -0.5161676646706587, -0.5167464114832536, -0.5173237753882916, -0.5178997613365155, -0.5184743742550656, -0.5190476190476191, -0.5184304399524375, -0.517814726840855, -0.5183867141162515, -0.5177725118483413, -0.5171597633136095, -0.516548463356974, -0.5159386068476978, -0.5153301886792453, -0.5147232037691402, -0.5152941176470588, -0.5158636897767332, -0.5164319248826291, -0.5169988276670574, -0.5175644028103045, -0.5181286549707602, -0.5175233644859814, -0.5169194865810969, -0.5163170163170163, -0.5157159487776485, -0.5151162790697674, -0.5156794425087108, -0.5162412993039444, -0.5168018539976825, -0.5162037037037037, -0.5167630057803468, -0.5173210161662818, -0.5178777393310265, -0.5184331797235023, -0.5178365937859609, -0.5183908045977011, -0.5177956371986223, -0.5172018348623854, -0.5166093928980527, -0.517162471395881, -0.5165714285714286, -0.5159817351598174, -0.5165336374002281, -0.5170842824601367, -0.5176336746302617, -0.5181818181818182, -0.5175936435868331, -0.518140589569161, -0.5175537938844847, -0.5169683257918553, -0.5175141242937853, -0.5169300225733634, -0.5174746335963923, -0.5180180180180181, -0.5174353205849269, -0.5168539325842697, -0.5162738496071829, -0.515695067264574, -0.5162374020156775, -0.5167785234899329, -0.5162011173184358, -0.5167410714285714, -0.5161649944258639, -0.5155902004454342, -0.5161290322580645, -0.5155555555555555, -0.5149833518312985, -0.5155210643015521, -0.5160575858250277, -0.5165929203539823, -0.5171270718232044, -0.5165562913907285, -0.515986769570011, -0.5154185022026432, -0.5148514851485149, -0.5142857142857142, -0.5137211855104281, -0.5131578947368421, -0.5125958378970427, -0.5120350109409191, -0.5114754098360655, -0.5120087336244541, -0.5125408942202835, -0.5130718954248366, -0.5125136017410229, -0.5119565217391304, -0.512486427795874, -0.5119305856832972, -0.5113759479956663, -0.5108225108225108, -0.5102702702702703, -0.509719222462203, -0.5102481121898598, -0.5107758620689655, -0.511302475780409, -0.510752688172043, -0.5112781954887218, -0.5118025751072961, -0.5123258306538049, -0.512847965738758, -0.5133689839572193, -0.5138888888888888, -0.5144076840981857, -0.5138592750533049, -0.5133120340788072, -0.5138297872340426, -0.5143464399574921, -0.5138004246284501, -0.513255567338282, -0.513771186440678, -0.5142857142857142, -0.5137420718816068, -0.5131995776135164, -0.5137130801687764, -0.512118018967334, -0.511578947368421, -0.5120925341745531, -0.5115546218487395, -0.5110178384050367, -0.510482180293501, -0.5099476439790576, -0.5104602510460251, -0.5109717868338558, -0.511482254697286, -0.5119916579770595, -0.5114583333333333, -0.5119667013527576, -0.5114345114345115, -0.5119418483904465, -0.5114107883817427, -0.5119170984455959, -0.5124223602484472, -0.5118924508790073, -0.512396694214876, -0.5128998968008256, -0.51340206185567, -0.5118434603501545, -0.5123456790123457, -0.512846865364851, -0.5133470225872689, -0.5128205128205128, -0.5122950819672131, -0.5127942681678608, -0.5132924335378323, -0.5127681307456589, -0.5112244897959184, -0.5107033639143731, -0.5112016293279023, -0.5106815869786369, -0.5111788617886179, -0.5106598984771573, -0.5101419878296146, -0.5096251266464032, -0.5101214574898786, -0.5096056622851365, -0.509090909090909, -0.508577194752775, -0.5090725806451613, -0.5085599194360524, -0.5090543259557344, -0.5085427135678392, -0.5090361445783133, -0.5095285857572718, -0.5100200400801603, -0.5095095095095095, -0.509]\n",
            "Episode 100\tAverage Score: 40.71\tRegret: 0.00\n",
            "Episode 200\tAverage Score: 113.61\tRegret: 0.00\n",
            "Episode 300\tAverage Score: 92.98\tRegret: 0.00\n",
            "Episode 378\tAverage Score: 195.35\n",
            "Environment solved in 378 episodes!\tAverage Score: 195.35\n",
            "0:03:22.607336\n",
            "[4.0, 5.5, 5.333333333333333, 6.0, 5.8, 6.666666666666667, 6.428571428571429, 8.25, 8.11111111111111, 7.8, 8.0, 7.75, 7.769230769230769, 7.928571428571429, 8.066666666666666, 8.375, 8.529411764705882, 9.166666666666666, 9.0, 9.35, 9.714285714285714, 10.409090909090908, 10.347826086956522, 10.458333333333334, 10.72, 11.076923076923077, 11.703703703703704, 11.714285714285714, 11.586206896551724, 11.533333333333333, 12.35483870967742, 12.4375, 12.363636363636363, 13.176470588235293, 13.771428571428572, 13.63888888888889, 15.567567567567568, 15.68421052631579, 15.58974358974359, 16.875, 16.804878048780488, 16.88095238095238, 17.232558139534884, 17.431818181818183, 17.91111111111111, 18.347826086956523, 18.659574468085108, 19.041666666666668, 19.26530612244898, 19.08, 19.705882352941178, 20.134615384615383, 20.30188679245283, 20.77777777777778, 20.636363636363637, 20.482142857142858, 21.473684210526315, 22.75862068965517, 23.10169491525424, 23.4, 23.459016393442624, 24.306451612903224, 25.476190476190474, 25.5625, 25.446153846153845, 26.21212121212121, 26.507462686567163, 26.426470588235293, 27.0, 26.928571428571427, 28.04225352112676, 28.208333333333332, 28.246575342465754, 29.12162162162162, 30.093333333333334, 31.223684210526315, 31.272727272727273, 32.243589743589745, 32.949367088607595, 33.0, 33.18518518518518, 33.48780487804878, 34.46987951807229, 34.523809523809526, 34.94117647058823, 35.33720930232558, 35.689655172413794, 36.31818181818182, 36.48314606741573, 36.266666666666666, 36.56043956043956, 36.94565217391305, 37.58064516129032, 37.5531914893617, 37.82105263157895, 37.90625, 39.09278350515464, 38.92857142857143, 39.98989898989899, 40.71, 41.98, 43.01, 44.0, 45.39, 46.92, 48.66, 49.61, 51.66, 52.91, 53.62, 54.2, 55.38, 56.16, 57.23, 58.42, 59.78, 61.44, 62.04, 62.71, 62.77, 63.66, 64.52, 64.88, 65.89, 66.44, 67.03, 67.87, 68.48, 69.25, 71.31, 71.55, 72.97, 75.16, 75.89, 77.72, 79.33, 78.82, 79.3, 80.64, 80.89, 81.46, 82.89, 84.3, 85.43, 86.28, 87.59, 89.15, 90.0, 91.46, 92.09, 92.95, 93.89, 94.7, 95.72, 97.25, 98.18, 98.72, 98.98, 99.24, 100.09, 100.96, 101.33, 101.43, 102.42, 103.09, 102.86, 103.59, 104.24, 104.69, 105.5, 105.4, 106.15, 106.73, 106.64, 106.08, 105.89, 106.57, 106.48, 106.31, 106.84, 107.4, 107.74, 107.67, 108.42, 108.19, 108.68, 108.88, 109.18, 109.35, 110.63, 111.09, 111.27, 111.28, 112.09, 112.57, 113.21, 112.77, 113.7, 113.4, 113.61, 112.96, 112.77, 112.8, 112.18, 111.62, 109.87, 109.73, 108.56, 108.18, 108.99, 109.51, 109.26, 109.38, 109.04, 108.58, 108.09, 107.35, 107.47, 107.82, 107.71, 107.49, 107.28, 107.71, 107.46, 106.89, 106.21, 105.84, 105.89, 106.01, 104.7, 104.97, 104.08, 102.55, 102.34, 101.08, 100.26, 100.73, 100.41, 100.23, 99.43, 99.58, 98.95, 98.21, 97.56, 97.28, 96.38, 95.37, 94.96, 94.02, 94.11, 93.66, 93.43, 93.24, 92.62, 92.01, 91.93, 91.49, 91.25, 91.07, 90.81, 90.63, 90.38, 90.22, 89.75, 89.72, 90.15, 89.87, 89.83, 89.53, 89.47, 89.61, 89.39, 89.4, 89.47, 89.81, 89.81, 89.84, 89.92, 90.62, 90.73, 91.46, 91.48, 91.47, 91.27, 91.7, 92.11, 92.25, 91.92, 92.5, 92.19, 92.27, 92.24, 92.35, 92.49, 92.99, 92.97, 93.02, 92.98, 93.01, 92.98, 93.31, 92.55, 92.79, 92.61, 92.59, 93.95, 94.57, 94.65, 94.61, 94.37, 94.19, 95.25, 96.52, 98.2, 98.87, 99.61, 100.12, 100.96, 102.39, 104.79, 106.18, 107.37, 109.0, 110.62, 112.98, 115.38, 117.14, 118.87, 120.41, 122.07, 123.7, 125.53, 127.28, 128.87, 130.47, 132.1, 133.8, 135.95, 137.18, 139.57, 141.22, 142.73, 144.25, 146.02, 147.57, 149.29, 150.92, 152.62, 154.31, 156.0, 157.59, 158.97, 160.57, 161.47, 162.93, 164.47, 165.45, 166.98, 168.98, 168.87, 170.42, 172.05, 173.64, 175.32, 176.45, 178.0, 179.22, 180.91, 182.61, 184.15, 185.56, 187.14, 188.23, 189.83, 191.54, 193.08, 194.33, 195.35]\n",
            "\n",
            "\n",
            "[0.0, -0.5, -0.3333333333333333, -0.5, -0.4, -0.5, -0.42857142857142855, -0.375, -0.4444444444444444, -0.5, -0.5454545454545454, -0.5, -0.46153846153846156, -0.5, -0.4666666666666667, -0.5, -0.5294117647058824, -0.5555555555555556, -0.5789473684210527, -0.55, -0.5714285714285714, -0.5909090909090909, -0.6086956521739131, -0.5833333333333334, -0.56, -0.5769230769230769, -0.5925925925925926, -0.5714285714285714, -0.5517241379310345, -0.5666666666666667, -0.5806451612903226, -0.5625, -0.5454545454545454, -0.5294117647058824, -0.5142857142857142, -0.5277777777777778, -0.5135135135135135, -0.5263157894736842, -0.5384615384615384, -0.525, -0.5365853658536586, -0.5476190476190477, -0.5348837209302325, -0.5454545454545454, -0.5333333333333333, -0.5217391304347826, -0.5106382978723404, -0.5, -0.5102040816326531, -0.52, -0.5098039215686274, -0.5192307692307693, -0.5094339622641509, -0.5185185185185185, -0.509090909090909, -0.5, -0.5087719298245614, -0.5172413793103449, -0.5084745762711864, -0.5, -0.4918032786885246, -0.5, -0.49206349206349204, -0.5, -0.5076923076923077, -0.5151515151515151, -0.5223880597014925, -0.5147058823529411, -0.5217391304347826, -0.5142857142857142, -0.5211267605633803, -0.5138888888888888, -0.5068493150684932, -0.5, -0.5066666666666667, -0.5131578947368421, -0.5064935064935064, -0.5128205128205128, -0.5063291139240507, -0.5, -0.49382716049382713, -0.5, -0.4939759036144578, -0.4880952380952381, -0.4823529411764706, -0.47674418604651164, -0.4827586206896552, -0.4772727272727273, -0.48314606741573035, -0.4777777777777778, -0.4725274725274725, -0.4673913043478261, -0.46236559139784944, -0.4574468085106383, -0.45263157894736844, -0.4583333333333333, -0.4639175257731959, -0.45918367346938777, -0.46464646464646464, -0.46, -0.45544554455445546, -0.45098039215686275, -0.4563106796116505, -0.46153846153846156, -0.45714285714285713, -0.4528301886792453, -0.45794392523364486, -0.46296296296296297, -0.46788990825688076, -0.4727272727272727, -0.46846846846846846, -0.4732142857142857, -0.4778761061946903, -0.47368421052631576, -0.4782608695652174, -0.4827586206896552, -0.47863247863247865, -0.4830508474576271, -0.48739495798319327, -0.49166666666666664, -0.48760330578512395, -0.48360655737704916, -0.4878048780487805, -0.4838709677419355, -0.488, -0.49206349206349204, -0.4881889763779528, -0.4921875, -0.4883720930232558, -0.4846153846153846, -0.48091603053435117, -0.48484848484848486, -0.48120300751879697, -0.48507462686567165, -0.4888888888888889, -0.49264705882352944, -0.49635036496350365, -0.4927536231884058, -0.4892086330935252, -0.4928571428571429, -0.48936170212765956, -0.4859154929577465, -0.4825174825174825, -0.4861111111111111, -0.4896551724137931, -0.4931506849315068, -0.4965986394557823, -0.5, -0.4966442953020134, -0.5, -0.4966887417218543, -0.4934210526315789, -0.49019607843137253, -0.487012987012987, -0.49032258064516127, -0.48717948717948717, -0.4840764331210191, -0.4810126582278481, -0.4779874213836478, -0.48125, -0.4782608695652174, -0.47530864197530864, -0.4785276073619632, -0.4817073170731707, -0.48484848484848486, -0.4879518072289157, -0.49101796407185627, -0.4880952380952381, -0.4911242603550296, -0.48823529411764705, -0.4853801169590643, -0.4883720930232558, -0.48554913294797686, -0.4827586206896552, -0.4857142857142857, -0.48295454545454547, -0.4858757062146893, -0.48314606741573035, -0.4860335195530726, -0.4888888888888889, -0.49171270718232046, -0.489010989010989, -0.4918032786885246, -0.4891304347826087, -0.4918918918918919, -0.4946236559139785, -0.49732620320855614, -0.5, -0.4973544973544973, -0.5, -0.5026178010471204, -0.5, -0.49740932642487046, -0.4948453608247423, -0.49743589743589745, -0.49489795918367346, -0.49238578680203043, -0.494949494949495, -0.49748743718592964, -0.495, -0.4975124378109453, -0.49504950495049505, -0.49261083743842365, -0.4950980392156863, -0.4975609756097561, -0.49514563106796117, -0.4975845410628019, -0.5, -0.49760765550239233, -0.5, -0.4976303317535545, -0.5, -0.5023474178403756, -0.5, -0.49767441860465117, -0.5, -0.4976958525345622, -0.4954128440366973, -0.4931506849315068, -0.4954545454545455, -0.49321266968325794, -0.49099099099099097, -0.48878923766816146, -0.48660714285714285, -0.48, -0.4778761061946903, -0.47577092511013214, -0.47368421052631576, -0.4759825327510917, -0.4782608695652174, -0.47619047619047616, -0.47413793103448276, -0.4721030042918455, -0.47435897435897434, -0.4765957446808511, -0.4745762711864407, -0.47257383966244726, -0.47058823529411764, -0.4686192468619247, -0.4666666666666667, -0.46473029045643155, -0.4628099173553719, -0.46502057613168724, -0.46311475409836067, -0.46530612244897956, -0.4634146341463415, -0.46153846153846156, -0.4596774193548387, -0.4578313253012048, -0.46, -0.4581673306772908, -0.45634920634920634, -0.45849802371541504, -0.46062992125984253, -0.4627450980392157, -0.46484375, -0.46303501945525294, -0.46124031007751937, -0.4555984555984556, -0.4576923076923077, -0.4559386973180077, -0.4541984732824427, -0.45627376425855515, -0.4583333333333333, -0.45660377358490567, -0.4548872180451128, -0.45318352059925093, -0.4552238805970149, -0.45353159851301117, -0.45185185185185184, -0.45387453874538747, -0.45588235294117646, -0.45787545787545786, -0.45985401459854014, -0.4618181818181818, -0.4601449275362319, -0.4584837545126354, -0.460431654676259, -0.45878136200716846, -0.45714285714285713, -0.45907473309608543, -0.4574468085106383, -0.45936395759717313, -0.45774647887323944, -0.45614035087719296, -0.45454545454545453, -0.4564459930313589, -0.4548611111111111, -0.4532871972318339, -0.4517241379310345, -0.45017182130584193, -0.4486301369863014, -0.447098976109215, -0.445578231292517, -0.44745762711864406, -0.44594594594594594, -0.4478114478114478, -0.44966442953020136, -0.451505016722408, -0.45, -0.4485049833887043, -0.4503311258278146, -0.44884488448844884, -0.4506578947368421, -0.4491803278688525, -0.4477124183006536, -0.4495114006514658, -0.44805194805194803, -0.44660194174757284, -0.4483870967741935, -0.44694533762057875, -0.44871794871794873, -0.4504792332268371, -0.44904458598726116, -0.44761904761904764, -0.4462025316455696, -0.4479495268138801, -0.44654088050314467, -0.445141065830721, -0.44375, -0.4423676012461059, -0.4409937888198758, -0.43962848297213625, -0.4382716049382716, -0.4369230769230769, -0.43558282208588955, -0.43425076452599387, -0.4329268292682927, -0.4316109422492401, -0.4303030303030303, -0.42900302114803623, -0.42771084337349397, -0.4264264264264264, -0.4251497005988024, -0.42388059701492536, -0.4226190476190476, -0.42136498516320475, -0.42011834319526625, -0.41887905604719766, -0.4176470588235294, -0.41642228739002934, -0.4152046783625731, -0.4139941690962099, -0.4127906976744186, -0.4115942028985507, -0.41040462427745666, -0.4092219020172911, -0.40804597701149425, -0.4068767908309456, -0.4057142857142857, -0.4045584045584046, -0.4034090909090909, -0.40226628895184136, -0.4011299435028249, -0.4, -0.398876404494382, -0.4005602240896359, -0.3994413407821229, -0.3983286908077994, -0.4, -0.3988919667590028, -0.39779005524861877, -0.39669421487603307, -0.3956043956043956, -0.3972602739726027, -0.39617486338797814, -0.39509536784741145, -0.39402173913043476, -0.39295392953929537, -0.3918918918918919, -0.3908355795148248, -0.3897849462365591, -0.3914209115281501, -0.39037433155080214, -0.3893333333333333, -0.3882978723404255, -0.38992042440318303, -0.3915343915343915]\n",
            "Experiment: 3\n",
            "Episode 100\tAverage Score: 6.87\tRegret: -1.00\n",
            "Episode 200\tAverage Score: 23.25\tRegret: -1.00\n",
            "Episode 300\tAverage Score: 97.71\tRegret: -1.00\n",
            "Episode 391\tAverage Score: 195.12\n",
            "Environment solved in 391 episodes!\tAverage Score: 195.12\n",
            "0:02:21.473540\n",
            "[5.0, 5.5, 5.333333333333333, 6.0, 5.8, 6.5, 6.285714285714286, 8.625, 8.333333333333334, 8.2, 7.909090909090909, 7.75, 7.6923076923076925, 7.571428571428571, 7.466666666666667, 7.4375, 7.352941176470588, 7.333333333333333, 7.2631578947368425, 7.2, 7.238095238095238, 7.2272727272727275, 7.260869565217392, 7.208333333333333, 7.24, 7.1923076923076925, 7.222222222222222, 7.142857142857143, 7.137931034482759, 7.166666666666667, 7.129032258064516, 7.1875, 7.212121212121212, 7.205882352941177, 7.142857142857143, 7.111111111111111, 7.135135135135135, 7.131578947368421, 7.102564102564102, 7.1, 7.073170731707317, 7.0476190476190474, 7.0, 6.9772727272727275, 6.955555555555556, 6.934782608695652, 6.8936170212765955, 6.958333333333333, 6.918367346938775, 6.9, 6.862745098039215, 6.826923076923077, 6.811320754716981, 6.833333333333333, 6.8545454545454545, 6.839285714285714, 6.824561403508772, 6.810344827586207, 6.813559322033898, 6.783333333333333, 6.754098360655738, 6.709677419354839, 6.698412698412699, 6.703125, 6.6923076923076925, 6.7272727272727275, 6.7164179104477615, 6.705882352941177, 6.695652173913044, 6.7, 6.704225352112676, 6.708333333333333, 6.739726027397261, 6.756756756756757, 6.8, 7.078947368421052, 7.077922077922078, 7.051282051282051, 7.037974683544304, 7.0375, 7.0246913580246915, 7.024390243902439, 7.0, 6.988095238095238, 6.976470588235294, 6.965116279069767, 6.9655172413793105, 6.943181818181818, 6.943820224719101, 6.9222222222222225, 6.912087912087912, 6.891304347826087, 6.903225806451613, 6.914893617021277, 6.936842105263158, 6.916666666666667, 6.907216494845361, 6.887755102040816, 6.878787878787879, 6.87, 6.89, 6.88, 6.88, 6.85, 6.86, 6.81, 6.82, 6.63, 6.62, 6.62, 6.63, 6.64, 6.62, 6.63, 6.62, 6.6, 6.6, 6.58, 6.59, 6.58, 6.55, 6.53, 6.5, 6.51, 6.49, 6.51, 6.51, 6.51, 6.5, 6.47, 6.47, 6.44, 6.41, 6.4, 6.41, 6.41, 6.42, 6.45, 6.49, 6.65, 7.23, 7.46, 7.98, 8.05, 8.48, 8.7, 8.87, 9.06, 9.42, 9.84, 10.23, 10.56, 10.88, 11.23, 11.53, 11.66, 11.94, 12.25, 12.44, 12.67, 12.93, 13.06, 13.17, 13.36, 14.31, 14.87, 15.3, 15.59, 15.8, 15.93, 16.24, 16.31, 16.51, 16.85, 17.13, 17.08, 17.6, 17.7, 17.85, 18.41, 18.63, 18.81, 19.2, 19.29, 19.49, 19.91, 19.98, 20.41, 20.6, 20.75, 21.02, 21.3, 21.66, 21.79, 21.91, 22.03, 22.2, 22.56, 23.1, 23.25, 23.64, 24.48, 25.02, 25.23, 25.41, 25.66, 26.08, 26.23, 26.63, 27.11, 27.63, 27.81, 28.09, 28.41, 29.12, 29.24, 29.8, 29.95, 30.19, 30.6, 30.93, 31.06, 31.2, 31.76, 32.25, 32.6, 32.86, 33.69, 34.35, 35.0, 36.09, 36.62, 37.12, 37.88, 38.7, 39.2, 39.98, 40.55, 41.0, 42.07, 42.1, 42.34, 43.2, 45.05, 45.55, 45.86, 46.71, 47.31, 48.62, 48.79, 48.93, 51.06, 51.82, 52.57, 52.71, 53.88, 54.84, 56.15, 56.47, 57.49, 57.74, 59.43, 60.32, 61.51, 62.07, 62.59, 64.14, 65.21, 66.95, 67.43, 68.21, 70.2, 71.1, 71.55, 71.37, 72.83, 72.53, 72.96, 73.46, 74.0, 75.49, 77.11, 77.81, 78.43, 79.97, 79.89, 82.26, 83.07, 84.86, 85.78, 86.76, 87.62, 88.61, 89.93, 90.93, 92.05, 93.99, 94.63, 96.02, 97.71, 98.91, 99.59, 100.08, 101.81, 103.51, 104.56, 105.05, 106.65, 107.63, 108.79, 110.17, 112.43, 114.61, 116.73, 118.48, 119.46, 121.35, 123.66, 125.77, 127.82, 128.25, 130.58, 132.66, 134.54, 136.5, 137.09, 139.07, 139.31, 141.01, 142.82, 144.18, 145.77, 147.73, 148.05, 149.68, 151.63, 153.27, 155.09, 156.88, 158.09, 159.46, 161.44, 161.19, 160.76, 162.04, 163.4, 164.76, 165.96, 166.22, 167.2, 168.88, 168.43, 168.15, 168.8, 169.92, 170.28, 171.31, 172.14, 173.93, 175.0, 175.85, 176.22, 177.67, 177.75, 178.2, 178.68, 179.15, 179.41, 179.29, 180.36, 181.71, 181.32, 181.55, 182.32, 184.48, 185.23, 186.56, 187.53, 188.19, 189.0, 189.48, 189.54, 190.5, 191.93, 192.64, 194.63, 192.54, 192.81, 192.86, 193.92, 195.12]\n",
            "\n",
            "\n",
            "[-1.0, -0.5, -0.3333333333333333, -0.5, -0.4, -0.3333333333333333, -0.2857142857142857, -0.25, -0.2222222222222222, -0.3, -0.36363636363636365, -0.4166666666666667, -0.46153846153846156, -0.5, -0.5333333333333333, -0.5625, -0.5882352941176471, -0.6111111111111112, -0.5789473684210527, -0.6, -0.6190476190476191, -0.6363636363636364, -0.6521739130434783, -0.625, -0.64, -0.6153846153846154, -0.5925925925925926, -0.5714285714285714, -0.5862068965517241, -0.6, -0.6129032258064516, -0.625, -0.6363636363636364, -0.6176470588235294, -0.6, -0.6111111111111112, -0.5945945945945946, -0.5789473684210527, -0.5897435897435898, -0.575, -0.5609756097560976, -0.5714285714285714, -0.5813953488372093, -0.5909090909090909, -0.5777777777777777, -0.5652173913043478, -0.5531914893617021, -0.5625, -0.5510204081632653, -0.56, -0.5490196078431373, -0.5576923076923077, -0.5471698113207547, -0.5370370370370371, -0.5454545454545454, -0.5357142857142857, -0.5263157894736842, -0.5344827586206896, -0.5423728813559322, -0.55, -0.5409836065573771, -0.532258064516129, -0.5238095238095238, -0.53125, -0.5230769230769231, -0.5303030303030303, -0.5223880597014925, -0.5147058823529411, -0.5072463768115942, -0.5142857142857142, -0.5211267605633803, -0.5277777777777778, -0.5342465753424658, -0.5405405405405406, -0.5333333333333333, -0.5263157894736842, -0.5194805194805194, -0.5256410256410257, -0.5316455696202531, -0.5375, -0.5432098765432098, -0.5487804878048781, -0.5421686746987951, -0.5357142857142857, -0.5294117647058824, -0.5348837209302325, -0.5287356321839081, -0.5227272727272727, -0.5168539325842697, -0.5111111111111111, -0.5164835164835165, -0.5108695652173914, -0.5161290322580645, -0.5212765957446809, -0.5263157894736842, -0.53125, -0.5257731958762887, -0.5204081632653061, -0.5252525252525253, -0.53, -0.5346534653465347, -0.5294117647058824, -0.5242718446601942, -0.5192307692307693, -0.5142857142857142, -0.5188679245283019, -0.514018691588785, -0.5092592592592593, -0.5045871559633027, -0.5, -0.4954954954954955, -0.5, -0.49557522123893805, -0.49122807017543857, -0.48695652173913045, -0.49137931034482757, -0.48717948717948717, -0.4915254237288136, -0.48739495798319327, -0.48333333333333334, -0.4793388429752066, -0.47540983606557374, -0.4715447154471545, -0.46774193548387094, -0.472, -0.47619047619047616, -0.47244094488188976, -0.46875, -0.4728682170542636, -0.47692307692307695, -0.4732824427480916, -0.4772727272727273, -0.47368421052631576, -0.4701492537313433, -0.4666666666666667, -0.4632352941176471, -0.45985401459854014, -0.45652173913043476, -0.45323741007194246, -0.45, -0.45390070921985815, -0.45774647887323944, -0.46153846153846156, -0.4652777777777778, -0.4689655172413793, -0.4657534246575342, -0.46258503401360546, -0.4594594594594595, -0.4563758389261745, -0.46, -0.45695364238410596, -0.4605263157894737, -0.46405228758169936, -0.4675324675324675, -0.47096774193548385, -0.47435897435897434, -0.47770700636942676, -0.47468354430379744, -0.4779874213836478, -0.475, -0.4782608695652174, -0.48148148148148145, -0.4785276073619632, -0.47560975609756095, -0.4727272727272727, -0.46987951807228917, -0.47305389221556887, -0.47619047619047616, -0.47928994082840237, -0.4823529411764706, -0.4853801169590643, -0.4883720930232558, -0.4913294797687861, -0.4885057471264368, -0.4857142857142857, -0.48863636363636365, -0.4858757062146893, -0.48314606741573035, -0.4860335195530726, -0.48333333333333334, -0.4861878453038674, -0.489010989010989, -0.4918032786885246, -0.4945652173913043, -0.4918918918918919, -0.489247311827957, -0.4919786096256685, -0.48936170212765956, -0.48677248677248675, -0.48947368421052634, -0.4869109947643979, -0.4895833333333333, -0.49222797927461137, -0.4896907216494845, -0.49230769230769234, -0.49489795918367346, -0.49238578680203043, -0.4898989898989899, -0.49246231155778897, -0.495, -0.4975124378109453, -0.5, -0.4975369458128079, -0.4950980392156863, -0.4975609756097561, -0.49514563106796117, -0.4975845410628019, -0.4951923076923077, -0.49282296650717705, -0.49047619047619045, -0.4881516587677725, -0.49056603773584906, -0.48826291079812206, -0.49065420560747663, -0.4930232558139535, -0.49074074074074076, -0.48847926267281105, -0.4908256880733945, -0.4885844748858447, -0.4909090909090909, -0.49321266968325794, -0.49099099099099097, -0.49327354260089684, -0.4955357142857143, -0.49333333333333335, -0.4911504424778761, -0.4933920704845815, -0.4956140350877193, -0.49344978165938863, -0.4956521739130435, -0.4935064935064935, -0.49137931034482757, -0.49356223175965663, -0.49145299145299143, -0.48936170212765956, -0.4915254237288136, -0.4936708860759494, -0.4957983193277311, -0.49372384937238495, -0.49583333333333335, -0.4896265560165975, -0.48760330578512395, -0.4897119341563786, -0.48770491803278687, -0.4857142857142857, -0.4878048780487805, -0.48582995951417, -0.4838709677419355, -0.4819277108433735, -0.484, -0.4820717131474104, -0.4801587301587302, -0.48221343873517786, -0.48031496062992124, -0.4823529411764706, -0.48046875, -0.48249027237354086, -0.4844961240310077, -0.47876447876447875, -0.4807692307692308, -0.4827586206896552, -0.48091603053435117, -0.4828897338403042, -0.4810606060606061, -0.4830188679245283, -0.48120300751879697, -0.4794007490636704, -0.47388059701492535, -0.4758364312267658, -0.4740740740740741, -0.47601476014760147, -0.4742647058823529, -0.47619047619047616, -0.4781021897810219, -0.48, -0.4782608695652174, -0.47653429602888087, -0.4748201438848921, -0.4731182795698925, -0.475, -0.47686832740213525, -0.475177304964539, -0.47703180212014135, -0.4788732394366197, -0.47719298245614034, -0.4755244755244755, -0.4738675958188153, -0.4722222222222222, -0.4740484429065744, -0.4724137931034483, -0.4742268041237113, -0.476027397260274, -0.47440273037542663, -0.46938775510204084, -0.4711864406779661, -0.47297297297297297, -0.47474747474747475, -0.47315436241610737, -0.47157190635451507, -0.47333333333333333, -0.4717607973421927, -0.47019867549668876, -0.46534653465346537, -0.46381578947368424, -0.46557377049180326, -0.46405228758169936, -0.46254071661237783, -0.4642857142857143, -0.4627831715210356, -0.4612903225806452, -0.4630225080385852, -0.46153846153846156, -0.46006389776357826, -0.4585987261146497, -0.45714285714285713, -0.4588607594936709, -0.45741324921135645, -0.4559748427672956, -0.45454545454545453, -0.453125, -0.4517133956386293, -0.4503105590062112, -0.4520123839009288, -0.4506172839506173, -0.4492307692307692, -0.450920245398773, -0.44954128440366975, -0.4451219512195122, -0.44680851063829785, -0.44545454545454544, -0.44410876132930516, -0.4457831325301205, -0.4444444444444444, -0.4431137724550898, -0.4417910447761194, -0.44047619047619047, -0.4391691394658754, -0.4408284023668639, -0.43952802359882004, -0.43823529411764706, -0.4398826979472141, -0.43859649122807015, -0.4402332361516035, -0.438953488372093, -0.43768115942028984, -0.43641618497109824, -0.43804034582132567, -0.4396551724137931, -0.44126074498567336, -0.44285714285714284, -0.4415954415954416, -0.4431818181818182, -0.4447592067988669, -0.4435028248587571, -0.4450704225352113, -0.4438202247191011, -0.4425770308123249, -0.441340782122905, -0.4401114206128134, -0.4388888888888889, -0.4404432132963989, -0.4419889502762431, -0.44077134986225897, -0.43956043956043955, -0.4383561643835616, -0.43989071038251365, -0.43869209809264303, -0.44021739130434784, -0.44173441734417346, -0.44054054054054054, -0.4393530997304582, -0.4381720430107527, -0.43967828418230565, -0.4385026737967914, -0.44, -0.44148936170212766, -0.44297082228116713, -0.4444444444444444, -0.44327176781002636, -0.4421052631578947, -0.4409448818897638, -0.4397905759162304, -0.4412532637075718, -0.4401041666666667, -0.43896103896103894, -0.4378238341968912, -0.4392764857881137, -0.4381443298969072, -0.4370179948586118, -0.4358974358974359, -0.43478260869565216]\n",
            "Episode 100\tAverage Score: 7.87\tRegret: -1.00\n",
            "Episode 200\tAverage Score: 39.90\tRegret: 0.00\n",
            "Episode 300\tAverage Score: 104.09\tRegret: 0.00\n",
            "Episode 400\tAverage Score: 86.58\tRegret: -1.00\n",
            "Episode 500\tAverage Score: 53.65\tRegret: 0.00\n",
            "Episode 600\tAverage Score: 43.92\tRegret: -1.00\n",
            "Episode 700\tAverage Score: 38.55\tRegret: -1.00\n",
            "Episode 800\tAverage Score: 36.75\tRegret: -1.00\n",
            "Episode 900\tAverage Score: 33.49\tRegret: 0.00\n",
            "Episode 1000\tAverage Score: 31.91\tRegret: -1.00\n",
            "0:03:48.634457\n",
            "[5.0, 6.0, 6.333333333333333, 6.75, 6.8, 6.833333333333333, 7.0, 7.5, 7.555555555555555, 7.5, 7.454545454545454, 7.166666666666667, 7.153846153846154, 7.428571428571429, 7.666666666666667, 8.5625, 8.705882352941176, 9.5, 9.842105263157896, 9.75, 9.761904761904763, 10.045454545454545, 9.956521739130435, 9.916666666666666, 9.72, 10.076923076923077, 10.11111111111111, 10.071428571428571, 10.172413793103448, 10.033333333333333, 10.32258064516129, 10.1875, 10.212121212121213, 10.176470588235293, 10.028571428571428, 9.88888888888889, 9.864864864864865, 9.763157894736842, 9.717948717948717, 9.625, 9.585365853658537, 9.523809523809524, 9.465116279069768, 9.386363636363637, 9.377777777777778, 9.304347826086957, 9.25531914893617, 9.166666666666666, 9.122448979591837, 9.06, 9.019607843137255, 8.942307692307692, 8.867924528301886, 8.796296296296296, 8.745454545454546, 8.767857142857142, 8.701754385964913, 8.689655172413794, 8.64406779661017, 8.6, 8.557377049180328, 8.5, 8.46031746031746, 8.4375, 8.4, 8.363636363636363, 8.402985074626866, 8.352941176470589, 8.318840579710145, 8.3, 8.253521126760564, 8.25, 8.219178082191782, 8.18918918918919, 8.16, 8.131578947368421, 8.103896103896103, 8.076923076923077, 8.037974683544304, 8.0125, 8.0, 7.975609756097561, 7.963855421686747, 7.940476190476191, 7.905882352941177, 7.883720930232558, 7.839080459770115, 7.829545454545454, 7.797752808988764, 7.788888888888889, 7.758241758241758, 7.826086956521739, 7.860215053763441, 7.851063829787234, 7.936842105263158, 7.947916666666667, 7.927835051546392, 7.908163265306122, 7.898989898989899, 7.87, 7.87, 7.87, 7.85, 7.85, 7.85, 7.84, 7.82, 7.81, 7.8, 7.85, 7.89, 7.95, 7.96, 7.96, 7.9, 7.84, 7.79, 7.65, 7.78, 7.81, 7.77, 7.73, 7.81, 7.85, 8.05, 8.03, 8.09, 8.15, 8.24, 8.43, 8.39, 8.48, 8.64, 8.89, 9.15, 9.54, 9.67, 9.81, 10.07, 10.46, 10.68, 10.9, 11.09, 11.48, 11.91, 12.26, 12.44, 12.75, 12.78, 13.38, 14.22, 14.82, 14.95, 15.53, 16.55, 17.13, 17.32, 17.75, 18.07, 18.96, 19.02, 19.11, 20.26, 20.72, 20.92, 21.31, 21.64, 21.7, 22.37, 22.44, 22.94, 23.09, 23.71, 24.0, 24.68, 25.02, 25.19, 25.79, 26.92, 28.13, 28.67, 29.19, 29.67, 30.47, 30.91, 31.26, 31.97, 32.6, 33.48, 34.78, 35.49, 36.2, 36.6, 37.48, 37.48, 37.82, 38.38, 39.28, 39.8, 39.9, 40.51, 41.42, 41.95, 42.61, 42.95, 43.55, 43.76, 44.31, 44.42, 44.89, 45.46, 45.75, 46.27, 46.55, 46.83, 47.0, 47.53, 48.32, 49.31, 49.87, 50.34, 50.86, 51.86, 52.78, 54.67, 55.41, 55.85, 56.48, 57.55, 57.66, 58.06, 58.35, 59.13, 59.77, 60.21, 60.61, 61.75, 62.15, 63.42, 63.75, 64.56, 65.86, 66.34, 66.82, 67.21, 67.64, 68.11, 68.5, 70.03, 70.79, 70.58, 70.52, 71.48, 71.36, 71.09, 71.16, 71.72, 72.51, 72.99, 73.15, 74.01, 75.09, 75.91, 76.12, 77.1, 77.68, 78.08, 78.61, 79.43, 80.87, 81.45, 82.77, 84.6, 85.19, 85.95, 86.95, 88.52, 88.76, 89.92, 90.05, 91.05, 92.1, 92.64, 92.39, 93.09, 94.82, 94.9, 95.52, 95.72, 95.49, 95.87, 95.88, 97.13, 97.06, 99.37, 99.96, 100.66, 101.32, 102.05, 104.09, 105.05, 105.25, 105.61, 106.32, 107.04, 107.93, 108.72, 110.05, 110.67, 111.09, 111.43, 112.64, 113.08, 113.55, 114.48, 115.22, 116.0, 116.37, 116.22, 116.57, 117.45, 118.75, 119.16, 119.1, 118.33, 118.17, 118.14, 118.57, 118.14, 118.59, 118.81, 119.11, 118.84, 118.75, 118.68, 118.87, 118.66, 118.86, 118.13, 117.99, 117.71, 116.85, 116.72, 116.55, 116.35, 116.5, 116.48, 116.55, 115.95, 115.25, 115.4, 115.45, 115.2, 115.51, 115.24, 115.16, 114.89, 114.11, 114.07, 113.65, 113.37, 112.84, 111.49, 111.42, 110.96, 110.56, 110.36, 110.4, 109.52, 108.69, 108.34, 107.54, 105.72, 105.55, 104.73, 103.99, 103.09, 102.81, 101.2, 100.56, 99.68, 98.8, 98.37, 98.47, 98.03, 96.65, 96.61, 95.93, 94.94, 94.39, 93.92, 93.81, 92.72, 92.42, 90.48, 90.23, 89.57, 88.67, 88.0, 86.58, 85.54, 84.93, 84.57, 83.85, 82.78, 81.9, 81.36, 79.98, 79.88, 79.41, 79.03, 78.02, 77.63, 77.36, 76.85, 76.42, 75.18, 74.53, 74.12, 73.64, 72.98, 71.58, 70.56, 70.25, 69.47, 69.34, 69.34, 68.71, 68.4, 68.22, 68.05, 67.92, 67.84, 67.58, 67.58, 67.17, 66.62, 66.38, 66.15, 66.23, 65.93, 65.89, 66.01, 65.99, 65.81, 65.5, 64.93, 64.64, 64.16, 63.58, 63.33, 63.27, 62.88, 62.6, 62.63, 62.55, 62.56, 62.56, 62.32, 62.16, 62.01, 61.84, 61.32, 61.33, 61.08, 61.03, 61.09, 61.07, 60.88, 60.72, 60.62, 60.36, 60.27, 59.67, 59.51, 59.4, 59.08, 59.03, 58.85, 58.7, 58.45, 57.93, 57.37, 57.21, 57.15, 57.14, 56.45, 55.95, 56.42, 56.33, 55.76, 55.21, 55.07, 55.1, 54.71, 54.4, 54.25, 53.72, 53.83, 53.65, 53.39, 53.31, 53.39, 53.24, 53.71, 53.58, 53.63, 53.64, 53.54, 53.66, 53.15, 52.79, 52.31, 51.86, 51.68, 51.14, 51.69, 51.22, 51.0, 51.01, 50.48, 50.1, 50.05, 49.53, 49.19, 49.03, 49.07, 48.98, 49.08, 49.05, 48.8, 48.73, 48.57, 48.58, 48.46, 48.41, 47.98, 47.91, 47.81, 47.76, 47.71, 47.4, 47.18, 46.94, 46.5, 46.28, 46.75, 46.69, 46.6, 47.07, 47.02, 47.02, 47.19, 47.23, 47.22, 46.92, 46.95, 46.91, 46.9, 46.84, 46.44, 46.51, 46.96, 46.69, 46.36, 45.98, 45.8, 45.69, 45.69, 45.67, 45.09, 44.74, 44.76, 45.11, 45.15, 45.38, 45.02, 44.75, 44.36, 44.51, 44.16, 44.11, 44.14, 43.72, 43.55, 43.34, 43.94, 44.31, 44.3, 44.54, 44.58, 44.52, 44.59, 44.22, 44.29, 44.37, 44.1, 44.16, 43.84, 43.92, 44.14, 43.86, 43.66, 43.6, 43.64, 43.81, 43.83, 43.36, 43.35, 43.16, 43.32, 43.63, 44.02, 44.4, 44.41, 44.64, 44.42, 44.52, 44.11, 44.1, 44.47, 44.84, 44.92, 45.37, 45.29, 45.37, 44.93, 45.03, 44.54, 44.45, 44.26, 44.15, 43.74, 43.76, 43.72, 43.67, 43.64, 43.28, 43.2, 42.66, 42.66, 42.86, 42.89, 42.95, 43.02, 43.14, 43.11, 43.08, 43.22, 43.15, 42.77, 42.32, 41.79, 41.8, 41.4, 41.71, 41.3, 41.35, 40.99, 40.66, 41.04, 41.03, 40.92, 40.73, 41.0, 40.97, 40.71, 40.76, 40.45, 40.39, 40.46, 40.8, 40.38, 40.01, 39.61, 39.44, 39.81, 39.69, 39.7, 39.51, 39.93, 40.27, 40.62, 40.62, 40.65, 40.35, 39.82, 39.44, 39.4, 38.86, 38.97, 39.06, 38.58, 38.83, 39.16, 38.75, 39.09, 39.01, 39.05, 38.55, 38.18, 38.16, 37.87, 37.49, 37.06, 36.49, 36.03, 36.48, 36.12, 36.14, 36.61, 36.61, 36.56, 36.6, 36.57, 36.58, 36.72, 36.67, 37.09, 37.1, 37.12, 36.78, 36.37, 36.32, 36.37, 35.99, 35.94, 35.91, 36.36, 36.36, 36.76, 36.51, 36.91, 36.44, 36.14, 36.17, 36.2, 36.54, 36.23, 36.33, 36.35, 36.36, 36.42, 36.38, 36.8, 36.5, 36.46, 36.15, 36.1, 35.78, 35.88, 35.92, 35.94, 35.5, 35.88, 35.45, 35.87, 35.5, 35.84, 36.25, 36.22, 35.93, 35.59, 35.58, 35.63, 36.04, 36.09, 35.74, 35.73, 35.76, 36.14, 35.82, 35.75, 36.07, 36.09, 35.98, 35.64, 36.02, 36.11, 35.63, 35.57, 35.2, 34.9, 35.33, 35.0, 35.25, 35.3, 35.73, 35.74, 36.14, 36.48, 36.56, 36.57, 36.59, 36.62, 37.08, 37.04, 37.04, 36.73, 36.75, 36.76, 37.12, 37.08, 37.12, 37.53, 37.57, 37.9, 37.53, 37.76, 37.8, 37.41, 37.34, 37.0, 37.03, 36.62, 36.75, 36.66, 36.66, 36.78, 36.41, 35.98, 36.33, 36.41, 36.41, 36.49, 36.42, 36.63, 36.24, 35.96, 35.93, 35.86, 35.77, 35.55, 35.5, 35.58, 35.68, 36.02, 36.1, 36.19, 36.27, 36.34, 36.26, 35.83, 35.8, 35.75, 35.61, 35.62, 36.03, 36.04, 36.31, 36.26, 36.43, 36.49, 36.48, 36.25, 36.17, 36.14, 36.54, 36.55, 36.17, 36.19, 36.37, 36.38, 36.29, 35.99, 35.91, 35.72, 36.0, 36.07, 35.68, 35.37, 35.35, 35.74, 35.55, 35.51, 35.54, 35.49, 35.46, 35.39, 35.43, 35.12, 35.1, 35.15, 35.14, 35.05, 34.73, 35.07, 34.8, 34.4, 33.97, 33.6, 33.78, 34.26, 34.05, 33.61, 33.19, 32.79, 32.8, 33.14, 33.49, 33.53, 33.21, 33.21, 33.53, 33.54, 33.93, 34.15, 34.13, 33.85, 33.45, 33.3, 33.33, 33.29, 32.83, 32.87, 32.72, 32.3, 32.48, 32.04, 31.99, 32.32, 32.15, 32.13, 31.73, 31.58, 32.02, 31.86, 32.23, 32.29, 31.98, 32.13, 32.26, 32.12, 32.54, 32.78, 32.3, 32.38, 32.31, 32.26, 32.08, 31.64, 31.69, 31.69, 31.38, 31.11, 31.57, 31.28, 31.25, 31.27, 30.91, 30.87, 31.11, 31.36, 31.39, 31.22, 31.35, 30.99, 30.67, 30.24, 30.34, 30.12, 30.15, 30.56, 30.66, 30.6, 30.59, 30.7, 30.46, 30.45, 30.56, 30.45, 30.88, 30.56, 30.82, 30.85, 30.91, 30.84, 30.92, 31.14, 31.55, 31.5, 31.64, 31.95, 31.53, 31.93, 31.92, 31.53, 31.47, 31.83, 31.75, 32.05, 32.22, 31.74, 32.02, 32.02, 32.03, 32.03, 31.98, 32.09, 31.91]\n",
            "\n",
            "\n",
            "[-1.0, -0.5, -0.3333333333333333, -0.25, -0.2, -0.3333333333333333, -0.42857142857142855, -0.375, -0.3333333333333333, -0.3, -0.36363636363636365, -0.3333333333333333, -0.3076923076923077, -0.2857142857142857, -0.26666666666666666, -0.3125, -0.35294117647058826, -0.3888888888888889, -0.3684210526315789, -0.4, -0.38095238095238093, -0.36363636363636365, -0.391304347826087, -0.375, -0.4, -0.38461538461538464, -0.37037037037037035, -0.39285714285714285, -0.3793103448275862, -0.4, -0.41935483870967744, -0.4375, -0.42424242424242425, -0.4411764705882353, -0.42857142857142855, -0.4444444444444444, -0.43243243243243246, -0.4473684210526316, -0.4358974358974359, -0.425, -0.4146341463414634, -0.42857142857142855, -0.4186046511627907, -0.4318181818181818, -0.4444444444444444, -0.45652173913043476, -0.46808510638297873, -0.4583333333333333, -0.46938775510204084, -0.46, -0.47058823529411764, -0.46153846153846156, -0.4716981132075472, -0.46296296296296297, -0.45454545454545453, -0.44642857142857145, -0.43859649122807015, -0.4482758620689655, -0.4576271186440678, -0.45, -0.4426229508196721, -0.43548387096774194, -0.42857142857142855, -0.421875, -0.4307692307692308, -0.4393939393939394, -0.44776119402985076, -0.4411764705882353, -0.43478260869565216, -0.42857142857142855, -0.4225352112676056, -0.4166666666666667, -0.4246575342465753, -0.4189189189189189, -0.4266666666666667, -0.42105263157894735, -0.4155844155844156, -0.4230769230769231, -0.4177215189873418, -0.4125, -0.4074074074074074, -0.4146341463414634, -0.40963855421686746, -0.40476190476190477, -0.4, -0.4069767441860465, -0.40229885057471265, -0.3977272727272727, -0.39325842696629215, -0.3888888888888889, -0.3956043956043956, -0.40217391304347827, -0.3978494623655914, -0.40425531914893614, -0.4105263157894737, -0.40625, -0.41237113402061853, -0.40816326530612246, -0.40404040404040403, -0.41, -0.40594059405940597, -0.4019607843137255, -0.4077669902912621, -0.41346153846153844, -0.41904761904761906, -0.42452830188679247, -0.42990654205607476, -0.4351851851851852, -0.44036697247706424, -0.44545454545454544, -0.45045045045045046, -0.45535714285714285, -0.45132743362831856, -0.4473684210526316, -0.45217391304347826, -0.45689655172413796, -0.46153846153846156, -0.4661016949152542, -0.47058823529411764, -0.4666666666666667, -0.47107438016528924, -0.4672131147540984, -0.4634146341463415, -0.4596774193548387, -0.464, -0.4603174603174603, -0.4566929133858268, -0.4609375, -0.46511627906976744, -0.46153846153846156, -0.46564885496183206, -0.4696969696969697, -0.46616541353383456, -0.4701492537313433, -0.4666666666666667, -0.4632352941176471, -0.46715328467153283, -0.463768115942029, -0.4676258992805755, -0.4714285714285714, -0.46808510638297873, -0.47183098591549294, -0.4755244755244755, -0.4722222222222222, -0.47586206896551725, -0.4726027397260274, -0.47619047619047616, -0.47297297297297297, -0.47651006711409394, -0.47333333333333333, -0.4768211920529801, -0.48026315789473684, -0.48366013071895425, -0.487012987012987, -0.4838709677419355, -0.48717948717948717, -0.4840764331210191, -0.4873417721518987, -0.49056603773584906, -0.48125, -0.4782608695652174, -0.4691358024691358, -0.4723926380368098, -0.4634146341463415, -0.4666666666666667, -0.46987951807228917, -0.46706586826347307, -0.4642857142857143, -0.46153846153846156, -0.4647058823529412, -0.4619883040935672, -0.46511627906976744, -0.4682080924855491, -0.47126436781609193, -0.4742857142857143, -0.4715909090909091, -0.4745762711864407, -0.47752808988764045, -0.4748603351955307, -0.4777777777777778, -0.48066298342541436, -0.4835164835164835, -0.4808743169398907, -0.483695652173913, -0.4864864864864865, -0.489247311827957, -0.4919786096256685, -0.48936170212765956, -0.48677248677248675, -0.4842105263157895, -0.4816753926701571, -0.4791666666666667, -0.47668393782383417, -0.4793814432989691, -0.4717948717948718, -0.4744897959183674, -0.4720812182741117, -0.47474747474747475, -0.4723618090452261, -0.47, -0.472636815920398, -0.47029702970297027, -0.4729064039408867, -0.47549019607843135, -0.47804878048780486, -0.47572815533980584, -0.4782608695652174, -0.4807692307692308, -0.4784688995215311, -0.47619047619047616, -0.47393364928909953, -0.4716981132075472, -0.4694835680751174, -0.4672897196261682, -0.46511627906976744, -0.4675925925925926, -0.4700460829493088, -0.46788990825688076, -0.4657534246575342, -0.4636363636363636, -0.46153846153846156, -0.4594594594594595, -0.45739910313901344, -0.45982142857142855, -0.4622222222222222, -0.4646017699115044, -0.46255506607929514, -0.4649122807017544, -0.4672489082969432, -0.46956521739130436, -0.4675324675324675, -0.46551724137931033, -0.463519313304721, -0.4658119658119658, -0.46808510638297873, -0.4703389830508475, -0.47257383966244726, -0.47478991596638653, -0.47280334728033474, -0.4708333333333333, -0.46887966804979253, -0.47107438016528924, -0.4732510288065844, -0.4713114754098361, -0.46938775510204084, -0.4715447154471545, -0.47368421052631576, -0.4717741935483871, -0.4738955823293173, -0.476, -0.47410358565737054, -0.47619047619047616, -0.4782608695652174, -0.48031496062992124, -0.47843137254901963, -0.4765625, -0.47470817120622566, -0.47674418604651164, -0.47876447876447875, -0.4807692307692308, -0.4827586206896552, -0.4847328244274809, -0.4828897338403042, -0.4810606060606061, -0.47924528301886793, -0.48120300751879697, -0.48314606741573035, -0.48134328358208955, -0.4758364312267658, -0.4740740740740741, -0.47232472324723246, -0.47058823529411764, -0.4725274725274725, -0.4708029197080292, -0.4727272727272727, -0.47101449275362317, -0.4729241877256318, -0.4748201438848921, -0.4731182795698925, -0.475, -0.47330960854092524, -0.475177304964539, -0.47703180212014135, -0.4788732394366197, -0.4807017543859649, -0.4755244755244755, -0.47735191637630664, -0.4791666666666667, -0.47750865051903113, -0.47586206896551725, -0.4742268041237113, -0.476027397260274, -0.47440273037542663, -0.47278911564625853, -0.4745762711864407, -0.47635135135135137, -0.4781144781144781, -0.4798657718120805, -0.4816053511705686, -0.48, -0.47840531561461797, -0.48013245033112584, -0.47854785478547857, -0.48026315789473684, -0.4819672131147541, -0.4803921568627451, -0.4820846905537459, -0.4837662337662338, -0.4854368932038835, -0.4870967741935484, -0.4855305466237942, -0.48717948717948717, -0.48881789137380194, -0.4872611464968153, -0.4888888888888889, -0.4873417721518987, -0.48580441640378547, -0.48742138364779874, -0.4890282131661442, -0.490625, -0.48909657320872274, -0.48757763975155277, -0.4891640866873065, -0.4876543209876543, -0.48923076923076925, -0.48466257668711654, -0.48623853211009177, -0.4878048780487805, -0.48936170212765956, -0.4909090909090909, -0.49244712990936557, -0.4939759036144578, -0.4954954954954955, -0.4940119760479042, -0.4925373134328358, -0.49404761904761907, -0.49554896142433236, -0.4940828402366864, -0.49557522123893805, -0.4970588235294118, -0.49560117302052786, -0.49415204678362573, -0.49271137026239065, -0.4941860465116279, -0.4956521739130435, -0.49421965317919075, -0.49279538904899134, -0.4942528735632184, -0.49283667621776506, -0.49142857142857144, -0.49002849002849, -0.48863636363636365, -0.49008498583569404, -0.4887005649717514, -0.49014084507042255, -0.49157303370786515, -0.49299719887955185, -0.4888268156424581, -0.48746518105849584, -0.4861111111111111, -0.48753462603878117, -0.4889502762430939, -0.4903581267217631, -0.49175824175824173, -0.4931506849315068, -0.4918032786885246, -0.49318801089918257, -0.4945652173913043, -0.4932249322493225, -0.4945945945945946, -0.49326145552560646, -0.4946236559139785, -0.4932975871313673, -0.4919786096256685, -0.49066666666666664, -0.48936170212765956, -0.4880636604774536, -0.48677248677248675, -0.48812664907651715, -0.4868421052631579, -0.4881889763779528, -0.4895287958115183, -0.48825065274151436, -0.4895833333333333, -0.4909090909090909, -0.4896373056994819, -0.4909560723514212, -0.4896907216494845, -0.4910025706940874, -0.49230769230769234, -0.4936061381074169, -0.4923469387755102, -0.4910941475826972, -0.48984771573604063, -0.48860759493670886, -0.48737373737373735, -0.48866498740554154, -0.4899497487437186, -0.49122807017543857, -0.4925, -0.4912718204488778, -0.4925373134328358, -0.4913151364764268, -0.4900990099009901, -0.49135802469135803, -0.49261083743842365, -0.49385749385749383, -0.49264705882352944, -0.4938875305623472, -0.4951219512195122, -0.49635036496350365, -0.49514563106796117, -0.4939467312348668, -0.49516908212560384, -0.4939759036144578, -0.4951923076923077, -0.49640287769784175, -0.49760765550239233, -0.4988066825775656, -0.5, -0.501187648456057, -0.5, -0.5011820330969267, -0.5, -0.5011764705882353, -0.5023474178403756, -0.5011709601873536, -0.5, -0.4988344988344988, -0.49767441860465117, -0.4965197215777262, -0.49537037037037035, -0.4942263279445728, -0.49539170506912444, -0.4942528735632184, -0.4954128440366973, -0.4965675057208238, -0.4954337899543379, -0.49430523917995445, -0.4954545454545455, -0.4943310657596372, -0.49321266968325794, -0.49435665914221216, -0.49324324324324326, -0.49213483146067416, -0.49327354260089684, -0.49440715883668906, -0.4955357142857143, -0.49443207126948774, -0.49333333333333335, -0.49445676274944567, -0.49557522123893805, -0.49448123620309054, -0.4955947136563877, -0.4945054945054945, -0.4956140350877193, -0.49452954048140046, -0.49563318777292575, -0.49673202614379086, -0.4956521739130435, -0.4967462039045553, -0.49567099567099565, -0.4946004319654428, -0.49353448275862066, -0.4924731182795699, -0.49141630901287553, -0.49036402569593146, -0.4893162393162393, -0.4904051172707889, -0.49148936170212765, -0.49256900212314225, -0.4936440677966102, -0.492600422832981, -0.4936708860759494, -0.49473684210526314, -0.4957983193277311, -0.4947589098532495, -0.49581589958158995, -0.4968684759916493, -0.4979166666666667, -0.4968814968814969, -0.495850622406639, -0.494824016563147, -0.49586776859504134, -0.4948453608247423, -0.49382716049382713, -0.4948665297741273, -0.4959016393442623, -0.49693251533742333, -0.49795918367346936, -0.4969450101832994, -0.4959349593495935, -0.4969574036511156, -0.4959514170040486, -0.49696969696969695, -0.4959677419354839, -0.4949698189134809, -0.4959839357429719, -0.4969939879759519, -0.496, -0.49700598802395207, -0.4960159362549801, -0.4970178926441352, -0.498015873015873, -0.499009900990099, -0.4980237154150198, -0.4990138067061144, -0.49803149606299213, -0.49705304518664045, -0.49607843137254903, -0.49510763209393344, -0.494140625, -0.49317738791423, -0.49416342412451364, -0.49320388349514566, -0.4941860465116279, -0.4951644100580271, -0.4942084942084942, -0.4951830443159923, -0.49615384615384617, -0.4971209213051823, -0.49616858237547895, -0.49521988527724664, -0.4961832061068702, -0.49714285714285716, -0.49619771863117873, -0.4971537001897533, -0.4981060606060606, -0.497164461247637, -0.4962264150943396, -0.4971751412429379, -0.49624060150375937, -0.49530956848030017, -0.4943820224719101, -0.4953271028037383, -0.4962686567164179, -0.49534450651769085, -0.4944237918215613, -0.4935064935064935, -0.49444444444444446, -0.49353049907578556, -0.4944649446494465, -0.49355432780847147, -0.49264705882352944, -0.4917431192660551, -0.4926739926739927, -0.4936014625228519, -0.4927007299270073, -0.4918032786885246, -0.49272727272727274, -0.49183303085299457, -0.4927536231884058, -0.4918625678119349, -0.4927797833935018, -0.4936936936936937, -0.49460431654676257, -0.49371633752244165, -0.492831541218638, -0.4937388193202147, -0.4928571428571429, -0.49376114081996436, -0.4928825622775801, -0.4920071047957371, -0.49113475177304966, -0.4902654867256637, -0.48939929328621906, -0.49029982363315694, -0.49119718309859156, -0.4903339191564148, -0.49122807017543857, -0.4921190893169877, -0.49125874125874125, -0.49040139616055844, -0.4895470383275261, -0.48869565217391303, -0.4895833333333333, -0.4904679376083189, -0.4913494809688581, -0.49222797927461137, -0.49137931034482757, -0.4905335628227194, -0.4879725085910653, -0.48713550600343053, -0.4863013698630137, -0.48547008547008547, -0.4863481228668942, -0.48722316865417375, -0.4880952380952381, -0.48896434634974534, -0.48983050847457626, -0.4906937394247039, -0.49155405405405406, -0.4924114671163575, -0.49158249158249157, -0.492436974789916, -0.49328859060402686, -0.49246231155778897, -0.4916387959866221, -0.49081803005008345, -0.49166666666666664, -0.4908485856905158, -0.4900332225913621, -0.4892205638474295, -0.4900662251655629, -0.4909090909090909, -0.4900990099009901, -0.49093904448105435, -0.48848684210526316, -0.4876847290640394, -0.48688524590163934, -0.4877250409165303, -0.48856209150326796, -0.48776508972267535, -0.48859934853420195, -0.4878048780487805, -0.487012987012987, -0.4878444084278768, -0.4886731391585761, -0.4878836833602585, -0.48870967741935484, -0.4895330112721417, -0.4903536977491961, -0.4911717495987159, -0.49038461538461536, -0.4896, -0.4904153354632588, -0.49122807017543857, -0.49044585987261147, -0.4912559618441971, -0.49206349206349204, -0.4896988906497623, -0.4889240506329114, -0.4881516587677725, -0.4889589905362776, -0.48976377952755906, -0.4889937106918239, -0.48822605965463106, -0.48746081504702193, -0.48826291079812206, -0.4890625, -0.48985959438377535, -0.48909657320872274, -0.48989113530326595, -0.4906832298136646, -0.48992248062015503, -0.4907120743034056, -0.49149922720247297, -0.49228395061728397, -0.4915254237288136, -0.4907692307692308, -0.4915514592933948, -0.49233128834355827, -0.49310872894333846, -0.4938837920489297, -0.49312977099236643, -0.4923780487804878, -0.4916286149162861, -0.49240121580547114, -0.4931714719271624, -0.49393939393939396, -0.49319213313161875, -0.49395770392749244, -0.49321266968325794, -0.4939759036144578, -0.4932330827067669, -0.4924924924924925, -0.49325337331334335, -0.49251497005988026, -0.49327354260089684, -0.4925373134328358, -0.4932935916542474, -0.49404761904761907, -0.4933135215453195, -0.49258160237388726, -0.4918518518518519, -0.492603550295858, -0.4933530280649926, -0.4941002949852507, -0.49337260677466865, -0.49264705882352944, -0.4919236417033774, -0.49266862170087977, -0.49194729136163984, -0.49122807017543857, -0.491970802919708, -0.49271137026239065, -0.49199417758369723, -0.49273255813953487, -0.49201741654571846, -0.49130434782608695, -0.492040520984081, -0.49277456647398843, -0.49206349206349204, -0.49279538904899134, -0.4920863309352518, -0.492816091954023, -0.4935437589670014, -0.49426934097421205, -0.4949928469241774, -0.4957142857142857, -0.4950071326676177, -0.49572649572649574, -0.49644381223328593, -0.4943181818181818, -0.4921985815602837, -0.49291784702549574, -0.49222065063649223, -0.4929378531073446, -0.4922425952045134, -0.4915492957746479, -0.49226441631504925, -0.49157303370786515, -0.49228611500701264, -0.49159663865546216, -0.4909090909090909, -0.49162011173184356, -0.4909344490934449, -0.49164345403899723, -0.4909596662030598, -0.49166666666666664, -0.492371705963939, -0.4930747922437673, -0.49239280774550487, -0.4930939226519337, -0.4924137931034483, -0.4931129476584022, -0.4924346629986245, -0.49175824175824173, -0.49108367626886146, -0.4904109589041096, -0.4897400820793434, -0.4890710382513661, -0.4897680763983629, -0.4891008174386921, -0.4884353741496599, -0.4891304347826087, -0.4898236092265943, -0.489159891598916, -0.4884979702300406, -0.4891891891891892, -0.4885290148448043, -0.48787061994609165, -0.48855989232839836, -0.489247311827957, -0.4885906040268456, -0.4879356568364611, -0.4886211512717537, -0.4879679144385027, -0.4886515353805073, -0.488, -0.4873501997336884, -0.4867021276595745, -0.4860557768924303, -0.48673740053050396, -0.4860927152317881, -0.48544973544973546, -0.4848084544253633, -0.48548812664907653, -0.48616600790513836, -0.4868421052631579, -0.48751642575558474, -0.4868766404199475, -0.48623853211009177, -0.4869109947643979, -0.48627450980392156, -0.4856396866840731, -0.485006518904824, -0.4856770833333333, -0.48634590377113135, -0.487012987012987, -0.4876783398184176, -0.48704663212435234, -0.48641655886157825, -0.48578811369509045, -0.4838709677419355, -0.4832474226804124, -0.4839124839124839, -0.4832904884318766, -0.48267008985879334, -0.48205128205128206, -0.4827144686299616, -0.4833759590792839, -0.4827586206896552, -0.48214285714285715, -0.48152866242038217, -0.4821882951653944, -0.4815756035578145, -0.48223350253807107, -0.4816223067173637, -0.48227848101265824, -0.4829329962073325, -0.48358585858585856, -0.4842370744010088, -0.48488664987405544, -0.48427672955974843, -0.4836683417085427, -0.48306148055207027, -0.48370927318295737, -0.4831038798498123, -0.48375, -0.484394506866417, -0.4850374064837905, -0.48443337484433374, -0.48383084577114427, -0.484472049689441, -0.4838709677419355, -0.48451053283767037, -0.4839108910891089, -0.48331273176761436, -0.48271604938271606, -0.4833538840937115, -0.4827586206896552, -0.4833948339483395, -0.48402948402948404, -0.48466257668711654, -0.4840686274509804, -0.4847001223990208, -0.48533007334963324, -0.48473748473748474, -0.48292682926829267, -0.4823386114494519, -0.48175182481751827, -0.48116646415552855, -0.4817961165048544, -0.4824242424242424, -0.4830508474576271, -0.4836759371221282, -0.48429951690821255, -0.4837153196622437, -0.4831325301204819, -0.4825511432009627, -0.48197115384615385, -0.48139255702280914, -0.48201438848920863, -0.481437125748503, -0.48086124401913877, -0.48028673835125446, -0.4797136038186158, -0.4803337306317044, -0.48095238095238096, -0.4815695600475624, -0.4821852731591449, -0.4816132858837485, -0.4822274881516588, -0.48284023668639053, -0.483451536643026, -0.48406139315230223, -0.4846698113207547, -0.4840989399293286, -0.48470588235294115, -0.48413631022326675, -0.4847417840375587, -0.48417350527549824, -0.4847775175644028, -0.4853801169590643, -0.4848130841121495, -0.48424737456242706, -0.4836829836829837, -0.4842840512223516, -0.48372093023255813, -0.4831591173054588, -0.48259860788863107, -0.4831981460023175, -0.4826388888888889, -0.4820809248554913, -0.48267898383371827, -0.48212226066897346, -0.4815668202764977, -0.48216340621403914, -0.4827586206896552, -0.48220436280137774, -0.4827981651376147, -0.4822451317296678, -0.4816933638443936, -0.48228571428571426, -0.4828767123287671, -0.48346636259977194, -0.48405466970387245, -0.48464163822525597, -0.48409090909090907, -0.48467650397275824, -0.4852607709750567, -0.48584371460928655, -0.48642533936651583, -0.4858757062146893, -0.48645598194130923, -0.4859075535512965, -0.4864864864864865, -0.4859392575928009, -0.48651685393258426, -0.48709315375982043, -0.4876681614349776, -0.48824188129899215, -0.4888143176733781, -0.488268156424581, -0.4877232142857143, -0.4882943143812709, -0.48775055679287305, -0.4872080088987764, -0.4866666666666667, -0.48612652608213097, -0.4866962305986696, -0.48726467331118495, -0.48783185840707965, -0.48839779005524864, -0.488962472406181, -0.4895259095920617, -0.4900881057268722, -0.48954895489548955, -0.4901098901098901, -0.49066959385290887, -0.4901315789473684, -0.49069003285870755, -0.49015317286652077, -0.4907103825136612, -0.4912663755458515, -0.49073064340239914, -0.49019607843137253, -0.49075081610446136, -0.4902173913043478, -0.48968512486427795, -0.49023861171366595, -0.49079089924160346, -0.49134199134199136, -0.4908108108108108, -0.490280777537797, -0.48975188781014023, -0.4892241379310345, -0.48869752421959095, -0.4881720430107527, -0.48872180451127817, -0.4892703862660944, -0.4887459807073955, -0.4892933618843683, -0.4898395721925134, -0.4893162393162393, -0.48986125933831376, -0.48933901918976547, -0.4898828541001065, -0.48936170212765956, -0.48990435706695007, -0.49044585987261147, -0.4909862142099682, -0.4915254237288136, -0.491005291005291, -0.4915433403805497, -0.4910242872228089, -0.49156118143459915, -0.4910432033719705, -0.4905263157894737, -0.491062039957939, -0.49054621848739494, -0.4910807974816369, -0.4916142557651992, -0.4900523560209424, -0.4895397489539749, -0.49007314524555906, -0.4906054279749478, -0.49009384775808135, -0.4895833333333333, -0.49011446409989595, -0.4896049896049896, -0.490134994807892, -0.49066390041493774, -0.48911917098445595, -0.4886128364389234, -0.48810754912099275, -0.48760330578512395, -0.4871001031991744, -0.48762886597938143, -0.48712667353244077, -0.4876543209876543, -0.48715313463514903, -0.48767967145790553, -0.48717948717948717, -0.48770491803278687, -0.4882292732855681, -0.4887525562372188, -0.4882533197139939, -0.4887755102040816, -0.4892966360856269, -0.48981670061099797, -0.4893184130213632, -0.4888211382113821, -0.4883248730964467, -0.48782961460446245, -0.48733535967578523, -0.48785425101214575, -0.487360970677452, -0.4868686868686869, -0.4873864783047427, -0.4879032258064516, -0.48841893252769386, -0.48893360160965793, -0.4884422110552764, -0.48895582329317266, -0.4884653961885657, -0.48697394789579157, -0.4874874874874875, -0.488]\n",
            "Experiment: 4\n",
            "Episode 100\tAverage Score: 6.67\tRegret: 0.00\n",
            "Episode 200\tAverage Score: 13.77\tRegret: -1.00\n",
            "Episode 300\tAverage Score: 42.09\tRegret: -1.00\n",
            "Episode 400\tAverage Score: 189.59\tRegret: 0.00\n",
            "Episode 404\tAverage Score: 195.65\n",
            "Environment solved in 404 episodes!\tAverage Score: 195.65\n",
            "0:01:57.885991\n",
            "[5.0, 7.0, 7.0, 7.0, 6.8, 7.0, 7.142857142857143, 7.75, 7.444444444444445, 7.6, 7.545454545454546, 7.25, 7.153846153846154, 7.142857142857143, 7.133333333333334, 7.1875, 7.235294117647059, 7.222222222222222, 7.157894736842105, 7.1, 7.142857142857143, 7.136363636363637, 7.217391304347826, 7.208333333333333, 7.24, 7.269230769230769, 7.2592592592592595, 7.357142857142857, 7.344827586206897, 7.3, 7.419354838709677, 7.40625, 7.333333333333333, 7.294117647058823, 7.257142857142857, 7.25, 7.243243243243243, 7.2105263157894735, 7.17948717948718, 7.2, 7.170731707317073, 7.119047619047619, 7.1395348837209305, 7.113636363636363, 7.066666666666666, 7.173913043478261, 7.127659574468085, 7.104166666666667, 7.081632653061225, 7.06, 7.019607843137255, 6.980769230769231, 6.962264150943396, 6.944444444444445, 6.945454545454545, 6.946428571428571, 6.9298245614035086, 6.913793103448276, 6.88135593220339, 6.866666666666666, 6.885245901639344, 6.870967741935484, 6.841269841269841, 6.875, 6.861538461538461, 6.893939393939394, 6.91044776119403, 6.882352941176471, 6.869565217391305, 6.857142857142857, 6.830985915492958, 6.805555555555555, 6.780821917808219, 6.743243243243243, 6.72, 6.75, 6.753246753246753, 6.794871794871795, 6.772151898734177, 6.7625, 6.7407407407407405, 6.7317073170731705, 6.771084337349397, 6.892857142857143, 6.882352941176471, 6.8604651162790695, 6.839080459770115, 6.829545454545454, 6.820224719101123, 6.8, 6.78021978021978, 6.760869565217392, 6.741935483870968, 6.74468085106383, 6.7368421052631575, 6.71875, 6.721649484536083, 6.6938775510204085, 6.6767676767676765, 6.67, 6.68, 6.64, 6.64, 6.63, 6.63, 6.6, 6.57, 6.5, 6.52, 6.49, 6.48, 6.5, 6.51, 6.49, 6.48, 6.47, 6.44, 6.41, 6.41, 6.4, 6.37, 6.35, 6.31, 6.29, 6.26, 6.24, 6.24, 6.19, 6.2, 6.21, 6.16, 6.19, 6.2, 6.2, 6.19, 6.18, 6.17, 6.18, 6.17, 6.15, 6.14, 6.14, 6.11, 6.1, 6.11, 6.06, 6.06, 6.05, 6.06, 6.08, 6.08, 6.1, 6.14, 6.16, 6.21, 6.25, 6.31, 6.43, 6.67, 6.94, 7.1, 7.32, 7.46, 7.58, 7.87, 7.98, 8.14, 8.53, 8.66, 8.78, 9.03, 9.15, 9.28, 9.51, 9.77, 9.94, 10.18, 10.18, 10.35, 10.42, 10.63, 10.86, 10.89, 10.98, 11.12, 11.26, 11.45, 11.58, 11.93, 12.11, 12.29, 12.42, 12.62, 12.73, 12.85, 13.05, 13.16, 13.38, 13.5, 13.77, 13.93, 14.12, 14.25, 14.37, 14.55, 14.8, 14.98, 15.09, 15.39, 15.75, 15.86, 15.95, 16.18, 16.39, 16.62, 16.74, 16.97, 17.34, 17.47, 17.58, 17.81, 18.06, 18.15, 18.36, 18.57, 18.95, 19.06, 19.25, 19.59, 19.77, 20.55, 20.67, 20.91, 21.25, 21.73, 21.79, 22.05, 22.23, 22.53, 22.76, 22.91, 23.14, 23.29, 23.71, 23.98, 24.16, 24.59, 24.67, 24.92, 25.15, 25.47, 25.84, 26.14, 26.62, 26.68, 26.92, 27.2, 27.38, 27.61, 27.6, 27.7, 27.56, 27.74, 27.97, 28.15, 28.97, 29.12, 29.09, 29.22, 29.52, 29.46, 30.16, 30.63, 30.94, 31.16, 31.4, 31.54, 32.07, 32.28, 33.06, 33.26, 33.48, 34.06, 34.2, 34.96, 35.38, 35.6, 35.91, 36.66, 36.88, 37.23, 37.62, 37.91, 38.54, 38.99, 39.99, 40.9, 41.41, 41.96, 42.09, 43.32, 44.15, 44.67, 44.71, 45.5, 45.77, 46.76, 47.24, 47.99, 48.42, 49.83, 51.24, 51.51, 53.56, 53.75, 55.61, 57.75, 59.85, 62.15, 63.25, 65.48, 67.3, 69.67, 71.92, 74.17, 75.35, 77.68, 79.08, 81.17, 83.42, 84.28, 85.75, 87.96, 90.07, 91.45, 93.84, 95.08, 96.86, 99.02, 100.22, 101.82, 103.54, 105.15, 107.19, 108.9, 111.16, 112.57, 114.95, 117.14, 118.53, 119.79, 121.75, 123.17, 125.12, 126.71, 128.2, 129.66, 130.92, 132.13, 134.13, 135.56, 137.93, 140.07, 141.92, 142.38, 142.94, 144.77, 146.1, 147.36, 149.39, 150.85, 152.49, 153.51, 153.42, 154.22, 155.6, 157.41, 158.84, 159.47, 160.86, 162.7, 164.7, 166.22, 167.75, 169.1, 170.52, 172.57, 174.58, 175.79, 175.88, 177.31, 178.45, 180.42, 182.04, 183.92, 184.66, 185.16, 186.57, 187.77, 189.59, 190.65, 191.94, 193.73, 195.65]\n",
            "\n",
            "\n",
            "[0.0, -0.5, -0.6666666666666666, -0.5, -0.4, -0.3333333333333333, -0.42857142857142855, -0.375, -0.3333333333333333, -0.4, -0.45454545454545453, -0.4166666666666667, -0.38461538461538464, -0.42857142857142855, -0.4666666666666667, -0.5, -0.47058823529411764, -0.4444444444444444, -0.47368421052631576, -0.5, -0.5238095238095238, -0.5454545454545454, -0.5652173913043478, -0.5416666666666666, -0.52, -0.5384615384615384, -0.5185185185185185, -0.5, -0.5172413793103449, -0.5, -0.4838709677419355, -0.5, -0.5151515151515151, -0.5294117647058824, -0.5142857142857142, -0.5, -0.5135135135135135, -0.5, -0.48717948717948717, -0.5, -0.4878048780487805, -0.5, -0.4883720930232558, -0.4772727272727273, -0.4666666666666667, -0.45652173913043476, -0.44680851063829785, -0.4583333333333333, -0.4489795918367347, -0.46, -0.47058823529411764, -0.4807692307692308, -0.4716981132075472, -0.46296296296296297, -0.45454545454545453, -0.44642857142857145, -0.45614035087719296, -0.4482758620689655, -0.4576271186440678, -0.45, -0.45901639344262296, -0.46774193548387094, -0.4603174603174603, -0.46875, -0.46153846153846156, -0.45454545454545453, -0.4626865671641791, -0.47058823529411764, -0.463768115942029, -0.45714285714285713, -0.4507042253521127, -0.4444444444444444, -0.4383561643835616, -0.43243243243243246, -0.44, -0.4473684210526316, -0.44155844155844154, -0.4358974358974359, -0.4430379746835443, -0.4375, -0.43209876543209874, -0.43902439024390244, -0.42168674698795183, -0.42857142857142855, -0.43529411764705883, -0.4418604651162791, -0.4367816091954023, -0.4318181818181818, -0.43820224719101125, -0.43333333333333335, -0.43956043956043955, -0.44565217391304346, -0.44086021505376344, -0.44680851063829785, -0.45263157894736844, -0.4479166666666667, -0.4536082474226804, -0.4489795918367347, -0.4444444444444444, -0.44, -0.44554455445544555, -0.4411764705882353, -0.4368932038834951, -0.4423076923076923, -0.44761904761904764, -0.44339622641509435, -0.4392523364485981, -0.4351851851851852, -0.44036697247706424, -0.44545454545454544, -0.44144144144144143, -0.44642857142857145, -0.4424778761061947, -0.4473684210526316, -0.45217391304347826, -0.45689655172413796, -0.452991452991453, -0.4491525423728814, -0.453781512605042, -0.45, -0.4462809917355372, -0.45081967213114754, -0.44715447154471544, -0.4435483870967742, -0.448, -0.4523809523809524, -0.4566929133858268, -0.4609375, -0.46511627906976744, -0.46153846153846156, -0.4580152671755725, -0.4621212121212121, -0.46616541353383456, -0.4701492537313433, -0.4740740740740741, -0.47794117647058826, -0.4744525547445255, -0.4782608695652174, -0.4748201438848921, -0.4714285714285714, -0.475177304964539, -0.47183098591549294, -0.4755244755244755, -0.4791666666666667, -0.4827586206896552, -0.4794520547945205, -0.47619047619047616, -0.4797297297297297, -0.48322147651006714, -0.48, -0.4768211920529801, -0.48026315789473684, -0.477124183006536, -0.474025974025974, -0.4774193548387097, -0.47435897435897434, -0.47770700636942676, -0.47468354430379744, -0.4779874213836478, -0.475, -0.4720496894409938, -0.4691358024691358, -0.4662576687116564, -0.4634146341463415, -0.46060606060606063, -0.4578313253012048, -0.4550898203592814, -0.4583333333333333, -0.46153846153846156, -0.4588235294117647, -0.45614035087719296, -0.45348837209302323, -0.45664739884393063, -0.4540229885057471, -0.4514285714285714, -0.44886363636363635, -0.4463276836158192, -0.449438202247191, -0.45251396648044695, -0.45555555555555555, -0.4585635359116022, -0.46153846153846156, -0.4644808743169399, -0.46195652173913043, -0.4648648648648649, -0.46236559139784944, -0.45989304812834225, -0.4574468085106383, -0.4603174603174603, -0.4631578947368421, -0.4607329842931937, -0.4635416666666667, -0.46113989637305697, -0.4587628865979381, -0.46153846153846156, -0.45918367346938777, -0.45685279187817257, -0.4595959595959596, -0.457286432160804, -0.46, -0.4577114427860697, -0.4603960396039604, -0.4630541871921182, -0.46568627450980393, -0.4634146341463415, -0.46116504854368934, -0.45893719806763283, -0.4567307692307692, -0.45933014354066987, -0.45714285714285713, -0.4549763033175355, -0.4528301886792453, -0.4507042253521127, -0.4485981308411215, -0.44651162790697674, -0.44907407407407407, -0.4470046082949309, -0.44954128440366975, -0.4520547945205479, -0.45454545454545453, -0.45248868778280543, -0.45045045045045046, -0.4484304932735426, -0.45089285714285715, -0.4533333333333333, -0.45132743362831856, -0.44933920704845814, -0.4517543859649123, -0.4497816593886463, -0.45217391304347826, -0.45454545454545453, -0.4525862068965517, -0.45493562231759654, -0.452991452991453, -0.4553191489361702, -0.4533898305084746, -0.45569620253164556, -0.453781512605042, -0.4560669456066946, -0.4583333333333333, -0.4605809128630705, -0.45867768595041325, -0.4567901234567901, -0.45901639344262296, -0.46122448979591835, -0.45934959349593496, -0.4574898785425101, -0.4596774193548387, -0.4578313253012048, -0.456, -0.4581673306772908, -0.45634920634920634, -0.45849802371541504, -0.4566929133858268, -0.4549019607843137, -0.45703125, -0.4591439688715953, -0.4573643410852713, -0.4594594594594595, -0.4576923076923077, -0.4559386973180077, -0.4541984732824427, -0.45627376425855515, -0.45454545454545453, -0.4528301886792453, -0.4548872180451128, -0.45318352059925093, -0.45149253731343286, -0.44981412639405205, -0.45185185185185184, -0.45018450184501846, -0.4522058823529412, -0.45054945054945056, -0.45255474452554745, -0.4509090909090909, -0.4492753623188406, -0.45126353790613716, -0.45323741007194246, -0.45161290322580644, -0.45357142857142857, -0.45195729537366547, -0.45390070921985815, -0.4558303886925795, -0.45422535211267606, -0.45614035087719296, -0.45454545454545453, -0.4564459930313589, -0.4583333333333333, -0.45674740484429066, -0.4586206896551724, -0.46048109965635736, -0.4623287671232877, -0.4641638225255973, -0.46258503401360546, -0.46440677966101696, -0.46621621621621623, -0.468013468013468, -0.4664429530201342, -0.4682274247491639, -0.47, -0.4684385382059801, -0.47019867549668876, -0.47194719471947194, -0.47039473684210525, -0.4721311475409836, -0.4673202614379085, -0.46905537459283386, -0.4675324675324675, -0.46601941747572817, -0.4645161290322581, -0.4630225080385852, -0.46474358974358976, -0.46645367412140576, -0.4681528662420382, -0.46984126984126984, -0.4651898734177215, -0.4668769716088328, -0.46540880503144655, -0.46394984326018807, -0.465625, -0.46417445482866043, -0.46273291925465837, -0.4613003095975232, -0.45987654320987653, -0.4584615384615385, -0.4570552147239264, -0.45565749235474007, -0.45426829268292684, -0.45288753799392095, -0.45454545454545453, -0.4561933534743202, -0.4578313253012048, -0.45645645645645644, -0.4550898203592814, -0.4537313432835821, -0.4523809523809524, -0.4540059347181009, -0.4526627218934911, -0.45132743362831856, -0.45, -0.45161290322580644, -0.45321637426900585, -0.4518950437317784, -0.45058139534883723, -0.4492753623188406, -0.4479768786127168, -0.44668587896253603, -0.4454022988505747, -0.44412607449856734, -0.44571428571428573, -0.4472934472934473, -0.4460227272727273, -0.4475920679886686, -0.4463276836158192, -0.447887323943662, -0.449438202247191, -0.4481792717086835, -0.44692737430167595, -0.4456824512534819, -0.44722222222222224, -0.4487534626038781, -0.44751381215469616, -0.4462809917355372, -0.4478021978021978, -0.44931506849315067, -0.44808743169398907, -0.44959128065395093, -0.45108695652173914, -0.44986449864498645, -0.4486486486486487, -0.4474393530997305, -0.44623655913978494, -0.4477211796246649, -0.446524064171123, -0.44533333333333336, -0.44680851063829785, -0.4482758620689655, -0.4497354497354497, -0.45118733509234826, -0.45, -0.44881889763779526, -0.4476439790575916, -0.4490861618798956, -0.4479166666666667, -0.44675324675324674, -0.44559585492227977, -0.4444444444444444, -0.44329896907216493, -0.442159383033419, -0.441025641025641, -0.4424552429667519, -0.44387755102040816, -0.44274809160305345, -0.4416243654822335, -0.44050632911392407, -0.4393939393939394, -0.44080604534005036, -0.44221105527638194, -0.44110275689223055, -0.44, -0.4389027431421446, -0.44029850746268656, -0.4392059553349876, -0.4405940594059406]\n",
            "Episode 100\tAverage Score: 30.90\tRegret: -1.00\n",
            "Episode 200\tAverage Score: 115.02\tRegret: -1.00\n",
            "Episode 300\tAverage Score: 171.36\tRegret: 0.00\n",
            "Episode 352\tAverage Score: 196.37\n",
            "Environment solved in 352 episodes!\tAverage Score: 196.37\n",
            "0:03:15.163088\n",
            "[5.0, 6.0, 6.333333333333333, 6.5, 6.4, 7.0, 7.0, 8.125, 7.777777777777778, 7.7, 7.7272727272727275, 7.583333333333333, 7.384615384615385, 7.571428571428571, 7.533333333333333, 8.75, 8.941176470588236, 9.666666666666666, 10.052631578947368, 10.0, 10.0, 10.727272727272727, 10.652173913043478, 10.5, 10.36, 10.307692307692308, 10.185185185185185, 10.0, 10.448275862068966, 10.833333333333334, 10.709677419354838, 10.6875, 10.757575757575758, 10.764705882352942, 10.657142857142857, 10.666666666666666, 10.91891891891892, 10.842105263157896, 10.871794871794872, 10.925, 11.24390243902439, 11.30952380952381, 11.232558139534884, 11.613636363636363, 11.88888888888889, 12.08695652173913, 12.382978723404255, 12.291666666666666, 12.489795918367347, 12.46, 12.431372549019608, 12.326923076923077, 12.415094339622641, 13.018518518518519, 13.309090909090909, 13.642857142857142, 13.56140350877193, 14.741379310344827, 16.0, 16.033333333333335, 16.59016393442623, 16.774193548387096, 16.936507936507937, 17.53125, 18.046153846153846, 18.545454545454547, 19.55223880597015, 20.205882352941178, 20.82608695652174, 21.285714285714285, 21.661971830985916, 22.75, 22.73972602739726, 22.93243243243243, 23.346666666666668, 23.960526315789473, 24.25974025974026, 24.17948717948718, 24.11392405063291, 24.6625, 24.864197530864196, 25.25609756097561, 25.253012048192772, 25.666666666666668, 25.48235294117647, 25.63953488372093, 26.436781609195403, 26.454545454545453, 26.415730337078653, 26.833333333333332, 27.21978021978022, 27.77173913043478, 28.0, 28.9468085106383, 29.378947368421052, 29.927083333333332, 30.15463917525773, 30.571428571428573, 30.95959595959596, 30.9, 31.02, 32.21, 32.72, 33.38, 34.04, 34.61, 35.03, 36.25, 37.23, 38.01, 38.89, 39.65, 41.33, 41.48, 42.16, 43.21, 43.76, 44.77, 45.61, 46.5, 47.94, 48.11, 48.76, 49.51, 50.07, 51.0, 52.49, 52.8, 53.5, 54.28, 54.68, 55.59, 57.97, 58.93, 59.76, 60.26, 61.4, 62.25, 63.49, 64.83, 66.1, 66.15, 67.41, 68.28, 69.19, 70.09, 70.88, 71.72, 73.71, 75.32, 75.61, 76.5, 77.22, 77.77, 78.49, 79.15, 79.96, 79.98, 80.07, 80.77, 81.54, 82.21, 82.92, 84.88, 85.22, 86.16, 86.39, 86.58, 87.02, 87.25, 88.76, 88.82, 90.29, 91.4, 92.09, 92.77, 94.08, 95.21, 95.93, 96.46, 96.88, 97.39, 98.86, 99.52, 100.71, 101.37, 101.7, 102.94, 104.67, 105.47, 106.52, 107.43, 108.09, 108.11, 109.92, 110.57, 111.73, 112.34, 113.69, 115.02, 116.28, 116.65, 117.49, 119.27, 119.63, 120.53, 121.52, 121.46, 121.93, 123.2, 124.75, 126.05, 126.09, 128.35, 129.65, 130.09, 131.42, 131.93, 132.91, 134.44, 134.85, 135.96, 135.5, 136.61, 137.75, 138.72, 138.95, 140.44, 141.44, 142.22, 143.13, 143.97, 142.73, 143.29, 144.05, 144.98, 145.19, 145.94, 146.17, 146.02, 146.3, 147.23, 147.66, 148.25, 148.86, 149.21, 149.9, 150.28, 149.67, 150.15, 151.53, 150.88, 152.07, 153.18, 153.49, 154.37, 155.39, 156.68, 157.96, 159.06, 159.54, 161.1, 161.94, 161.46, 161.7, 162.32, 163.28, 164.15, 164.78, 164.64, 164.65, 165.28, 165.28, 165.77, 166.49, 166.93, 166.71, 167.24, 168.38, 169.1, 169.94, 170.93, 171.13, 171.48, 171.57, 172.13, 172.48, 172.76, 172.52, 172.77, 172.73, 172.82, 173.19, 172.13, 171.2, 171.31, 171.16, 171.49, 171.06, 171.36, 171.48, 171.91, 172.72, 172.72, 173.56, 174.06, 174.39, 175.17, 174.83, 175.14, 174.44, 174.35, 174.8, 174.16, 174.11, 174.86, 175.22, 175.73, 176.23, 176.18, 176.56, 177.53, 179.59, 180.17, 180.62, 180.12, 180.23, 180.53, 180.65, 181.24, 181.96, 182.35, 183.11, 183.03, 183.28, 183.8, 184.52, 185.09, 185.17, 185.82, 186.24, 187.63, 188.37, 188.85, 189.6, 190.65, 191.42, 192.63, 193.32, 193.47, 194.2, 196.37]\n",
            "\n",
            "\n",
            "[-1.0, -0.5, -0.6666666666666666, -0.75, -0.8, -0.6666666666666666, -0.5714285714285714, -0.5, -0.5555555555555556, -0.5, -0.45454545454545453, -0.5, -0.5384615384615384, -0.5, -0.5333333333333333, -0.5625, -0.5882352941176471, -0.5555555555555556, -0.5789473684210527, -0.55, -0.5238095238095238, -0.5454545454545454, -0.5217391304347826, -0.5416666666666666, -0.56, -0.5384615384615384, -0.5185185185185185, -0.5, -0.4827586206896552, -0.5, -0.4838709677419355, -0.5, -0.48484848484848486, -0.5, -0.4857142857142857, -0.5, -0.5135135135135135, -0.5263157894736842, -0.5128205128205128, -0.5, -0.4878048780487805, -0.5, -0.4883720930232558, -0.4772727272727273, -0.4888888888888889, -0.4782608695652174, -0.46808510638297873, -0.4791666666666667, -0.46938775510204084, -0.48, -0.49019607843137253, -0.4807692307692308, -0.49056603773584906, -0.5, -0.4909090909090909, -0.5, -0.49122807017543857, -0.4827586206896552, -0.4915254237288136, -0.5, -0.4918032786885246, -0.4838709677419355, -0.47619047619047616, -0.46875, -0.47692307692307695, -0.48484848484848486, -0.4925373134328358, -0.4852941176470588, -0.4927536231884058, -0.4857142857142857, -0.4788732394366197, -0.4861111111111111, -0.4931506849315068, -0.5, -0.5066666666666667, -0.5131578947368421, -0.5194805194805194, -0.5128205128205128, -0.5063291139240507, -0.5125, -0.5061728395061729, -0.5121951219512195, -0.5180722891566265, -0.5119047619047619, -0.5058823529411764, -0.5116279069767442, -0.5172413793103449, -0.5227272727272727, -0.5168539325842697, -0.5111111111111111, -0.5054945054945055, -0.5108695652173914, -0.5053763440860215, -0.5106382978723404, -0.5052631578947369, -0.5, -0.5051546391752577, -0.5, -0.494949494949495, -0.5, -0.504950495049505, -0.5, -0.5048543689320388, -0.5, -0.5047619047619047, -0.5, -0.5046728971962616, -0.5092592592592593, -0.5137614678899083, -0.509090909090909, -0.5135135135135135, -0.5089285714285714, -0.504424778761062, -0.49122807017543857, -0.4956521739130435, -0.5, -0.5042735042735043, -0.5084745762711864, -0.5042016806722689, -0.5083333333333333, -0.512396694214876, -0.5081967213114754, -0.5040650406504065, -0.5, -0.496, -0.5, -0.49606299212598426, -0.4921875, -0.4883720930232558, -0.49230769230769234, -0.4961832061068702, -0.5, -0.49624060150375937, -0.5, -0.4962962962962963, -0.49264705882352944, -0.49635036496350365, -0.4927536231884058, -0.49640287769784175, -0.5, -0.5035460992907801, -0.5, -0.4965034965034965, -0.4930555555555556, -0.496551724137931, -0.5, -0.4965986394557823, -0.49324324324324326, -0.4966442953020134, -0.5, -0.4966887417218543, -0.5, -0.49673202614379086, -0.5, -0.4967741935483871, -0.5, -0.5031847133757962, -0.5, -0.4968553459119497, -0.5, -0.5031055900621118, -0.5, -0.5030674846625767, -0.5, -0.49696969696969695, -0.4939759036144578, -0.49700598802395207, -0.5, -0.4970414201183432, -0.49411764705882355, -0.49707602339181284, -0.4941860465116279, -0.4913294797687861, -0.4885057471264368, -0.4857142857142857, -0.48863636363636365, -0.4858757062146893, -0.4887640449438202, -0.49162011173184356, -0.4888888888888889, -0.49171270718232046, -0.4945054945054945, -0.4918032786885246, -0.4891304347826087, -0.4864864864864865, -0.4838709677419355, -0.48128342245989303, -0.4787234042553192, -0.47619047619047616, -0.47368421052631576, -0.47643979057591623, -0.4791666666666667, -0.47668393782383417, -0.4742268041237113, -0.4717948717948718, -0.46938775510204084, -0.467005076142132, -0.46464646464646464, -0.46733668341708545, -0.47, -0.46766169154228854, -0.47029702970297027, -0.4729064039408867, -0.47058823529411764, -0.4682926829268293, -0.46601941747572817, -0.46859903381642515, -0.47115384615384615, -0.4688995215311005, -0.4666666666666667, -0.46445497630331756, -0.46226415094339623, -0.4647887323943662, -0.46261682242990654, -0.4604651162790698, -0.4583333333333333, -0.4608294930875576, -0.463302752293578, -0.4657534246575342, -0.4636363636363636, -0.46153846153846156, -0.4594594594594595, -0.45739910313901344, -0.45535714285714285, -0.4577777777777778, -0.46017699115044247, -0.4581497797356828, -0.4605263157894737, -0.4585152838427948, -0.45652173913043476, -0.4588744588744589, -0.45689655172413796, -0.45493562231759654, -0.452991452991453, -0.4553191489361702, -0.4533898305084746, -0.45569620253164556, -0.453781512605042, -0.4560669456066946, -0.4583333333333333, -0.4605809128630705, -0.4628099173553719, -0.4609053497942387, -0.45901639344262296, -0.46122448979591835, -0.4634146341463415, -0.46558704453441296, -0.4637096774193548, -0.46586345381526106, -0.464, -0.46215139442231074, -0.4642857142857143, -0.466403162055336, -0.468503937007874, -0.4666666666666667, -0.46875, -0.4669260700389105, -0.46511627906976744, -0.4671814671814672, -0.46923076923076923, -0.47126436781609193, -0.46946564885496184, -0.467680608365019, -0.4696969696969697, -0.4679245283018868, -0.46616541353383456, -0.46441947565543074, -0.4626865671641791, -0.4646840148698885, -0.4666666666666667, -0.46863468634686345, -0.47058823529411764, -0.46886446886446886, -0.4708029197080292, -0.4727272727272727, -0.47101449275362317, -0.4693140794223827, -0.4712230215827338, -0.46953405017921146, -0.46785714285714286, -0.46619217081850534, -0.4645390070921986, -0.4628975265017668, -0.4612676056338028, -0.4631578947368421, -0.46153846153846156, -0.45993031358885017, -0.4618055555555556, -0.4602076124567474, -0.4586206896551724, -0.4570446735395189, -0.4554794520547945, -0.4539249146757679, -0.4523809523809524, -0.45084745762711864, -0.4527027027027027, -0.45454545454545453, -0.4563758389261745, -0.45819397993311034, -0.45666666666666667, -0.45514950166112955, -0.45695364238410596, -0.45544554455445546, -0.45394736842105265, -0.4524590163934426, -0.45098039215686275, -0.4527687296416938, -0.4512987012987013, -0.44660194174757284, -0.4483870967741935, -0.45016077170418006, -0.4519230769230769, -0.4504792332268371, -0.45222929936305734, -0.4507936507936508, -0.44936708860759494, -0.4479495268138801, -0.44654088050314467, -0.445141065830721, -0.44375, -0.4454828660436137, -0.4440993788819876, -0.4458204334365325, -0.4444444444444444, -0.4461538461538462, -0.4447852760736196, -0.44648318042813456, -0.4451219512195122, -0.44680851063829785, -0.44545454545454544, -0.4471299093655589, -0.44879518072289154, -0.45045045045045046, -0.4491017964071856, -0.4507462686567164, -0.4494047619047619, -0.44807121661721067, -0.44970414201183434, -0.45132743362831856, -0.45, -0.45161290322580644, -0.4502923976608187, -0.4489795918367347, -0.45058139534883723, -0.4492753623188406, -0.4479768786127168, -0.44668587896253603, -0.4454022988505747, -0.44412607449856734, -0.44571428571428573, -0.4444444444444444, -0.4431818181818182]\n",
            "Experiment: 5\n",
            "Episode 100\tAverage Score: 6.71\tRegret: -1.00\n",
            "Episode 200\tAverage Score: 15.44\tRegret: -1.00\n",
            "Episode 300\tAverage Score: 40.39\tRegret: -1.00\n",
            "Episode 400\tAverage Score: 154.92\tRegret: -1.00\n",
            "Episode 437\tAverage Score: 196.06\n",
            "Environment solved in 437 episodes!\tAverage Score: 196.06\n",
            "0:02:15.560662\n",
            "[5.0, 5.5, 6.0, 6.0, 6.0, 6.833333333333333, 6.857142857142857, 7.75, 7.666666666666667, 7.8, 7.7272727272727275, 7.5, 7.384615384615385, 7.357142857142857, 7.266666666666667, 7.25, 7.235294117647059, 7.222222222222222, 7.2105263157894735, 7.15, 7.142857142857143, 7.045454545454546, 7.0, 7.0, 7.08, 7.230769230769231, 7.2592592592592595, 7.214285714285714, 7.172413793103448, 7.2, 7.161290322580645, 7.25, 7.333333333333333, 7.264705882352941, 7.228571428571429, 7.166666666666667, 7.243243243243243, 7.2105263157894735, 7.153846153846154, 7.2, 7.146341463414634, 7.119047619047619, 7.069767441860465, 7.068181818181818, 7.044444444444444, 7.021739130434782, 7.085106382978723, 7.041666666666667, 7.0, 6.98, 6.980392156862745, 6.9423076923076925, 6.9245283018867925, 6.907407407407407, 6.890909090909091, 6.892857142857143, 6.859649122807017, 6.844827586206897, 6.813559322033898, 6.766666666666667, 6.737704918032787, 6.725806451612903, 6.777777777777778, 6.75, 6.753846153846154, 6.7272727272727275, 6.746268656716418, 6.735294117647059, 6.739130434782608, 6.714285714285714, 6.690140845070423, 6.680555555555555, 6.671232876712328, 6.675675675675675, 6.653333333333333, 6.644736842105263, 6.636363636363637, 6.641025641025641, 6.6455696202531644, 6.7125, 6.753086419753086, 6.7317073170731705, 6.734939759036145, 6.75, 6.752941176470588, 6.744186046511628, 6.816091954022989, 6.784090909090909, 6.786516853932584, 6.766666666666667, 6.747252747252747, 6.728260869565218, 6.720430107526882, 6.702127659574468, 6.705263157894737, 6.729166666666667, 6.752577319587629, 6.73469387755102, 6.717171717171717, 6.71, 6.72, 6.72, 6.72, 6.72, 6.73, 6.68, 6.66, 6.58, 6.56, 6.53, 6.52, 6.53, 6.55, 6.54, 6.53, 6.54, 6.52, 6.5, 6.5, 6.49, 6.48, 6.49, 6.48, 6.47, 6.44, 6.4, 6.38, 6.4, 6.4, 6.38, 6.42, 6.38, 6.33, 6.33, 6.32, 6.32, 6.28, 6.27, 6.28, 6.25, 6.25, 6.24, 6.24, 6.22, 6.25, 6.25, 6.2, 6.2, 6.21, 6.23, 6.25, 6.27, 6.3, 6.32, 6.32, 6.4, 6.79, 6.92, 7.12, 7.26, 7.5, 8.17, 8.31, 8.39, 8.65, 8.82, 8.94, 9.06, 9.55, 9.66, 10.21, 10.25, 10.6, 10.69, 11.16, 11.34, 11.61, 11.79, 11.89, 12.01, 12.04, 12.17, 12.42, 12.44, 12.56, 12.78, 12.92, 13.01, 13.21, 13.57, 13.66, 13.83, 13.9, 13.98, 14.14, 14.59, 14.71, 14.89, 14.98, 15.44, 16.1, 16.43, 16.72, 16.82, 16.87, 16.98, 17.17, 17.3, 17.38, 17.62, 17.77, 17.89, 18.04, 18.12, 18.51, 18.71, 18.82, 18.9, 19.13, 19.31, 19.55, 19.79, 19.92, 20.23, 20.65, 20.76, 20.9, 21.04, 21.13, 21.27, 21.36, 21.51, 21.62, 21.99, 22.36, 22.44, 22.62, 22.99, 23.15, 23.17, 23.4, 23.83, 24.0, 24.32, 24.44, 24.76, 24.91, 25.07, 25.2, 25.27, 25.29, 25.56, 25.8, 25.92, 26.03, 26.13, 25.98, 26.23, 26.28, 26.38, 26.46, 26.08, 26.26, 26.41, 26.92, 27.15, 27.15, 27.15, 26.83, 27.04, 26.75, 27.11, 27.02, 27.13, 27.52, 28.51, 28.47, 28.65, 28.97, 29.14, 29.4, 30.01, 30.21, 30.71, 31.4, 31.95, 32.61, 33.3, 34.16, 35.14, 35.56, 35.66, 35.99, 36.54, 37.59, 37.89, 38.85, 39.73, 40.1, 40.39, 41.12, 41.37, 41.4, 41.77, 42.36, 43.16, 43.79, 44.51, 45.22, 45.98, 46.84, 49.17, 49.55, 49.94, 50.27, 51.28, 52.26, 53.25, 53.87, 54.66, 56.87, 57.53, 58.42, 59.01, 59.72, 61.2, 61.72, 62.12, 63.36, 63.93, 65.12, 66.37, 67.0, 67.01, 68.74, 69.25, 69.72, 69.88, 71.23, 72.37, 72.6, 73.48, 73.74, 74.92, 76.62, 76.91, 77.65, 79.28, 79.83, 80.9, 82.27, 83.55, 84.57, 86.04, 87.16, 88.19, 89.49, 90.76, 91.61, 92.11, 94.25, 96.31, 96.86, 98.94, 100.61, 102.61, 104.92, 106.8, 108.7, 110.65, 112.04, 114.09, 116.28, 118.12, 119.33, 120.61, 121.72, 123.8, 125.17, 127.27, 129.39, 131.11, 132.98, 134.51, 136.14, 137.2, 138.23, 139.54, 140.47, 141.59, 142.54, 144.73, 146.78, 148.23, 149.46, 150.77, 152.11, 153.02, 154.27, 154.92, 155.68, 157.29, 158.8, 160.74, 162.54, 164.08, 165.72, 167.21, 168.62, 169.79, 171.23, 170.76, 172.66, 174.64, 175.81, 175.89, 176.06, 177.35, 178.94, 179.46, 179.46, 181.01, 182.45, 184.0, 185.05, 184.93, 185.94, 187.36, 187.45, 189.02, 189.39, 189.82, 190.72, 192.8, 192.92, 194.26, 196.06]\n",
            "\n",
            "\n",
            "[-1.0, -0.5, -0.6666666666666666, -0.5, -0.6, -0.5, -0.5714285714285714, -0.625, -0.5555555555555556, -0.6, -0.6363636363636364, -0.6666666666666666, -0.6923076923076923, -0.7142857142857143, -0.6666666666666666, -0.625, -0.5882352941176471, -0.6111111111111112, -0.631578947368421, -0.65, -0.6666666666666666, -0.6363636363636364, -0.6086956521739131, -0.625, -0.64, -0.6538461538461539, -0.6296296296296297, -0.6071428571428571, -0.6206896551724138, -0.6333333333333333, -0.6129032258064516, -0.59375, -0.6060606060606061, -0.6176470588235294, -0.6285714285714286, -0.6111111111111112, -0.6216216216216216, -0.631578947368421, -0.6153846153846154, -0.625, -0.6341463414634146, -0.6190476190476191, -0.627906976744186, -0.6136363636363636, -0.6222222222222222, -0.6086956521739131, -0.5957446808510638, -0.5833333333333334, -0.5714285714285714, -0.56, -0.5686274509803921, -0.5576923076923077, -0.5660377358490566, -0.5555555555555556, -0.5454545454545454, -0.5535714285714286, -0.543859649122807, -0.5344827586206896, -0.5423728813559322, -0.5333333333333333, -0.5409836065573771, -0.532258064516129, -0.5238095238095238, -0.515625, -0.5230769230769231, -0.5151515151515151, -0.5223880597014925, -0.5147058823529411, -0.5217391304347826, -0.5142857142857142, -0.5211267605633803, -0.5277777777777778, -0.5205479452054794, -0.527027027027027, -0.52, -0.5263157894736842, -0.5194805194805194, -0.5128205128205128, -0.5063291139240507, -0.5125, -0.5061728395061729, -0.5, -0.4939759036144578, -0.5, -0.49411764705882355, -0.5, -0.4942528735632184, -0.48863636363636365, -0.48314606741573035, -0.4777777777777778, -0.4725274725274725, -0.4782608695652174, -0.4838709677419355, -0.4787234042553192, -0.47368421052631576, -0.4791666666666667, -0.4742268041237113, -0.47959183673469385, -0.48484848484848486, -0.49, -0.49504950495049505, -0.49019607843137253, -0.49514563106796117, -0.49038461538461536, -0.49523809523809526, -0.5, -0.4953271028037383, -0.5, -0.4954128440366973, -0.5, -0.5045045045045045, -0.5089285714285714, -0.5132743362831859, -0.5175438596491229, -0.5130434782608696, -0.5086206896551724, -0.5128205128205128, -0.5169491525423728, -0.5210084033613446, -0.525, -0.5206611570247934, -0.5245901639344263, -0.5284552845528455, -0.532258064516129, -0.528, -0.5238095238095238, -0.5275590551181102, -0.5234375, -0.5271317829457365, -0.5230769230769231, -0.5267175572519084, -0.5303030303030303, -0.5263157894736842, -0.5298507462686567, -0.5259259259259259, -0.5220588235294118, -0.5182481751824818, -0.5217391304347826, -0.5251798561151079, -0.5214285714285715, -0.524822695035461, -0.5211267605633803, -0.5244755244755245, -0.5208333333333334, -0.5241379310344828, -0.5205479452054794, -0.5238095238095238, -0.5202702702702703, -0.5234899328859061, -0.5266666666666666, -0.5298013245033113, -0.5328947368421053, -0.5294117647058824, -0.5324675324675324, -0.5290322580645161, -0.5256410256410257, -0.5286624203821656, -0.5253164556962026, -0.5220125786163522, -0.5125, -0.5093167701863354, -0.5123456790123457, -0.5153374233128835, -0.5182926829268293, -0.5212121212121212, -0.5240963855421686, -0.5209580838323353, -0.5178571428571429, -0.5207100591715976, -0.5176470588235295, -0.5146198830409356, -0.5174418604651163, -0.5202312138728323, -0.5229885057471264, -0.52, -0.5170454545454546, -0.519774011299435, -0.5168539325842697, -0.5195530726256983, -0.5222222222222223, -0.5248618784530387, -0.521978021978022, -0.5191256830601093, -0.5163043478260869, -0.5135135135135135, -0.5161290322580645, -0.5187165775401069, -0.5212765957446809, -0.5185185185185185, -0.5157894736842106, -0.5130890052356021, -0.515625, -0.5181347150259067, -0.520618556701031, -0.5230769230769231, -0.5204081632653061, -0.5177664974619289, -0.5151515151515151, -0.5175879396984925, -0.52, -0.5174129353233831, -0.5148514851485149, -0.5172413793103449, -0.5196078431372549, -0.5170731707317073, -0.5194174757281553, -0.5217391304347826, -0.5192307692307693, -0.5167464114832536, -0.5142857142857142, -0.5118483412322274, -0.5094339622641509, -0.5070422535211268, -0.5093457943925234, -0.5116279069767442, -0.5138888888888888, -0.5161290322580645, -0.518348623853211, -0.5205479452054794, -0.5227272727272727, -0.5248868778280543, -0.527027027027027, -0.5246636771300448, -0.5223214285714286, -0.52, -0.5176991150442478, -0.5154185022026432, -0.5131578947368421, -0.5109170305676856, -0.5130434782608696, -0.5108225108225108, -0.5129310344827587, -0.5150214592274678, -0.5128205128205128, -0.5148936170212766, -0.5127118644067796, -0.5147679324894515, -0.5126050420168067, -0.5146443514644351, -0.5125, -0.5103734439834025, -0.512396694214876, -0.51440329218107, -0.5163934426229508, -0.5183673469387755, -0.5203252032520326, -0.5222672064777328, -0.5201612903225806, -0.5180722891566265, -0.516, -0.5179282868525896, -0.5198412698412699, -0.5217391304347826, -0.5196850393700787, -0.5176470588235295, -0.515625, -0.5175097276264592, -0.5193798449612403, -0.5173745173745173, -0.5153846153846153, -0.5172413793103449, -0.5190839694656488, -0.5209125475285171, -0.5227272727272727, -0.5207547169811321, -0.518796992481203, -0.5168539325842697, -0.5186567164179104, -0.5204460966542751, -0.5185185185185185, -0.5166051660516605, -0.5147058823529411, -0.5164835164835165, -0.5145985401459854, -0.5163636363636364, -0.5181159420289855, -0.51985559566787, -0.5215827338129496, -0.5232974910394266, -0.525, -0.5266903914590747, -0.524822695035461, -0.5265017667844523, -0.5246478873239436, -0.5228070175438596, -0.5244755244755245, -0.519163763066202, -0.5173611111111112, -0.5155709342560554, -0.5172413793103449, -0.5189003436426117, -0.5136986301369864, -0.5119453924914675, -0.5102040816326531, -0.5084745762711864, -0.5101351351351351, -0.5117845117845118, -0.5134228187919463, -0.5117056856187291, -0.5133333333333333, -0.5149501661129569, -0.5099337748344371, -0.5115511551155115, -0.5098684210526315, -0.5114754098360655, -0.5098039215686274, -0.511400651465798, -0.512987012987013, -0.5080906148867314, -0.5064516129032258, -0.5080385852090032, -0.5064102564102564, -0.5079872204472844, -0.5063694267515924, -0.5079365079365079, -0.5063291139240507, -0.5078864353312302, -0.5062893081761006, -0.5047021943573667, -0.503125, -0.5015576323987538, -0.5, -0.4984520123839009, -0.49691358024691357, -0.49538461538461537, -0.4938650306748466, -0.4923547400611621, -0.49085365853658536, -0.49240121580547114, -0.4909090909090909, -0.48942598187311176, -0.49096385542168675, -0.4894894894894895, -0.4880239520958084, -0.48955223880597015, -0.4880952380952381, -0.486646884272997, -0.48520710059171596, -0.4837758112094395, -0.4852941176470588, -0.4838709677419355, -0.4824561403508772, -0.48104956268221577, -0.4796511627906977, -0.4753623188405797, -0.47398843930635837, -0.47262247838616717, -0.47413793103448276, -0.47277936962750716, -0.4714285714285714, -0.47293447293447294, -0.4744318181818182, -0.4730878186968839, -0.4745762711864407, -0.476056338028169, -0.4747191011235955, -0.47619047619047616, -0.4776536312849162, -0.4763231197771588, -0.4777777777777778, -0.47645429362880887, -0.47513812154696133, -0.4738292011019284, -0.47527472527472525, -0.473972602739726, -0.47540983606557374, -0.47411444141689374, -0.47554347826086957, -0.47696476964769646, -0.4783783783783784, -0.477088948787062, -0.47580645161290325, -0.4745308310991957, -0.47593582887700536, -0.4746666666666667, -0.4734042553191489, -0.47480106100795755, -0.47354497354497355, -0.47229551451187335, -0.4710526315789474, -0.46981627296587924, -0.468586387434555, -0.46736292428198434, -0.4661458333333333, -0.4649350649350649, -0.4637305699481865, -0.46511627906976744, -0.46649484536082475, -0.4652956298200514, -0.4641025641025641, -0.46547314578005117, -0.4642857142857143, -0.4631043256997455, -0.4619289340101523, -0.4607594936708861, -0.4595959595959596, -0.45843828715365237, -0.457286432160804, -0.45864661654135336, -0.46, -0.4613466334164589, -0.4601990049751244, -0.45905707196029777, -0.45792079207920794, -0.4567901234567901, -0.45566502463054187, -0.45454545454545453, -0.45588235294117646, -0.4547677261613692, -0.4560975609756098, -0.45498783454987834, -0.4538834951456311, -0.45278450363196127, -0.45169082125603865, -0.4506024096385542, -0.4495192307692308, -0.44844124700239807, -0.4473684210526316, -0.44630071599045346, -0.44761904761904764, -0.44655581947743467, -0.44549763033175355, -0.4444444444444444, -0.44339622641509435, -0.4423529411764706, -0.44366197183098594, -0.4449648711943794, -0.4439252336448598, -0.44522144522144524, -0.4441860465116279, -0.4431554524361949, -0.4444444444444444, -0.4457274826789838, -0.4447004608294931, -0.4459770114942529, -0.44495412844036697, -0.4439359267734554]\n",
            "Episode 100\tAverage Score: 7.67\tRegret: -1.00\n",
            "Episode 200\tAverage Score: 31.94\tRegret: -1.00\n",
            "Episode 300\tAverage Score: 154.56\tRegret: 0.00\n",
            "Episode 334\tAverage Score: 195.38\n",
            "Environment solved in 334 episodes!\tAverage Score: 195.38\n",
            "0:02:01.218807\n",
            "[5.0, 7.0, 6.666666666666667, 7.0, 7.0, 7.333333333333333, 7.285714285714286, 7.625, 7.777777777777778, 8.0, 8.090909090909092, 7.916666666666667, 7.769230769230769, 7.928571428571429, 8.733333333333333, 8.5625, 8.352941176470589, 8.777777777777779, 9.31578947368421, 9.4, 9.19047619047619, 9.818181818181818, 10.304347826086957, 10.208333333333334, 10.0, 9.807692307692308, 9.666666666666666, 9.928571428571429, 9.793103448275861, 9.7, 9.548387096774194, 9.46875, 9.393939393939394, 9.294117647058824, 9.314285714285715, 9.305555555555555, 9.432432432432432, 9.526315789473685, 9.41025641025641, 9.325, 9.390243902439025, 9.285714285714286, 9.209302325581396, 9.204545454545455, 9.222222222222221, 9.130434782608695, 9.042553191489361, 9.0, 8.938775510204081, 8.9, 8.823529411764707, 8.75, 8.716981132075471, 8.62962962962963, 8.672727272727272, 8.625, 8.578947368421053, 8.53448275862069, 8.491525423728813, 8.45, 8.40983606557377, 8.35483870967742, 8.317460317460318, 8.328125, 8.276923076923078, 8.212121212121213, 8.164179104477611, 8.220588235294118, 8.202898550724637, 8.185714285714285, 8.154929577464788, 8.125, 8.095890410958905, 8.067567567567568, 8.053333333333333, 8.013157894736842, 8.012987012987013, 7.9743589743589745, 7.974683544303797, 7.95, 7.925925925925926, 7.890243902439025, 7.855421686746988, 7.845238095238095, 7.847058823529411, 7.825581395348837, 7.816091954022989, 7.795454545454546, 7.764044943820225, 7.7444444444444445, 7.747252747252747, 7.728260869565218, 7.720430107526882, 7.702127659574468, 7.71578947368421, 7.6875, 7.670103092783505, 7.653061224489796, 7.626262626262626, 7.67, 7.68, 7.65, 7.64, 7.61, 7.63, 7.58, 7.55, 7.5, 7.47, 7.43, 7.43, 7.44, 7.43, 7.47, 7.36, 7.39, 7.43, 7.36, 7.29, 7.35, 7.41, 7.24, 7.21, 7.2, 7.33, 7.41, 7.54, 7.49, 7.68, 7.75, 7.86, 7.93, 8.02, 8.15, 8.3, 8.41, 8.43, 8.54, 8.73, 9.0, 9.08, 9.28, 9.32, 9.43, 9.59, 9.84, 9.98, 10.38, 10.53, 10.61, 10.85, 10.94, 11.06, 11.46, 11.87, 12.34, 12.5, 12.81, 12.98, 13.56, 13.8, 14.24, 14.9, 14.97, 15.42, 15.73, 16.06, 16.22, 16.58, 17.39, 17.64, 18.38, 18.77, 19.05, 19.32, 19.73, 20.14, 20.47, 20.63, 20.86, 21.94, 22.43, 22.65, 22.97, 23.29, 23.83, 24.9, 25.76, 26.57, 26.88, 28.06, 28.21, 28.59, 28.7, 29.28, 29.48, 30.3, 30.52, 31.39, 31.94, 32.66, 33.49, 34.17, 35.24, 35.65, 36.2, 37.02, 38.13, 38.48, 38.81, 38.99, 39.61, 40.55, 41.81, 44.23, 45.39, 47.09, 48.49, 49.35, 50.28, 51.23, 52.26, 53.54, 55.47, 56.47, 58.85, 59.81, 60.82, 61.73, 63.21, 63.49, 65.59, 66.81, 67.19, 69.45, 70.27, 70.52, 71.77, 73.08, 73.82, 76.13, 78.39, 79.18, 80.45, 81.5, 82.37, 84.25, 85.21, 85.7, 87.08, 87.17, 88.67, 89.79, 91.86, 92.17, 92.95, 95.24, 96.37, 98.65, 100.52, 102.73, 104.75, 105.22, 106.85, 108.36, 108.37, 110.5, 112.73, 114.47, 114.63, 115.42, 115.42, 117.09, 118.86, 121.03, 122.64, 124.66, 126.0, 128.27, 129.42, 130.79, 132.76, 133.84, 135.25, 137.36, 138.93, 139.48, 140.36, 142.01, 144.15, 144.25, 145.97, 148.03, 149.69, 149.82, 151.14, 151.78, 152.39, 153.98, 154.56, 156.29, 157.91, 159.58, 160.79, 162.16, 163.02, 164.02, 165.29, 167.39, 169.51, 170.89, 172.71, 174.23, 175.1, 175.1, 176.15, 176.87, 177.89, 179.42, 180.83, 182.28, 183.7, 184.33, 184.84, 186.17, 186.17, 187.53, 188.91, 189.28, 190.17, 192.24, 192.51, 193.64, 195.38]\n",
            "\n",
            "\n",
            "[0.0, -0.5, -0.6666666666666666, -0.75, -0.8, -0.6666666666666666, -0.7142857142857143, -0.625, -0.6666666666666666, -0.7, -0.7272727272727273, -0.75, -0.6923076923076923, -0.7142857142857143, -0.7333333333333333, -0.75, -0.7647058823529411, -0.7222222222222222, -0.6842105263157895, -0.7, -0.6666666666666666, -0.6818181818181818, -0.6521739130434783, -0.625, -0.6, -0.5769230769230769, -0.5925925925925926, -0.5714285714285714, -0.5862068965517241, -0.6, -0.5806451612903226, -0.59375, -0.5757575757575758, -0.5882352941176471, -0.6, -0.6111111111111112, -0.6216216216216216, -0.631578947368421, -0.6410256410256411, -0.65, -0.6341463414634146, -0.6190476190476191, -0.6046511627906976, -0.6136363636363636, -0.6222222222222222, -0.6086956521739131, -0.6170212765957447, -0.6041666666666666, -0.5918367346938775, -0.58, -0.5686274509803921, -0.5576923076923077, -0.5660377358490566, -0.5555555555555556, -0.5636363636363636, -0.5714285714285714, -0.5614035087719298, -0.5689655172413793, -0.576271186440678, -0.5833333333333334, -0.5737704918032787, -0.5645161290322581, -0.5714285714285714, -0.578125, -0.5692307692307692, -0.5606060606060606, -0.5671641791044776, -0.5735294117647058, -0.5652173913043478, -0.5714285714285714, -0.5774647887323944, -0.5833333333333334, -0.589041095890411, -0.5945945945945946, -0.6, -0.5921052631578947, -0.5844155844155844, -0.5769230769230769, -0.5822784810126582, -0.5875, -0.5925925925925926, -0.5853658536585366, -0.5783132530120482, -0.5714285714285714, -0.5764705882352941, -0.5813953488372093, -0.5862068965517241, -0.5909090909090909, -0.5842696629213483, -0.5888888888888889, -0.5934065934065934, -0.5978260869565217, -0.6021505376344086, -0.6063829787234043, -0.6, -0.59375, -0.5979381443298969, -0.6020408163265306, -0.6060606060606061, -0.61, -0.6138613861386139, -0.6176470588235294, -0.6116504854368932, -0.6153846153846154, -0.6095238095238096, -0.6037735849056604, -0.5981308411214953, -0.5925925925925926, -0.5963302752293578, -0.6, -0.6036036036036037, -0.6071428571428571, -0.6017699115044248, -0.5964912280701754, -0.6, -0.603448275862069, -0.5982905982905983, -0.6016949152542372, -0.5966386554621849, -0.5916666666666667, -0.5867768595041323, -0.5819672131147541, -0.5853658536585366, -0.5806451612903226, -0.584, -0.5873015873015873, -0.5905511811023622, -0.5859375, -0.5891472868217055, -0.5923076923076923, -0.5877862595419847, -0.5833333333333334, -0.5789473684210527, -0.5746268656716418, -0.5703703703703704, -0.5735294117647058, -0.5693430656934306, -0.5652173913043478, -0.5683453237410072, -0.5714285714285714, -0.574468085106383, -0.5774647887323944, -0.5804195804195804, -0.5763888888888888, -0.5793103448275863, -0.5753424657534246, -0.5714285714285714, -0.5743243243243243, -0.5704697986577181, -0.5666666666666667, -0.5629139072847682, -0.5592105263157895, -0.5620915032679739, -0.5584415584415584, -0.5548387096774193, -0.5512820512820513, -0.5477707006369427, -0.5506329113924051, -0.5471698113207547, -0.54375, -0.546583850931677, -0.5432098765432098, -0.5398773006134969, -0.5365853658536586, -0.5333333333333333, -0.536144578313253, -0.5389221556886228, -0.5357142857142857, -0.5325443786982249, -0.5294117647058824, -0.5321637426900585, -0.5290697674418605, -0.5260115606936416, -0.5229885057471264, -0.52, -0.5170454545454546, -0.5141242937853108, -0.5112359550561798, -0.5139664804469274, -0.5166666666666667, -0.5138121546961326, -0.5164835164835165, -0.5191256830601093, -0.5163043478260869, -0.518918918918919, -0.521505376344086, -0.5187165775401069, -0.5212765957446809, -0.5185185185185185, -0.5157894736842106, -0.5130890052356021, -0.5104166666666666, -0.5129533678756477, -0.5103092783505154, -0.5076923076923077, -0.5102040816326531, -0.5126903553299492, -0.5151515151515151, -0.5125628140703518, -0.515, -0.5174129353233831, -0.5148514851485149, -0.5123152709359606, -0.5098039215686274, -0.5121951219512195, -0.5097087378640777, -0.5072463768115942, -0.5096153846153846, -0.5119617224880383, -0.5095238095238095, -0.5118483412322274, -0.5141509433962265, -0.5164319248826291, -0.5186915887850467, -0.5162790697674419, -0.5138888888888888, -0.5161290322580645, -0.5137614678899083, -0.5159817351598174, -0.5136363636363637, -0.5113122171945701, -0.509009009009009, -0.5067264573991032, -0.5044642857142857, -0.5022222222222222, -0.5, -0.5022026431718062, -0.5, -0.4978165938864629, -0.5, -0.49783549783549785, -0.4956896551724138, -0.4978540772532189, -0.49572649572649574, -0.49361702127659574, -0.4915254237288136, -0.48523206751054854, -0.48739495798319327, -0.4895397489539749, -0.4875, -0.4854771784232365, -0.4834710743801653, -0.48148148148148145, -0.47950819672131145, -0.4775510204081633, -0.47560975609756095, -0.4777327935222672, -0.4798387096774194, -0.4779116465863454, -0.48, -0.47808764940239046, -0.4801587301587302, -0.4782608695652174, -0.4763779527559055, -0.47843137254901963, -0.48046875, -0.4785992217898833, -0.4806201550387597, -0.47876447876447875, -0.47692307692307695, -0.47509578544061304, -0.4732824427480916, -0.4714828897338403, -0.4696969696969697, -0.4716981132075472, -0.4699248120300752, -0.4681647940074906, -0.4664179104477612, -0.4646840148698885, -0.46296296296296297, -0.46494464944649444, -0.4632352941176471, -0.4652014652014652, -0.45985401459854014, -0.4581818181818182, -0.45652173913043476, -0.4548736462093863, -0.45323741007194246, -0.45161290322580644, -0.45, -0.4483985765124555, -0.44680851063829785, -0.44876325088339225, -0.4507042253521127, -0.44912280701754387, -0.45104895104895104, -0.44947735191637633, -0.4479166666666667, -0.4463667820069204, -0.44482758620689655, -0.44329896907216493, -0.4452054794520548, -0.44368600682593856, -0.445578231292517, -0.44745762711864406, -0.44594594594594594, -0.4478114478114478, -0.4463087248322148, -0.44481605351170567, -0.44333333333333336, -0.4418604651162791, -0.44039735099337746, -0.44224422442244227, -0.4407894736842105, -0.43934426229508194, -0.4411764705882353, -0.43973941368078173, -0.4383116883116883, -0.4368932038834951, -0.43548387096774194, -0.4340836012861736, -0.4326923076923077, -0.43130990415335463, -0.4299363057324841, -0.42857142857142855, -0.43037974683544306, -0.42902208201892744, -0.4276729559748428, -0.4263322884012539, -0.425, -0.4236760124610592, -0.422360248447205, -0.42105263157894735, -0.41975308641975306, -0.41846153846153844, -0.4171779141104294, -0.41590214067278286, -0.4146341463414634, -0.41641337386018235, -0.41515151515151516, -0.41389728096676737, -0.4126506024096386, -0.4114114114114114, -0.4101796407185629]\n"
          ]
        }
      ]
    },
    {
      "cell_type": "code",
      "source": [],
      "metadata": {
        "id": "nh3w65VtxWC5"
      },
      "execution_count": null,
      "outputs": []
    },
    {
      "cell_type": "code",
      "source": [
        "average_scores_T1 = np.array(average_scores_T1)\n",
        "cumm_regret_T1 = np.array(cumm_regret_T1)\n",
        "\n",
        "mean_average_scores_T1 = np.mean(average_scores_T1, axis=0)\n",
        "std_mean_average_scores_T1 = np.std(average_scores_T1, axis=0)\n",
        "\n",
        "mean_cumm_regret_T1 = np.mean(cumm_regret_T1, axis=0)\n",
        "mean_cumm_regret_T1 = np.std(cumm_regret_T1, axis=0)\n",
        "\n"
      ],
      "metadata": {
        "colab": {
          "base_uri": "https://localhost:8080/",
          "height": 211
        },
        "id": "zTKqtKWa4B9d",
        "outputId": "3d121256-6ec9-4250-8eb6-72d93d62a53c"
      },
      "execution_count": 1,
      "outputs": [
        {
          "output_type": "error",
          "ename": "NameError",
          "evalue": "name 'np' is not defined",
          "traceback": [
            "\u001b[0;31m---------------------------------------------------------------------------\u001b[0m",
            "\u001b[0;31mNameError\u001b[0m                                 Traceback (most recent call last)",
            "\u001b[0;32m<ipython-input-1-72b59836001f>\u001b[0m in \u001b[0;36m<cell line: 1>\u001b[0;34m()\u001b[0m\n\u001b[0;32m----> 1\u001b[0;31m \u001b[0maverage_scores_T1\u001b[0m \u001b[0;34m=\u001b[0m \u001b[0mnp\u001b[0m\u001b[0;34m.\u001b[0m\u001b[0marray\u001b[0m\u001b[0;34m(\u001b[0m\u001b[0maverage_scores_T1\u001b[0m\u001b[0;34m)\u001b[0m\u001b[0;34m\u001b[0m\u001b[0;34m\u001b[0m\u001b[0m\n\u001b[0m\u001b[1;32m      2\u001b[0m \u001b[0mcumm_regret_T1\u001b[0m \u001b[0;34m=\u001b[0m \u001b[0mnp\u001b[0m\u001b[0;34m.\u001b[0m\u001b[0marray\u001b[0m\u001b[0;34m(\u001b[0m\u001b[0mcumm_regret_T1\u001b[0m\u001b[0;34m)\u001b[0m\u001b[0;34m\u001b[0m\u001b[0;34m\u001b[0m\u001b[0m\n\u001b[1;32m      3\u001b[0m \u001b[0;34m\u001b[0m\u001b[0m\n\u001b[1;32m      4\u001b[0m \u001b[0mmean_average_scores_T1\u001b[0m \u001b[0;34m=\u001b[0m \u001b[0mnp\u001b[0m\u001b[0;34m.\u001b[0m\u001b[0mmean\u001b[0m\u001b[0;34m(\u001b[0m\u001b[0maverage_scores_T1\u001b[0m\u001b[0;34m,\u001b[0m \u001b[0maxis\u001b[0m\u001b[0;34m=\u001b[0m\u001b[0;36m0\u001b[0m\u001b[0;34m)\u001b[0m\u001b[0;34m\u001b[0m\u001b[0;34m\u001b[0m\u001b[0m\n\u001b[1;32m      5\u001b[0m \u001b[0mstd_mean_average_scores_T1\u001b[0m \u001b[0;34m=\u001b[0m \u001b[0mnp\u001b[0m\u001b[0;34m.\u001b[0m\u001b[0mstd\u001b[0m\u001b[0;34m(\u001b[0m\u001b[0maverage_scores_T1\u001b[0m\u001b[0;34m,\u001b[0m \u001b[0maxis\u001b[0m\u001b[0;34m=\u001b[0m\u001b[0;36m0\u001b[0m\u001b[0;34m)\u001b[0m\u001b[0;34m\u001b[0m\u001b[0;34m\u001b[0m\u001b[0m\n",
            "\u001b[0;31mNameError\u001b[0m: name 'np' is not defined"
          ]
        }
      ]
    },
    {
      "cell_type": "code",
      "source": [
        "average_scores_T2 = np.array(average_scores_T2)\n",
        "cumm_regret_T2 = np.array(cumm_regret_T2)\n",
        "\n",
        "mean_average_scores_T2 = np.mean(average_scores_T2, axis=0)\n",
        "std_mean_average_scores_T2 = np.std(average_scores_T2, axis=0)\n",
        "\n",
        "mean_cumm_regret_T2 = np.mean(cumm_regret_T2, axis=0)\n",
        "mean_cumm_regret_T2 = np.std(cumm_regret_T2, axis=0)\n"
      ],
      "metadata": {
        "id": "RpvxHhsnZz6f"
      },
      "execution_count": null,
      "outputs": []
    },
    {
      "cell_type": "code",
      "source": [
        "# def plot_avg_curves(avg_reward_1,reward_std_1, avg_step_1, step_std_1,   avg_reward_2, reward_std_2, avg_step_2, step_std_2, step_size = 10 ):\n",
        "\n",
        "#     trunc_avg_reward_1 = avg_reward_1[0::step_size]\n",
        "#     tunc_reward_std_1 = reward_std_1[0::step_size]\n",
        "\n",
        "#     trunc_avg_step_1 = avg_step_1[0::step_size]\n",
        "#     tunc_step_std_1 = step_std_1[0::step_size]\n",
        "\n",
        "#     trunc_avg_reward_2 = avg_reward_2[0::step_size]\n",
        "#     tunc_reward_std_2 = reward_std_2[0::step_size]\n",
        "\n",
        "#     trunc_avg_step_2 = avg_step_2[0::step_size]\n",
        "#     tunc_step_std_2 = step_std_2[0::step_size]\n",
        "\n",
        "#     # Plot the average rewards with mean and standard deviation\n",
        "#     plt.figure()\n",
        "#     plt.plot(trunc_avg_reward_1, label='Mean T1')\n",
        "#     plt.fill_between(range(step_size), trunc_avg_reward_1 + tunc_reward_std_1, trunc_avg_reward_1 - tunc_reward_std_1, alpha=0.5, label=' Std Dev T1')\n",
        "#     plt.plot(trunc_avg_reward_2, label='Mean T2')\n",
        "#     plt.fill_between(range(step_size), trunc_avg_reward_2 + tunc_reward_std_2, trunc_avg_reward_2 - tunc_reward_std_2, alpha=0.5, label=' Std Dev T2')\n",
        "#     plt.xlabel('Episode')\n",
        "#     plt.ylabel('Average Total Reward')\n",
        "#     plt.title('Average Total Reward vs Episode Comparison for T1 vs T2 Dueling DQN for CartPole-v1 Environment')\n",
        "#     plt.legend()\n",
        "#     # plt.savefig( \"RvsE \" +\".pdf\")\n",
        "#     # files.download(exp_no+\"_RvsE.png\")\n",
        "#     plt.show()\n",
        "\n",
        "\n",
        "\n",
        "#    # Plot the average rewards with mean and standard deviation\n",
        "#     plt.figure()\n",
        "#     plt.plot(trunc_avg_step_1, label='Mean T1')\n",
        "#     plt.fill_between(range(step_size), trunc_avg_step_1 + tunc_step_std_1, trunc_avg_step_1 - tunc_step_std_1, alpha=0.5, label=' Std Dev T1')\n",
        "#     plt.plot(trunc_avg_step_2, label='Mean T2')\n",
        "#     plt.fill_between(range(step_size), trunc_avg_step_2 + tunc_step_std_2, trunc_avg_step_2 - tunc_step_std_2, alpha=0.5, label=' Std Dev T2')\n",
        "#     plt.xlabel('Episode')\n",
        "#     plt.ylabel('Average Regret')\n",
        "#     plt.title('Average Regret vs Episode Comparison for T1 vs T2 Dueling DQN for CartPole-v1 Environment')\n",
        "#     plt.legend()\n",
        "#     plt.show()\n",
        "\n",
        "#     # Plot the average rewards with mean\n",
        "#     plt.figure()\n",
        "#     plt.plot(avg_step_1, label='Mean T1')\n",
        "#     plt.plot(avg_step_2, label='Mean T2')\n",
        "#     plt.xlabel('Episode')\n",
        "#     plt.ylabel('Cummulative Average Regret')\n",
        "#     plt.title('Cummulative Average Regret vs Episode Comparison for T1 vs T2 Dueling DQN for CartPole-v1 Environment')\n",
        "#     plt.legend()\n",
        "#     plt.show()\n",
        "\n"
      ],
      "metadata": {
        "id": "bKMK9VnNK_-C"
      },
      "execution_count": null,
      "outputs": []
    },
    {
      "cell_type": "code",
      "source": [
        "# plot_avg_curves(mean_average_scores_T1, std_mean_average_scores_T1, mean_cumm_regret_T1, mean_cumm_regret_T1,\n",
        "#                 mean_average_scores_T2, std_mean_average_scores_T2, mean_cumm_regret_T2, mean_cumm_regret_T2, step_size = 10)"
      ],
      "metadata": {
        "id": "A2nb-xcOZ3FO"
      },
      "execution_count": null,
      "outputs": []
    },
    {
      "cell_type": "code",
      "source": [],
      "metadata": {
        "id": "BZp2Z_iJ-SSo"
      },
      "execution_count": null,
      "outputs": []
    },
    {
      "cell_type": "code",
      "source": [
        "import numpy as np\n",
        "import matplotlib.pyplot as plt\n",
        "\n",
        "def plot_avg_curves(avg_reward_1, avg_reward_2, step_size=1):\n",
        "    mean_avg_reward_1 = np.mean(avg_reward_1, axis=0)\n",
        "    mean_avg_reward_2 = np.mean(avg_reward_2, axis=0)\n",
        "    std_avg_reward_1 = np.std(avg_reward_1, axis=0)\n",
        "    std_avg_reward_2 = np.std(avg_reward_2, axis=0)\n",
        "\n",
        "    # Ensure that the length of the x-axis data matches the length of the y-axis data\n",
        "    length = min(len(mean_avg_reward_1), len(mean_avg_reward_2))\n",
        "    x = np.arange(0, length * step_size, step_size)\n",
        "\n",
        "    plt.figure()\n",
        "    plt.plot(x, mean_avg_reward_1[:length], label='Mean T1')\n",
        "    plt.fill_between(x, mean_avg_reward_1[:length] + std_avg_reward_1[:length], mean_avg_reward_1[:length] - std_avg_reward_1[:length], alpha=0.5, label=' Std Dev T1')\n",
        "    plt.plot(x, mean_avg_reward_2[:length], label='Mean T2')\n",
        "    plt.fill_between(x, mean_avg_reward_2[:length] + std_avg_reward_2[:length], mean_avg_reward_2[:length] - std_avg_reward_2[:length], alpha=0.5, label=' Std Dev T2')\n",
        "    plt.xlabel('Episode')\n",
        "    plt.ylabel('Average Total Reward')\n",
        "    plt.title('Average Total Reward vs Episode')\n",
        "    plt.legend()\n",
        "    plt.show()\n",
        "\n",
        "# Example usage:\n",
        "# average_scores_T1 = np.array([[1, 2, 3, 4, 5], [2, 3, 4, 5, 6]])\n",
        "# average_scores_T2 = np.array([[3, 4, 5, 6, 7], [4, 5, 6, 7, 8]])\n",
        "# plot_avg_curves(average_scores_T1, average_scores_T2, step_size=10)\n"
      ],
      "metadata": {
        "id": "wszJxtQk84A9"
      },
      "execution_count": null,
      "outputs": []
    },
    {
      "cell_type": "code",
      "source": [
        "plot_avg_curves(average_scores_T1, average_scores_T2, step_size=10)"
      ],
      "metadata": {
        "id": "MO89rFgi87Ym"
      },
      "execution_count": null,
      "outputs": []
    },
    {
      "cell_type": "code",
      "source": [
        "plot_avg_curves(cumm_regret_T1, cumm_regret_T2, step_size=10)"
      ],
      "metadata": {
        "id": "pV4FxSAH-AyN"
      },
      "execution_count": null,
      "outputs": []
    }
  ]
}